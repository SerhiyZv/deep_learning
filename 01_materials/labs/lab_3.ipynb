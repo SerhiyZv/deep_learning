{
 "cells": [
  {
   "cell_type": "markdown",
   "metadata": {},
   "source": [
    "# Recommender Systems\n",
    "\n",
    "In this lab, we'll be using Keras to build a recommender system. We'll be using the MovieLens dataset, a common benchmark dataset for recommender systems. \n",
    "\n",
    "MovieLens is a web-based recommender system and virtual community that recommends movies for its users to watch, based on their film preferences using collaborative filtering of members' movie ratings and movie reviews. You can check out the website here: https://movielens.org/\n",
    "\n",
    "We will download a subset of the dataset containing 100k ratings. There are tens of millions of ratings in the full dataset, spanning hundreds of thousands of users and movies. The subset we'll be using is a good example to demonstrate the concepts in this lab."
   ]
  },
  {
   "cell_type": "code",
   "execution_count": 37,
   "metadata": {},
   "outputs": [],
   "source": [
    "%matplotlib inline\n",
    "import matplotlib.pyplot as plt\n",
    "import numpy as np\n",
    "from zipfile import ZipFile\n",
    "from urllib.request import urlretrieve\n",
    "from pathlib import Path\n",
    "\n",
    "ML_100K_URL = \"http://files.grouplens.org/datasets/movielens/ml-100k.zip\"\n",
    "ML_100K_FILENAME = Path(\"ml-100k.zip\")\n",
    "ML_100K_FOLDER = Path(\"ml-100k\")\n",
    "\n",
    "if not ML_100K_FOLDER.exists():\n",
    "    if not ML_100K_FILENAME.exists():\n",
    "        urlretrieve(ML_100K_URL, ML_100K_FILENAME.name)\n",
    "    with ZipFile(ML_100K_FILENAME.name) as zip:\n",
    "        zip.extractall()"
   ]
  },
  {
   "cell_type": "markdown",
   "metadata": {},
   "source": [
    "The goal of MovieLens is to enable models to predict the rating a user would give to a movie they have not yet watched. This is a classic example of a recommendation system. The dataset is huge, and contains many parts giving information about the movies, the users, and the ratings. To begin with, we will look at the ratings file. Each line in the ratings file (u.data) is formatted as:\n",
    "\n",
    "`user_id, item_id, rating, timestamp`\n",
    "\n",
    "Which tells us a single user's rating of a single movie.\n",
    "\n",
    "We will start by loading the ratings data into a pandas dataframe and then take a look at the first few rows. If you haven't used Pandas before, it's an extremely powerful library for dealing with tabular data. You can think of it as a Python version of Excel."
   ]
  },
  {
   "cell_type": "code",
   "execution_count": 38,
   "metadata": {},
   "outputs": [
    {
     "data": {
      "text/html": [
       "<div>\n",
       "<style scoped>\n",
       "    .dataframe tbody tr th:only-of-type {\n",
       "        vertical-align: middle;\n",
       "    }\n",
       "\n",
       "    .dataframe tbody tr th {\n",
       "        vertical-align: top;\n",
       "    }\n",
       "\n",
       "    .dataframe thead th {\n",
       "        text-align: right;\n",
       "    }\n",
       "</style>\n",
       "<table border=\"1\" class=\"dataframe\">\n",
       "  <thead>\n",
       "    <tr style=\"text-align: right;\">\n",
       "      <th></th>\n",
       "      <th>user_id</th>\n",
       "      <th>item_id</th>\n",
       "      <th>rating</th>\n",
       "      <th>timestamp</th>\n",
       "    </tr>\n",
       "  </thead>\n",
       "  <tbody>\n",
       "    <tr>\n",
       "      <th>0</th>\n",
       "      <td>196</td>\n",
       "      <td>242</td>\n",
       "      <td>3</td>\n",
       "      <td>881250949</td>\n",
       "    </tr>\n",
       "    <tr>\n",
       "      <th>1</th>\n",
       "      <td>186</td>\n",
       "      <td>302</td>\n",
       "      <td>3</td>\n",
       "      <td>891717742</td>\n",
       "    </tr>\n",
       "    <tr>\n",
       "      <th>2</th>\n",
       "      <td>22</td>\n",
       "      <td>377</td>\n",
       "      <td>1</td>\n",
       "      <td>878887116</td>\n",
       "    </tr>\n",
       "    <tr>\n",
       "      <th>3</th>\n",
       "      <td>244</td>\n",
       "      <td>51</td>\n",
       "      <td>2</td>\n",
       "      <td>880606923</td>\n",
       "    </tr>\n",
       "    <tr>\n",
       "      <th>4</th>\n",
       "      <td>166</td>\n",
       "      <td>346</td>\n",
       "      <td>1</td>\n",
       "      <td>886397596</td>\n",
       "    </tr>\n",
       "    <tr>\n",
       "      <th>...</th>\n",
       "      <td>...</td>\n",
       "      <td>...</td>\n",
       "      <td>...</td>\n",
       "      <td>...</td>\n",
       "    </tr>\n",
       "    <tr>\n",
       "      <th>99995</th>\n",
       "      <td>880</td>\n",
       "      <td>476</td>\n",
       "      <td>3</td>\n",
       "      <td>880175444</td>\n",
       "    </tr>\n",
       "    <tr>\n",
       "      <th>99996</th>\n",
       "      <td>716</td>\n",
       "      <td>204</td>\n",
       "      <td>5</td>\n",
       "      <td>879795543</td>\n",
       "    </tr>\n",
       "    <tr>\n",
       "      <th>99997</th>\n",
       "      <td>276</td>\n",
       "      <td>1090</td>\n",
       "      <td>1</td>\n",
       "      <td>874795795</td>\n",
       "    </tr>\n",
       "    <tr>\n",
       "      <th>99998</th>\n",
       "      <td>13</td>\n",
       "      <td>225</td>\n",
       "      <td>2</td>\n",
       "      <td>882399156</td>\n",
       "    </tr>\n",
       "    <tr>\n",
       "      <th>99999</th>\n",
       "      <td>12</td>\n",
       "      <td>203</td>\n",
       "      <td>3</td>\n",
       "      <td>879959583</td>\n",
       "    </tr>\n",
       "  </tbody>\n",
       "</table>\n",
       "<p>100000 rows × 4 columns</p>\n",
       "</div>"
      ],
      "text/plain": [
       "       user_id  item_id  rating  timestamp\n",
       "0          196      242       3  881250949\n",
       "1          186      302       3  891717742\n",
       "2           22      377       1  878887116\n",
       "3          244       51       2  880606923\n",
       "4          166      346       1  886397596\n",
       "...        ...      ...     ...        ...\n",
       "99995      880      476       3  880175444\n",
       "99996      716      204       5  879795543\n",
       "99997      276     1090       1  874795795\n",
       "99998       13      225       2  882399156\n",
       "99999       12      203       3  879959583\n",
       "\n",
       "[100000 rows x 4 columns]"
      ]
     },
     "execution_count": 38,
     "metadata": {},
     "output_type": "execute_result"
    }
   ],
   "source": [
    "import pandas as pd\n",
    "\n",
    "raw_ratings = pd.read_csv(ML_100K_FOLDER / \"u.data\", sep='\\t',\n",
    "                          names=[\"user_id\", \"item_id\", \"rating\", \"timestamp\"])\n",
    "raw_ratings"
   ]
  },
  {
   "cell_type": "markdown",
   "metadata": {},
   "source": [
    "The second file we'll look at is the movie metadata. This file (u.item) contains information about each movie, including the title and release date. Each line in the file is formatted as:\n",
    "\n",
    "`movie_id | movie_title | release_date | video_release_date | IMDb_URL | unknown | Action | Adventure | Animation | Children's | Comedy | Crime | Documentary | Drama | Fantasy | Film-Noir | Horror | Musical | Mystery | Romance | Sci-Fi | Thriller | War | Western`\n",
    "\n",
    "As you can see, the genres are binary variables. As with one-hot encoding, a 1 indicates that the movie is of that genre, and a 0 indicates that it is not. We aren't going to work with the genre data in this lab, but it's easy to imagine that it could be useful in a real-world recommendation system."
   ]
  },
  {
   "cell_type": "code",
   "execution_count": 39,
   "metadata": {},
   "outputs": [
    {
     "data": {
      "text/html": [
       "<div>\n",
       "<style scoped>\n",
       "    .dataframe tbody tr th:only-of-type {\n",
       "        vertical-align: middle;\n",
       "    }\n",
       "\n",
       "    .dataframe tbody tr th {\n",
       "        vertical-align: top;\n",
       "    }\n",
       "\n",
       "    .dataframe thead th {\n",
       "        text-align: right;\n",
       "    }\n",
       "</style>\n",
       "<table border=\"1\" class=\"dataframe\">\n",
       "  <thead>\n",
       "    <tr style=\"text-align: right;\">\n",
       "      <th></th>\n",
       "      <th>item_id</th>\n",
       "      <th>title</th>\n",
       "      <th>release_date</th>\n",
       "      <th>video_release_date</th>\n",
       "      <th>imdb_url</th>\n",
       "    </tr>\n",
       "  </thead>\n",
       "  <tbody>\n",
       "    <tr>\n",
       "      <th>0</th>\n",
       "      <td>1</td>\n",
       "      <td>Toy Story (1995)</td>\n",
       "      <td>01-Jan-1995</td>\n",
       "      <td>NaN</td>\n",
       "      <td>http://us.imdb.com/M/title-exact?Toy%20Story%2...</td>\n",
       "    </tr>\n",
       "    <tr>\n",
       "      <th>1</th>\n",
       "      <td>2</td>\n",
       "      <td>GoldenEye (1995)</td>\n",
       "      <td>01-Jan-1995</td>\n",
       "      <td>NaN</td>\n",
       "      <td>http://us.imdb.com/M/title-exact?GoldenEye%20(...</td>\n",
       "    </tr>\n",
       "    <tr>\n",
       "      <th>2</th>\n",
       "      <td>3</td>\n",
       "      <td>Four Rooms (1995)</td>\n",
       "      <td>01-Jan-1995</td>\n",
       "      <td>NaN</td>\n",
       "      <td>http://us.imdb.com/M/title-exact?Four%20Rooms%...</td>\n",
       "    </tr>\n",
       "    <tr>\n",
       "      <th>3</th>\n",
       "      <td>4</td>\n",
       "      <td>Get Shorty (1995)</td>\n",
       "      <td>01-Jan-1995</td>\n",
       "      <td>NaN</td>\n",
       "      <td>http://us.imdb.com/M/title-exact?Get%20Shorty%...</td>\n",
       "    </tr>\n",
       "    <tr>\n",
       "      <th>4</th>\n",
       "      <td>5</td>\n",
       "      <td>Copycat (1995)</td>\n",
       "      <td>01-Jan-1995</td>\n",
       "      <td>NaN</td>\n",
       "      <td>http://us.imdb.com/M/title-exact?Copycat%20(1995)</td>\n",
       "    </tr>\n",
       "    <tr>\n",
       "      <th>...</th>\n",
       "      <td>...</td>\n",
       "      <td>...</td>\n",
       "      <td>...</td>\n",
       "      <td>...</td>\n",
       "      <td>...</td>\n",
       "    </tr>\n",
       "    <tr>\n",
       "      <th>1677</th>\n",
       "      <td>1678</td>\n",
       "      <td>Mat' i syn (1997)</td>\n",
       "      <td>06-Feb-1998</td>\n",
       "      <td>NaN</td>\n",
       "      <td>http://us.imdb.com/M/title-exact?Mat%27+i+syn+...</td>\n",
       "    </tr>\n",
       "    <tr>\n",
       "      <th>1678</th>\n",
       "      <td>1679</td>\n",
       "      <td>B. Monkey (1998)</td>\n",
       "      <td>06-Feb-1998</td>\n",
       "      <td>NaN</td>\n",
       "      <td>http://us.imdb.com/M/title-exact?B%2E+Monkey+(...</td>\n",
       "    </tr>\n",
       "    <tr>\n",
       "      <th>1679</th>\n",
       "      <td>1680</td>\n",
       "      <td>Sliding Doors (1998)</td>\n",
       "      <td>01-Jan-1998</td>\n",
       "      <td>NaN</td>\n",
       "      <td>http://us.imdb.com/Title?Sliding+Doors+(1998)</td>\n",
       "    </tr>\n",
       "    <tr>\n",
       "      <th>1680</th>\n",
       "      <td>1681</td>\n",
       "      <td>You So Crazy (1994)</td>\n",
       "      <td>01-Jan-1994</td>\n",
       "      <td>NaN</td>\n",
       "      <td>http://us.imdb.com/M/title-exact?You%20So%20Cr...</td>\n",
       "    </tr>\n",
       "    <tr>\n",
       "      <th>1681</th>\n",
       "      <td>1682</td>\n",
       "      <td>Scream of Stone (Schrei aus Stein) (1991)</td>\n",
       "      <td>08-Mar-1996</td>\n",
       "      <td>NaN</td>\n",
       "      <td>http://us.imdb.com/M/title-exact?Schrei%20aus%...</td>\n",
       "    </tr>\n",
       "  </tbody>\n",
       "</table>\n",
       "<p>1682 rows × 5 columns</p>\n",
       "</div>"
      ],
      "text/plain": [
       "      item_id                                      title release_date  \\\n",
       "0           1                           Toy Story (1995)  01-Jan-1995   \n",
       "1           2                           GoldenEye (1995)  01-Jan-1995   \n",
       "2           3                          Four Rooms (1995)  01-Jan-1995   \n",
       "3           4                          Get Shorty (1995)  01-Jan-1995   \n",
       "4           5                             Copycat (1995)  01-Jan-1995   \n",
       "...       ...                                        ...          ...   \n",
       "1677     1678                          Mat' i syn (1997)  06-Feb-1998   \n",
       "1678     1679                           B. Monkey (1998)  06-Feb-1998   \n",
       "1679     1680                       Sliding Doors (1998)  01-Jan-1998   \n",
       "1680     1681                        You So Crazy (1994)  01-Jan-1994   \n",
       "1681     1682  Scream of Stone (Schrei aus Stein) (1991)  08-Mar-1996   \n",
       "\n",
       "      video_release_date                                           imdb_url  \n",
       "0                    NaN  http://us.imdb.com/M/title-exact?Toy%20Story%2...  \n",
       "1                    NaN  http://us.imdb.com/M/title-exact?GoldenEye%20(...  \n",
       "2                    NaN  http://us.imdb.com/M/title-exact?Four%20Rooms%...  \n",
       "3                    NaN  http://us.imdb.com/M/title-exact?Get%20Shorty%...  \n",
       "4                    NaN  http://us.imdb.com/M/title-exact?Copycat%20(1995)  \n",
       "...                  ...                                                ...  \n",
       "1677                 NaN  http://us.imdb.com/M/title-exact?Mat%27+i+syn+...  \n",
       "1678                 NaN  http://us.imdb.com/M/title-exact?B%2E+Monkey+(...  \n",
       "1679                 NaN      http://us.imdb.com/Title?Sliding+Doors+(1998)  \n",
       "1680                 NaN  http://us.imdb.com/M/title-exact?You%20So%20Cr...  \n",
       "1681                 NaN  http://us.imdb.com/M/title-exact?Schrei%20aus%...  \n",
       "\n",
       "[1682 rows x 5 columns]"
      ]
     },
     "execution_count": 39,
     "metadata": {},
     "output_type": "execute_result"
    }
   ],
   "source": [
    "columns_to_keep = ['item_id', 'title', 'release_date', 'video_release_date', 'imdb_url']\n",
    "items = pd.read_csv(ML_100K_FOLDER / \"u.item\", sep='|', names=columns_to_keep,\n",
    "                    encoding='latin-1', usecols=range(5))\n",
    "items"
   ]
  },
  {
   "cell_type": "markdown",
   "metadata": {},
   "source": [
    "By default, the `release_date` column is a string. We can convert it to a `datetime` object using the `pd.to_datetime` function. This will make it easier to work with in the future (if we want to do things like check which date came first, for example).\n",
    " \n",
    "We can also extract the year from the date and store it in a separate column. This will make it easier to do things like plot the number of movies released each year."
   ]
  },
  {
   "cell_type": "code",
   "execution_count": 40,
   "metadata": {},
   "outputs": [],
   "source": [
    "items['release_date'] = pd.to_datetime(items['release_date']) # Pandas makes this easy!\n",
    "items['release_year'] = items['release_date'].dt.year # For later use"
   ]
  },
  {
   "cell_type": "markdown",
   "metadata": {},
   "source": [
    "For our purposes, it will be easier to work with the data if we merge our two dataframes into a single dataframe. We can do this using the `merge` method. We'll merge the `items` dataframe into the `raw_ratings` dataframe, using the `item_id` column as the key. This will add the movie title and release year to each rating."
   ]
  },
  {
   "cell_type": "code",
   "execution_count": 41,
   "metadata": {},
   "outputs": [],
   "source": [
    "all_ratings = pd.merge(items, raw_ratings)"
   ]
  },
  {
   "cell_type": "code",
   "execution_count": 42,
   "metadata": {},
   "outputs": [
    {
     "data": {
      "text/html": [
       "<div>\n",
       "<style scoped>\n",
       "    .dataframe tbody tr th:only-of-type {\n",
       "        vertical-align: middle;\n",
       "    }\n",
       "\n",
       "    .dataframe tbody tr th {\n",
       "        vertical-align: top;\n",
       "    }\n",
       "\n",
       "    .dataframe thead th {\n",
       "        text-align: right;\n",
       "    }\n",
       "</style>\n",
       "<table border=\"1\" class=\"dataframe\">\n",
       "  <thead>\n",
       "    <tr style=\"text-align: right;\">\n",
       "      <th></th>\n",
       "      <th>item_id</th>\n",
       "      <th>title</th>\n",
       "      <th>release_date</th>\n",
       "      <th>video_release_date</th>\n",
       "      <th>imdb_url</th>\n",
       "      <th>release_year</th>\n",
       "      <th>user_id</th>\n",
       "      <th>rating</th>\n",
       "      <th>timestamp</th>\n",
       "    </tr>\n",
       "  </thead>\n",
       "  <tbody>\n",
       "    <tr>\n",
       "      <th>0</th>\n",
       "      <td>1</td>\n",
       "      <td>Toy Story (1995)</td>\n",
       "      <td>1995-01-01</td>\n",
       "      <td>NaN</td>\n",
       "      <td>http://us.imdb.com/M/title-exact?Toy%20Story%2...</td>\n",
       "      <td>1995.0</td>\n",
       "      <td>308</td>\n",
       "      <td>4</td>\n",
       "      <td>887736532</td>\n",
       "    </tr>\n",
       "    <tr>\n",
       "      <th>1</th>\n",
       "      <td>1</td>\n",
       "      <td>Toy Story (1995)</td>\n",
       "      <td>1995-01-01</td>\n",
       "      <td>NaN</td>\n",
       "      <td>http://us.imdb.com/M/title-exact?Toy%20Story%2...</td>\n",
       "      <td>1995.0</td>\n",
       "      <td>287</td>\n",
       "      <td>5</td>\n",
       "      <td>875334088</td>\n",
       "    </tr>\n",
       "    <tr>\n",
       "      <th>2</th>\n",
       "      <td>1</td>\n",
       "      <td>Toy Story (1995)</td>\n",
       "      <td>1995-01-01</td>\n",
       "      <td>NaN</td>\n",
       "      <td>http://us.imdb.com/M/title-exact?Toy%20Story%2...</td>\n",
       "      <td>1995.0</td>\n",
       "      <td>148</td>\n",
       "      <td>4</td>\n",
       "      <td>877019411</td>\n",
       "    </tr>\n",
       "    <tr>\n",
       "      <th>3</th>\n",
       "      <td>1</td>\n",
       "      <td>Toy Story (1995)</td>\n",
       "      <td>1995-01-01</td>\n",
       "      <td>NaN</td>\n",
       "      <td>http://us.imdb.com/M/title-exact?Toy%20Story%2...</td>\n",
       "      <td>1995.0</td>\n",
       "      <td>280</td>\n",
       "      <td>4</td>\n",
       "      <td>891700426</td>\n",
       "    </tr>\n",
       "    <tr>\n",
       "      <th>4</th>\n",
       "      <td>1</td>\n",
       "      <td>Toy Story (1995)</td>\n",
       "      <td>1995-01-01</td>\n",
       "      <td>NaN</td>\n",
       "      <td>http://us.imdb.com/M/title-exact?Toy%20Story%2...</td>\n",
       "      <td>1995.0</td>\n",
       "      <td>66</td>\n",
       "      <td>3</td>\n",
       "      <td>883601324</td>\n",
       "    </tr>\n",
       "  </tbody>\n",
       "</table>\n",
       "</div>"
      ],
      "text/plain": [
       "   item_id             title release_date  video_release_date  \\\n",
       "0        1  Toy Story (1995)   1995-01-01                 NaN   \n",
       "1        1  Toy Story (1995)   1995-01-01                 NaN   \n",
       "2        1  Toy Story (1995)   1995-01-01                 NaN   \n",
       "3        1  Toy Story (1995)   1995-01-01                 NaN   \n",
       "4        1  Toy Story (1995)   1995-01-01                 NaN   \n",
       "\n",
       "                                            imdb_url  release_year  user_id  \\\n",
       "0  http://us.imdb.com/M/title-exact?Toy%20Story%2...        1995.0      308   \n",
       "1  http://us.imdb.com/M/title-exact?Toy%20Story%2...        1995.0      287   \n",
       "2  http://us.imdb.com/M/title-exact?Toy%20Story%2...        1995.0      148   \n",
       "3  http://us.imdb.com/M/title-exact?Toy%20Story%2...        1995.0      280   \n",
       "4  http://us.imdb.com/M/title-exact?Toy%20Story%2...        1995.0       66   \n",
       "\n",
       "   rating  timestamp  \n",
       "0       4  887736532  \n",
       "1       5  875334088  \n",
       "2       4  877019411  \n",
       "3       4  891700426  \n",
       "4       3  883601324  "
      ]
     },
     "execution_count": 42,
     "metadata": {},
     "output_type": "execute_result"
    }
   ],
   "source": [
    "all_ratings.head()"
   ]
  },
  {
   "cell_type": "markdown",
   "metadata": {},
   "source": [
    "### Data preprocessing\n",
    "\n",
    "It's always important to understand the data you've collected. Thankfully, Pandas continues to make this easy for us. Using the `describe` method, we can get a quick statistical summary of the data."
   ]
  },
  {
   "cell_type": "code",
   "execution_count": 43,
   "metadata": {},
   "outputs": [
    {
     "data": {
      "text/html": [
       "<div>\n",
       "<style scoped>\n",
       "    .dataframe tbody tr th:only-of-type {\n",
       "        vertical-align: middle;\n",
       "    }\n",
       "\n",
       "    .dataframe tbody tr th {\n",
       "        vertical-align: top;\n",
       "    }\n",
       "\n",
       "    .dataframe thead th {\n",
       "        text-align: right;\n",
       "    }\n",
       "</style>\n",
       "<table border=\"1\" class=\"dataframe\">\n",
       "  <thead>\n",
       "    <tr style=\"text-align: right;\">\n",
       "      <th></th>\n",
       "      <th>item_id</th>\n",
       "      <th>release_date</th>\n",
       "      <th>video_release_date</th>\n",
       "      <th>release_year</th>\n",
       "      <th>user_id</th>\n",
       "      <th>rating</th>\n",
       "      <th>timestamp</th>\n",
       "    </tr>\n",
       "  </thead>\n",
       "  <tbody>\n",
       "    <tr>\n",
       "      <th>count</th>\n",
       "      <td>100000.000000</td>\n",
       "      <td>99991</td>\n",
       "      <td>0.0</td>\n",
       "      <td>99991.000000</td>\n",
       "      <td>100000.00000</td>\n",
       "      <td>100000.000000</td>\n",
       "      <td>1.000000e+05</td>\n",
       "    </tr>\n",
       "    <tr>\n",
       "      <th>mean</th>\n",
       "      <td>425.530130</td>\n",
       "      <td>1988-02-09 00:43:11.369223296</td>\n",
       "      <td>NaN</td>\n",
       "      <td>1987.956216</td>\n",
       "      <td>462.48475</td>\n",
       "      <td>3.529860</td>\n",
       "      <td>8.835289e+08</td>\n",
       "    </tr>\n",
       "    <tr>\n",
       "      <th>min</th>\n",
       "      <td>1.000000</td>\n",
       "      <td>1922-01-01 00:00:00</td>\n",
       "      <td>NaN</td>\n",
       "      <td>1922.000000</td>\n",
       "      <td>1.00000</td>\n",
       "      <td>1.000000</td>\n",
       "      <td>8.747247e+08</td>\n",
       "    </tr>\n",
       "    <tr>\n",
       "      <th>25%</th>\n",
       "      <td>175.000000</td>\n",
       "      <td>1986-01-01 00:00:00</td>\n",
       "      <td>NaN</td>\n",
       "      <td>1986.000000</td>\n",
       "      <td>254.00000</td>\n",
       "      <td>3.000000</td>\n",
       "      <td>8.794487e+08</td>\n",
       "    </tr>\n",
       "    <tr>\n",
       "      <th>50%</th>\n",
       "      <td>322.000000</td>\n",
       "      <td>1994-01-01 00:00:00</td>\n",
       "      <td>NaN</td>\n",
       "      <td>1994.000000</td>\n",
       "      <td>447.00000</td>\n",
       "      <td>4.000000</td>\n",
       "      <td>8.828269e+08</td>\n",
       "    </tr>\n",
       "    <tr>\n",
       "      <th>75%</th>\n",
       "      <td>631.000000</td>\n",
       "      <td>1996-09-28 00:00:00</td>\n",
       "      <td>NaN</td>\n",
       "      <td>1996.000000</td>\n",
       "      <td>682.00000</td>\n",
       "      <td>4.000000</td>\n",
       "      <td>8.882600e+08</td>\n",
       "    </tr>\n",
       "    <tr>\n",
       "      <th>max</th>\n",
       "      <td>1682.000000</td>\n",
       "      <td>1998-10-23 00:00:00</td>\n",
       "      <td>NaN</td>\n",
       "      <td>1998.000000</td>\n",
       "      <td>943.00000</td>\n",
       "      <td>5.000000</td>\n",
       "      <td>8.932866e+08</td>\n",
       "    </tr>\n",
       "    <tr>\n",
       "      <th>std</th>\n",
       "      <td>330.798356</td>\n",
       "      <td>NaN</td>\n",
       "      <td>NaN</td>\n",
       "      <td>14.155523</td>\n",
       "      <td>266.61442</td>\n",
       "      <td>1.125674</td>\n",
       "      <td>5.343856e+06</td>\n",
       "    </tr>\n",
       "  </tbody>\n",
       "</table>\n",
       "</div>"
      ],
      "text/plain": [
       "             item_id                   release_date  video_release_date  \\\n",
       "count  100000.000000                          99991                 0.0   \n",
       "mean      425.530130  1988-02-09 00:43:11.369223296                 NaN   \n",
       "min         1.000000            1922-01-01 00:00:00                 NaN   \n",
       "25%       175.000000            1986-01-01 00:00:00                 NaN   \n",
       "50%       322.000000            1994-01-01 00:00:00                 NaN   \n",
       "75%       631.000000            1996-09-28 00:00:00                 NaN   \n",
       "max      1682.000000            1998-10-23 00:00:00                 NaN   \n",
       "std       330.798356                            NaN                 NaN   \n",
       "\n",
       "       release_year       user_id         rating     timestamp  \n",
       "count  99991.000000  100000.00000  100000.000000  1.000000e+05  \n",
       "mean    1987.956216     462.48475       3.529860  8.835289e+08  \n",
       "min     1922.000000       1.00000       1.000000  8.747247e+08  \n",
       "25%     1986.000000     254.00000       3.000000  8.794487e+08  \n",
       "50%     1994.000000     447.00000       4.000000  8.828269e+08  \n",
       "75%     1996.000000     682.00000       4.000000  8.882600e+08  \n",
       "max     1998.000000     943.00000       5.000000  8.932866e+08  \n",
       "std       14.155523     266.61442       1.125674  5.343856e+06  "
      ]
     },
     "execution_count": 43,
     "metadata": {},
     "output_type": "execute_result"
    }
   ],
   "source": [
    "all_ratings.describe()"
   ]
  },
  {
   "cell_type": "markdown",
   "metadata": {},
   "source": [
    "Let's do a bit more pandas magic to compute the popularity of each movie (number of ratings). We will use the `groupby` method to group the dataframe by the `item_id` column and then use the `size` method to compute the number of ratings for each movie. We will use the `reset_index` method to convert the resulting Series into a dataframe with an `item_id` column."
   ]
  },
  {
   "cell_type": "code",
   "execution_count": 44,
   "metadata": {},
   "outputs": [],
   "source": [
    "popularity = all_ratings.groupby('item_id').size().reset_index(name='popularity')\n",
    "items = pd.merge(popularity, items)"
   ]
  },
  {
   "cell_type": "code",
   "execution_count": 45,
   "metadata": {},
   "outputs": [
    {
     "data": {
      "image/png": "[encoded data removed]",
      "text/plain": [
       "<Figure size 640x480 with 1 Axes>"
      ]
     },
     "metadata": {},
     "output_type": "display_data"
    }
   ],
   "source": [
    "items['popularity'].plot.hist(bins=30);"
   ]
  },
  {
   "cell_type": "code",
   "execution_count": 46,
   "metadata": {},
   "outputs": [
    {
     "data": {
      "text/plain": [
       "141"
      ]
     },
     "execution_count": 46,
     "metadata": {},
     "output_type": "execute_result"
    }
   ],
   "source": [
    "(items['popularity'] == 1).sum() # Number of movies with only one rating"
   ]
  },
  {
   "cell_type": "code",
   "execution_count": 47,
   "metadata": {},
   "outputs": [
    {
     "data": {
      "text/plain": [
       "49                  Star Wars (1977)\n",
       "257                   Contact (1997)\n",
       "99                      Fargo (1996)\n",
       "180        Return of the Jedi (1983)\n",
       "293                 Liar Liar (1997)\n",
       "285      English Patient, The (1996)\n",
       "287                    Scream (1996)\n",
       "0                   Toy Story (1995)\n",
       "299             Air Force One (1997)\n",
       "120    Independence Day (ID4) (1996)\n",
       "Name: title, dtype: object"
      ]
     },
     "execution_count": 47,
     "metadata": {},
     "output_type": "execute_result"
    }
   ],
   "source": [
    "items.nlargest(10, 'popularity')['title'] # Get the 10 most popular movies"
   ]
  },
  {
   "cell_type": "code",
   "execution_count": 48,
   "metadata": {},
   "outputs": [
    {
     "data": {
      "text/html": [
       "<div>\n",
       "<style scoped>\n",
       "    .dataframe tbody tr th:only-of-type {\n",
       "        vertical-align: middle;\n",
       "    }\n",
       "\n",
       "    .dataframe tbody tr th {\n",
       "        vertical-align: top;\n",
       "    }\n",
       "\n",
       "    .dataframe thead th {\n",
       "        text-align: right;\n",
       "    }\n",
       "</style>\n",
       "<table border=\"1\" class=\"dataframe\">\n",
       "  <thead>\n",
       "    <tr style=\"text-align: right;\">\n",
       "      <th></th>\n",
       "      <th>item_id</th>\n",
       "      <th>popularity</th>\n",
       "      <th>release_date</th>\n",
       "      <th>video_release_date</th>\n",
       "      <th>release_year</th>\n",
       "      <th>user_id</th>\n",
       "      <th>rating</th>\n",
       "      <th>timestamp</th>\n",
       "    </tr>\n",
       "  </thead>\n",
       "  <tbody>\n",
       "    <tr>\n",
       "      <th>count</th>\n",
       "      <td>100000.000000</td>\n",
       "      <td>100000.000000</td>\n",
       "      <td>99991</td>\n",
       "      <td>0.0</td>\n",
       "      <td>99991.000000</td>\n",
       "      <td>100000.00000</td>\n",
       "      <td>100000.000000</td>\n",
       "      <td>1.000000e+05</td>\n",
       "    </tr>\n",
       "    <tr>\n",
       "      <th>mean</th>\n",
       "      <td>425.530130</td>\n",
       "      <td>168.071900</td>\n",
       "      <td>1988-02-09 00:43:11.369223296</td>\n",
       "      <td>NaN</td>\n",
       "      <td>1987.956216</td>\n",
       "      <td>462.48475</td>\n",
       "      <td>3.529860</td>\n",
       "      <td>8.835289e+08</td>\n",
       "    </tr>\n",
       "    <tr>\n",
       "      <th>min</th>\n",
       "      <td>1.000000</td>\n",
       "      <td>1.000000</td>\n",
       "      <td>1922-01-01 00:00:00</td>\n",
       "      <td>NaN</td>\n",
       "      <td>1922.000000</td>\n",
       "      <td>1.00000</td>\n",
       "      <td>1.000000</td>\n",
       "      <td>8.747247e+08</td>\n",
       "    </tr>\n",
       "    <tr>\n",
       "      <th>25%</th>\n",
       "      <td>175.000000</td>\n",
       "      <td>71.000000</td>\n",
       "      <td>1986-01-01 00:00:00</td>\n",
       "      <td>NaN</td>\n",
       "      <td>1986.000000</td>\n",
       "      <td>254.00000</td>\n",
       "      <td>3.000000</td>\n",
       "      <td>8.794487e+08</td>\n",
       "    </tr>\n",
       "    <tr>\n",
       "      <th>50%</th>\n",
       "      <td>322.000000</td>\n",
       "      <td>145.000000</td>\n",
       "      <td>1994-01-01 00:00:00</td>\n",
       "      <td>NaN</td>\n",
       "      <td>1994.000000</td>\n",
       "      <td>447.00000</td>\n",
       "      <td>4.000000</td>\n",
       "      <td>8.828269e+08</td>\n",
       "    </tr>\n",
       "    <tr>\n",
       "      <th>75%</th>\n",
       "      <td>631.000000</td>\n",
       "      <td>239.000000</td>\n",
       "      <td>1996-09-28 00:00:00</td>\n",
       "      <td>NaN</td>\n",
       "      <td>1996.000000</td>\n",
       "      <td>682.00000</td>\n",
       "      <td>4.000000</td>\n",
       "      <td>8.882600e+08</td>\n",
       "    </tr>\n",
       "    <tr>\n",
       "      <th>max</th>\n",
       "      <td>1682.000000</td>\n",
       "      <td>583.000000</td>\n",
       "      <td>1998-10-23 00:00:00</td>\n",
       "      <td>NaN</td>\n",
       "      <td>1998.000000</td>\n",
       "      <td>943.00000</td>\n",
       "      <td>5.000000</td>\n",
       "      <td>8.932866e+08</td>\n",
       "    </tr>\n",
       "    <tr>\n",
       "      <th>std</th>\n",
       "      <td>330.798356</td>\n",
       "      <td>121.784558</td>\n",
       "      <td>NaN</td>\n",
       "      <td>NaN</td>\n",
       "      <td>14.155523</td>\n",
       "      <td>266.61442</td>\n",
       "      <td>1.125674</td>\n",
       "      <td>5.343856e+06</td>\n",
       "    </tr>\n",
       "  </tbody>\n",
       "</table>\n",
       "</div>"
      ],
      "text/plain": [
       "             item_id     popularity                   release_date  \\\n",
       "count  100000.000000  100000.000000                          99991   \n",
       "mean      425.530130     168.071900  1988-02-09 00:43:11.369223296   \n",
       "min         1.000000       1.000000            1922-01-01 00:00:00   \n",
       "25%       175.000000      71.000000            1986-01-01 00:00:00   \n",
       "50%       322.000000     145.000000            1994-01-01 00:00:00   \n",
       "75%       631.000000     239.000000            1996-09-28 00:00:00   \n",
       "max      1682.000000     583.000000            1998-10-23 00:00:00   \n",
       "std       330.798356     121.784558                            NaN   \n",
       "\n",
       "       video_release_date  release_year       user_id         rating  \\\n",
       "count                 0.0  99991.000000  100000.00000  100000.000000   \n",
       "mean                  NaN   1987.956216     462.48475       3.529860   \n",
       "min                   NaN   1922.000000       1.00000       1.000000   \n",
       "25%                   NaN   1986.000000     254.00000       3.000000   \n",
       "50%                   NaN   1994.000000     447.00000       4.000000   \n",
       "75%                   NaN   1996.000000     682.00000       4.000000   \n",
       "max                   NaN   1998.000000     943.00000       5.000000   \n",
       "std                   NaN     14.155523     266.61442       1.125674   \n",
       "\n",
       "          timestamp  \n",
       "count  1.000000e+05  \n",
       "mean   8.835289e+08  \n",
       "min    8.747247e+08  \n",
       "25%    8.794487e+08  \n",
       "50%    8.828269e+08  \n",
       "75%    8.882600e+08  \n",
       "max    8.932866e+08  \n",
       "std    5.343856e+06  "
      ]
     },
     "execution_count": 48,
     "metadata": {},
     "output_type": "execute_result"
    }
   ],
   "source": [
    "all_ratings = pd.merge(popularity, all_ratings)\n",
    "all_ratings.describe()"
   ]
  },
  {
   "cell_type": "code",
   "execution_count": 49,
   "metadata": {
    "collapsed": false
   },
   "outputs": [],
   "source": [
    "indexed_items = items.set_index('item_id')"
   ]
  },
  {
   "cell_type": "code",
   "execution_count": 50,
   "metadata": {},
   "outputs": [
    {
     "data": {
      "text/html": [
       "<div>\n",
       "<style scoped>\n",
       "    .dataframe tbody tr th:only-of-type {\n",
       "        vertical-align: middle;\n",
       "    }\n",
       "\n",
       "    .dataframe tbody tr th {\n",
       "        vertical-align: top;\n",
       "    }\n",
       "\n",
       "    .dataframe thead th {\n",
       "        text-align: right;\n",
       "    }\n",
       "</style>\n",
       "<table border=\"1\" class=\"dataframe\">\n",
       "  <thead>\n",
       "    <tr style=\"text-align: right;\">\n",
       "      <th></th>\n",
       "      <th>item_id</th>\n",
       "      <th>popularity</th>\n",
       "      <th>title</th>\n",
       "      <th>release_date</th>\n",
       "      <th>video_release_date</th>\n",
       "      <th>imdb_url</th>\n",
       "      <th>release_year</th>\n",
       "      <th>user_id</th>\n",
       "      <th>rating</th>\n",
       "      <th>timestamp</th>\n",
       "    </tr>\n",
       "  </thead>\n",
       "  <tbody>\n",
       "    <tr>\n",
       "      <th>0</th>\n",
       "      <td>1</td>\n",
       "      <td>452</td>\n",
       "      <td>Toy Story (1995)</td>\n",
       "      <td>1995-01-01</td>\n",
       "      <td>NaN</td>\n",
       "      <td>http://us.imdb.com/M/title-exact?Toy%20Story%2...</td>\n",
       "      <td>1995.0</td>\n",
       "      <td>308</td>\n",
       "      <td>4</td>\n",
       "      <td>887736532</td>\n",
       "    </tr>\n",
       "    <tr>\n",
       "      <th>1</th>\n",
       "      <td>1</td>\n",
       "      <td>452</td>\n",
       "      <td>Toy Story (1995)</td>\n",
       "      <td>1995-01-01</td>\n",
       "      <td>NaN</td>\n",
       "      <td>http://us.imdb.com/M/title-exact?Toy%20Story%2...</td>\n",
       "      <td>1995.0</td>\n",
       "      <td>287</td>\n",
       "      <td>5</td>\n",
       "      <td>875334088</td>\n",
       "    </tr>\n",
       "    <tr>\n",
       "      <th>2</th>\n",
       "      <td>1</td>\n",
       "      <td>452</td>\n",
       "      <td>Toy Story (1995)</td>\n",
       "      <td>1995-01-01</td>\n",
       "      <td>NaN</td>\n",
       "      <td>http://us.imdb.com/M/title-exact?Toy%20Story%2...</td>\n",
       "      <td>1995.0</td>\n",
       "      <td>148</td>\n",
       "      <td>4</td>\n",
       "      <td>877019411</td>\n",
       "    </tr>\n",
       "    <tr>\n",
       "      <th>3</th>\n",
       "      <td>1</td>\n",
       "      <td>452</td>\n",
       "      <td>Toy Story (1995)</td>\n",
       "      <td>1995-01-01</td>\n",
       "      <td>NaN</td>\n",
       "      <td>http://us.imdb.com/M/title-exact?Toy%20Story%2...</td>\n",
       "      <td>1995.0</td>\n",
       "      <td>280</td>\n",
       "      <td>4</td>\n",
       "      <td>891700426</td>\n",
       "    </tr>\n",
       "    <tr>\n",
       "      <th>4</th>\n",
       "      <td>1</td>\n",
       "      <td>452</td>\n",
       "      <td>Toy Story (1995)</td>\n",
       "      <td>1995-01-01</td>\n",
       "      <td>NaN</td>\n",
       "      <td>http://us.imdb.com/M/title-exact?Toy%20Story%2...</td>\n",
       "      <td>1995.0</td>\n",
       "      <td>66</td>\n",
       "      <td>3</td>\n",
       "      <td>883601324</td>\n",
       "    </tr>\n",
       "  </tbody>\n",
       "</table>\n",
       "</div>"
      ],
      "text/plain": [
       "   item_id  popularity             title release_date  video_release_date  \\\n",
       "0        1         452  Toy Story (1995)   1995-01-01                 NaN   \n",
       "1        1         452  Toy Story (1995)   1995-01-01                 NaN   \n",
       "2        1         452  Toy Story (1995)   1995-01-01                 NaN   \n",
       "3        1         452  Toy Story (1995)   1995-01-01                 NaN   \n",
       "4        1         452  Toy Story (1995)   1995-01-01                 NaN   \n",
       "\n",
       "                                            imdb_url  release_year  user_id  \\\n",
       "0  http://us.imdb.com/M/title-exact?Toy%20Story%2...        1995.0      308   \n",
       "1  http://us.imdb.com/M/title-exact?Toy%20Story%2...        1995.0      287   \n",
       "2  http://us.imdb.com/M/title-exact?Toy%20Story%2...        1995.0      148   \n",
       "3  http://us.imdb.com/M/title-exact?Toy%20Story%2...        1995.0      280   \n",
       "4  http://us.imdb.com/M/title-exact?Toy%20Story%2...        1995.0       66   \n",
       "\n",
       "   rating  timestamp  \n",
       "0       4  887736532  \n",
       "1       5  875334088  \n",
       "2       4  877019411  \n",
       "3       4  891700426  \n",
       "4       3  883601324  "
      ]
     },
     "execution_count": 50,
     "metadata": {},
     "output_type": "execute_result"
    }
   ],
   "source": [
    "all_ratings.head()"
   ]
  },
  {
   "cell_type": "markdown",
   "metadata": {
    "collapsed": false
   },
   "source": [
    "**Quick Exercise**:\n",
    "\n",
    "As we have seen, the `groupby` method is a powerful tool to quickly compute statistics on the data. Use it to compute the average rating for each movie.\n",
    "\n",
    "**Hint**: you can use the `mean` method after the `groupby` method."
   ]
  },
  {
   "cell_type": "code",
   "execution_count": 51,
   "metadata": {
    "collapsed": false
   },
   "outputs": [
    {
     "data": {
      "text/plain": [
       "title\n",
       "'Til There Was You (1997)                2.333333\n",
       "1-900 (1994)                             2.600000\n",
       "101 Dalmatians (1996)                    2.908257\n",
       "12 Angry Men (1957)                      4.344000\n",
       "187 (1997)                               3.024390\n",
       "                                           ...   \n",
       "Young Guns II (1990)                     2.772727\n",
       "Young Poisoner's Handbook, The (1995)    3.341463\n",
       "Zeus and Roxanne (1997)                  2.166667\n",
       "unknown                                  3.444444\n",
       "Á köldum klaka (Cold Fever) (1994)       3.000000\n",
       "Name: rating, Length: 1664, dtype: float64"
      ]
     },
     "execution_count": 51,
     "metadata": {},
     "output_type": "execute_result"
    }
   ],
   "source": [
    "# Your code here\n",
    "all_ratings.groupby('title')['rating'].mean()"
   ]
  },
  {
   "cell_type": "markdown",
   "metadata": {},
   "source": [
    "Let's split the enriched data in a train / test split to make it possible to do predictive modeling:"
   ]
  },
  {
   "cell_type": "code",
   "execution_count": 52,
   "metadata": {},
   "outputs": [],
   "source": [
    "from sklearn.model_selection import train_test_split\n",
    "\n",
    "ratings_train, ratings_test = train_test_split(\n",
    "    all_ratings, test_size=0.2, random_state=0)\n",
    "\n",
    "user_id_train = np.array(ratings_train['user_id'])\n",
    "item_id_train = np.array(ratings_train['item_id'])\n",
    "rating_train = np.array(ratings_train['rating'])\n",
    "\n",
    "user_id_test = np.array(ratings_test['user_id'])\n",
    "item_id_test = np.array(ratings_test['item_id'])\n",
    "rating_test = np.array(ratings_test['rating'])"
   ]
  },
  {
   "cell_type": "markdown",
   "metadata": {},
   "source": [
    "# Explicit feedback: supervised ratings prediction\n",
    "\n",
    "Now let's begin to do some recommendation! We will build a model that takes a user and a movie as input and outputs a predicted rating. We will be taking advantage of embeddings to represent users and movies. That means that each movie and user will have an abstract representation in a continuous vector space. The model will learn these representations based on the ratings."
   ]
  },
  {
   "cell_type": "markdown",
   "metadata": {},
   "source": [
    "## Predictive ratings  as a regression problem\n",
    "\n",
    "The following code implements the following architecture:\n",
    "\n",
    "<img src=\"https://raw.githubusercontent.com/UofT-DSI/deep_learning/main/notebooks/images/rec_archi_1.svg\" style=\"width: 600px;\" />"
   ]
  },
  {
   "cell_type": "code",
   "execution_count": 53,
   "metadata": {},
   "outputs": [],
   "source": [
    "from tensorflow.keras.layers import Embedding, Flatten, Dense, Dropout\n",
    "from tensorflow.keras.layers import Dot\n",
    "from tensorflow.keras.models import Model"
   ]
  },
  {
   "cell_type": "code",
   "execution_count": 54,
   "metadata": {},
   "outputs": [
    {
     "name": "stderr",
     "output_type": "stream",
     "text": [
      "c:\\Users\\skiev\\AppData\\Local\\Continuum\\envs\\scale2prod\\Lib\\site-packages\\keras\\src\\layers\\core\\embedding.py:90: UserWarning: Argument `input_length` is deprecated. Just remove it.\n",
      "  warnings.warn(\n"
     ]
    }
   ],
   "source": [
    "# For each sample we input the integer identifiers\n",
    "# of a single user and a single item\n",
    "class RegressionModel(Model):\n",
    "    def __init__(self, embedding_size, max_user_id, max_item_id):\n",
    "        super().__init__()\n",
    "        \n",
    "        self.user_embedding = Embedding(output_dim=embedding_size,\n",
    "                                        input_dim=max_user_id + 1,\n",
    "                                        input_length=1,\n",
    "                                        name='user_embedding')\n",
    "        self.item_embedding = Embedding(output_dim=embedding_size,\n",
    "                                        input_dim=max_item_id + 1,\n",
    "                                        input_length=1,\n",
    "                                        name='item_embedding')\n",
    "        \n",
    "        # The following two layers don't have parameters.\n",
    "        self.flatten = Flatten()\n",
    "        self.dot = Dot(axes=1)\n",
    "        \n",
    "    def call(self, inputs):\n",
    "        user_inputs = inputs[0]\n",
    "        item_inputs = inputs[1]\n",
    "        \n",
    "        user_vecs = self.flatten(self.user_embedding(user_inputs))\n",
    "        item_vecs = self.flatten(self.item_embedding(item_inputs))\n",
    "        \n",
    "        y = self.dot([user_vecs, item_vecs])\n",
    "        return y\n",
    "\n",
    "\n",
    "model = RegressionModel(embedding_size=64, max_user_id=all_ratings['user_id'].max(), max_item_id=all_ratings['item_id'].max())\n",
    "model.compile(optimizer=\"adam\", loss='mae')"
   ]
  },
  {
   "cell_type": "markdown",
   "metadata": {},
   "source": [
    "### Monitoring runs\n",
    "\n",
    "When training a model with Keras, we get a `history` object back that contains lots of information about the training run. We can use this to plot the training and validation loss to see how the model has improved during training."
   ]
  },
  {
   "cell_type": "code",
   "execution_count": 55,
   "metadata": {},
   "outputs": [
    {
     "name": "stdout",
     "output_type": "stream",
     "text": [
      "Epoch 1/10\n",
      "\u001b[1m1125/1125\u001b[0m \u001b[32m━━━━━━━━━━━━━━━━━━━━\u001b[0m\u001b[37m\u001b[0m \u001b[1m5s\u001b[0m 4ms/step - loss: 3.2940 - val_loss: 1.0432\n",
      "Epoch 2/10\n",
      "\u001b[1m1125/1125\u001b[0m \u001b[32m━━━━━━━━━━━━━━━━━━━━\u001b[0m\u001b[37m\u001b[0m \u001b[1m4s\u001b[0m 3ms/step - loss: 0.9072 - val_loss: 0.7987\n",
      "Epoch 3/10\n",
      "\u001b[1m1125/1125\u001b[0m \u001b[32m━━━━━━━━━━━━━━━━━━━━\u001b[0m\u001b[37m\u001b[0m \u001b[1m4s\u001b[0m 3ms/step - loss: 0.7535 - val_loss: 0.7665\n",
      "Epoch 4/10\n",
      "\u001b[1m1125/1125\u001b[0m \u001b[32m━━━━━━━━━━━━━━━━━━━━\u001b[0m\u001b[37m\u001b[0m \u001b[1m5s\u001b[0m 3ms/step - loss: 0.7248 - val_loss: 0.7578\n",
      "Epoch 5/10\n",
      "\u001b[1m1125/1125\u001b[0m \u001b[32m━━━━━━━━━━━━━━━━━━━━\u001b[0m\u001b[37m\u001b[0m \u001b[1m3s\u001b[0m 3ms/step - loss: 0.7075 - val_loss: 0.7530\n",
      "Epoch 6/10\n",
      "\u001b[1m1125/1125\u001b[0m \u001b[32m━━━━━━━━━━━━━━━━━━━━\u001b[0m\u001b[37m\u001b[0m \u001b[1m5s\u001b[0m 3ms/step - loss: 0.6868 - val_loss: 0.7420\n",
      "Epoch 7/10\n",
      "\u001b[1m1125/1125\u001b[0m \u001b[32m━━━━━━━━━━━━━━━━━━━━\u001b[0m\u001b[37m\u001b[0m \u001b[1m4s\u001b[0m 3ms/step - loss: 0.6623 - val_loss: 0.7428\n",
      "Epoch 8/10\n",
      "\u001b[1m1125/1125\u001b[0m \u001b[32m━━━━━━━━━━━━━━━━━━━━\u001b[0m\u001b[37m\u001b[0m \u001b[1m4s\u001b[0m 3ms/step - loss: 0.6424 - val_loss: 0.7404\n",
      "Epoch 9/10\n",
      "\u001b[1m1125/1125\u001b[0m \u001b[32m━━━━━━━━━━━━━━━━━━━━\u001b[0m\u001b[37m\u001b[0m \u001b[1m3s\u001b[0m 3ms/step - loss: 0.6167 - val_loss: 0.7443\n",
      "Epoch 10/10\n",
      "\u001b[1m1125/1125\u001b[0m \u001b[32m━━━━━━━━━━━━━━━━━━━━\u001b[0m\u001b[37m\u001b[0m \u001b[1m6s\u001b[0m 3ms/step - loss: 0.5912 - val_loss: 0.7427\n",
      "CPU times: total: 55.8 s\n",
      "Wall time: 42.8 s\n"
     ]
    }
   ],
   "source": [
    "%%time\n",
    "\n",
    "# Training the model\n",
    "history = model.fit([user_id_train, item_id_train], rating_train,\n",
    "                    batch_size=64, epochs=10, validation_split=0.1,\n",
    "                    shuffle=True)"
   ]
  },
  {
   "cell_type": "code",
   "execution_count": 56,
   "metadata": {},
   "outputs": [
    {
     "data": {
      "image/png": "[encoded data removed]",
      "text/plain": [
       "<Figure size 640x480 with 1 Axes>"
      ]
     },
     "metadata": {},
     "output_type": "display_data"
    }
   ],
   "source": [
    "plt.plot(history.history['loss'], label='train')\n",
    "plt.plot(history.history['val_loss'], label='validation')\n",
    "plt.ylim(0, 2)\n",
    "plt.legend(loc='best')\n",
    "plt.title('Loss');"
   ]
  },
  {
   "cell_type": "markdown",
   "metadata": {},
   "source": [
    "**Questions**:\n",
    "\n",
    "- Does it look like our model has overfit? Why or why not?\n",
    "- Suggest something we could do to prevent overfitting.\n",
    "\n",
    "\n",
    "Now that the model is trained, let's check out the quality of predictions:"
   ]
  },
  {
   "cell_type": "code",
   "execution_count": 57,
   "metadata": {},
   "outputs": [],
   "source": [
    "def plot_predictions(y_true, y_pred):\n",
    "    plt.figure(figsize=(4, 4))\n",
    "    plt.xlim(-1, 6)\n",
    "    plt.xlabel(\"True rating\")\n",
    "    plt.ylim(-1, 6)\n",
    "    plt.ylabel(\"Predicted rating\")\n",
    "    plt.scatter(y_true, y_pred, s=60, alpha=0.01)"
   ]
  },
  {
   "cell_type": "code",
   "execution_count": 58,
   "metadata": {},
   "outputs": [
    {
     "name": "stdout",
     "output_type": "stream",
     "text": [
      "\u001b[1m625/625\u001b[0m \u001b[32m━━━━━━━━━━━━━━━━━━━━\u001b[0m\u001b[37m\u001b[0m \u001b[1m2s\u001b[0m 3ms/step\n",
      "Final test MSE: 0.904\n",
      "Final test MAE: 0.733\n"
     ]
    },
    {
     "data": {
      "image/png": "[encoded data removed]",
      "text/plain": [
       "<Figure size 400x400 with 1 Axes>"
      ]
     },
     "metadata": {},
     "output_type": "display_data"
    }
   ],
   "source": [
    "from sklearn.metrics import mean_squared_error\n",
    "from sklearn.metrics import mean_absolute_error\n",
    "\n",
    "test_preds = model.predict([user_id_test, item_id_test])\n",
    "print(\"Final test MSE: %0.3f\" % mean_squared_error(test_preds, rating_test))\n",
    "print(\"Final test MAE: %0.3f\" % mean_absolute_error(test_preds, rating_test))\n",
    "plot_predictions(rating_test, test_preds)"
   ]
  },
  {
   "cell_type": "markdown",
   "metadata": {
    "collapsed": false
   },
   "source": [
    "This graph shows us the range of predicted ratings our model gives, organized by the true rating. We can see that generally, the higher the true rating the higher the predicted rating, although there is quite a range of predictions for each instance. That's okay - our model is very simple, and human preferences are very complex!\n",
    "\n",
    "Taking a look at the Mean Absolute Error, hopefully you got something around 0.75. This means that, on average, our predicted ratings are about 0.75 stars off from the true ratings. This is a pretty good result for a first attempt. We could probably do better with a more complex model, but we'll leave that for another time."
   ]
  },
  {
   "cell_type": "markdown",
   "metadata": {},
   "source": [
    "### Model Embeddings\n",
    "\n",
    "Our model was built with two embedding layers. These layers have learned a representation of both the users and the movies in our dataset. We can extract these representations and use them to find similar movies or users. We can also do interesting exploratory analysis, like finding the most popular movies among our users, or finding the users that are most interested in a given movie."
   ]
  },
  {
   "cell_type": "code",
   "execution_count": 59,
   "metadata": {},
   "outputs": [
    {
     "data": {
      "text/plain": [
       "[(944, 64), (1683, 64)]"
      ]
     },
     "execution_count": 59,
     "metadata": {},
     "output_type": "execute_result"
    }
   ],
   "source": [
    "# weights and shape\n",
    "weights = model.get_weights()\n",
    "[w.shape for w in weights]"
   ]
  },
  {
   "cell_type": "code",
   "execution_count": 60,
   "metadata": {},
   "outputs": [],
   "source": [
    "user_embeddings = weights[0]\n",
    "item_embeddings = weights[1]"
   ]
  },
  {
   "cell_type": "code",
   "execution_count": 61,
   "metadata": {},
   "outputs": [
    {
     "name": "stdout",
     "output_type": "stream",
     "text": [
      "Title for item_id=181: Return of the Jedi (1983)\n"
     ]
    }
   ],
   "source": [
    "item_id = 181\n",
    "print(f\"Title for item_id={item_id}: {indexed_items['title'][item_id]}\")"
   ]
  },
  {
   "cell_type": "code",
   "execution_count": 62,
   "metadata": {},
   "outputs": [
    {
     "name": "stdout",
     "output_type": "stream",
     "text": [
      "Embedding vector for item_id=181\n",
      "[ 0.4246462   0.41023126  0.3893226   0.23184907 -0.36628813  0.30402416\n",
      " -0.3392399  -0.21976984 -0.14114097 -0.39460054  0.05797275 -0.24849415\n",
      " -0.08445655  0.32833138  0.23253489 -0.50463885  0.4449813  -0.3314211\n",
      " -0.29002768  0.17684186  0.2519397  -0.21592987 -0.44119096  0.3705964\n",
      " -0.35204023 -0.56697595  0.06919109  0.42337033  0.19674715 -0.4768441\n",
      " -0.23029812  0.37194446 -0.38590777 -0.37557328  0.47627202  0.47120154\n",
      " -0.18674183 -0.1907242   0.1168606   0.3372832  -0.15750593 -0.16273166\n",
      "  0.40255156  0.39184394 -0.42931044  0.34640852 -0.10748062 -0.16174412\n",
      " -0.07156194 -0.13630189  0.4788826  -0.45619154  0.40831962 -0.36762735\n",
      " -0.50667024 -0.458491    0.2559221   0.1921321  -0.2751805  -0.61513597\n",
      " -0.3196842   0.26526627  0.13286781 -0.25520656]\n",
      "shape: (64,)\n"
     ]
    }
   ],
   "source": [
    "print(f\"Embedding vector for item_id={item_id}\")\n",
    "print(item_embeddings[item_id])\n",
    "print(\"shape:\", item_embeddings[item_id].shape)"
   ]
  },
  {
   "cell_type": "markdown",
   "metadata": {
    "collapsed": false
   },
   "source": [
    "As we discussed in lecture, our embeddings are not directly interpretable - we can't look at, say, a value of 0.297 in the embedding vector and say \"this means that the movie is a drama\". As an aside, there is a field of research dedicated to making _interpretable_ embeddings, but it's not something we'll cover in this course. "
   ]
  },
  {
   "cell_type": "markdown",
   "metadata": {},
   "source": [
    "### Finding our most similar items\n",
    "\n",
    "Now we can have some fun, investigating the embeddings we've learned. We can start by finding the most similar items to a given item. We can do this by computing the cosine similarity between the item's embedding and the embedding of every other item. We can use the `cosine_similarity` function from `sklearn` to do this."
   ]
  },
  {
   "cell_type": "code",
   "execution_count": 63,
   "metadata": {
    "collapsed": false
   },
   "outputs": [],
   "source": [
    "from sklearn.metrics.pairwise import cosine_similarity\n",
    "\n",
    "def cosine(a, b):\n",
    "    # Reshape to the shape our function expects\n",
    "    a = a.reshape(1, -1)\n",
    "    b = b.reshape(1, -1)\n",
    "    return cosine_similarity(a, b)[0, 0]"
   ]
  },
  {
   "cell_type": "code",
   "execution_count": 64,
   "metadata": {},
   "outputs": [
    {
     "name": "stdout",
     "output_type": "stream",
     "text": [
      "Star Wars (1977)\n",
      "Return of the Jedi (1983)\n",
      "Cosine similarity: 0.923\n"
     ]
    }
   ],
   "source": [
    "def print_similarity(item_a, item_b, item_embeddings, titles):\n",
    "    print(titles[item_a])\n",
    "    print(titles[item_b])\n",
    "    similarity = cosine(item_embeddings[item_a],\n",
    "                        item_embeddings[item_b])\n",
    "    print(f\"Cosine similarity: {similarity:.3}\")\n",
    "    \n",
    "print_similarity(50, 181, item_embeddings, indexed_items[\"title\"])"
   ]
  },
  {
   "cell_type": "markdown",
   "metadata": {
    "collapsed": false
   },
   "source": [
    "It makes sense that the original Star Wars, and its later sequel Return of the Jedi have a high similarity. Let's try some other examples:"
   ]
  },
  {
   "cell_type": "code",
   "execution_count": 65,
   "metadata": {},
   "outputs": [
    {
     "name": "stdout",
     "output_type": "stream",
     "text": [
      "Return of the Jedi (1983)\n",
      "Scream (1996)\n",
      "Cosine similarity: 0.685\n"
     ]
    }
   ],
   "source": [
    "print_similarity(181, 288, item_embeddings, indexed_items[\"title\"])"
   ]
  },
  {
   "cell_type": "code",
   "execution_count": 66,
   "metadata": {},
   "outputs": [
    {
     "name": "stdout",
     "output_type": "stream",
     "text": [
      "Return of the Jedi (1983)\n",
      "Toy Story (1995)\n",
      "Cosine similarity: 0.832\n"
     ]
    }
   ],
   "source": [
    "print_similarity(181, 1, item_embeddings, indexed_items[\"title\"])"
   ]
  },
  {
   "cell_type": "code",
   "execution_count": 67,
   "metadata": {},
   "outputs": [
    {
     "name": "stdout",
     "output_type": "stream",
     "text": [
      "Return of the Jedi (1983)\n",
      "Return of the Jedi (1983)\n",
      "Cosine similarity: 1.0\n"
     ]
    }
   ],
   "source": [
    "print_similarity(181, 181, item_embeddings, indexed_items[\"title\"])"
   ]
  },
  {
   "cell_type": "markdown",
   "metadata": {
    "collapsed": false
   },
   "source": [
    "*Quick Exercise*:\n",
    "\n",
    "- Find some other films and compare their similarity. Do the results make sense to you? Can you find a pair of films that are very _dissimilar_?"
   ]
  },
  {
   "cell_type": "code",
   "execution_count": 68,
   "metadata": {
    "collapsed": false
   },
   "outputs": [
    {
     "name": "stdout",
     "output_type": "stream",
     "text": [
      "My Crazy Life (Mi vida loca) (1993)\n",
      "You So Crazy (1994)\n",
      "Cosine similarity: 0.736\n"
     ]
    }
   ],
   "source": [
    "# Code to help you search for a movie title\n",
    "partial_title = \"Jedi\"\n",
    "indexed_items[indexed_items['title'].str.contains(partial_title)]\n",
    "\n",
    "# Your code here\n",
    "partial_title = \"Crazy\"\n",
    "indexed_items[indexed_items['title'].str.contains(partial_title)]\n",
    "\n",
    "print_similarity(1421, 1681, item_embeddings, indexed_items[\"title\"])"
   ]
  },
  {
   "cell_type": "markdown",
   "metadata": {
    "collapsed": false
   },
   "source": [
    "Sometimes, even without knowing anything about a user, we can recommend films by asking them about a film that they do like. The code below compares the similarity of a given film to all others, and returns the most similar films."
   ]
  },
  {
   "cell_type": "code",
   "execution_count": 71,
   "metadata": {},
   "outputs": [
    {
     "data": {
      "text/plain": [
       "[(1421, 'My Crazy Life (Mi vida loca) (1993)', 1.0),\n",
       " (1440, 'Above the Rim (1994)', 0.9315901),\n",
       " (1516, 'Wedding Gift, The (1994)', 0.9287232),\n",
       " (943, 'Killing Zoe (1994)', 0.9243822),\n",
       " (503, 'Candidate, The (1972)', 0.9229096),\n",
       " (1520, 'Fear, The (1995)', 0.92243505),\n",
       " (746, 'Real Genius (1985)', 0.92233515),\n",
       " (1385, \"Roseanna's Grave (For Roseanna) (1997)\", 0.92043567),\n",
       " (617, 'Blue Angel, The (Blaue Engel, Der) (1930)', 0.9196218),\n",
       " (1262, 'Walking and Talking (1996)', 0.9178177)]"
      ]
     },
     "execution_count": 71,
     "metadata": {},
     "output_type": "execute_result"
    }
   ],
   "source": [
    "import numpy as np\n",
    "from sklearn.metrics.pairwise import cosine_similarity\n",
    "import builtins\n",
    "\n",
    "def most_similar(item_id, item_embeddings, titles,\n",
    "                 top_n=30):\n",
    "    # Compute the cosine similarity between the item and all other items\n",
    "    sims = cosine_similarity(item_embeddings[item_id].reshape(1, -1),\n",
    "                             item_embeddings).ravel()\n",
    "    \n",
    "    # [::-1] makes it possible to reverse the order of a numpy\n",
    "    # array, this is required because most similar items have\n",
    "    # a larger cosine similarity value\n",
    "    sorted_indexes = np.argsort(sims)[::-1]\n",
    "    idxs = sorted_indexes[0:top_n]\n",
    "    return list(builtins.zip(idxs, titles[idxs], sims[idxs]))\n",
    "\n",
    "# Find the most similar films to \"Star Wars\"\n",
    "most_similar(1421, item_embeddings, indexed_items[\"title\"], top_n=10)"
   ]
  },
  {
   "cell_type": "code",
   "execution_count": 72,
   "metadata": {},
   "outputs": [
    {
     "data": {
      "text/plain": [
       "[(227, 'Star Trek VI: The Undiscovered Country (1991)', 0.9999999),\n",
       " (230, 'Star Trek IV: The Voyage Home (1986)', 0.90989244),\n",
       " (755, 'Jumanji (1995)', 0.9003637),\n",
       " (228, 'Star Trek: The Wrath of Khan (1982)', 0.89193684),\n",
       " (431, 'Highlander (1986)', 0.89118516),\n",
       " (85, 'Ref, The (1994)', 0.8878993),\n",
       " (186, 'Blues Brothers, The (1980)', 0.88700324),\n",
       " (1596, 'Nemesis 2: Nebula (1995)', 0.8854984),\n",
       " (1269, 'Love in the Afternoon (1957)', 0.88379693),\n",
       " (172, 'Empire Strikes Back, The (1980)', 0.8796411)]"
      ]
     },
     "execution_count": 72,
     "metadata": {},
     "output_type": "execute_result"
    }
   ],
   "source": [
    "# Find the most similar films to \"Star Trek VI: The Undiscovered Country\"\n",
    "most_similar(227, item_embeddings, indexed_items[\"title\"], top_n=10)"
   ]
  },
  {
   "cell_type": "markdown",
   "metadata": {},
   "source": [
    "The similarities do not always make sense: the number of ratings is low and the embedding  does not automatically capture semantic relationships in that context. Better representations arise with higher number of ratings, and less overfitting  in models or maybe better loss function, such as those based on implicit feedback."
   ]
  },
  {
   "cell_type": "markdown",
   "metadata": {},
   "source": [
    "### Visualizing embeddings using TSNE\n",
    "\n",
    "The [t-SNE](https://en.wikipedia.org/wiki/T-distributed_stochastic_neighbor_embedding) algorithm enables us to visualize high dimensional vectors in a 2D space by preserving local neighborhoods. We can use it to get a 2D visualization of the item embeddings and see if similar items are close in the embedding space."
   ]
  },
  {
   "cell_type": "code",
   "execution_count": 73,
   "metadata": {},
   "outputs": [],
   "source": [
    "from sklearn.manifold import TSNE\n",
    "\n",
    "item_tsne = TSNE(learning_rate=\"auto\", init=\"pca\", perplexity=30).fit_transform(item_embeddings)"
   ]
  },
  {
   "cell_type": "code",
   "execution_count": 74,
   "metadata": {},
   "outputs": [
    {
     "data": {
      "image/png": "[encoded data removed]",
      "text/plain": [
       "<Figure size 1000x1000 with 1 Axes>"
      ]
     },
     "metadata": {},
     "output_type": "display_data"
    }
   ],
   "source": [
    "import matplotlib.pyplot as plt\n",
    "\n",
    "plt.figure(figsize=(10, 10))\n",
    "plt.scatter(item_tsne[:, 0], item_tsne[:, 1]);\n",
    "plt.xticks(()); plt.yticks(());\n",
    "plt.show()"
   ]
  },
  {
   "cell_type": "code",
   "execution_count": 83,
   "metadata": {
    "tags": []
   },
   "outputs": [
    {
     "ename": "ValueError",
     "evalue": "Mime type rendering requires nbformat>=4.2.0 but it is not installed",
     "output_type": "error",
     "traceback": [
      "\u001b[1;31m---------------------------------------------------------------------------\u001b[0m",
      "\u001b[1;31mValueError\u001b[0m                                Traceback (most recent call last)",
      "File \u001b[1;32mc:\\Users\\skiev\\AppData\\Local\\Continuum\\envs\\scale2prod\\Lib\\site-packages\\IPython\\core\\formatters.py:925\u001b[0m, in \u001b[0;36mIPythonDisplayFormatter.__call__\u001b[1;34m(self, obj)\u001b[0m\n\u001b[0;32m    923\u001b[0m method \u001b[38;5;241m=\u001b[39m get_real_method(obj, \u001b[38;5;28mself\u001b[39m\u001b[38;5;241m.\u001b[39mprint_method)\n\u001b[0;32m    924\u001b[0m \u001b[38;5;28;01mif\u001b[39;00m method \u001b[38;5;129;01mis\u001b[39;00m \u001b[38;5;129;01mnot\u001b[39;00m \u001b[38;5;28;01mNone\u001b[39;00m:\n\u001b[1;32m--> 925\u001b[0m     \u001b[43mmethod\u001b[49m\u001b[43m(\u001b[49m\u001b[43m)\u001b[49m\n\u001b[0;32m    926\u001b[0m     \u001b[38;5;28;01mreturn\u001b[39;00m \u001b[38;5;28;01mTrue\u001b[39;00m\n",
      "File \u001b[1;32mc:\\Users\\skiev\\AppData\\Local\\Continuum\\envs\\scale2prod\\Lib\\site-packages\\plotly\\basedatatypes.py:832\u001b[0m, in \u001b[0;36mBaseFigure._ipython_display_\u001b[1;34m(self)\u001b[0m\n\u001b[0;32m    829\u001b[0m \u001b[38;5;28;01mimport\u001b[39;00m \u001b[38;5;21;01mplotly\u001b[39;00m\u001b[38;5;21;01m.\u001b[39;00m\u001b[38;5;21;01mio\u001b[39;00m \u001b[38;5;28;01mas\u001b[39;00m \u001b[38;5;21;01mpio\u001b[39;00m\n\u001b[0;32m    831\u001b[0m \u001b[38;5;28;01mif\u001b[39;00m pio\u001b[38;5;241m.\u001b[39mrenderers\u001b[38;5;241m.\u001b[39mrender_on_display \u001b[38;5;129;01mand\u001b[39;00m pio\u001b[38;5;241m.\u001b[39mrenderers\u001b[38;5;241m.\u001b[39mdefault:\n\u001b[1;32m--> 832\u001b[0m     \u001b[43mpio\u001b[49m\u001b[38;5;241;43m.\u001b[39;49m\u001b[43mshow\u001b[49m\u001b[43m(\u001b[49m\u001b[38;5;28;43mself\u001b[39;49m\u001b[43m)\u001b[49m\n\u001b[0;32m    833\u001b[0m \u001b[38;5;28;01melse\u001b[39;00m:\n\u001b[0;32m    834\u001b[0m     \u001b[38;5;28mprint\u001b[39m(\u001b[38;5;28mrepr\u001b[39m(\u001b[38;5;28mself\u001b[39m))\n",
      "File \u001b[1;32mc:\\Users\\skiev\\AppData\\Local\\Continuum\\envs\\scale2prod\\Lib\\site-packages\\plotly\\io\\_renderers.py:394\u001b[0m, in \u001b[0;36mshow\u001b[1;34m(fig, renderer, validate, **kwargs)\u001b[0m\n\u001b[0;32m    389\u001b[0m         \u001b[38;5;28;01mraise\u001b[39;00m \u001b[38;5;167;01mValueError\u001b[39;00m(\n\u001b[0;32m    390\u001b[0m             \u001b[38;5;124m\"\u001b[39m\u001b[38;5;124mMime type rendering requires ipython but it is not installed\u001b[39m\u001b[38;5;124m\"\u001b[39m\n\u001b[0;32m    391\u001b[0m         )\n\u001b[0;32m    393\u001b[0m     \u001b[38;5;28;01mif\u001b[39;00m \u001b[38;5;129;01mnot\u001b[39;00m nbformat \u001b[38;5;129;01mor\u001b[39;00m Version(nbformat\u001b[38;5;241m.\u001b[39m__version__) \u001b[38;5;241m<\u001b[39m Version(\u001b[38;5;124m\"\u001b[39m\u001b[38;5;124m4.2.0\u001b[39m\u001b[38;5;124m\"\u001b[39m):\n\u001b[1;32m--> 394\u001b[0m         \u001b[38;5;28;01mraise\u001b[39;00m \u001b[38;5;167;01mValueError\u001b[39;00m(\n\u001b[0;32m    395\u001b[0m             \u001b[38;5;124m\"\u001b[39m\u001b[38;5;124mMime type rendering requires nbformat>=4.2.0 but it is not installed\u001b[39m\u001b[38;5;124m\"\u001b[39m\n\u001b[0;32m    396\u001b[0m         )\n\u001b[0;32m    398\u001b[0m     ipython_display\u001b[38;5;241m.\u001b[39mdisplay(bundle, raw\u001b[38;5;241m=\u001b[39m\u001b[38;5;28;01mTrue\u001b[39;00m)\n\u001b[0;32m    400\u001b[0m \u001b[38;5;66;03m# external renderers\u001b[39;00m\n",
      "\u001b[1;31mValueError\u001b[0m: Mime type rendering requires nbformat>=4.2.0 but it is not installed"
     ]
    },
    {
     "data": {
      "application/vnd.plotly.v1+json": {
       "config": {
        "plotlyServerURL": "https://plot.ly"
       },
       "data": [
        {
         "customdata": [
          [
           1,
           "Toy Story (1995)",
           452
          ],
          [
           2,
           "GoldenEye (1995)",
           131
          ],
          [
           3,
           "Four Rooms (1995)",
           90
          ],
          [
           4,
           "Get Shorty (1995)",
           209
          ],
          [
           5,
           "Copycat (1995)",
           86
          ],
          [
           6,
           "Shanghai Triad (Yao a yao yao dao waipo qiao) (1995)",
           26
          ],
          [
           7,
           "Twelve Monkeys (1995)",
           392
          ],
          [
           8,
           "Babe (1995)",
           219
          ],
          [
           9,
           "Dead Man Walking (1995)",
           299
          ],
          [
           10,
           "Richard III (1995)",
           89
          ],
          [
           11,
           "Seven (Se7en) (1995)",
           236
          ],
          [
           12,
           "Usual Suspects, The (1995)",
           267
          ],
          [
           13,
           "Mighty Aphrodite (1995)",
           184
          ],
          [
           14,
           "Postino, Il (1994)",
           183
          ],
          [
           15,
           "Mr. Holland's Opus (1995)",
           293
          ],
          [
           16,
           "French Twist (Gazon maudit) (1995)",
           39
          ],
          [
           17,
           "From Dusk Till Dawn (1996)",
           92
          ],
          [
           18,
           "White Balloon, The (1995)",
           10
          ],
          [
           19,
           "Antonia's Line (1995)",
           69
          ],
          [
           20,
           "Angels and Insects (1995)",
           72
          ],
          [
           21,
           "Muppet Treasure Island (1996)",
           84
          ],
          [
           22,
           "Braveheart (1995)",
           297
          ],
          [
           23,
           "Taxi Driver (1976)",
           182
          ],
          [
           24,
           "Rumble in the Bronx (1995)",
           174
          ],
          [
           25,
           "Birdcage, The (1996)",
           293
          ],
          [
           26,
           "Brothers McMullen, The (1995)",
           73
          ],
          [
           27,
           "Bad Boys (1995)",
           57
          ],
          [
           28,
           "Apollo 13 (1995)",
           276
          ],
          [
           29,
           "Batman Forever (1995)",
           114
          ],
          [
           30,
           "Belle de jour (1967)",
           37
          ],
          [
           31,
           "Crimson Tide (1995)",
           154
          ],
          [
           32,
           "Crumb (1994)",
           81
          ],
          [
           33,
           "Desperado (1995)",
           97
          ],
          [
           34,
           "Doom Generation, The (1995)",
           7
          ],
          [
           35,
           "Free Willy 2: The Adventure Home (1995)",
           11
          ],
          [
           36,
           "Mad Love (1995)",
           13
          ],
          [
           37,
           "Nadja (1994)",
           8
          ],
          [
           38,
           "Net, The (1995)",
           120
          ],
          [
           39,
           "Strange Days (1995)",
           87
          ],
          [
           40,
           "To Wong Foo, Thanks for Everything! Julie Newmar (1995)",
           57
          ],
          [
           41,
           "Billy Madison (1995)",
           37
          ],
          [
           42,
           "Clerks (1994)",
           148
          ],
          [
           43,
           "Disclosure (1994)",
           40
          ],
          [
           44,
           "Dolores Claiborne (1994)",
           79
          ],
          [
           45,
           "Eat Drink Man Woman (1994)",
           80
          ],
          [
           46,
           "Exotica (1994)",
           27
          ],
          [
           47,
           "Ed Wood (1994)",
           133
          ],
          [
           48,
           "Hoop Dreams (1994)",
           117
          ],
          [
           49,
           "I.Q. (1994)",
           81
          ],
          [
           50,
           "Star Wars (1977)",
           583
          ],
          [
           51,
           "Legends of the Fall (1994)",
           81
          ],
          [
           52,
           "Madness of King George, The (1994)",
           91
          ],
          [
           53,
           "Natural Born Killers (1994)",
           128
          ],
          [
           54,
           "Outbreak (1995)",
           104
          ],
          [
           55,
           "Professional, The (1994)",
           149
          ],
          [
           56,
           "Pulp Fiction (1994)",
           394
          ],
          [
           57,
           "Priest (1994)",
           40
          ],
          [
           58,
           "Quiz Show (1994)",
           175
          ],
          [
           59,
           "Three Colors: Red (1994)",
           83
          ],
          [
           60,
           "Three Colors: Blue (1993)",
           64
          ],
          [
           61,
           "Three Colors: White (1994)",
           59
          ],
          [
           62,
           "Stargate (1994)",
           127
          ],
          [
           63,
           "Santa Clause, The (1994)",
           82
          ],
          [
           64,
           "Shawshank Redemption, The (1994)",
           283
          ],
          [
           65,
           "What's Eating Gilbert Grape (1993)",
           115
          ],
          [
           66,
           "While You Were Sleeping (1995)",
           162
          ],
          [
           67,
           "Ace Ventura: Pet Detective (1994)",
           103
          ],
          [
           68,
           "Crow, The (1994)",
           134
          ],
          [
           69,
           "Forrest Gump (1994)",
           321
          ],
          [
           70,
           "Four Weddings and a Funeral (1994)",
           251
          ],
          [
           71,
           "Lion King, The (1994)",
           220
          ],
          [
           72,
           "Mask, The (1994)",
           129
          ],
          [
           73,
           "Maverick (1994)",
           128
          ],
          [
           74,
           "Faster Pussycat! Kill! Kill! (1965)",
           7
          ],
          [
           75,
           "Brother Minister: The Assassination of Malcolm X (1994)",
           5
          ],
          [
           76,
           "Carlito's Way (1993)",
           54
          ],
          [
           77,
           "Firm, The (1993)",
           151
          ],
          [
           78,
           "Free Willy (1993)",
           33
          ],
          [
           79,
           "Fugitive, The (1993)",
           336
          ],
          [
           80,
           "Hot Shots! Part Deux (1993)",
           68
          ],
          [
           81,
           "Hudsucker Proxy, The (1994)",
           110
          ],
          [
           82,
           "Jurassic Park (1993)",
           261
          ],
          [
           83,
           "Much Ado About Nothing (1993)",
           176
          ],
          [
           84,
           "Robert A. Heinlein's The Puppet Masters (1994)",
           18
          ],
          [
           85,
           "Ref, The (1994)",
           58
          ],
          [
           86,
           "Remains of the Day, The (1993)",
           150
          ],
          [
           87,
           "Searching for Bobby Fischer (1993)",
           138
          ],
          [
           88,
           "Sleepless in Seattle (1993)",
           213
          ],
          [
           89,
           "Blade Runner (1982)",
           275
          ],
          [
           90,
           "So I Married an Axe Murderer (1993)",
           95
          ],
          [
           91,
           "Nightmare Before Christmas, The (1993)",
           143
          ],
          [
           92,
           "True Romance (1993)",
           104
          ],
          [
           93,
           "Welcome to the Dollhouse (1995)",
           112
          ],
          [
           94,
           "Home Alone (1990)",
           137
          ],
          [
           95,
           "Aladdin (1992)",
           219
          ],
          [
           96,
           "Terminator 2: Judgment Day (1991)",
           295
          ],
          [
           97,
           "Dances with Wolves (1990)",
           256
          ],
          [
           98,
           "Silence of the Lambs, The (1991)",
           390
          ],
          [
           99,
           "Snow White and the Seven Dwarfs (1937)",
           172
          ],
          [
           100,
           "Fargo (1996)",
           508
          ],
          [
           101,
           "Heavy Metal (1981)",
           73
          ],
          [
           102,
           "Aristocats, The (1970)",
           54
          ],
          [
           103,
           "All Dogs Go to Heaven 2 (1996)",
           15
          ],
          [
           104,
           "Theodore Rex (1995)",
           5
          ],
          [
           105,
           "Sgt. Bilko (1996)",
           74
          ],
          [
           106,
           "Diabolique (1996)",
           71
          ],
          [
           107,
           "Moll Flanders (1996)",
           42
          ],
          [
           108,
           "Kids in the Hall: Brain Candy (1996)",
           65
          ],
          [
           109,
           "Mystery Science Theater 3000: The Movie (1996)",
           130
          ],
          [
           110,
           "Operation Dumbo Drop (1995)",
           31
          ],
          [
           111,
           "Truth About Cats & Dogs, The (1996)",
           272
          ],
          [
           112,
           "Flipper (1996)",
           20
          ],
          [
           113,
           "Horseman on the Roof, The (Hussard sur le toit, Le) (1995)",
           9
          ],
          [
           114,
           "Wallace & Gromit: The Best of Aardman Animation (1996)",
           67
          ],
          [
           115,
           "Haunted World of Edward D. Wood Jr., The (1995)",
           15
          ],
          [
           116,
           "Cold Comfort Farm (1995)",
           125
          ],
          [
           117,
           "Rock, The (1996)",
           378
          ],
          [
           118,
           "Twister (1996)",
           293
          ],
          [
           119,
           "Maya Lin: A Strong Clear Vision (1994)",
           4
          ],
          [
           120,
           "Striptease (1996)",
           67
          ],
          [
           121,
           "Independence Day (ID4) (1996)",
           429
          ],
          [
           122,
           "Cable Guy, The (1996)",
           106
          ],
          [
           123,
           "Frighteners, The (1996)",
           115
          ],
          [
           124,
           "Lone Star (1996)",
           187
          ],
          [
           125,
           "Phenomenon (1996)",
           244
          ],
          [
           126,
           "Spitfire Grill, The (1996)",
           97
          ],
          [
           127,
           "Godfather, The (1972)",
           413
          ],
          [
           128,
           "Supercop (1992)",
           65
          ],
          [
           129,
           "Bound (1996)",
           129
          ],
          [
           130,
           "Kansas City (1996)",
           23
          ],
          [
           131,
           "Breakfast at Tiffany's (1961)",
           95
          ],
          [
           132,
           "Wizard of Oz, The (1939)",
           246
          ],
          [
           133,
           "Gone with the Wind (1939)",
           171
          ],
          [
           134,
           "Citizen Kane (1941)",
           198
          ],
          [
           135,
           "2001: A Space Odyssey (1968)",
           259
          ],
          [
           136,
           "Mr. Smith Goes to Washington (1939)",
           105
          ],
          [
           137,
           "Big Night (1996)",
           171
          ],
          [
           138,
           "D3: The Mighty Ducks (1996)",
           19
          ],
          [
           139,
           "Love Bug, The (1969)",
           50
          ],
          [
           140,
           "Homeward Bound: The Incredible Journey (1993)",
           61
          ],
          [
           141,
           "20,000 Leagues Under the Sea (1954)",
           72
          ],
          [
           142,
           "Bedknobs and Broomsticks (1971)",
           57
          ],
          [
           143,
           "Sound of Music, The (1965)",
           222
          ],
          [
           144,
           "Die Hard (1988)",
           243
          ],
          [
           145,
           "Lawnmower Man, The (1992)",
           65
          ],
          [
           146,
           "Unhook the Stars (1996)",
           10
          ],
          [
           147,
           "Long Kiss Goodnight, The (1996)",
           185
          ],
          [
           148,
           "Ghost and the Darkness, The (1996)",
           128
          ],
          [
           149,
           "Jude (1996)",
           23
          ],
          [
           150,
           "Swingers (1996)",
           157
          ],
          [
           151,
           "Willy Wonka and the Chocolate Factory (1971)",
           326
          ],
          [
           152,
           "Sleeper (1973)",
           82
          ],
          [
           153,
           "Fish Called Wanda, A (1988)",
           247
          ],
          [
           154,
           "Monty Python's Life of Brian (1979)",
           174
          ],
          [
           155,
           "Dirty Dancing (1987)",
           98
          ],
          [
           156,
           "Reservoir Dogs (1992)",
           148
          ],
          [
           157,
           "Platoon (1986)",
           127
          ],
          [
           158,
           "Weekend at Bernie's (1989)",
           60
          ],
          [
           159,
           "Basic Instinct (1992)",
           101
          ],
          [
           160,
           "Glengarry Glen Ross (1992)",
           69
          ],
          [
           161,
           "Top Gun (1986)",
           220
          ],
          [
           162,
           "On Golden Pond (1981)",
           106
          ],
          [
           163,
           "Return of the Pink Panther, The (1974)",
           92
          ],
          [
           164,
           "Abyss, The (1989)",
           151
          ],
          [
           165,
           "Jean de Florette (1986)",
           64
          ],
          [
           166,
           "Manon of the Spring (Manon des sources) (1986)",
           58
          ],
          [
           167,
           "Private Benjamin (1980)",
           67
          ],
          [
           168,
           "Monty Python and the Holy Grail (1974)",
           316
          ],
          [
           169,
           "Wrong Trousers, The (1993)",
           118
          ],
          [
           170,
           "Cinema Paradiso (1988)",
           121
          ],
          [
           171,
           "Delicatessen (1991)",
           65
          ],
          [
           172,
           "Empire Strikes Back, The (1980)",
           367
          ],
          [
           173,
           "Princess Bride, The (1987)",
           324
          ],
          [
           174,
           "Raiders of the Lost Ark (1981)",
           420
          ],
          [
           175,
           "Brazil (1985)",
           208
          ],
          [
           176,
           "Aliens (1986)",
           284
          ],
          [
           177,
           "Good, The Bad and The Ugly, The (1966)",
           137
          ],
          [
           178,
           "12 Angry Men (1957)",
           125
          ],
          [
           179,
           "Clockwork Orange, A (1971)",
           221
          ],
          [
           180,
           "Apocalypse Now (1979)",
           221
          ],
          [
           181,
           "Return of the Jedi (1983)",
           507
          ],
          [
           182,
           "GoodFellas (1990)",
           226
          ],
          [
           183,
           "Alien (1979)",
           291
          ],
          [
           184,
           "Army of Darkness (1993)",
           116
          ],
          [
           185,
           "Psycho (1960)",
           239
          ],
          [
           186,
           "Blues Brothers, The (1980)",
           251
          ],
          [
           187,
           "Godfather: Part II, The (1974)",
           209
          ],
          [
           188,
           "Full Metal Jacket (1987)",
           170
          ],
          [
           189,
           "Grand Day Out, A (1992)",
           66
          ],
          [
           190,
           "Henry V (1989)",
           124
          ],
          [
           191,
           "Amadeus (1984)",
           276
          ],
          [
           192,
           "Raging Bull (1980)",
           116
          ],
          [
           193,
           "Right Stuff, The (1983)",
           157
          ],
          [
           194,
           "Sting, The (1973)",
           241
          ],
          [
           195,
           "Terminator, The (1984)",
           301
          ],
          [
           196,
           "Dead Poets Society (1989)",
           251
          ],
          [
           197,
           "Graduate, The (1967)",
           239
          ],
          [
           198,
           "Nikita (La Femme Nikita) (1990)",
           127
          ],
          [
           199,
           "Bridge on the River Kwai, The (1957)",
           165
          ],
          [
           200,
           "Shining, The (1980)",
           206
          ],
          [
           201,
           "Evil Dead II (1987)",
           89
          ],
          [
           202,
           "Groundhog Day (1993)",
           280
          ],
          [
           203,
           "Unforgiven (1992)",
           182
          ],
          [
           204,
           "Back to the Future (1985)",
           350
          ],
          [
           205,
           "Patton (1970)",
           136
          ],
          [
           206,
           "Akira (1988)",
           50
          ],
          [
           207,
           "Cyrano de Bergerac (1990)",
           66
          ],
          [
           208,
           "Young Frankenstein (1974)",
           200
          ],
          [
           209,
           "This Is Spinal Tap (1984)",
           191
          ],
          [
           210,
           "Indiana Jones and the Last Crusade (1989)",
           331
          ],
          [
           211,
           "M*A*S*H (1970)",
           206
          ],
          [
           212,
           "Unbearable Lightness of Being, The (1988)",
           92
          ],
          [
           213,
           "Room with a View, A (1986)",
           134
          ],
          [
           214,
           "Pink Floyd - The Wall (1982)",
           114
          ],
          [
           215,
           "Field of Dreams (1989)",
           212
          ],
          [
           216,
           "When Harry Met Sally... (1989)",
           290
          ],
          [
           217,
           "Bram Stoker's Dracula (1992)",
           120
          ],
          [
           218,
           "Cape Fear (1991)",
           171
          ],
          [
           219,
           "Nightmare on Elm Street, A (1984)",
           111
          ],
          [
           220,
           "Mirror Has Two Faces, The (1996)",
           66
          ],
          [
           221,
           "Breaking the Waves (1996)",
           74
          ],
          [
           222,
           "Star Trek: First Contact (1996)",
           365
          ],
          [
           223,
           "Sling Blade (1996)",
           136
          ],
          [
           224,
           "Ridicule (1996)",
           44
          ],
          [
           225,
           "101 Dalmatians (1996)",
           109
          ],
          [
           226,
           "Die Hard 2 (1990)",
           166
          ],
          [
           227,
           "Star Trek VI: The Undiscovered Country (1991)",
           161
          ],
          [
           228,
           "Star Trek: The Wrath of Khan (1982)",
           244
          ],
          [
           229,
           "Star Trek III: The Search for Spock (1984)",
           171
          ],
          [
           230,
           "Star Trek IV: The Voyage Home (1986)",
           199
          ],
          [
           231,
           "Batman Returns (1992)",
           142
          ],
          [
           232,
           "Young Guns (1988)",
           101
          ],
          [
           233,
           "Under Siege (1992)",
           124
          ],
          [
           234,
           "Jaws (1975)",
           280
          ],
          [
           235,
           "Mars Attacks! (1996)",
           217
          ],
          [
           236,
           "Citizen Ruth (1996)",
           45
          ],
          [
           237,
           "Jerry Maguire (1996)",
           384
          ],
          [
           238,
           "Raising Arizona (1987)",
           256
          ],
          [
           239,
           "Sneakers (1992)",
           150
          ],
          [
           240,
           "Beavis and Butt-head Do America (1996)",
           156
          ],
          [
           241,
           "Last of the Mohicans, The (1992)",
           128
          ],
          [
           242,
           "Kolya (1996)",
           117
          ],
          [
           243,
           "Jungle2Jungle (1997)",
           132
          ],
          [
           244,
           "Smilla's Sense of Snow (1997)",
           48
          ],
          [
           245,
           "Devil's Own, The (1997)",
           240
          ],
          [
           246,
           "Chasing Amy (1997)",
           124
          ],
          [
           247,
           "Turbo: A Power Rangers Movie (1997)",
           5
          ],
          [
           248,
           "Grosse Pointe Blank (1997)",
           160
          ],
          [
           249,
           "Austin Powers: International Man of Mystery (1997)",
           130
          ],
          [
           250,
           "Fifth Element, The (1997)",
           197
          ],
          [
           251,
           "Shall We Dance? (1996)",
           46
          ],
          [
           252,
           "Lost World: Jurassic Park, The (1997)",
           158
          ],
          [
           253,
           "Pillow Book, The (1995)",
           26
          ],
          [
           254,
           "Batman & Robin (1997)",
           62
          ],
          [
           255,
           "My Best Friend's Wedding (1997)",
           172
          ],
          [
           256,
           "When the Cats Away (Chacun cherche son chat) (1996)",
           16
          ],
          [
           257,
           "Men in Black (1997)",
           303
          ],
          [
           258,
           "Contact (1997)",
           509
          ],
          [
           259,
           "George of the Jungle (1997)",
           162
          ],
          [
           260,
           "Event Horizon (1997)",
           127
          ],
          [
           261,
           "Air Bud (1997)",
           43
          ],
          [
           262,
           "In the Company of Men (1997)",
           66
          ],
          [
           263,
           "Steel (1997)",
           19
          ],
          [
           264,
           "Mimic (1997)",
           101
          ],
          [
           265,
           "Hunt for Red October, The (1990)",
           227
          ],
          [
           266,
           "Kull the Conqueror (1997)",
           35
          ],
          [
           267,
           "unknown",
           9
          ],
          [
           268,
           "Chasing Amy (1997)",
           255
          ],
          [
           269,
           "Full Monty, The (1997)",
           315
          ],
          [
           270,
           "Gattaca (1997)",
           136
          ],
          [
           271,
           "Starship Troopers (1997)",
           211
          ],
          [
           272,
           "Good Will Hunting (1997)",
           198
          ],
          [
           273,
           "Heat (1995)",
           223
          ],
          [
           274,
           "Sabrina (1995)",
           190
          ],
          [
           275,
           "Sense and Sensibility (1995)",
           268
          ],
          [
           276,
           "Leaving Las Vegas (1995)",
           298
          ],
          [
           277,
           "Restoration (1995)",
           71
          ],
          [
           278,
           "Bed of Roses (1996)",
           60
          ],
          [
           279,
           "Once Upon a Time... When We Were Colored (1995)",
           28
          ],
          [
           280,
           "Up Close and Personal (1996)",
           85
          ],
          [
           281,
           "River Wild, The (1994)",
           146
          ],
          [
           282,
           "Time to Kill, A (1996)",
           232
          ],
          [
           283,
           "Emma (1996)",
           177
          ],
          [
           284,
           "Tin Cup (1996)",
           193
          ],
          [
           285,
           "Secrets & Lies (1996)",
           162
          ],
          [
           286,
           "English Patient, The (1996)",
           481
          ],
          [
           287,
           "Marvin's Room (1996)",
           78
          ],
          [
           288,
           "Scream (1996)",
           478
          ],
          [
           289,
           "Evita (1996)",
           259
          ],
          [
           290,
           "Fierce Creatures (1997)",
           96
          ],
          [
           291,
           "Absolute Power (1997)",
           127
          ],
          [
           292,
           "Rosewood (1997)",
           114
          ],
          [
           293,
           "Donnie Brasco (1997)",
           147
          ],
          [
           294,
           "Liar Liar (1997)",
           485
          ],
          [
           295,
           "Breakdown (1997)",
           77
          ],
          [
           296,
           "Promesse, La (1996)",
           6
          ],
          [
           297,
           "Ulee's Gold (1997)",
           50
          ],
          [
           298,
           "Face/Off (1997)",
           194
          ],
          [
           299,
           "Hoodlum (1997)",
           73
          ],
          [
           300,
           "Air Force One (1997)",
           431
          ],
          [
           301,
           "In & Out (1997)",
           230
          ],
          [
           302,
           "L.A. Confidential (1997)",
           297
          ],
          [
           303,
           "Ulee's Gold (1997)",
           134
          ],
          [
           304,
           "Fly Away Home (1996)",
           149
          ],
          [
           305,
           "Ice Storm, The (1997)",
           87
          ],
          [
           306,
           "Mrs. Brown (Her Majesty, Mrs. Brown) (1997)",
           96
          ],
          [
           307,
           "Devil's Advocate, The (1997)",
           188
          ],
          [
           308,
           "FairyTale: A True Story (1997)",
           30
          ],
          [
           309,
           "Deceiver (1997)",
           28
          ],
          [
           310,
           "Rainmaker, The (1997)",
           145
          ],
          [
           311,
           "Wings of the Dove, The (1997)",
           75
          ],
          [
           312,
           "Midnight in the Garden of Good and Evil (1997)",
           80
          ],
          [
           313,
           "Titanic (1997)",
           350
          ],
          [
           314,
           "3 Ninjas: High Noon At Mega Mountain (1998)",
           5
          ],
          [
           315,
           "Apt Pupil (1998)",
           160
          ],
          [
           316,
           "As Good As It Gets (1997)",
           112
          ],
          [
           317,
           "In the Name of the Father (1993)",
           102
          ],
          [
           318,
           "Schindler's List (1993)",
           298
          ],
          [
           319,
           "Everyone Says I Love You (1996)",
           168
          ],
          [
           320,
           "Paradise Lost: The Child Murders at Robin Hood Hills (1996)",
           20
          ],
          [
           321,
           "Mother (1996)",
           169
          ],
          [
           322,
           "Murder at 1600 (1997)",
           218
          ],
          [
           323,
           "Dante's Peak (1997)",
           240
          ],
          [
           324,
           "Lost Highway (1997)",
           125
          ],
          [
           325,
           "Crash (1996)",
           128
          ],
          [
           326,
           "G.I. Jane (1997)",
           175
          ],
          [
           327,
           "Cop Land (1997)",
           175
          ],
          [
           328,
           "Conspiracy Theory (1997)",
           295
          ],
          [
           329,
           "Desperate Measures (1998)",
           45
          ],
          [
           330,
           "187 (1997)",
           41
          ],
          [
           331,
           "Edge, The (1997)",
           113
          ],
          [
           332,
           "Kiss the Girls (1997)",
           143
          ],
          [
           333,
           "Game, The (1997)",
           251
          ],
          [
           334,
           "U Turn (1997)",
           64
          ],
          [
           335,
           "How to Be a Player (1997)",
           21
          ],
          [
           336,
           "Playing God (1997)",
           43
          ],
          [
           337,
           "House of Yes, The (1997)",
           18
          ],
          [
           338,
           "Bean (1997)",
           91
          ],
          [
           339,
           "Mad City (1997)",
           47
          ],
          [
           340,
           "Boogie Nights (1997)",
           189
          ],
          [
           341,
           "Critical Care (1997)",
           11
          ],
          [
           342,
           "Man Who Knew Too Little, The (1997)",
           52
          ],
          [
           343,
           "Alien: Resurrection (1997)",
           124
          ],
          [
           344,
           "Apostle, The (1997)",
           55
          ],
          [
           345,
           "Deconstructing Harry (1997)",
           65
          ],
          [
           346,
           "Jackie Brown (1997)",
           126
          ],
          [
           347,
           "Wag the Dog (1997)",
           137
          ],
          [
           348,
           "Desperate Measures (1998)",
           27
          ],
          [
           349,
           "Hard Rain (1998)",
           31
          ],
          [
           350,
           "Fallen (1998)",
           41
          ],
          [
           351,
           "Prophecy II, The (1998)",
           20
          ],
          [
           352,
           "Spice World (1997)",
           26
          ],
          [
           353,
           "Deep Rising (1998)",
           14
          ],
          [
           354,
           "Wedding Singer, The (1998)",
           72
          ],
          [
           355,
           "Sphere (1998)",
           41
          ],
          [
           356,
           "Client, The (1994)",
           97
          ],
          [
           357,
           "One Flew Over the Cuckoo's Nest (1975)",
           264
          ],
          [
           358,
           "Spawn (1997)",
           143
          ],
          [
           359,
           "Assignment, The (1997)",
           18
          ],
          [
           360,
           "Wonderland (1997)",
           10
          ],
          [
           361,
           "Incognito (1997)",
           10
          ],
          [
           362,
           "Blues Brothers 2000 (1998)",
           28
          ],
          [
           363,
           "Sudden Death (1995)",
           47
          ],
          [
           364,
           "Ace Ventura: When Nature Calls (1995)",
           37
          ],
          [
           365,
           "Powder (1995)",
           48
          ],
          [
           366,
           "Dangerous Minds (1995)",
           47
          ],
          [
           367,
           "Clueless (1995)",
           170
          ],
          [
           368,
           "Bio-Dome (1996)",
           31
          ],
          [
           369,
           "Black Sheep (1996)",
           55
          ],
          [
           370,
           "Mary Reilly (1996)",
           39
          ],
          [
           371,
           "Bridges of Madison County, The (1995)",
           67
          ],
          [
           372,
           "Jeffrey (1995)",
           34
          ],
          [
           373,
           "Judge Dredd (1995)",
           39
          ],
          [
           374,
           "Mighty Morphin Power Rangers: The Movie (1995)",
           11
          ],
          [
           375,
           "Showgirls (1995)",
           23
          ],
          [
           376,
           "Houseguest (1994)",
           24
          ],
          [
           377,
           "Heavyweights (1994)",
           13
          ],
          [
           378,
           "Miracle on 34th Street (1994)",
           101
          ],
          [
           379,
           "Tales From the Crypt Presents: Demon Knight (1995)",
           43
          ],
          [
           380,
           "Star Trek: Generations (1994)",
           116
          ],
          [
           381,
           "Muriel's Wedding (1994)",
           100
          ],
          [
           382,
           "Adventures of Priscilla, Queen of the Desert, The (1994)",
           111
          ],
          [
           383,
           "Flintstones, The (1994)",
           31
          ],
          [
           384,
           "Naked Gun 33 1/3: The Final Insult (1994)",
           69
          ],
          [
           385,
           "True Lies (1994)",
           208
          ],
          [
           386,
           "Addams Family Values (1993)",
           87
          ],
          [
           387,
           "Age of Innocence, The (1993)",
           65
          ],
          [
           388,
           "Beverly Hills Cop III (1994)",
           28
          ],
          [
           389,
           "Black Beauty (1994)",
           27
          ],
          [
           390,
           "Fear of a Black Hat (1993)",
           10
          ],
          [
           391,
           "Last Action Hero (1993)",
           59
          ],
          [
           392,
           "Man Without a Face, The (1993)",
           68
          ],
          [
           393,
           "Mrs. Doubtfire (1993)",
           192
          ],
          [
           394,
           "Radioland Murders (1994)",
           12
          ],
          [
           395,
           "Robin Hood: Men in Tights (1993)",
           56
          ],
          [
           396,
           "Serial Mom (1994)",
           54
          ],
          [
           397,
           "Striking Distance (1993)",
           12
          ],
          [
           398,
           "Super Mario Bros. (1993)",
           26
          ],
          [
           399,
           "Three Musketeers, The (1993)",
           89
          ],
          [
           400,
           "Little Rascals, The (1994)",
           18
          ],
          [
           401,
           "Brady Bunch Movie, The (1995)",
           76
          ],
          [
           402,
           "Ghost (1990)",
           170
          ],
          [
           403,
           "Batman (1989)",
           201
          ],
          [
           404,
           "Pinocchio (1940)",
           101
          ],
          [
           405,
           "Mission: Impossible (1996)",
           344
          ],
          [
           406,
           "Thinner (1996)",
           49
          ],
          [
           407,
           "Spy Hard (1996)",
           43
          ],
          [
           408,
           "Close Shave, A (1995)",
           112
          ],
          [
           409,
           "Jack (1996)",
           70
          ],
          [
           410,
           "Kingpin (1996)",
           162
          ],
          [
           411,
           "Nutty Professor, The (1996)",
           163
          ],
          [
           412,
           "Very Brady Sequel, A (1996)",
           93
          ],
          [
           413,
           "Tales from the Crypt Presents: Bordello of Blood (1996)",
           55
          ],
          [
           414,
           "My Favorite Year (1982)",
           62
          ],
          [
           415,
           "Apple Dumpling Gang, The (1975)",
           25
          ],
          [
           416,
           "Old Yeller (1957)",
           64
          ],
          [
           417,
           "Parent Trap, The (1961)",
           73
          ],
          [
           418,
           "Cinderella (1950)",
           129
          ],
          [
           419,
           "Mary Poppins (1964)",
           178
          ],
          [
           420,
           "Alice in Wonderland (1951)",
           81
          ],
          [
           421,
           "William Shakespeare's Romeo and Juliet (1996)",
           106
          ],
          [
           422,
           "Aladdin and the King of Thieves (1996)",
           26
          ],
          [
           423,
           "E.T. the Extra-Terrestrial (1982)",
           300
          ],
          [
           424,
           "Children of the Corn: The Gathering (1996)",
           19
          ],
          [
           425,
           "Bob Roberts (1992)",
           85
          ],
          [
           426,
           "Transformers: The Movie, The (1986)",
           32
          ],
          [
           427,
           "To Kill a Mockingbird (1962)",
           219
          ],
          [
           428,
           "Harold and Maude (1971)",
           121
          ],
          [
           429,
           "Day the Earth Stood Still, The (1951)",
           97
          ],
          [
           430,
           "Duck Soup (1933)",
           93
          ],
          [
           431,
           "Highlander (1986)",
           153
          ],
          [
           432,
           "Fantasia (1940)",
           174
          ],
          [
           433,
           "Heathers (1989)",
           171
          ],
          [
           434,
           "Forbidden Planet (1956)",
           67
          ],
          [
           435,
           "Butch Cassidy and the Sundance Kid (1969)",
           216
          ],
          [
           436,
           "American Werewolf in London, An (1981)",
           99
          ],
          [
           437,
           "Amityville 1992: It's About Time (1992)",
           5
          ],
          [
           438,
           "Amityville 3-D (1983)",
           6
          ],
          [
           439,
           "Amityville: A New Generation (1993)",
           5
          ],
          [
           440,
           "Amityville II: The Possession (1982)",
           14
          ],
          [
           441,
           "Amityville Horror, The (1979)",
           53
          ],
          [
           442,
           "Amityville Curse, The (1990)",
           4
          ],
          [
           443,
           "Birds, The (1963)",
           162
          ],
          [
           444,
           "Blob, The (1958)",
           46
          ],
          [
           445,
           "Body Snatcher, The (1945)",
           22
          ],
          [
           446,
           "Burnt Offerings (1976)",
           9
          ],
          [
           447,
           "Carrie (1976)",
           121
          ],
          [
           448,
           "Omen, The (1976)",
           85
          ],
          [
           449,
           "Star Trek: The Motion Picture (1979)",
           117
          ],
          [
           450,
           "Star Trek V: The Final Frontier (1989)",
           63
          ],
          [
           451,
           "Grease (1978)",
           170
          ],
          [
           452,
           "Jaws 2 (1978)",
           66
          ],
          [
           453,
           "Jaws 3-D (1983)",
           16
          ],
          [
           454,
           "Bastard Out of Carolina (1996)",
           16
          ],
          [
           455,
           "Jackie Chan's First Strike (1996)",
           145
          ],
          [
           456,
           "Beverly Hills Ninja (1997)",
           48
          ],
          [
           457,
           "Free Willy 3: The Rescue (1997)",
           27
          ],
          [
           458,
           "Nixon (1995)",
           90
          ],
          [
           459,
           "Cry, the Beloved Country (1995)",
           24
          ],
          [
           460,
           "Crossing Guard, The (1995)",
           28
          ],
          [
           461,
           "Smoke (1995)",
           74
          ],
          [
           462,
           "Like Water For Chocolate (Como agua para chocolate) (1992)",
           148
          ],
          [
           463,
           "Secret of Roan Inish, The (1994)",
           71
          ],
          [
           464,
           "Vanya on 42nd Street (1994)",
           27
          ],
          [
           465,
           "Jungle Book, The (1994)",
           85
          ],
          [
           466,
           "Red Rock West (1992)",
           52
          ],
          [
           467,
           "Bronx Tale, A (1993)",
           48
          ],
          [
           468,
           "Rudy (1993)",
           64
          ],
          [
           469,
           "Short Cuts (1993)",
           67
          ],
          [
           470,
           "Tombstone (1993)",
           108
          ],
          [
           471,
           "Courage Under Fire (1996)",
           221
          ],
          [
           472,
           "Dragonheart (1996)",
           158
          ],
          [
           473,
           "James and the Giant Peach (1996)",
           126
          ],
          [
           474,
           "Dr. Strangelove or: How I Learned to Stop Worrying and Love the Bomb (1963)",
           194
          ],
          [
           475,
           "Trainspotting (1996)",
           250
          ],
          [
           476,
           "First Wives Club, The (1996)",
           160
          ],
          [
           477,
           "Matilda (1996)",
           95
          ],
          [
           478,
           "Philadelphia Story, The (1940)",
           104
          ],
          [
           479,
           "Vertigo (1958)",
           179
          ],
          [
           480,
           "North by Northwest (1959)",
           179
          ],
          [
           481,
           "Apartment, The (1960)",
           63
          ],
          [
           482,
           "Some Like It Hot (1959)",
           128
          ],
          [
           483,
           "Casablanca (1942)",
           243
          ],
          [
           484,
           "Maltese Falcon, The (1941)",
           138
          ],
          [
           485,
           "My Fair Lady (1964)",
           125
          ],
          [
           486,
           "Sabrina (1954)",
           64
          ],
          [
           487,
           "Roman Holiday (1953)",
           68
          ],
          [
           488,
           "Sunset Blvd. (1950)",
           65
          ],
          [
           489,
           "Notorious (1946)",
           52
          ],
          [
           490,
           "To Catch a Thief (1955)",
           50
          ],
          [
           491,
           "Adventures of Robin Hood, The (1938)",
           67
          ],
          [
           492,
           "East of Eden (1955)",
           59
          ],
          [
           493,
           "Thin Man, The (1934)",
           60
          ],
          [
           494,
           "His Girl Friday (1940)",
           56
          ],
          [
           495,
           "Around the World in 80 Days (1956)",
           59
          ],
          [
           496,
           "It's a Wonderful Life (1946)",
           231
          ],
          [
           497,
           "Bringing Up Baby (1938)",
           68
          ],
          [
           498,
           "African Queen, The (1951)",
           152
          ],
          [
           499,
           "Cat on a Hot Tin Roof (1958)",
           62
          ],
          [
           500,
           "Fly Away Home (1996)",
           31
          ],
          [
           501,
           "Dumbo (1941)",
           123
          ],
          [
           502,
           "Bananas (1971)",
           57
          ],
          [
           503,
           "Candidate, The (1972)",
           39
          ],
          [
           504,
           "Bonnie and Clyde (1967)",
           122
          ],
          [
           505,
           "Dial M for Murder (1954)",
           68
          ],
          [
           506,
           "Rebel Without a Cause (1955)",
           90
          ],
          [
           507,
           "Streetcar Named Desire, A (1951)",
           98
          ],
          [
           508,
           "People vs. Larry Flynt, The (1996)",
           215
          ],
          [
           509,
           "My Left Foot (1989)",
           121
          ],
          [
           510,
           "Magnificent Seven, The (1954)",
           121
          ],
          [
           511,
           "Lawrence of Arabia (1962)",
           173
          ],
          [
           512,
           "Wings of Desire (1987)",
           57
          ],
          [
           513,
           "Third Man, The (1949)",
           72
          ],
          [
           514,
           "Annie Hall (1977)",
           180
          ],
          [
           515,
           "Boot, Das (1981)",
           201
          ],
          [
           516,
           "Local Hero (1983)",
           63
          ],
          [
           517,
           "Manhattan (1979)",
           91
          ],
          [
           518,
           "Miller's Crossing (1990)",
           89
          ],
          [
           519,
           "Treasure of the Sierra Madre, The (1948)",
           80
          ],
          [
           520,
           "Great Escape, The (1963)",
           124
          ],
          [
           521,
           "Deer Hunter, The (1978)",
           120
          ],
          [
           522,
           "Down by Law (1986)",
           35
          ],
          [
           523,
           "Cool Hand Luke (1967)",
           164
          ],
          [
           524,
           "Great Dictator, The (1940)",
           46
          ],
          [
           525,
           "Big Sleep, The (1946)",
           73
          ],
          [
           526,
           "Ben-Hur (1959)",
           124
          ],
          [
           527,
           "Gandhi (1982)",
           195
          ],
          [
           528,
           "Killing Fields, The (1984)",
           121
          ],
          [
           529,
           "My Life as a Dog (Mitt liv som hund) (1985)",
           93
          ],
          [
           530,
           "Man Who Would Be King, The (1975)",
           80
          ],
          [
           531,
           "Shine (1996)",
           129
          ],
          [
           532,
           "Kama Sutra: A Tale of Love (1996)",
           22
          ],
          [
           533,
           "Daytrippers, The (1996)",
           15
          ],
          [
           534,
           "Traveller (1997)",
           13
          ],
          [
           535,
           "Addicted to Love (1997)",
           54
          ],
          [
           536,
           "Ponette (1996)",
           10
          ],
          [
           537,
           "My Own Private Idaho (1991)",
           30
          ],
          [
           538,
           "Anastasia (1997)",
           66
          ],
          [
           539,
           "Mouse Hunt (1997)",
           44
          ],
          [
           540,
           "Money Train (1995)",
           43
          ],
          [
           541,
           "Mortal Kombat (1995)",
           49
          ],
          [
           542,
           "Pocahontas (1995)",
           51
          ],
          [
           543,
           "Misérables, Les (1995)",
           21
          ],
          [
           544,
           "Things to Do in Denver when You're Dead (1995)",
           71
          ],
          [
           545,
           "Vampire in Brooklyn (1995)",
           12
          ],
          [
           546,
           "Broken Arrow (1996)",
           254
          ],
          [
           547,
           "Young Poisoner's Handbook, The (1995)",
           41
          ],
          [
           548,
           "NeverEnding Story III, The (1994)",
           12
          ],
          [
           549,
           "Rob Roy (1995)",
           92
          ],
          [
           550,
           "Die Hard: With a Vengeance (1995)",
           151
          ],
          [
           551,
           "Lord of Illusions (1995)",
           24
          ],
          [
           552,
           "Species (1995)",
           45
          ],
          [
           553,
           "Walk in the Clouds, A (1995)",
           63
          ],
          [
           554,
           "Waterworld (1995)",
           102
          ],
          [
           555,
           "White Man's Burden (1995)",
           10
          ],
          [
           556,
           "Wild Bill (1995)",
           12
          ],
          [
           557,
           "Farinelli: il castrato (1994)",
           17
          ],
          [
           558,
           "Heavenly Creatures (1994)",
           70
          ],
          [
           559,
           "Interview with the Vampire (1994)",
           137
          ],
          [
           560,
           "Kid in King Arthur's Court, A (1995)",
           22
          ],
          [
           561,
           "Mary Shelley's Frankenstein (1994)",
           59
          ],
          [
           562,
           "Quick and the Dead, The (1995)",
           48
          ],
          [
           563,
           "Stephen King's The Langoliers (1995)",
           29
          ],
          [
           564,
           "Tales from the Hood (1995)",
           27
          ],
          [
           565,
           "Village of the Damned (1995)",
           22
          ],
          [
           566,
           "Clear and Present Danger (1994)",
           179
          ],
          [
           567,
           "Wes Craven's New Nightmare (1994)",
           35
          ],
          [
           568,
           "Speed (1994)",
           230
          ],
          [
           569,
           "Wolf (1994)",
           67
          ],
          [
           570,
           "Wyatt Earp (1994)",
           50
          ],
          [
           571,
           "Another Stakeout (1993)",
           28
          ],
          [
           572,
           "Blown Away (1994)",
           29
          ],
          [
           573,
           "Body Snatchers (1993)",
           33
          ],
          [
           574,
           "Boxing Helena (1993)",
           15
          ],
          [
           575,
           "City Slickers II: The Legend of Curly's Gold (1994)",
           44
          ],
          [
           576,
           "Cliffhanger (1993)",
           93
          ],
          [
           577,
           "Coneheads (1993)",
           41
          ],
          [
           578,
           "Demolition Man (1993)",
           92
          ],
          [
           579,
           "Fatal Instinct (1993)",
           19
          ],
          [
           580,
           "Englishman Who Went Up a Hill, But Came Down a Mountain, The (1995)",
           32
          ],
          [
           581,
           "Kalifornia (1993)",
           59
          ],
          [
           582,
           "Piano, The (1993)",
           168
          ],
          [
           583,
           "Romeo Is Bleeding (1993)",
           37
          ],
          [
           584,
           "Secret Garden, The (1993)",
           79
          ],
          [
           585,
           "Son in Law (1993)",
           39
          ],
          [
           586,
           "Terminal Velocity (1994)",
           34
          ],
          [
           587,
           "Hour of the Pig, The (1993)",
           14
          ],
          [
           588,
           "Beauty and the Beast (1991)",
           202
          ],
          [
           589,
           "Wild Bunch, The (1969)",
           43
          ],
          [
           590,
           "Hellraiser: Bloodline (1996)",
           18
          ],
          [
           591,
           "Primal Fear (1996)",
           178
          ],
          [
           592,
           "True Crime (1995)",
           9
          ],
          [
           593,
           "Stalingrad (1993)",
           12
          ],
          [
           594,
           "Heavy (1995)",
           5
          ],
          [
           595,
           "Fan, The (1996)",
           64
          ],
          [
           596,
           "Hunchback of Notre Dame, The (1996)",
           127
          ],
          [
           597,
           "Eraser (1996)",
           206
          ],
          [
           598,
           "Big Squeeze, The (1996)",
           4
          ],
          [
           599,
           "Police Story 4: Project S (Chao ji ji hua) (1993)",
           1
          ],
          [
           600,
           "Daniel Defoe's Robinson Crusoe (1996)",
           2
          ],
          [
           601,
           "For Whom the Bell Tolls (1943)",
           20
          ],
          [
           602,
           "American in Paris, An (1951)",
           50
          ],
          [
           603,
           "Rear Window (1954)",
           209
          ],
          [
           604,
           "It Happened One Night (1934)",
           81
          ],
          [
           605,
           "Meet Me in St. Louis (1944)",
           31
          ],
          [
           606,
           "All About Eve (1950)",
           66
          ],
          [
           607,
           "Rebecca (1940)",
           66
          ],
          [
           608,
           "Spellbound (1945)",
           30
          ],
          [
           609,
           "Father of the Bride (1950)",
           60
          ],
          [
           610,
           "Gigi (1958)",
           41
          ],
          [
           611,
           "Laura (1944)",
           40
          ],
          [
           612,
           "Lost Horizon (1937)",
           34
          ],
          [
           613,
           "My Man Godfrey (1936)",
           27
          ],
          [
           614,
           "Giant (1956)",
           51
          ],
          [
           615,
           "39 Steps, The (1935)",
           59
          ],
          [
           616,
           "Night of the Living Dead (1968)",
           64
          ],
          [
           617,
           "Blue Angel, The (Blaue Engel, Der) (1930)",
           18
          ],
          [
           618,
           "Picnic (1955)",
           18
          ],
          [
           619,
           "Extreme Measures (1996)",
           64
          ],
          [
           620,
           "Chamber, The (1996)",
           43
          ],
          [
           621,
           "Davy Crockett, King of the Wild Frontier (1955)",
           11
          ],
          [
           622,
           "Swiss Family Robinson (1960)",
           39
          ],
          [
           623,
           "Angels in the Outfield (1994)",
           39
          ],
          [
           624,
           "Three Caballeros, The (1945)",
           22
          ],
          [
           625,
           "Sword in the Stone, The (1963)",
           82
          ],
          [
           626,
           "So Dear to My Heart (1949)",
           4
          ],
          [
           627,
           "Robin Hood: Prince of Thieves (1991)",
           75
          ],
          [
           628,
           "Sleepers (1996)",
           169
          ],
          [
           629,
           "Victor/Victoria (1982)",
           77
          ],
          [
           630,
           "Great Race, The (1965)",
           31
          ],
          [
           631,
           "Crying Game, The (1992)",
           119
          ],
          [
           632,
           "Sophie's Choice (1982)",
           58
          ],
          [
           633,
           "Christmas Carol, A (1938)",
           69
          ],
          [
           634,
           "Microcosmos: Le peuple de l'herbe (1996)",
           24
          ],
          [
           635,
           "Fog, The (1980)",
           23
          ],
          [
           636,
           "Escape from New York (1981)",
           91
          ],
          [
           637,
           "Howling, The (1981)",
           38
          ],
          [
           638,
           "Return of Martin Guerre, The (Retour de Martin Guerre, Le) (1982)",
           44
          ],
          [
           639,
           "Tin Drum, The (Blechtrommel, Die) (1979)",
           40
          ],
          [
           640,
           "Cook the Thief His Wife & Her Lover, The (1989)",
           82
          ],
          [
           641,
           "Paths of Glory (1957)",
           33
          ],
          [
           642,
           "Grifters, The (1990)",
           89
          ],
          [
           643,
           "The Innocent (1994)",
           4
          ],
          [
           644,
           "Thin Blue Line, The (1988)",
           35
          ],
          [
           645,
           "Paris Is Burning (1990)",
           27
          ],
          [
           646,
           "Once Upon a Time in the West (1969)",
           38
          ],
          [
           647,
           "Ran (1985)",
           70
          ],
          [
           648,
           "Quiet Man, The (1952)",
           67
          ],
          [
           649,
           "Once Upon a Time in America (1984)",
           50
          ],
          [
           650,
           "Seventh Seal, The (Sjunde inseglet, Det) (1957)",
           72
          ],
          [
           651,
           "Glory (1989)",
           171
          ],
          [
           652,
           "Rosencrantz and Guildenstern Are Dead (1990)",
           90
          ],
          [
           653,
           "Touch of Evil (1958)",
           34
          ],
          [
           654,
           "Chinatown (1974)",
           147
          ],
          [
           655,
           "Stand by Me (1986)",
           227
          ],
          [
           656,
           "M (1931)",
           44
          ],
          [
           657,
           "Manchurian Candidate, The (1962)",
           131
          ],
          [
           658,
           "Pump Up the Volume (1990)",
           79
          ],
          [
           659,
           "Arsenic and Old Lace (1944)",
           115
          ],
          [
           660,
           "Fried Green Tomatoes (1991)",
           153
          ],
          [
           661,
           "High Noon (1952)",
           88
          ],
          [
           662,
           "Somewhere in Time (1980)",
           82
          ],
          [
           663,
           "Being There (1979)",
           116
          ],
          [
           664,
           "Paris, Texas (1984)",
           46
          ],
          [
           665,
           "Alien 3 (1992)",
           100
          ],
          [
           666,
           "Blood For Dracula (Andy Warhol's Dracula) (1974)",
           5
          ],
          [
           667,
           "Audrey Rose (1977)",
           12
          ],
          [
           668,
           "Blood Beach (1981)",
           6
          ],
          [
           669,
           "Body Parts (1991)",
           13
          ],
          [
           670,
           "Body Snatchers (1993)",
           36
          ],
          [
           671,
           "Bride of Frankenstein (1935)",
           46
          ],
          [
           672,
           "Candyman (1992)",
           65
          ],
          [
           673,
           "Cape Fear (1962)",
           86
          ],
          [
           674,
           "Cat People (1982)",
           48
          ],
          [
           675,
           "Nosferatu (Nosferatu, eine Symphonie des Grauens) (1922)",
           54
          ],
          [
           676,
           "Crucible, The (1996)",
           77
          ],
          [
           677,
           "Fire on the Mountain (1996)",
           1
          ],
          [
           678,
           "Volcano (1997)",
           219
          ],
          [
           679,
           "Conan the Barbarian (1981)",
           107
          ],
          [
           680,
           "Kull the Conqueror (1997)",
           34
          ],
          [
           681,
           "Wishmaster (1997)",
           27
          ],
          [
           682,
           "I Know What You Did Last Summer (1997)",
           100
          ],
          [
           683,
           "Rocket Man (1997)",
           49
          ],
          [
           684,
           "In the Line of Fire (1993)",
           169
          ],
          [
           685,
           "Executive Decision (1996)",
           157
          ],
          [
           686,
           "Perfect World, A (1993)",
           50
          ],
          [
           687,
           "McHale's Navy (1997)",
           69
          ],
          [
           688,
           "Leave It to Beaver (1997)",
           44
          ],
          [
           689,
           "Jackal, The (1997)",
           87
          ],
          [
           690,
           "Seven Years in Tibet (1997)",
           155
          ],
          [
           691,
           "Dark City (1998)",
           16
          ],
          [
           692,
           "American President, The (1995)",
           164
          ],
          [
           693,
           "Casino (1995)",
           91
          ],
          [
           694,
           "Persuasion (1995)",
           44
          ],
          [
           695,
           "Kicking and Screaming (1995)",
           13
          ],
          [
           696,
           "City Hall (1996)",
           79
          ],
          [
           697,
           "Basketball Diaries, The (1995)",
           40
          ],
          [
           698,
           "Browning Version, The (1994)",
           10
          ],
          [
           699,
           "Little Women (1994)",
           102
          ],
          [
           700,
           "Miami Rhapsody (1995)",
           15
          ],
          [
           701,
           "Wonderful, Horrible Life of Leni Riefenstahl, The (1993)",
           10
          ],
          [
           702,
           "Barcelona (1994)",
           53
          ],
          [
           703,
           "Widows' Peak (1994)",
           19
          ],
          [
           704,
           "House of the Spirits, The (1993)",
           24
          ],
          [
           705,
           "Singin' in the Rain (1952)",
           137
          ],
          [
           706,
           "Bad Moon (1996)",
           6
          ],
          [
           707,
           "Enchanted April (1991)",
           70
          ],
          [
           708,
           "Sex, Lies, and Videotape (1989)",
           101
          ],
          [
           709,
           "Strictly Ballroom (1992)",
           104
          ],
          [
           710,
           "Better Off Dead... (1985)",
           79
          ],
          [
           711,
           "Substance of Fire, The (1996)",
           1
          ],
          [
           712,
           "Tin Men (1987)",
           51
          ],
          [
           713,
           "Othello (1995)",
           72
          ],
          [
           714,
           "Carrington (1995)",
           13
          ],
          [
           715,
           "To Die For (1995)",
           87
          ],
          [
           716,
           "Home for the Holidays (1995)",
           58
          ],
          [
           717,
           "Juror, The (1996)",
           82
          ],
          [
           718,
           "In the Bleak Midwinter (1995)",
           16
          ],
          [
           719,
           "Canadian Bacon (1994)",
           29
          ],
          [
           720,
           "First Knight (1995)",
           86
          ],
          [
           721,
           "Mallrats (1995)",
           54
          ],
          [
           722,
           "Nine Months (1995)",
           58
          ],
          [
           723,
           "Boys on the Side (1995)",
           34
          ],
          [
           724,
           "Circle of Friends (1995)",
           76
          ],
          [
           725,
           "Exit to Eden (1994)",
           16
          ],
          [
           726,
           "Fluke (1995)",
           14
          ],
          [
           727,
           "Immortal Beloved (1994)",
           63
          ],
          [
           728,
           "Junior (1994)",
           45
          ],
          [
           729,
           "Nell (1994)",
           81
          ],
          [
           730,
           "Queen Margot (Reine Margot, La) (1994)",
           24
          ],
          [
           731,
           "Corrina, Corrina (1994)",
           39
          ],
          [
           732,
           "Dave (1993)",
           180
          ],
          [
           733,
           "Go Fish (1994)",
           15
          ],
          [
           734,
           "Made in America (1993)",
           27
          ],
          [
           735,
           "Philadelphia (1993)",
           137
          ],
          [
           736,
           "Shadowlands (1993)",
           78
          ],
          [
           737,
           "Sirens (1994)",
           59
          ],
          [
           738,
           "Threesome (1994)",
           31
          ],
          [
           739,
           "Pretty Woman (1990)",
           164
          ],
          [
           740,
           "Jane Eyre (1996)",
           63
          ],
          [
           741,
           "Last Supper, The (1995)",
           58
          ],
          [
           742,
           "Ransom (1996)",
           267
          ],
          [
           743,
           "Crow: City of Angels, The (1996)",
           39
          ],
          [
           744,
           "Michael Collins (1996)",
           92
          ],
          [
           745,
           "Ruling Class, The (1972)",
           16
          ],
          [
           746,
           "Real Genius (1985)",
           119
          ],
          [
           747,
           "Benny & Joon (1993)",
           102
          ],
          [
           748,
           "Saint, The (1997)",
           316
          ],
          [
           749,
           "MatchMaker, The (1997)",
           51
          ],
          [
           750,
           "Amistad (1997)",
           124
          ],
          [
           751,
           "Tomorrow Never Dies (1997)",
           180
          ],
          [
           752,
           "Replacement Killers, The (1998)",
           39
          ],
          [
           753,
           "Burnt By the Sun (1994)",
           24
          ],
          [
           754,
           "Red Corner (1997)",
           57
          ],
          [
           755,
           "Jumanji (1995)",
           96
          ],
          [
           756,
           "Father of the Bride Part II (1995)",
           128
          ],
          [
           757,
           "Across the Sea of Time (1995)",
           4
          ],
          [
           758,
           "Lawnmower Man 2: Beyond Cyberspace (1996)",
           21
          ],
          [
           759,
           "Fair Game (1995)",
           11
          ],
          [
           760,
           "Screamers (1995)",
           46
          ],
          [
           761,
           "Nick of Time (1995)",
           44
          ],
          [
           762,
           "Beautiful Girls (1996)",
           115
          ],
          [
           763,
           "Happy Gilmore (1996)",
           149
          ],
          [
           764,
           "If Lucy Fell (1996)",
           29
          ],
          [
           765,
           "Boomerang (1992)",
           32
          ],
          [
           766,
           "Man of the Year (1995)",
           9
          ],
          [
           767,
           "Addiction, The (1995)",
           11
          ],
          [
           768,
           "Casper (1995)",
           52
          ],
          [
           769,
           "Congo (1995)",
           42
          ],
          [
           770,
           "Devil in a Blue Dress (1995)",
           57
          ],
          [
           771,
           "Johnny Mnemonic (1995)",
           41
          ],
          [
           772,
           "Kids (1995)",
           49
          ],
          [
           773,
           "Mute Witness (1994)",
           17
          ],
          [
           774,
           "Prophecy, The (1995)",
           32
          ],
          [
           775,
           "Something to Talk About (1995)",
           26
          ],
          [
           776,
           "Three Wishes (1995)",
           9
          ],
          [
           777,
           "Castle Freak (1995)",
           4
          ],
          [
           778,
           "Don Juan DeMarco (1995)",
           76
          ],
          [
           779,
           "Drop Zone (1994)",
           31
          ],
          [
           780,
           "Dumb & Dumber (1994)",
           69
          ],
          [
           781,
           "French Kiss (1995)",
           84
          ],
          [
           782,
           "Little Odessa (1994)",
           10
          ],
          [
           783,
           "Milk Money (1994)",
           37
          ],
          [
           784,
           "Beyond Bedlam (1993)",
           2
          ],
          [
           785,
           "Only You (1994)",
           39
          ],
          [
           786,
           "Perez Family, The (1995)",
           14
          ],
          [
           787,
           "Roommates (1995)",
           13
          ],
          [
           788,
           "Relative Fear (1994)",
           3
          ],
          [
           789,
           "Swimming with Sharks (1995)",
           47
          ],
          [
           790,
           "Tommy Boy (1995)",
           66
          ],
          [
           791,
           "Baby-Sitters Club, The (1995)",
           10
          ],
          [
           792,
           "Bullets Over Broadway (1994)",
           86
          ],
          [
           793,
           "Crooklyn (1994)",
           10
          ],
          [
           794,
           "It Could Happen to You (1994)",
           46
          ],
          [
           795,
           "Richie Rich (1994)",
           21
          ],
          [
           796,
           "Speechless (1994)",
           36
          ],
          [
           797,
           "Timecop (1994)",
           31
          ],
          [
           798,
           "Bad Company (1995)",
           9
          ],
          [
           799,
           "Boys Life (1995)",
           5
          ],
          [
           800,
           "In the Mouth of Madness (1995)",
           26
          ],
          [
           801,
           "Air Up There, The (1994)",
           16
          ],
          [
           802,
           "Hard Target (1993)",
           40
          ],
          [
           803,
           "Heaven & Earth (1993)",
           9
          ],
          [
           804,
           "Jimmy Hollywood (1994)",
           8
          ],
          [
           805,
           "Manhattan Murder Mystery (1993)",
           27
          ],
          [
           806,
           "Menace II Society (1993)",
           50
          ],
          [
           807,
           "Poetic Justice (1993)",
           9
          ],
          [
           808,
           "Program, The (1993)",
           31
          ],
          [
           809,
           "Rising Sun (1993)",
           43
          ],
          [
           810,
           "Shadow, The (1994)",
           45
          ],
          [
           811,
           "Thirty-Two Short Films About Glenn Gould (1993)",
           18
          ],
          [
           812,
           "Andre (1994)",
           18
          ],
          [
           813,
           "Celluloid Closet, The (1995)",
           56
          ],
          [
           814,
           "Great Day in Harlem, A (1994)",
           1
          ],
          [
           815,
           "One Fine Day (1996)",
           112
          ],
          [
           816,
           "Candyman: Farewell to the Flesh (1995)",
           21
          ],
          [
           817,
           "Frisk (1995)",
           3
          ],
          [
           818,
           "Girl 6 (1996)",
           25
          ],
          [
           819,
           "Eddie (1996)",
           40
          ],
          [
           820,
           "Space Jam (1996)",
           93
          ],
          [
           821,
           "Mrs. Winterbourne (1996)",
           22
          ],
          [
           822,
           "Faces (1968)",
           4
          ],
          [
           823,
           "Mulholland Falls (1996)",
           82
          ],
          [
           824,
           "Great White Hype, The (1996)",
           49
          ],
          [
           825,
           "Arrival, The (1996)",
           83
          ],
          [
           826,
           "Phantom, The (1996)",
           80
          ],
          [
           827,
           "Daylight (1996)",
           57
          ],
          [
           828,
           "Alaska (1996)",
           13
          ],
          [
           829,
           "Fled (1996)",
           34
          ],
          [
           830,
           "Power 98 (1995)",
           1
          ],
          [
           831,
           "Escape from L.A. (1996)",
           91
          ],
          [
           832,
           "Bogus (1996)",
           22
          ],
          [
           833,
           "Bulletproof (1996)",
           49
          ],
          [
           834,
           "Halloween: The Curse of Michael Myers (1995)",
           25
          ],
          [
           835,
           "Gay Divorcee, The (1934)",
           15
          ],
          [
           836,
           "Ninotchka (1939)",
           26
          ],
          [
           837,
           "Meet John Doe (1941)",
           25
          ],
          [
           838,
           "In the Line of Duty 2 (1987)",
           4
          ],
          [
           839,
           "Loch Ness (1995)",
           4
          ],
          [
           840,
           "Last Man Standing (1996)",
           53
          ],
          [
           841,
           "Glimmer Man, The (1996)",
           48
          ],
          [
           842,
           "Pollyanna (1960)",
           27
          ],
          [
           843,
           "Shaggy Dog, The (1959)",
           30
          ],
          [
           844,
           "Freeway (1996)",
           42
          ],
          [
           845,
           "That Thing You Do! (1996)",
           176
          ],
          [
           846,
           "To Gillian on Her 37th Birthday (1996)",
           44
          ],
          [
           847,
           "Looking for Richard (1996)",
           55
          ],
          [
           848,
           "Murder, My Sweet (1944)",
           9
          ],
          [
           849,
           "Days of Thunder (1990)",
           53
          ],
          [
           850,
           "Perfect Candidate, A (1996)",
           4
          ],
          [
           851,
           "Two or Three Things I Know About Her (1966)",
           4
          ],
          [
           852,
           "Bloody Child, The (1996)",
           1
          ],
          [
           853,
           "Braindead (1992)",
           14
          ],
          [
           854,
           "Bad Taste (1987)",
           16
          ],
          [
           855,
           "Diva (1981)",
           66
          ],
          [
           856,
           "Night on Earth (1991)",
           36
          ],
          [
           857,
           "Paris Was a Woman (1995)",
           1
          ],
          [
           858,
           "Amityville: Dollhouse (1996)",
           3
          ],
          [
           859,
           "April Fool's Day (1986)",
           15
          ],
          [
           860,
           "Believers, The (1987)",
           16
          ],
          [
           861,
           "Nosferatu a Venezia (1986)",
           3
          ],
          [
           862,
           "Jingle All the Way (1996)",
           18
          ],
          [
           863,
           "Garden of Finzi-Contini, The (Giardino dei Finzi-Contini, Il) (1970)",
           24
          ],
          [
           864,
           "My Fellow Americans (1996)",
           86
          ],
          [
           865,
           "Ice Storm, The (1997)",
           21
          ],
          [
           866,
           "Michael (1996)",
           119
          ],
          [
           867,
           "Whole Wide World, The (1996)",
           6
          ],
          [
           868,
           "Hearts and Minds (1996)",
           5
          ],
          [
           869,
           "Fools Rush In (1997)",
           24
          ],
          [
           870,
           "Touch (1997)",
           9
          ],
          [
           871,
           "Vegas Vacation (1997)",
           75
          ],
          [
           872,
           "Love Jones (1997)",
           42
          ],
          [
           873,
           "Picture Perfect (1997)",
           81
          ],
          [
           874,
           "Career Girls (1997)",
           39
          ],
          [
           875,
           "She's So Lovely (1997)",
           53
          ],
          [
           876,
           "Money Talks (1997)",
           47
          ],
          [
           877,
           "Excess Baggage (1997)",
           52
          ],
          [
           878,
           "That Darn Cat! (1997)",
           33
          ],
          [
           879,
           "Peacemaker, The (1997)",
           136
          ],
          [
           880,
           "Soul Food (1997)",
           59
          ],
          [
           881,
           "Money Talks (1997)",
           45
          ],
          [
           882,
           "Washington Square (1997)",
           34
          ],
          [
           883,
           "Telling Lies in America (1997)",
           13
          ],
          [
           884,
           "Year of the Horse (1997)",
           7
          ],
          [
           885,
           "Phantoms (1998)",
           13
          ],
          [
           886,
           "Life Less Ordinary, A (1997)",
           53
          ],
          [
           887,
           "Eve's Bayou (1997)",
           64
          ],
          [
           888,
           "One Night Stand (1997)",
           15
          ],
          [
           889,
           "Tango Lesson, The (1997)",
           13
          ],
          [
           890,
           "Mortal Kombat: Annihilation (1997)",
           43
          ],
          [
           891,
           "Bent (1997)",
           6
          ],
          [
           892,
           "Flubber (1997)",
           53
          ],
          [
           893,
           "For Richer or Poorer (1997)",
           14
          ],
          [
           894,
           "Home Alone 3 (1997)",
           19
          ],
          [
           895,
           "Scream 2 (1997)",
           106
          ],
          [
           896,
           "Sweet Hereafter, The (1997)",
           44
          ],
          [
           897,
           "Time Tracers (1995)",
           2
          ],
          [
           898,
           "Postman, The (1997)",
           58
          ],
          [
           899,
           "Winter Guest, The (1997)",
           9
          ],
          [
           900,
           "Kundun (1997)",
           42
          ],
          [
           901,
           "Mr. Magoo (1997)",
           12
          ],
          [
           902,
           "Big Lebowski, The (1998)",
           42
          ],
          [
           903,
           "Afterglow (1997)",
           18
          ],
          [
           904,
           "Ma vie en rose (My Life in Pink) (1997)",
           20
          ],
          [
           905,
           "Great Expectations (1998)",
           27
          ],
          [
           906,
           "Oscar & Lucinda (1997)",
           21
          ],
          [
           907,
           "Vermin (1998)",
           2
          ],
          [
           908,
           "Half Baked (1998)",
           20
          ],
          [
           909,
           "Dangerous Beauty (1998)",
           13
          ],
          [
           910,
           "Nil By Mouth (1997)",
           4
          ],
          [
           911,
           "Twilight (1998)",
           4
          ],
          [
           912,
           "U.S. Marshalls (1998)",
           9
          ],
          [
           913,
           "Love and Death on Long Island (1997)",
           2
          ],
          [
           914,
           "Wild Things (1998)",
           11
          ],
          [
           915,
           "Primary Colors (1998)",
           13
          ],
          [
           916,
           "Lost in Space (1998)",
           18
          ],
          [
           917,
           "Mercury Rising (1998)",
           7
          ],
          [
           918,
           "City of Angels (1998)",
           8
          ],
          [
           919,
           "City of Lost Children, The (1995)",
           96
          ],
          [
           920,
           "Two Bits (1995)",
           5
          ],
          [
           921,
           "Farewell My Concubine (1993)",
           46
          ],
          [
           922,
           "Dead Man (1995)",
           34
          ],
          [
           923,
           "Raise the Red Lantern (1991)",
           58
          ],
          [
           924,
           "White Squall (1996)",
           85
          ],
          [
           925,
           "Unforgettable (1996)",
           34
          ],
          [
           926,
           "Down Periscope (1996)",
           101
          ],
          [
           927,
           "Flower of My Secret, The (Flor de mi secreto, La) (1995)",
           6
          ],
          [
           928,
           "Craft, The (1996)",
           104
          ],
          [
           929,
           "Harriet the Spy (1996)",
           40
          ],
          [
           930,
           "Chain Reaction (1996)",
           80
          ],
          [
           931,
           "Island of Dr. Moreau, The (1996)",
           57
          ],
          [
           932,
           "First Kid (1996)",
           40
          ],
          [
           933,
           "Funeral, The (1996)",
           21
          ],
          [
           934,
           "Preacher's Wife, The (1996)",
           68
          ],
          [
           935,
           "Paradise Road (1997)",
           7
          ],
          [
           936,
           "Brassed Off (1996)",
           32
          ],
          [
           937,
           "Thousand Acres, A (1997)",
           37
          ],
          [
           938,
           "Smile Like Yours, A (1997)",
           25
          ],
          [
           939,
           "Murder in the First (1995)",
           60
          ],
          [
           940,
           "Airheads (1994)",
           32
          ],
          [
           941,
           "With Honors (1994)",
           46
          ],
          [
           942,
           "What's Love Got to Do with It (1993)",
           45
          ],
          [
           943,
           "Killing Zoe (1994)",
           40
          ],
          [
           944,
           "Renaissance Man (1994)",
           43
          ],
          [
           945,
           "Charade (1963)",
           40
          ],
          [
           946,
           "Fox and the Hound, The (1981)",
           61
          ],
          [
           947,
           "Big Blue, The (Grand bleu, Le) (1988)",
           17
          ],
          [
           948,
           "Booty Call (1997)",
           48
          ],
          [
           949,
           "How to Make an American Quilt (1995)",
           71
          ],
          [
           950,
           "Georgia (1995)",
           30
          ],
          [
           951,
           "Indian in the Cupboard, The (1995)",
           39
          ],
          [
           952,
           "Blue in the Face (1995)",
           45
          ],
          [
           953,
           "Unstrung Heroes (1995)",
           22
          ],
          [
           954,
           "Unzipped (1995)",
           11
          ],
          [
           955,
           "Before Sunrise (1995)",
           49
          ],
          [
           956,
           "Nobody's Fool (1994)",
           46
          ],
          [
           957,
           "Pushing Hands (1992)",
           2
          ],
          [
           958,
           "To Live (Huozhe) (1994)",
           14
          ],
          [
           959,
           "Dazed and Confused (1993)",
           64
          ],
          [
           960,
           "Naked (1993)",
           25
          ],
          [
           961,
           "Orlando (1993)",
           34
          ],
          [
           962,
           "Ruby in Paradise (1993)",
           23
          ],
          [
           963,
           "Some Folks Call It a Sling Blade (1993)",
           41
          ],
          [
           964,
           "Month by the Lake, A (1995)",
           9
          ],
          [
           965,
           "Funny Face (1957)",
           21
          ],
          [
           966,
           "Affair to Remember, An (1957)",
           26
          ],
          [
           967,
           "Little Lord Fauntleroy (1936)",
           12
          ],
          [
           968,
           "Inspector General, The (1949)",
           18
          ],
          [
           969,
           "Winnie the Pooh and the Blustery Day (1968)",
           75
          ],
          [
           970,
           "Hear My Song (1991)",
           8
          ],
          [
           971,
           "Mediterraneo (1991)",
           34
          ],
          [
           972,
           "Passion Fish (1992)",
           28
          ],
          [
           973,
           "Grateful Dead (1995)",
           4
          ],
          [
           974,
           "Eye for an Eye (1996)",
           32
          ],
          [
           975,
           "Fear (1996)",
           44
          ],
          [
           976,
           "Solo (1996)",
           12
          ],
          [
           977,
           "Substitute, The (1996)",
           49
          ],
          [
           978,
           "Heaven's Prisoners (1996)",
           27
          ],
          [
           979,
           "Trigger Effect, The (1996)",
           35
          ],
          [
           980,
           "Mother Night (1996)",
           22
          ],
          [
           981,
           "Dangerous Ground (1997)",
           8
          ],
          [
           982,
           "Maximum Risk (1996)",
           20
          ],
          [
           983,
           "Rich Man's Wife, The (1996)",
           15
          ],
          [
           984,
           "Shadow Conspiracy (1997)",
           44
          ],
          [
           985,
           "Blood & Wine (1997)",
           22
          ],
          [
           986,
           "Turbulence (1997)",
           23
          ],
          [
           987,
           "Underworld (1997)",
           4
          ],
          [
           988,
           "Beautician and the Beast, The (1997)",
           86
          ],
          [
           989,
           "Cats Don't Dance (1997)",
           32
          ],
          [
           990,
           "Anna Karenina (1997)",
           33
          ],
          [
           991,
           "Keys to Tulsa (1997)",
           25
          ],
          [
           992,
           "Head Above Water (1996)",
           4
          ],
          [
           993,
           "Hercules (1997)",
           66
          ],
          [
           994,
           "Last Time I Committed Suicide, The (1997)",
           7
          ],
          [
           995,
           "Kiss Me, Guido (1997)",
           31
          ],
          [
           996,
           "Big Green, The (1995)",
           14
          ],
          [
           997,
           "Stuart Saves His Family (1995)",
           16
          ],
          [
           998,
           "Cabin Boy (1994)",
           16
          ],
          [
           999,
           "Clean Slate (1994)",
           10
          ],
          [
           1000,
           "Lightning Jack (1994)",
           10
          ],
          [
           1001,
           "Stupids, The (1996)",
           17
          ],
          [
           1002,
           "Pest, The (1997)",
           8
          ],
          [
           1003,
           "That Darn Cat! (1997)",
           8
          ],
          [
           1004,
           "Geronimo: An American Legend (1993)",
           9
          ],
          [
           1005,
           "Double vie de Véronique, La (Double Life of Veronique, The) (1991)",
           22
          ],
          [
           1006,
           "Until the End of the World (Bis ans Ende der Welt) (1991)",
           23
          ],
          [
           1007,
           "Waiting for Guffman (1996)",
           47
          ],
          [
           1008,
           "I Shot Andy Warhol (1996)",
           37
          ],
          [
           1009,
           "Stealing Beauty (1996)",
           64
          ],
          [
           1010,
           "Basquiat (1996)",
           44
          ],
          [
           1011,
           "2 Days in the Valley (1996)",
           93
          ],
          [
           1012,
           "Private Parts (1997)",
           100
          ],
          [
           1013,
           "Anaconda (1997)",
           38
          ],
          [
           1014,
           "Romy and Michele's High School Reunion (1997)",
           98
          ],
          [
           1015,
           "Shiloh (1997)",
           12
          ],
          [
           1016,
           "Con Air (1997)",
           137
          ],
          [
           1017,
           "Trees Lounge (1996)",
           50
          ],
          [
           1018,
           "Tie Me Up! Tie Me Down! (1990)",
           32
          ],
          [
           1019,
           "Die xue shuang xiong (Killer, The) (1989)",
           31
          ],
          [
           1020,
           "Gaslight (1944)",
           35
          ],
          [
           1021,
           "8 1/2 (1963)",
           38
          ],
          [
           1022,
           "Fast, Cheap & Out of Control (1997)",
           32
          ],
          [
           1023,
           "Fathers' Day (1997)",
           31
          ],
          [
           1024,
           "Mrs. Dalloway (1997)",
           15
          ],
          [
           1025,
           "Fire Down Below (1997)",
           44
          ],
          [
           1026,
           "Lay of the Land, The (1997)",
           4
          ],
          [
           1027,
           "Shooter, The (1995)",
           3
          ],
          [
           1028,
           "Grumpier Old Men (1995)",
           148
          ],
          [
           1029,
           "Jury Duty (1995)",
           14
          ],
          [
           1030,
           "Beverly Hillbillies, The (1993)",
           20
          ],
          [
           1031,
           "Lassie (1994)",
           7
          ],
          [
           1032,
           "Little Big League (1994)",
           16
          ],
          [
           1033,
           "Homeward Bound II: Lost in San Francisco (1996)",
           32
          ],
          [
           1034,
           "Quest, The (1996)",
           27
          ],
          [
           1035,
           "Cool Runnings (1993)",
           68
          ],
          [
           1036,
           "Drop Dead Fred (1991)",
           24
          ],
          [
           1037,
           "Grease 2 (1982)",
           24
          ],
          [
           1038,
           "Switchback (1997)",
           17
          ],
          [
           1039,
           "Hamlet (1996)",
           90
          ],
          [
           1040,
           "Two if by Sea (1996)",
           25
          ],
          [
           1041,
           "Forget Paris (1995)",
           62
          ],
          [
           1042,
           "Just Cause (1995)",
           28
          ],
          [
           1043,
           "Rent-a-Kid (1995)",
           8
          ],
          [
           1044,
           "Paper, The (1994)",
           40
          ],
          [
           1045,
           "Fearless (1993)",
           25
          ],
          [
           1046,
           "Malice (1993)",
           46
          ],
          [
           1047,
           "Multiplicity (1996)",
           134
          ],
          [
           1048,
           "She's the One (1996)",
           73
          ],
          [
           1049,
           "House Arrest (1996)",
           25
          ],
          [
           1050,
           "Ghost and Mrs. Muir, The (1947)",
           43
          ],
          [
           1051,
           "Associate, The (1996)",
           41
          ],
          [
           1052,
           "Dracula: Dead and Loving It (1995)",
           25
          ],
          [
           1053,
           "Now and Then (1995)",
           24
          ],
          [
           1054,
           "Mr. Wrong (1996)",
           23
          ],
          [
           1055,
           "Simple Twist of Fate, A (1994)",
           10
          ],
          [
           1056,
           "Cronos (1992)",
           10
          ],
          [
           1057,
           "Pallbearer, The (1996)",
           22
          ],
          [
           1058,
           "War, The (1994)",
           15
          ],
          [
           1059,
           "Don't Be a Menace to South Central While Drinking Your Juice in the Hood (1996)",
           35
          ],
          [
           1060,
           "Adventures of Pinocchio, The (1996)",
           39
          ],
          [
           1061,
           "Evening Star, The (1996)",
           29
          ],
          [
           1062,
           "Four Days in September (1997)",
           12
          ],
          [
           1063,
           "Little Princess, A (1995)",
           41
          ],
          [
           1064,
           "Crossfire (1947)",
           4
          ],
          [
           1065,
           "Koyaanisqatsi (1983)",
           53
          ],
          [
           1066,
           "Balto (1995)",
           16
          ],
          [
           1067,
           "Bottle Rocket (1996)",
           44
          ],
          [
           1068,
           "Star Maker, The (Uomo delle stelle, L') (1995)",
           12
          ],
          [
           1069,
           "Amateur (1994)",
           18
          ],
          [
           1070,
           "Living in Oblivion (1995)",
           27
          ],
          [
           1071,
           "Party Girl (1995)",
           16
          ],
          [
           1072,
           "Pyromaniac's Love Story, A (1995)",
           7
          ],
          [
           1073,
           "Shallow Grave (1994)",
           66
          ],
          [
           1074,
           "Reality Bites (1994)",
           77
          ],
          [
           1075,
           "Man of No Importance, A (1994)",
           7
          ],
          [
           1076,
           "Pagemaster, The (1994)",
           12
          ],
          [
           1077,
           "Love and a .45 (1994)",
           8
          ],
          [
           1078,
           "Oliver & Company (1988)",
           22
          ],
          [
           1079,
           "Joe's Apartment (1996)",
           45
          ],
          [
           1080,
           "Celestial Clockwork (1994)",
           2
          ],
          [
           1081,
           "Curdled (1996)",
           8
          ],
          [
           1082,
           "Female Perversions (1996)",
           8
          ],
          [
           1083,
           "Albino Alligator (1996)",
           6
          ],
          [
           1084,
           "Anne Frank Remembered (1995)",
           21
          ],
          [
           1085,
           "Carried Away (1996)",
           11
          ],
          [
           1086,
           "It's My Party (1995)",
           21
          ],
          [
           1087,
           "Bloodsport 2 (1995)",
           10
          ],
          [
           1088,
           "Double Team (1997)",
           13
          ],
          [
           1089,
           "Speed 2: Cruise Control (1997)",
           38
          ],
          [
           1090,
           "Sliver (1993)",
           37
          ],
          [
           1091,
           "Pete's Dragon (1977)",
           43
          ],
          [
           1092,
           "Dear God (1996)",
           12
          ],
          [
           1093,
           "Live Nude Girls (1995)",
           23
          ],
          [
           1094,
           "Thin Line Between Love and Hate, A (1996)",
           12
          ],
          [
           1095,
           "High School High (1996)",
           29
          ],
          [
           1096,
           "Commandments (1997)",
           3
          ],
          [
           1097,
           "Hate (Haine, La) (1995)",
           18
          ],
          [
           1098,
           "Flirting With Disaster (1996)",
           42
          ],
          [
           1099,
           "Red Firecracker, Green Firecracker (1994)",
           13
          ],
          [
           1100,
           "What Happened Was... (1994)",
           8
          ],
          [
           1101,
           "Six Degrees of Separation (1993)",
           74
          ],
          [
           1102,
           "Two Much (1996)",
           7
          ],
          [
           1103,
           "Trust (1990)",
           19
          ],
          [
           1104,
           "C'est arrivé près de chez vous (1992)",
           4
          ],
          [
           1105,
           "Firestorm (1998)",
           18
          ],
          [
           1106,
           "Newton Boys, The (1998)",
           4
          ],
          [
           1107,
           "Beyond Rangoon (1995)",
           18
          ],
          [
           1108,
           "Feast of July (1995)",
           5
          ],
          [
           1109,
           "Death and the Maiden (1994)",
           28
          ],
          [
           1110,
           "Tank Girl (1995)",
           41
          ],
          [
           1111,
           "Double Happiness (1994)",
           7
          ],
          [
           1112,
           "Cobb (1994)",
           15
          ],
          [
           1113,
           "Mrs. Parker and the Vicious Circle (1994)",
           22
          ],
          [
           1114,
           "Faithful (1996)",
           10
          ],
          [
           1115,
           "Twelfth Night (1996)",
           29
          ],
          [
           1116,
           "Mark of Zorro, The (1940)",
           13
          ],
          [
           1117,
           "Surviving Picasso (1996)",
           19
          ],
          [
           1118,
           "Up in Smoke (1978)",
           47
          ],
          [
           1119,
           "Some Kind of Wonderful (1987)",
           59
          ],
          [
           1120,
           "I'm Not Rappaport (1996)",
           17
          ],
          [
           1121,
           "Umbrellas of Cherbourg, The (Parapluies de Cherbourg, Les) (1964)",
           21
          ],
          [
           1122,
           "They Made Me a Criminal (1939)",
           1
          ],
          [
           1123,
           "Last Time I Saw Paris, The (1954)",
           3
          ],
          [
           1124,
           "Farewell to Arms, A (1932)",
           12
          ],
          [
           1125,
           "Innocents, The (1961)",
           4
          ],
          [
           1126,
           "Old Man and the Sea, The (1958)",
           32
          ],
          [
           1127,
           "Truman Show, The (1998)",
           11
          ],
          [
           1128,
           "Heidi Fleiss: Hollywood Madam (1995) ",
           13
          ],
          [
           1129,
           "Chungking Express (1994)",
           28
          ],
          [
           1130,
           "Jupiter's Wife (1994)",
           1
          ],
          [
           1131,
           "Safe (1995)",
           13
          ],
          [
           1132,
           "Feeling Minnesota (1996)",
           32
          ],
          [
           1133,
           "Escape to Witch Mountain (1975)",
           30
          ],
          [
           1134,
           "Get on the Bus (1996)",
           38
          ],
          [
           1135,
           "Doors, The (1991)",
           46
          ],
          [
           1136,
           "Ghosts of Mississippi (1996)",
           29
          ],
          [
           1137,
           "Beautiful Thing (1996)",
           29
          ],
          [
           1138,
           "Best Men (1997)",
           5
          ],
          [
           1139,
           "Hackers (1995)",
           33
          ],
          [
           1140,
           "Road to Wellville, The (1994)",
           17
          ],
          [
           1141,
           "War Room, The (1993)",
           9
          ],
          [
           1142,
           "When We Were Kings (1996)",
           44
          ],
          [
           1143,
           "Hard Eight (1996)",
           15
          ],
          [
           1144,
           "Quiet Room, The (1996)",
           3
          ],
          [
           1145,
           "Blue Chips (1994)",
           9
          ],
          [
           1146,
           "Calendar Girl (1993)",
           3
          ],
          [
           1147,
           "My Family (1995)",
           21
          ],
          [
           1148,
           "Tom & Viv (1994)",
           9
          ],
          [
           1149,
           "Walkabout (1971)",
           26
          ],
          [
           1150,
           "Last Dance (1996)",
           9
          ],
          [
           1151,
           "Original Gangstas (1996)",
           7
          ],
          [
           1152,
           "In Love and War (1996)",
           28
          ],
          [
           1153,
           "Backbeat (1993)",
           19
          ],
          [
           1154,
           "Alphaville (1965)",
           12
          ],
          [
           1155,
           "Rendezvous in Paris (Rendez-vous de Paris, Les) (1995)",
           3
          ],
          [
           1156,
           "Cyclo (1995)",
           1
          ],
          [
           1157,
           "Relic, The (1997)",
           25
          ],
          [
           1158,
           "Fille seule, La (A Single Girl) (1995)",
           4
          ],
          [
           1159,
           "Stalker (1979)",
           11
          ],
          [
           1160,
           "Love! Valour! Compassion! (1997)",
           26
          ],
          [
           1161,
           "Palookaville (1996)",
           13
          ],
          [
           1162,
           "Phat Beach (1996)",
           5
          ],
          [
           1163,
           "Portrait of a Lady, The (1996)",
           25
          ],
          [
           1164,
           "Zeus and Roxanne (1997)",
           6
          ],
          [
           1165,
           "Big Bully (1996)",
           14
          ],
          [
           1166,
           "Love & Human Remains (1993)",
           12
          ],
          [
           1167,
           "Sum of Us, The (1994)",
           11
          ],
          [
           1168,
           "Little Buddha (1993)",
           22
          ],
          [
           1169,
           "Fresh (1994)",
           10
          ],
          [
           1170,
           "Spanking the Monkey (1994)",
           27
          ],
          [
           1171,
           "Wild Reeds (1994)",
           14
          ],
          [
           1172,
           "Women, The (1939)",
           15
          ],
          [
           1173,
           "Bliss (1997)",
           7
          ],
          [
           1174,
           "Caught (1996)",
           8
          ],
          [
           1175,
           "Hugo Pool (1997)",
           5
          ],
          [
           1176,
           "Welcome To Sarajevo (1997)",
           22
          ],
          [
           1177,
           "Dunston Checks In (1996)",
           7
          ],
          [
           1178,
           "Major Payne (1994)",
           19
          ],
          [
           1179,
           "Man of the House (1995)",
           9
          ],
          [
           1180,
           "I Love Trouble (1994)",
           10
          ],
          [
           1181,
           "Low Down Dirty Shame, A (1994)",
           10
          ],
          [
           1182,
           "Cops and Robbersons (1994)",
           13
          ],
          [
           1183,
           "Cowboy Way, The (1994)",
           19
          ],
          [
           1184,
           "Endless Summer 2, The (1994)",
           10
          ],
          [
           1185,
           "In the Army Now (1994)",
           18
          ],
          [
           1186,
           "Inkwell, The (1994)",
           3
          ],
          [
           1187,
           "Switchblade Sisters (1975)",
           13
          ],
          [
           1188,
           "Young Guns II (1990)",
           44
          ],
          [
           1189,
           "Prefontaine (1997)",
           3
          ],
          [
           1190,
           "That Old Feeling (1997)",
           11
          ],
          [
           1191,
           "Letter From Death Row, A (1998)",
           3
          ],
          [
           1192,
           "Boys of St. Vincent, The (1993)",
           13
          ],
          [
           1193,
           "Before the Rain (Pred dozhdot) (1994)",
           10
          ],
          [
           1194,
           "Once Were Warriors (1994)",
           31
          ],
          [
           1195,
           "Strawberry and Chocolate (Fresa y chocolate) (1993)",
           11
          ],
          [
           1196,
           "Savage Nights (Nuits fauves, Les) (1992)",
           3
          ],
          [
           1197,
           "Family Thing, A (1996)",
           45
          ],
          [
           1198,
           "Purple Noon (1960)",
           7
          ],
          [
           1199,
           "Cemetery Man (Dellamorte Dellamore) (1994)",
           23
          ],
          [
           1200,
           "Kim (1950)",
           7
          ],
          [
           1201,
           "Marlene Dietrich: Shadow and Light (1996) ",
           1
          ],
          [
           1202,
           "Maybe, Maybe Not (Bewegte Mann, Der) (1994)",
           8
          ],
          [
           1203,
           "Top Hat (1935)",
           21
          ],
          [
           1204,
           "To Be or Not to Be (1942)",
           18
          ],
          [
           1205,
           "Secret Agent, The (1996)",
           6
          ],
          [
           1206,
           "Amos & Andrew (1993)",
           19
          ],
          [
           1207,
           "Jade (1995)",
           17
          ],
          [
           1208,
           "Kiss of Death (1995)",
           20
          ],
          [
           1209,
           "Mixed Nuts (1994)",
           15
          ],
          [
           1210,
           "Virtuosity (1995)",
           38
          ],
          [
           1211,
           "Blue Sky (1994)",
           12
          ],
          [
           1212,
           "Flesh and Bone (1993)",
           6
          ],
          [
           1213,
           "Guilty as Sin (1993)",
           6
          ],
          [
           1214,
           "In the Realm of the Senses (Ai no corrida) (1976)",
           9
          ],
          [
           1215,
           "Barb Wire (1996)",
           30
          ],
          [
           1216,
           "Kissed (1996)",
           6
          ],
          [
           1217,
           "Assassins (1995)",
           39
          ],
          [
           1218,
           "Friday (1995)",
           26
          ],
          [
           1219,
           "Goofy Movie, A (1995)",
           20
          ],
          [
           1220,
           "Higher Learning (1995)",
           30
          ],
          [
           1221,
           "When a Man Loves a Woman (1994)",
           39
          ],
          [
           1222,
           "Judgment Night (1993)",
           25
          ],
          [
           1223,
           "King of the Hill (1993)",
           4
          ],
          [
           1224,
           "Scout, The (1994)",
           12
          ],
          [
           1225,
           "Angus (1995)",
           14
          ],
          [
           1226,
           "Night Falls on Manhattan (1997)",
           32
          ],
          [
           1227,
           "Awfully Big Adventure, An (1995)",
           8
          ],
          [
           1228,
           "Under Siege 2: Dark Territory (1995)",
           48
          ],
          [
           1229,
           "Poison Ivy II (1995)",
           13
          ],
          [
           1230,
           "Ready to Wear (Pret-A-Porter) (1994)",
           18
          ],
          [
           1231,
           "Marked for Death (1990)",
           22
          ],
          [
           1232,
           "Madonna: Truth or Dare (1991)",
           17
          ],
          [
           1233,
           "Nénette et Boni (1996)",
           6
          ],
          [
           1234,
           "Chairman of the Board (1998)",
           8
          ],
          [
           1235,
           "Big Bang Theory, The (1994)",
           1
          ],
          [
           1236,
           "Other Voices, Other Rooms (1997)",
           1
          ],
          [
           1237,
           "Twisted (1996)",
           6
          ],
          [
           1238,
           "Full Speed (1996)",
           8
          ],
          [
           1239,
           "Cutthroat Island (1995)",
           18
          ],
          [
           1240,
           "Ghost in the Shell (Kokaku kidotai) (1995)",
           26
          ],
          [
           1241,
           "Van, The (1996)",
           6
          ],
          [
           1242,
           "Old Lady Who Walked in the Sea, The (Vieille qui marchait dans la mer, La) (1991)",
           5
          ],
          [
           1243,
           "Night Flier (1997)",
           7
          ],
          [
           1244,
           "Metro (1997)",
           36
          ],
          [
           1245,
           "Gridlock'd (1997)",
           19
          ],
          [
           1246,
           "Bushwhacked (1995)",
           7
          ],
          [
           1247,
           "Bad Girls (1994)",
           6
          ],
          [
           1248,
           "Blink (1994)",
           19
          ],
          [
           1249,
           "For Love or Money (1993)",
           12
          ],
          [
           1250,
           "Best of the Best 3: No Turning Back (1995)",
           6
          ],
          [
           1251,
           "A Chef in Love (1996)",
           8
          ],
          [
           1252,
           "Contempt (Mépris, Le) (1963)",
           9
          ],
          [
           1253,
           "Tie That Binds, The (1995)",
           7
          ],
          [
           1254,
           "Gone Fishin' (1997)",
           11
          ],
          [
           1255,
           "Broken English (1996)",
           8
          ],
          [
           1256,
           "Designated Mourner, The (1997)",
           3
          ],
          [
           1257,
           "Designated Mourner, The (1997)",
           4
          ],
          [
           1258,
           "Trial and Error (1997)",
           23
          ],
          [
           1259,
           "Pie in the Sky (1995)",
           4
          ],
          [
           1260,
           "Total Eclipse (1995)",
           4
          ],
          [
           1261,
           "Run of the Country, The (1995)",
           4
          ],
          [
           1262,
           "Walking and Talking (1996)",
           8
          ],
          [
           1263,
           "Foxfire (1996)",
           15
          ],
          [
           1264,
           "Nothing to Lose (1994)",
           7
          ],
          [
           1265,
           "Star Maps (1997)",
           19
          ],
          [
           1266,
           "Bread and Chocolate (Pane e cioccolata) (1973)",
           12
          ],
          [
           1267,
           "Clockers (1995)",
           33
          ],
          [
           1268,
           "Bitter Moon (1992)",
           10
          ],
          [
           1269,
           "Love in the Afternoon (1957)",
           10
          ],
          [
           1270,
           "Life with Mikey (1993)",
           7
          ],
          [
           1271,
           "North (1994)",
           7
          ],
          [
           1272,
           "Talking About Sex (1994)",
           5
          ],
          [
           1273,
           "Color of Night (1994)",
           15
          ],
          [
           1274,
           "Robocop 3 (1993)",
           11
          ],
          [
           1275,
           "Killer (Bulletproof Heart) (1994)",
           4
          ],
          [
           1276,
           "Sunset Park (1996)",
           8
          ],
          [
           1277,
           "Set It Off (1996)",
           19
          ],
          [
           1278,
           "Selena (1997)",
           16
          ],
          [
           1279,
           "Wild America (1997)",
           9
          ],
          [
           1280,
           "Gang Related (1997)",
           16
          ],
          [
           1281,
           "Manny & Lo (1996)",
           13
          ],
          [
           1282,
           "Grass Harp, The (1995)",
           9
          ],
          [
           1283,
           "Out to Sea (1997)",
           19
          ],
          [
           1284,
           "Before and After (1996)",
           26
          ],
          [
           1285,
           "Princess Caraboo (1994)",
           15
          ],
          [
           1286,
           "Shall We Dance? (1937)",
           17
          ],
          [
           1287,
           "Ed (1996)",
           6
          ],
          [
           1288,
           "Denise Calls Up (1995)",
           7
          ],
          [
           1289,
           "Jack and Sarah (1995)",
           7
          ],
          [
           1290,
           "Country Life (1994)",
           2
          ],
          [
           1291,
           "Celtic Pride (1996)",
           15
          ],
          [
           1292,
           "Simple Wish, A (1997)",
           3
          ],
          [
           1293,
           "Star Kid (1997)",
           3
          ],
          [
           1294,
           "Ayn Rand: A Sense of Life (1997)",
           7
          ],
          [
           1295,
           "Kicked in the Head (1997)",
           7
          ],
          [
           1296,
           "Indian Summer (1996)",
           20
          ],
          [
           1297,
           "Love Affair (1994)",
           12
          ],
          [
           1298,
           "Band Wagon, The (1953)",
           9
          ],
          [
           1299,
           "Penny Serenade (1941)",
           8
          ],
          [
           1300,
           "'Til There Was You (1997)",
           9
          ],
          [
           1301,
           "Stripes (1981)",
           5
          ],
          [
           1302,
           "Late Bloomers (1996)",
           5
          ],
          [
           1303,
           "Getaway, The (1994)",
           18
          ],
          [
           1304,
           "New York Cop (1996)",
           2
          ],
          [
           1305,
           "National Lampoon's Senior Trip (1995)",
           7
          ],
          [
           1306,
           "Delta of Venus (1994)",
           2
          ],
          [
           1307,
           "Carmen Miranda: Bananas Is My Business (1994)",
           2
          ],
          [
           1308,
           "Babyfever (1994)",
           2
          ],
          [
           1309,
           "Very Natural Thing, A (1974)",
           1
          ],
          [
           1310,
           "Walk in the Sun, A (1945)",
           1
          ],
          [
           1311,
           "Waiting to Exhale (1995)",
           16
          ],
          [
           1312,
           "Pompatus of Love, The (1996)",
           7
          ],
          [
           1313,
           "Palmetto (1998)",
           14
          ],
          [
           1314,
           "Surviving the Game (1994)",
           11
          ],
          [
           1315,
           "Inventing the Abbotts (1997)",
           23
          ],
          [
           1316,
           "Horse Whisperer, The (1998)",
           7
          ],
          [
           1317,
           "Journey of August King, The (1995)",
           4
          ],
          [
           1318,
           "Catwalk (1995)",
           3
          ],
          [
           1319,
           "Neon Bible, The (1995)",
           4
          ],
          [
           1320,
           "Homage (1995)",
           1
          ],
          [
           1321,
           "Open Season (1996)",
           2
          ],
          [
           1322,
           "Metisse (Café au Lait) (1993)",
           6
          ],
          [
           1323,
           "Wooden Man's Bride, The (Wu Kui) (1994)",
           3
          ],
          [
           1324,
           "Loaded (1994)",
           5
          ],
          [
           1325,
           "August (1996)",
           1
          ],
          [
           1326,
           "Boys (1996)",
           6
          ],
          [
           1327,
           "Captives (1994)",
           3
          ],
          [
           1328,
           "Of Love and Shadows (1994)",
           6
          ],
          [
           1329,
           "Low Life, The (1994)",
           1
          ],
          [
           1330,
           "An Unforgettable Summer (1994)",
           4
          ],
          [
           1331,
           "Last Klezmer: Leopold Kozlowski, His Life and Music, The (1995)",
           4
          ],
          [
           1332,
           "My Life and Times With Antonin Artaud (En compagnie d'Antonin Artaud) (1993)",
           2
          ],
          [
           1333,
           "Midnight Dancers (Sibak) (1994)",
           5
          ],
          [
           1334,
           "Somebody to Love (1994)",
           2
          ],
          [
           1335,
           "American Buffalo (1996)",
           11
          ],
          [
           1336,
           "Kazaam (1996)",
           10
          ],
          [
           1337,
           "Larger Than Life (1996)",
           9
          ],
          [
           1338,
           "Two Deaths (1995)",
           4
          ],
          [
           1339,
           "Stefano Quantestorie (1993)",
           1
          ],
          [
           1340,
           "Crude Oasis, The (1995)",
           1
          ],
          [
           1341,
           "Hedd Wyn (1992)",
           1
          ],
          [
           1342,
           "Convent, The (Convento, O) (1995)",
           2
          ],
          [
           1343,
           "Lotto Land (1995)",
           1
          ],
          [
           1344,
           "Story of Xinghua, The (1993)",
           5
          ],
          [
           1345,
           "Day the Sun Turned Cold, The (Tianguo niezi) (1994)",
           2
          ],
          [
           1346,
           "Dingo (1992)",
           5
          ],
          [
           1347,
           "Ballad of Narayama, The (Narayama Bushiko) (1958)",
           4
          ],
          [
           1348,
           "Every Other Weekend (1990)",
           1
          ],
          [
           1349,
           "Mille bolle blu (1993)",
           1
          ],
          [
           1350,
           "Crows and Sparrows (1949)",
           2
          ],
          [
           1351,
           "Lover's Knot (1996)",
           3
          ],
          [
           1352,
           "Shadow of Angels (Schatten der Engel) (1976)",
           1
          ],
          [
           1353,
           "1-900 (1994)",
           5
          ],
          [
           1354,
           "Venice/Venice (1992)",
           2
          ],
          [
           1355,
           "Infinity (1996)",
           6
          ],
          [
           1356,
           "Ed's Next Move (1996)",
           3
          ],
          [
           1357,
           "For the Moment (1994)",
           3
          ],
          [
           1358,
           "The Deadly Cure (1996)",
           2
          ],
          [
           1359,
           "Boys in Venice (1996)",
           2
          ],
          [
           1360,
           "Sexual Life of the Belgians, The (1994)",
           2
          ],
          [
           1361,
           "Search for One-eye Jimmy, The (1996)",
           3
          ],
          [
           1362,
           "American Strays (1996)",
           2
          ],
          [
           1363,
           "Leopard Son, The (1996)",
           1
          ],
          [
           1364,
           "Bird of Prey (1996)",
           1
          ],
          [
           1365,
           "Johnny 100 Pesos (1993)",
           2
          ],
          [
           1366,
           "JLG/JLG - autoportrait de décembre (1994)",
           1
          ],
          [
           1367,
           "Faust (1994)",
           5
          ],
          [
           1368,
           "Mina Tannenbaum (1994)",
           6
          ],
          [
           1369,
           "Forbidden Christ, The (Cristo proibito, Il) (1950)",
           4
          ],
          [
           1370,
           "I Can't Sleep (J'ai pas sommeil) (1994)",
           3
          ],
          [
           1371,
           "Machine, The (1994)",
           2
          ],
          [
           1372,
           "Stranger, The (1994)",
           3
          ],
          [
           1373,
           "Good Morning (1971)",
           1
          ],
          [
           1374,
           "Falling in Love Again (1980)",
           2
          ],
          [
           1375,
           "Cement Garden, The (1993)",
           10
          ],
          [
           1376,
           "Meet Wally Sparks (1997)",
           7
          ],
          [
           1377,
           "Hotel de Love (1996)",
           4
          ],
          [
           1378,
           "Rhyme & Reason (1997)",
           5
          ],
          [
           1379,
           "Love and Other Catastrophes (1996)",
           7
          ],
          [
           1380,
           "Hollow Reed (1996)",
           6
          ],
          [
           1381,
           "Losing Chase (1996)",
           8
          ],
          [
           1382,
           "Bonheur, Le (1965)",
           4
          ],
          [
           1383,
           "Second Jungle Book: Mowgli & Baloo, The (1997)",
           6
          ],
          [
           1384,
           "Squeeze (1996)",
           3
          ],
          [
           1385,
           "Roseanna's Grave (For Roseanna) (1997)",
           5
          ],
          [
           1386,
           "Tetsuo II: Body Hammer (1992)",
           6
          ],
          [
           1387,
           "Fall (1997)",
           3
          ],
          [
           1388,
           "Gabbeh (1996)",
           6
          ],
          [
           1389,
           "Mondo (1996)",
           3
          ],
          [
           1390,
           "Innocent Sleep, The (1995)",
           2
          ],
          [
           1391,
           "For Ever Mozart (1996)",
           3
          ],
          [
           1392,
           "Locusts, The (1997)",
           5
          ],
          [
           1393,
           "Stag (1997)",
           9
          ],
          [
           1394,
           "Swept from the Sea (1997)",
           7
          ],
          [
           1395,
           "Hurricane Streets (1998)",
           6
          ],
          [
           1396,
           "Stonewall (1995)",
           5
          ],
          [
           1397,
           "Of Human Bondage (1934)",
           5
          ],
          [
           1398,
           "Anna (1996)",
           2
          ],
          [
           1399,
           "Stranger in the House (1997)",
           7
          ],
          [
           1400,
           "Picture Bride (1995)",
           10
          ],
          [
           1401,
           "M. Butterfly (1993)",
           18
          ],
          [
           1402,
           "Ciao, Professore! (1993)",
           4
          ],
          [
           1403,
           "Caro Diario (Dear Diary) (1994)",
           4
          ],
          [
           1404,
           "Withnail and I (1987)",
           13
          ],
          [
           1405,
           "Boy's Life 2 (1997)",
           6
          ],
          [
           1406,
           "When Night Is Falling (1995)",
           5
          ],
          [
           1407,
           "Specialist, The (1994)",
           20
          ],
          [
           1408,
           "Gordy (1995)",
           3
          ],
          [
           1409,
           "Swan Princess, The (1994)",
           7
          ],
          [
           1410,
           "Harlem (1993)",
           4
          ],
          [
           1411,
           "Barbarella (1968)",
           28
          ],
          [
           1412,
           "Land Before Time III: The Time of the Great Giving (1995) (V)",
           6
          ],
          [
           1413,
           "Street Fighter (1994)",
           8
          ],
          [
           1414,
           "Coldblooded (1995)",
           1
          ],
          [
           1415,
           "Next Karate Kid, The (1994)",
           9
          ],
          [
           1416,
           "No Escape (1994)",
           5
          ],
          [
           1417,
           "Turning, The (1992)",
           2
          ],
          [
           1418,
           "Joy Luck Club, The (1993)",
           3
          ],
          [
           1419,
           "Highlander III: The Sorcerer (1994)",
           16
          ],
          [
           1420,
           "Gilligan's Island: The Movie (1998)",
           3
          ],
          [
           1421,
           "My Crazy Life (Mi vida loca) (1993)",
           11
          ],
          [
           1422,
           "Suture (1993)",
           4
          ],
          [
           1423,
           "Walking Dead, The (1995)",
           4
          ],
          [
           1424,
           "I Like It Like That (1994)",
           3
          ],
          [
           1425,
           "I'll Do Anything (1994)",
           10
          ],
          [
           1426,
           "Grace of My Heart (1996)",
           8
          ],
          [
           1427,
           "Drunks (1995)",
           5
          ],
          [
           1428,
           "SubUrbia (1997)",
           12
          ],
          [
           1429,
           "Sliding Doors (1998)",
           4
          ],
          [
           1430,
           "Ill Gotten Gains (1997)",
           3
          ],
          [
           1431,
           "Legal Deceit (1997)",
           5
          ],
          [
           1432,
           "Mighty, The (1998)",
           3
          ],
          [
           1433,
           "Men of Means (1998)",
           2
          ],
          [
           1434,
           "Shooting Fish (1997)",
           10
          ],
          [
           1435,
           "Steal Big, Steal Little (1995)",
           7
          ],
          [
           1436,
           "Mr. Jones (1993)",
           2
          ],
          [
           1437,
           "House Party 3 (1994)",
           9
          ],
          [
           1438,
           "Panther (1995)",
           5
          ],
          [
           1439,
           "Jason's Lyric (1994)",
           8
          ],
          [
           1440,
           "Above the Rim (1994)",
           5
          ],
          [
           1441,
           "Moonlight and Valentino (1995)",
           7
          ],
          [
           1442,
           "Scarlet Letter, The (1995)",
           5
          ],
          [
           1443,
           "8 Seconds (1994)",
           4
          ],
          [
           1444,
           "That Darn Cat! (1965)",
           19
          ],
          [
           1445,
           "Ladybird Ladybird (1994)",
           4
          ],
          [
           1446,
           "Bye Bye, Love (1995)",
           15
          ],
          [
           1447,
           "Century (1993)",
           1
          ],
          [
           1448,
           "My Favorite Season (1993)",
           3
          ],
          [
           1449,
           "Pather Panchali (1955)",
           8
          ],
          [
           1450,
           "Golden Earrings (1947)",
           2
          ],
          [
           1451,
           "Foreign Correspondent (1940)",
           15
          ],
          [
           1452,
           "Lady of Burlesque (1943)",
           1
          ],
          [
           1453,
           "Angel on My Shoulder (1946)",
           1
          ],
          [
           1454,
           "Angel and the Badman (1947)",
           6
          ],
          [
           1455,
           "Outlaw, The (1943)",
           2
          ],
          [
           1456,
           "Beat the Devil (1954)",
           7
          ],
          [
           1457,
           "Love Is All There Is (1996)",
           1
          ],
          [
           1458,
           "Damsel in Distress, A (1937)",
           1
          ],
          [
           1459,
           "Madame Butterfly (1995)",
           7
          ],
          [
           1460,
           "Sleepover (1995)",
           1
          ],
          [
           1461,
           "Here Comes Cookie (1935)",
           1
          ],
          [
           1462,
           "Thieves (Voleurs, Les) (1996)",
           7
          ],
          [
           1463,
           "Boys, Les (1997)",
           3
          ],
          [
           1464,
           "Stars Fell on Henrietta, The (1995)",
           3
          ],
          [
           1465,
           "Last Summer in the Hamptons (1995)",
           3
          ],
          [
           1466,
           "Margaret's Museum (1995)",
           6
          ],
          [
           1467,
           "Saint of Fort Washington, The (1993)",
           2
          ],
          [
           1468,
           "Cure, The (1995)",
           6
          ],
          [
           1469,
           "Tom and Huck (1995)",
           12
          ],
          [
           1470,
           "Gumby: The Movie (1995)",
           5
          ],
          [
           1471,
           "Hideaway (1995)",
           9
          ],
          [
           1472,
           "Visitors, The (Visiteurs, Les) (1993)",
           2
          ],
          [
           1473,
           "Little Princess, The (1939)",
           9
          ],
          [
           1474,
           "Nina Takes a Lover (1994)",
           6
          ],
          [
           1475,
           "Bhaji on the Beach (1993)",
           8
          ],
          [
           1476,
           "Raw Deal (1948)",
           1
          ],
          [
           1477,
           "Nightwatch (1997)",
           2
          ],
          [
           1478,
           "Dead Presidents (1995)",
           18
          ],
          [
           1479,
           "Reckless (1995)",
           8
          ],
          [
           1480,
           "Herbie Rides Again (1974)",
           11
          ],
          [
           1481,
           "S.F.W. (1994)",
           2
          ],
          [
           1482,
           "Gate of Heavenly Peace, The (1995)",
           1
          ],
          [
           1483,
           "Man in the Iron Mask, The (1998)",
           12
          ],
          [
           1484,
           "Jerky Boys, The (1994)",
           3
          ],
          [
           1485,
           "Colonel Chabert, Le (1994)",
           4
          ],
          [
           1486,
           "Girl in the Cadillac (1995)",
           1
          ],
          [
           1487,
           "Even Cowgirls Get the Blues (1993)",
           5
          ],
          [
           1488,
           "Germinal (1993)",
           4
          ],
          [
           1489,
           "Chasers (1994)",
           5
          ],
          [
           1490,
           "Fausto (1993)",
           3
          ],
          [
           1491,
           "Tough and Deadly (1995)",
           2
          ],
          [
           1492,
           "Window to Paris (1994)",
           1
          ],
          [
           1493,
           "Modern Affair, A (1995)",
           1
          ],
          [
           1494,
           "Mostro, Il (1994)",
           1
          ],
          [
           1495,
           "Flirt (1995)",
           5
          ],
          [
           1496,
           "Carpool (1996)",
           5
          ],
          [
           1497,
           "Line King: Al Hirschfeld, The (1996)",
           2
          ],
          [
           1498,
           "Farmer & Chase (1995)",
           1
          ],
          [
           1499,
           "Grosse Fatigue (1994)",
           4
          ],
          [
           1500,
           "Santa with Muscles (1996)",
           2
          ],
          [
           1501,
           "Prisoner of the Mountains (Kavkazsky Plennik) (1996)",
           5
          ],
          [
           1502,
           "Naked in New York (1994)",
           2
          ],
          [
           1503,
           "Gold Diggers: The Secret of Bear Mountain (1995)",
           10
          ],
          [
           1504,
           "Bewegte Mann, Der (1994)",
           3
          ],
          [
           1505,
           "Killer: A Journal of Murder (1995)",
           1
          ],
          [
           1506,
           "Nelly & Monsieur Arnaud (1995)",
           3
          ],
          [
           1507,
           "Three Lives and Only One Death (1996)",
           1
          ],
          [
           1508,
           "Babysitter, The (1995)",
           3
          ],
          [
           1509,
           "Getting Even with Dad (1994)",
           5
          ],
          [
           1510,
           "Mad Dog Time (1996)",
           1
          ],
          [
           1511,
           "Children of the Revolution (1996)",
           5
          ],
          [
           1512,
           "World of Apu, The (Apur Sansar) (1959)",
           6
          ],
          [
           1513,
           "Sprung (1997)",
           3
          ],
          [
           1514,
           "Dream With the Fishes (1997)",
           7
          ],
          [
           1515,
           "Wings of Courage (1995)",
           1
          ],
          [
           1516,
           "Wedding Gift, The (1994)",
           3
          ],
          [
           1517,
           "Race the Sun (1996)",
           5
          ],
          [
           1518,
           "Losing Isaiah (1995)",
           12
          ],
          [
           1519,
           "New Jersey Drive (1995)",
           2
          ],
          [
           1520,
           "Fear, The (1995)",
           1
          ],
          [
           1521,
           "Mr. Wonderful (1993)",
           4
          ],
          [
           1522,
           "Trial by Jury (1994)",
           7
          ],
          [
           1523,
           "Good Man in Africa, A (1994)",
           2
          ],
          [
           1524,
           "Kaspar Hauser (1993)",
           8
          ],
          [
           1525,
           "Object of My Affection, The (1998)",
           1
          ],
          [
           1526,
           "Witness (1985)",
           1
          ],
          [
           1527,
           "Senseless (1998)",
           7
          ],
          [
           1528,
           "Nowhere (1997)",
           3
          ],
          [
           1529,
           "Underground (1995)",
           5
          ],
          [
           1530,
           "Jefferson in Paris (1995)",
           5
          ],
          [
           1531,
           "Far From Home: The Adventures of Yellow Dog (1995)",
           7
          ],
          [
           1532,
           "Foreign Student (1994)",
           2
          ],
          [
           1533,
           "I Don't Want to Talk About It (De eso no se habla) (1993)",
           1
          ],
          [
           1534,
           "Twin Town (1997)",
           6
          ],
          [
           1535,
           "Enfer, L' (1994)",
           4
          ],
          [
           1536,
           "Aiqing wansui (1994)",
           1
          ],
          [
           1537,
           "Cosi (1996)",
           4
          ],
          [
           1538,
           "All Over Me (1997)",
           3
          ],
          [
           1539,
           "Being Human (1993)",
           4
          ],
          [
           1540,
           "Amazing Panda Adventure, The (1995)",
           10
          ],
          [
           1541,
           "Beans of Egypt, Maine, The (1994)",
           2
          ],
          [
           1542,
           "Scarlet Letter, The (1926)",
           2
          ],
          [
           1543,
           "Johns (1996)",
           1
          ],
          [
           1544,
           "It Takes Two (1995)",
           3
          ],
          [
           1545,
           "Frankie Starlight (1995)",
           4
          ],
          [
           1546,
           "Shadows (Cienie) (1988)",
           1
          ],
          [
           1547,
           "Show, The (1995)",
           2
          ],
          [
           1548,
           "The Courtyard (1995)",
           1
          ],
          [
           1549,
           "Dream Man (1995)",
           2
          ],
          [
           1550,
           "Destiny Turns on the Radio (1995)",
           2
          ],
          [
           1551,
           "Glass Shield, The (1994)",
           2
          ],
          [
           1552,
           "Hunted, The (1995)",
           3
          ],
          [
           1553,
           "Underneath, The (1995)",
           4
          ],
          [
           1554,
           "Safe Passage (1994)",
           2
          ],
          [
           1555,
           "Secret Adventures of Tom Thumb, The (1993)",
           5
          ],
          [
           1556,
           "Condition Red (1995)",
           2
          ],
          [
           1557,
           "Yankee Zulu (1994)",
           1
          ],
          [
           1558,
           "Aparajito (1956)",
           7
          ],
          [
           1559,
           "Hostile Intentions (1994)",
           1
          ],
          [
           1560,
           "Clean Slate (Coup de Torchon) (1981)",
           4
          ],
          [
           1561,
           "Tigrero: A Film That Was Never Made (1994)",
           1
          ],
          [
           1562,
           "Eye of Vichy, The (Oeil de Vichy, L') (1993)",
           1
          ],
          [
           1563,
           "Promise, The (Versprechen, Das) (1994)",
           1
          ],
          [
           1564,
           "To Cross the Rubicon (1991)",
           1
          ],
          [
           1565,
           "Daens (1992)",
           1
          ],
          [
           1566,
           "Man from Down Under, The (1943)",
           1
          ],
          [
           1567,
           "Careful (1992)",
           1
          ],
          [
           1568,
           "Vermont Is For Lovers (1992)",
           1
          ],
          [
           1569,
           "Vie est belle, La (Life is Rosey) (1987)",
           1
          ],
          [
           1570,
           "Quartier Mozart (1992)",
           1
          ],
          [
           1571,
           "Touki Bouki (Journey of the Hyena) (1973)",
           1
          ],
          [
           1572,
           "Wend Kuuni (God's Gift) (1982)",
           1
          ],
          [
           1573,
           "Spirits of the Dead (Tre passi nel delirio) (1968)",
           2
          ],
          [
           1574,
           "Pharaoh's Army (1995)",
           1
          ],
          [
           1575,
           "I, Worst of All (Yo, la peor de todas) (1990)",
           1
          ],
          [
           1576,
           "Hungarian Fairy Tale, A (1987)",
           1
          ],
          [
           1577,
           "Death in the Garden (Mort en ce jardin, La) (1956)",
           1
          ],
          [
           1578,
           "Collectionneuse, La (1967)",
           2
          ],
          [
           1579,
           "Baton Rouge (1988)",
           1
          ],
          [
           1580,
           "Liebelei (1933)",
           1
          ],
          [
           1581,
           "Woman in Question, The (1950)",
           1
          ],
          [
           1582,
           "T-Men (1947)",
           1
          ],
          [
           1583,
           "Invitation, The (Zaproszenie) (1986)",
           1
          ],
          [
           1584,
           "Symphonie pastorale, La (1946)",
           1
          ],
          [
           1585,
           "American Dream (1990)",
           2
          ],
          [
           1586,
           "Lashou shentan (1992)",
           1
          ],
          [
           1587,
           "Terror in a Texas Town (1958)",
           1
          ],
          [
           1588,
           "Salut cousin! (1996)",
           2
          ],
          [
           1589,
           "Schizopolis (1996)",
           4
          ],
          [
           1590,
           "To Have, or Not (1995)",
           2
          ],
          [
           1591,
           "Duoluo tianshi (1995)",
           6
          ],
          [
           1592,
           "Magic Hour, The (1998)",
           5
          ],
          [
           1593,
           "Death in Brunswick (1991)",
           1
          ],
          [
           1594,
           "Everest (1998)",
           2
          ],
          [
           1595,
           "Shopping (1994)",
           1
          ],
          [
           1596,
           "Nemesis 2: Nebula (1995)",
           1
          ],
          [
           1597,
           "Romper Stomper (1992)",
           5
          ],
          [
           1598,
           "City of Industry (1997)",
           6
          ],
          [
           1599,
           "Someone Else's America (1995)",
           1
          ],
          [
           1600,
           "Guantanamera (1994)",
           4
          ],
          [
           1601,
           "Office Killer (1997)",
           1
          ],
          [
           1602,
           "Price Above Rubies, A (1998)",
           3
          ],
          [
           1603,
           "Angela (1995)",
           1
          ],
          [
           1604,
           "He Walked by Night (1948)",
           1
          ],
          [
           1605,
           "Love Serenade (1996)",
           4
          ],
          [
           1606,
           "Deceiver (1997)",
           1
          ],
          [
           1607,
           "Hurricane Streets (1998)",
           3
          ],
          [
           1608,
           "Buddy (1997)",
           4
          ],
          [
           1609,
           "B*A*P*S (1997)",
           3
          ],
          [
           1610,
           "Truth or Consequences, N.M. (1997)",
           3
          ],
          [
           1611,
           "Intimate Relations (1996)",
           2
          ],
          [
           1612,
           "Leading Man, The (1996)",
           4
          ],
          [
           1613,
           "Tokyo Fist (1995)",
           1
          ],
          [
           1614,
           "Reluctant Debutante, The (1958)",
           1
          ],
          [
           1615,
           "Warriors of Virtue (1997)",
           10
          ],
          [
           1616,
           "Desert Winds (1995)",
           1
          ],
          [
           1617,
           "Hugo Pool (1997)",
           2
          ],
          [
           1618,
           "King of New York (1990)",
           1
          ],
          [
           1619,
           "All Things Fair (1996)",
           1
          ],
          [
           1620,
           "Sixth Man, The (1997)",
           9
          ],
          [
           1621,
           "Butterfly Kiss (1995)",
           1
          ],
          [
           1622,
           "Paris, France (1993)",
           3
          ],
          [
           1623,
           "Cérémonie, La (1995)",
           3
          ],
          [
           1624,
           "Hush (1998)",
           1
          ],
          [
           1625,
           "Nightwatch (1997)",
           1
          ],
          [
           1626,
           "Nobody Loves Me (Keiner liebt mich) (1994)",
           1
          ],
          [
           1627,
           "Wife, The (1995)",
           1
          ],
          [
           1628,
           "Lamerica (1994)",
           4
          ],
          [
           1629,
           "Nico Icon (1995)",
           2
          ],
          [
           1630,
           "Silence of the Palace, The (Saimt el Qusur) (1994)",
           1
          ],
          [
           1631,
           "Slingshot, The (1993)",
           2
          ],
          [
           1632,
           "Land and Freedom (Tierra y libertad) (1995)",
           1
          ],
          [
           1633,
           "Á köldum klaka (Cold Fever) (1994)",
           1
          ],
          [
           1634,
           "Etz Hadomim Tafus (Under the Domin Tree) (1994)",
           1
          ],
          [
           1635,
           "Two Friends (1986) ",
           1
          ],
          [
           1636,
           "Brothers in Trouble (1995)",
           1
          ],
          [
           1637,
           "Girls Town (1996)",
           1
          ],
          [
           1638,
           "Normal Life (1996)",
           1
          ],
          [
           1639,
           "Bitter Sugar (Azucar Amargo) (1996)",
           3
          ],
          [
           1640,
           "Eighth Day, The (1996)",
           1
          ],
          [
           1641,
           "Dadetown (1995)",
           1
          ],
          [
           1642,
           "Some Mother's Son (1996)",
           2
          ],
          [
           1643,
           "Angel Baby (1995)",
           4
          ],
          [
           1644,
           "Sudden Manhattan (1996)",
           2
          ],
          [
           1645,
           "Butcher Boy, The (1998)",
           1
          ],
          [
           1646,
           "Men With Guns (1997)",
           2
          ],
          [
           1647,
           "Hana-bi (1997)",
           1
          ],
          [
           1648,
           "Niagara, Niagara (1997)",
           1
          ],
          [
           1649,
           "Big One, The (1997)",
           1
          ],
          [
           1650,
           "Butcher Boy, The (1998)",
           1
          ],
          [
           1651,
           "Spanish Prisoner, The (1997)",
           1
          ],
          [
           1652,
           "Temptress Moon (Feng Yue) (1996)",
           3
          ],
          [
           1653,
           "Entertaining Angels: The Dorothy Day Story (1996)",
           1
          ],
          [
           1654,
           "Chairman of the Board (1998)",
           1
          ],
          [
           1655,
           "Favor, The (1994)",
           1
          ],
          [
           1656,
           "Little City (1998)",
           2
          ],
          [
           1657,
           "Target (1995)",
           1
          ],
          [
           1658,
           "Substance of Fire, The (1996)",
           3
          ],
          [
           1659,
           "Getting Away With Murder (1996)",
           1
          ],
          [
           1660,
           "Small Faces (1995)",
           1
          ],
          [
           1661,
           "New Age, The (1994)",
           1
          ],
          [
           1662,
           "Rough Magic (1995)",
           2
          ],
          [
           1663,
           "Nothing Personal (1995)",
           1
          ],
          [
           1664,
           "8 Heads in a Duffel Bag (1997)",
           4
          ],
          [
           1665,
           "Brother's Kiss, A (1997)",
           1
          ],
          [
           1666,
           "Ripe (1996)",
           1
          ],
          [
           1667,
           "Next Step, The (1995)",
           1
          ],
          [
           1668,
           "Wedding Bell Blues (1996)",
           1
          ],
          [
           1669,
           "MURDER and murder (1996)",
           1
          ],
          [
           1670,
           "Tainted (1998)",
           1
          ],
          [
           1671,
           "Further Gesture, A (1996)",
           1
          ],
          [
           1672,
           "Kika (1993)",
           2
          ],
          [
           1673,
           "Mirage (1995)",
           1
          ],
          [
           1674,
           "Mamma Roma (1962)",
           1
          ],
          [
           1675,
           "Sunchaser, The (1996)",
           1
          ],
          [
           1676,
           "War at Home, The (1996)",
           1
          ],
          [
           1677,
           "Sweet Nothing (1995)",
           1
          ],
          [
           1678,
           "Mat' i syn (1997)",
           1
          ],
          [
           1679,
           "B. Monkey (1998)",
           1
          ],
          [
           1680,
           "Sliding Doors (1998)",
           1
          ],
          [
           1681,
           "You So Crazy (1994)",
           1
          ],
          [
           1682,
           "Scream of Stone (Schrei aus Stein) (1991)",
           1
          ]
         ],
         "hovertemplate": "tsne_1=%{x}<br>tsne_2=%{y}<br>item_id=%{customdata[0]}<br>title=%{customdata[1]}<br>popularity=%{marker.color}<extra></extra>",
         "legendgroup": "",
         "marker": {
          "color": [
           452,
           131,
           90,
           209,
           86,
           26,
           392,
           219,
           299,
           89,
           236,
           267,
           184,
           183,
           293,
           39,
           92,
           10,
           69,
           72,
           84,
           297,
           182,
           174,
           293,
           73,
           57,
           276,
           114,
           37,
           154,
           81,
           97,
           7,
           11,
           13,
           8,
           120,
           87,
           57,
           37,
           148,
           40,
           79,
           80,
           27,
           133,
           117,
           81,
           583,
           81,
           91,
           128,
           104,
           149,
           394,
           40,
           175,
           83,
           64,
           59,
           127,
           82,
           283,
           115,
           162,
           103,
           134,
           321,
           251,
           220,
           129,
           128,
           7,
           5,
           54,
           151,
           33,
           336,
           68,
           110,
           261,
           176,
           18,
           58,
           150,
           138,
           213,
           275,
           95,
           143,
           104,
           112,
           137,
           219,
           295,
           256,
           390,
           172,
           508,
           73,
           54,
           15,
           5,
           74,
           71,
           42,
           65,
           130,
           31,
           272,
           20,
           9,
           67,
           15,
           125,
           378,
           293,
           4,
           67,
           429,
           106,
           115,
           187,
           244,
           97,
           413,
           65,
           129,
           23,
           95,
           246,
           171,
           198,
           259,
           105,
           171,
           19,
           50,
           61,
           72,
           57,
           222,
           243,
           65,
           10,
           185,
           128,
           23,
           157,
           326,
           82,
           247,
           174,
           98,
           148,
           127,
           60,
           101,
           69,
           220,
           106,
           92,
           151,
           64,
           58,
           67,
           316,
           118,
           121,
           65,
           367,
           324,
           420,
           208,
           284,
           137,
           125,
           221,
           221,
           507,
           226,
           291,
           116,
           239,
           251,
           209,
           170,
           66,
           124,
           276,
           116,
           157,
           241,
           301,
           251,
           239,
           127,
           165,
           206,
           89,
           280,
           182,
           350,
           136,
           50,
           66,
           200,
           191,
           331,
           206,
           92,
           134,
           114,
           212,
           290,
           120,
           171,
           111,
           66,
           74,
           365,
           136,
           44,
           109,
           166,
           161,
           244,
           171,
           199,
           142,
           101,
           124,
           280,
           217,
           45,
           384,
           256,
           150,
           156,
           128,
           117,
           132,
           48,
           240,
           124,
           5,
           160,
           130,
           197,
           46,
           158,
           26,
           62,
           172,
           16,
           303,
           509,
           162,
           127,
           43,
           66,
           19,
           101,
           227,
           35,
           9,
           255,
           315,
           136,
           211,
           198,
           223,
           190,
           268,
           298,
           71,
           60,
           28,
           85,
           146,
           232,
           177,
           193,
           162,
           481,
           78,
           478,
           259,
           96,
           127,
           114,
           147,
           485,
           77,
           6,
           50,
           194,
           73,
           431,
           230,
           297,
           134,
           149,
           87,
           96,
           188,
           30,
           28,
           145,
           75,
           80,
           350,
           5,
           160,
           112,
           102,
           298,
           168,
           20,
           169,
           218,
           240,
           125,
           128,
           175,
           175,
           295,
           45,
           41,
           113,
           143,
           251,
           64,
           21,
           43,
           18,
           91,
           47,
           189,
           11,
           52,
           124,
           55,
           65,
           126,
           137,
           27,
           31,
           41,
           20,
           26,
           14,
           72,
           41,
           97,
           264,
           143,
           18,
           10,
           10,
           28,
           47,
           37,
           48,
           47,
           170,
           31,
           55,
           39,
           67,
           34,
           39,
           11,
           23,
           24,
           13,
           101,
           43,
           116,
           100,
           111,
           31,
           69,
           208,
           87,
           65,
           28,
           27,
           10,
           59,
           68,
           192,
           12,
           56,
           54,
           12,
           26,
           89,
           18,
           76,
           170,
           201,
           101,
           344,
           49,
           43,
           112,
           70,
           162,
           163,
           93,
           55,
           62,
           25,
           64,
           73,
           129,
           178,
           81,
           106,
           26,
           300,
           19,
           85,
           32,
           219,
           121,
           97,
           93,
           153,
           174,
           171,
           67,
           216,
           99,
           5,
           6,
           5,
           14,
           53,
           4,
           162,
           46,
           22,
           9,
           121,
           85,
           117,
           63,
           170,
           66,
           16,
           16,
           145,
           48,
           27,
           90,
           24,
           28,
           74,
           148,
           71,
           27,
           85,
           52,
           48,
           64,
           67,
           108,
           221,
           158,
           126,
           194,
           250,
           160,
           95,
           104,
           179,
           179,
           63,
           128,
           243,
           138,
           125,
           64,
           68,
           65,
           52,
           50,
           67,
           59,
           60,
           56,
           59,
           231,
           68,
           152,
           62,
           31,
           123,
           57,
           39,
           122,
           68,
           90,
           98,
           215,
           121,
           121,
           173,
           57,
           72,
           180,
           201,
           63,
           91,
           89,
           80,
           124,
           120,
           35,
           164,
           46,
           73,
           124,
           195,
           121,
           93,
           80,
           129,
           22,
           15,
           13,
           54,
           10,
           30,
           66,
           44,
           43,
           49,
           51,
           21,
           71,
           12,
           254,
           41,
           12,
           92,
           151,
           24,
           45,
           63,
           102,
           10,
           12,
           17,
           70,
           137,
           22,
           59,
           48,
           29,
           27,
           22,
           179,
           35,
           230,
           67,
           50,
           28,
           29,
           33,
           15,
           44,
           93,
           41,
           92,
           19,
           32,
           59,
           168,
           37,
           79,
           39,
           34,
           14,
           202,
           43,
           18,
           178,
           9,
           12,
           5,
           64,
           127,
           206,
           4,
           1,
           2,
           20,
           50,
           209,
           81,
           31,
           66,
           66,
           30,
           60,
           41,
           40,
           34,
           27,
           51,
           59,
           64,
           18,
           18,
           64,
           43,
           11,
           39,
           39,
           22,
           82,
           4,
           75,
           169,
           77,
           31,
           119,
           58,
           69,
           24,
           23,
           91,
           38,
           44,
           40,
           82,
           33,
           89,
           4,
           35,
           27,
           38,
           70,
           67,
           50,
           72,
           171,
           90,
           34,
           147,
           227,
           44,
           131,
           79,
           115,
           153,
           88,
           82,
           116,
           46,
           100,
           5,
           12,
           6,
           13,
           36,
           46,
           65,
           86,
           48,
           54,
           77,
           1,
           219,
           107,
           34,
           27,
           100,
           49,
           169,
           157,
           50,
           69,
           44,
           87,
           155,
           16,
           164,
           91,
           44,
           13,
           79,
           40,
           10,
           102,
           15,
           10,
           53,
           19,
           24,
           137,
           6,
           70,
           101,
           104,
           79,
           1,
           51,
           72,
           13,
           87,
           58,
           82,
           16,
           29,
           86,
           54,
           58,
           34,
           76,
           16,
           14,
           63,
           45,
           81,
           24,
           39,
           180,
           15,
           27,
           137,
           78,
           59,
           31,
           164,
           63,
           58,
           267,
           39,
           92,
           16,
           119,
           102,
           316,
           51,
           124,
           180,
           39,
           24,
           57,
           96,
           128,
           4,
           21,
           11,
           46,
           44,
           115,
           149,
           29,
           32,
           9,
           11,
           52,
           42,
           57,
           41,
           49,
           17,
           32,
           26,
           9,
           4,
           76,
           31,
           69,
           84,
           10,
           37,
           2,
           39,
           14,
           13,
           3,
           47,
           66,
           10,
           86,
           10,
           46,
           21,
           36,
           31,
           9,
           5,
           26,
           16,
           40,
           9,
           8,
           27,
           50,
           9,
           31,
           43,
           45,
           18,
           18,
           56,
           1,
           112,
           21,
           3,
           25,
           40,
           93,
           22,
           4,
           82,
           49,
           83,
           80,
           57,
           13,
           34,
           1,
           91,
           22,
           49,
           25,
           15,
           26,
           25,
           4,
           4,
           53,
           48,
           27,
           30,
           42,
           176,
           44,
           55,
           9,
           53,
           4,
           4,
           1,
           14,
           16,
           66,
           36,
           1,
           3,
           15,
           16,
           3,
           18,
           24,
           86,
           21,
           119,
           6,
           5,
           24,
           9,
           75,
           42,
           81,
           39,
           53,
           47,
           52,
           33,
           136,
           59,
           45,
           34,
           13,
           7,
           13,
           53,
           64,
           15,
           13,
           43,
           6,
           53,
           14,
           19,
           106,
           44,
           2,
           58,
           9,
           42,
           12,
           42,
           18,
           20,
           27,
           21,
           2,
           20,
           13,
           4,
           4,
           9,
           2,
           11,
           13,
           18,
           7,
           8,
           96,
           5,
           46,
           34,
           58,
           85,
           34,
           101,
           6,
           104,
           40,
           80,
           57,
           40,
           21,
           68,
           7,
           32,
           37,
           25,
           60,
           32,
           46,
           45,
           40,
           43,
           40,
           61,
           17,
           48,
           71,
           30,
           39,
           45,
           22,
           11,
           49,
           46,
           2,
           14,
           64,
           25,
           34,
           23,
           41,
           9,
           21,
           26,
           12,
           18,
           75,
           8,
           34,
           28,
           4,
           32,
           44,
           12,
           49,
           27,
           35,
           22,
           8,
           20,
           15,
           44,
           22,
           23,
           4,
           86,
           32,
           33,
           25,
           4,
           66,
           7,
           31,
           14,
           16,
           16,
           10,
           10,
           17,
           8,
           8,
           9,
           22,
           23,
           47,
           37,
           64,
           44,
           93,
           100,
           38,
           98,
           12,
           137,
           50,
           32,
           31,
           35,
           38,
           32,
           31,
           15,
           44,
           4,
           3,
           148,
           14,
           20,
           7,
           16,
           32,
           27,
           68,
           24,
           24,
           17,
           90,
           25,
           62,
           28,
           8,
           40,
           25,
           46,
           134,
           73,
           25,
           43,
           41,
           25,
           24,
           23,
           10,
           10,
           22,
           15,
           35,
           39,
           29,
           12,
           41,
           4,
           53,
           16,
           44,
           12,
           18,
           27,
           16,
           7,
           66,
           77,
           7,
           12,
           8,
           22,
           45,
           2,
           8,
           8,
           6,
           21,
           11,
           21,
           10,
           13,
           38,
           37,
           43,
           12,
           23,
           12,
           29,
           3,
           18,
           42,
           13,
           8,
           74,
           7,
           19,
           4,
           18,
           4,
           18,
           5,
           28,
           41,
           7,
           15,
           22,
           10,
           29,
           13,
           19,
           47,
           59,
           17,
           21,
           1,
           3,
           12,
           4,
           32,
           11,
           13,
           28,
           1,
           13,
           32,
           30,
           38,
           46,
           29,
           29,
           5,
           33,
           17,
           9,
           44,
           15,
           3,
           9,
           3,
           21,
           9,
           26,
           9,
           7,
           28,
           19,
           12,
           3,
           1,
           25,
           4,
           11,
           26,
           13,
           5,
           25,
           6,
           14,
           12,
           11,
           22,
           10,
           27,
           14,
           15,
           7,
           8,
           5,
           22,
           7,
           19,
           9,
           10,
           10,
           13,
           19,
           10,
           18,
           3,
           13,
           44,
           3,
           11,
           3,
           13,
           10,
           31,
           11,
           3,
           45,
           7,
           23,
           7,
           1,
           8,
           21,
           18,
           6,
           19,
           17,
           20,
           15,
           38,
           12,
           6,
           6,
           9,
           30,
           6,
           39,
           26,
           20,
           30,
           39,
           25,
           4,
           12,
           14,
           32,
           8,
           48,
           13,
           18,
           22,
           17,
           6,
           8,
           1,
           1,
           6,
           8,
           18,
           26,
           6,
           5,
           7,
           36,
           19,
           7,
           6,
           19,
           12,
           6,
           8,
           9,
           7,
           11,
           8,
           3,
           4,
           23,
           4,
           4,
           4,
           8,
           15,
           7,
           19,
           12,
           33,
           10,
           10,
           7,
           7,
           5,
           15,
           11,
           4,
           8,
           19,
           16,
           9,
           16,
           13,
           9,
           19,
           26,
           15,
           17,
           6,
           7,
           7,
           2,
           15,
           3,
           3,
           7,
           7,
           20,
           12,
           9,
           8,
           9,
           5,
           5,
           18,
           2,
           7,
           2,
           2,
           2,
           1,
           1,
           16,
           7,
           14,
           11,
           23,
           7,
           4,
           3,
           4,
           1,
           2,
           6,
           3,
           5,
           1,
           6,
           3,
           6,
           1,
           4,
           4,
           2,
           5,
           2,
           11,
           10,
           9,
           4,
           1,
           1,
           1,
           2,
           1,
           5,
           2,
           5,
           4,
           1,
           1,
           2,
           3,
           1,
           5,
           2,
           6,
           3,
           3,
           2,
           2,
           2,
           3,
           2,
           1,
           1,
           2,
           1,
           5,
           6,
           4,
           3,
           2,
           3,
           1,
           2,
           10,
           7,
           4,
           5,
           7,
           6,
           8,
           4,
           6,
           3,
           5,
           6,
           3,
           6,
           3,
           2,
           3,
           5,
           9,
           7,
           6,
           5,
           5,
           2,
           7,
           10,
           18,
           4,
           4,
           13,
           6,
           5,
           20,
           3,
           7,
           4,
           28,
           6,
           8,
           1,
           9,
           5,
           2,
           3,
           16,
           3,
           11,
           4,
           4,
           3,
           10,
           8,
           5,
           12,
           4,
           3,
           5,
           3,
           2,
           10,
           7,
           2,
           9,
           5,
           8,
           5,
           7,
           5,
           4,
           19,
           4,
           15,
           1,
           3,
           8,
           2,
           15,
           1,
           1,
           6,
           2,
           7,
           1,
           1,
           7,
           1,
           1,
           7,
           3,
           3,
           3,
           6,
           2,
           6,
           12,
           5,
           9,
           2,
           9,
           6,
           8,
           1,
           2,
           18,
           8,
           11,
           2,
           1,
           12,
           3,
           4,
           1,
           5,
           4,
           5,
           3,
           2,
           1,
           1,
           1,
           5,
           5,
           2,
           1,
           4,
           2,
           5,
           2,
           10,
           3,
           1,
           3,
           1,
           3,
           5,
           1,
           5,
           6,
           3,
           7,
           1,
           3,
           5,
           12,
           2,
           1,
           4,
           7,
           2,
           8,
           1,
           1,
           7,
           3,
           5,
           5,
           7,
           2,
           1,
           6,
           4,
           1,
           4,
           3,
           4,
           10,
           2,
           2,
           1,
           3,
           4,
           1,
           2,
           1,
           2,
           2,
           2,
           3,
           4,
           2,
           5,
           2,
           1,
           7,
           1,
           4,
           1,
           1,
           1,
           1,
           1,
           1,
           1,
           1,
           1,
           1,
           1,
           1,
           2,
           1,
           1,
           1,
           1,
           2,
           1,
           1,
           1,
           1,
           1,
           1,
           2,
           1,
           1,
           2,
           4,
           2,
           6,
           5,
           1,
           2,
           1,
           1,
           5,
           6,
           1,
           4,
           1,
           3,
           1,
           1,
           4,
           1,
           3,
           4,
           3,
           3,
           2,
           4,
           1,
           1,
           10,
           1,
           2,
           1,
           1,
           9,
           1,
           3,
           3,
           1,
           1,
           1,
           1,
           4,
           2,
           1,
           2,
           1,
           1,
           1,
           1,
           1,
           1,
           1,
           3,
           1,
           1,
           2,
           4,
           2,
           1,
           2,
           1,
           1,
           1,
           1,
           1,
           3,
           1,
           1,
           1,
           2,
           1,
           3,
           1,
           1,
           1,
           2,
           1,
           4,
           1,
           1,
           1,
           1,
           1,
           1,
           1,
           2,
           1,
           1,
           1,
           1,
           1,
           1,
           1,
           1,
           1,
           1
          ],
          "coloraxis": "coloraxis",
          "symbol": "circle"
         },
         "mode": "markers",
         "name": "",
         "showlegend": false,
         "type": "scattergl",
         "x": [
          -7.337915897369385,
          -10.162566184997559,
          -3.4081456661224365,
          17.34109115600586,
          -5.844155311584473,
          15.684880256652832,
          14.288717269897461,
          27.867952346801758,
          31.115549087524414,
          21.788604736328125,
          35.53207778930664,
          15.804387092590332,
          15.388372421264648,
          13.434709548950195,
          -1.7244763374328613,
          14.953751564025879,
          -15.482154846191406,
          19.83121681213379,
          12.142220497131348,
          14.725418090820312,
          -7.688147068023682,
          -8.505674362182617,
          33.874908447265625,
          0.8184905052185059,
          -0.07574174553155899,
          -22.341712951660156,
          2.7595839500427246,
          17.633350372314453,
          -28.039897918701172,
          7.824806213378906,
          -7.597996711730957,
          21.85586929321289,
          -16.69400405883789,
          -5.43061637878418,
          -16.798263549804688,
          -5.7667436599731445,
          12.297277450561523,
          -7.564653396606445,
          7.5216450691223145,
          1.400694727897644,
          -1.4779760837554932,
          -15.684176445007324,
          8.291150093078613,
          7.618685722351074,
          13.151878356933594,
          12.014119148254395,
          26.884706497192383,
          9.181195259094238,
          5.7416791915893555,
          -10.233550071716309,
          -0.3656034767627716,
          25.56041145324707,
          -0.16744346916675568,
          -11.507752418518066,
          14.82916259765625,
          32.83660888671875,
          14.994455337524414,
          31.308635711669922,
          13.679732322692871,
          13.651152610778809,
          12.22315788269043,
          -10.597626686096191,
          -2.6238396167755127,
          16.178237915039062,
          15.674341201782227,
          -8.611542701721191,
          5.390467166900635,
          -15.662187576293945,
          -7.904565334320068,
          20.63907814025879,
          -4.083980560302734,
          -14.122587203979492,
          -8.705373764038086,
          21.968074798583984,
          -16.194683074951172,
          -17.332576751708984,
          -7.773932456970215,
          -11.947840690612793,
          -8.27609634399414,
          7.610526084899902,
          27.227983474731445,
          -11.756418228149414,
          24.798921585083008,
          6.243088245391846,
          -12.942748069763184,
          22.361839294433594,
          17.25078582763672,
          -8.075479507446289,
          20.5959415435791,
          11.942980766296387,
          -19.672565460205078,
          -4.049747467041016,
          28.18157958984375,
          -5.327591896057129,
          -9.104532241821289,
          -9.17029094696045,
          16.528444290161133,
          31.85384750366211,
          30.898189544677734,
          34.76361846923828,
          -14.057418823242188,
          2.5316061973571777,
          -24.141963958740234,
          -29.33461570739746,
          -18.030183792114258,
          -14.506385803222656,
          13.709115028381348,
          23.931711196899414,
          -18.379947662353516,
          -20.005264282226562,
          -2.7303218841552734,
          -6.014032363891602,
          13.644122123718262,
          34.284706115722656,
          -0.11693841218948364,
          23.14108657836914,
          -11.748905181884766,
          -13.269556045532227,
          15.825216293334961,
          -20.638813018798828,
          -13.448758125305176,
          -18.480623245239258,
          -18.097734451293945,
          23.327293395996094,
          -10.930106163024902,
          5.925502777099609,
          35.19316101074219,
          -19.081724166870117,
          35.7829475402832,
          -31.94207000732422,
          26.811872482299805,
          29.787525177001953,
          30.41947364807129,
          33.52405548095703,
          36.175819396972656,
          30.720550537109375,
          23.41584014892578,
          -17.62367820739746,
          -3.950892686843872,
          -2.079840898513794,
          17.617687225341797,
          2.6685798168182373,
          15.384109497070312,
          -8.337845802307129,
          -10.106647491455078,
          -3.61575984954834,
          -10.762516021728516,
          -10.437087059020996,
          -23.7944393157959,
          20.101911544799805,
          36.90299606323242,
          24.877817153930664,
          27.32512664794922,
          35.984283447265625,
          -1.251104474067688,
          33.481956481933594,
          34.127254486083984,
          -7.400793075561523,
          -1.807732343673706,
          27.278526306152344,
          -8.178084373474121,
          26.946924209594727,
          17.171415328979492,
          -12.328224182128906,
          19.981245040893555,
          20.839977264404297,
          9.555977821350098,
          33.263916015625,
          15.78536319732666,
          16.914499282836914,
          19.311689376831055,
          -10.107098579406738,
          -8.561888694763184,
          -9.561400413513184,
          26.748958587646484,
          37.03806686401367,
          32.87379837036133,
          30.75306510925293,
          30.593515396118164,
          32.49243927001953,
          -10.22494888305664,
          32.049503326416016,
          36.91847229003906,
          -13.040495872497559,
          30.43760871887207,
          -12.708427429199219,
          35.133235931396484,
          21.18793296813965,
          13.448275566101074,
          28.5929012298584,
          32.292476654052734,
          32.545284271240234,
          34.772586822509766,
          30.29998016357422,
          -9.255845069885254,
          18.0526123046875,
          31.874919891357422,
          9.951179504394531,
          34.0639533996582,
          34.330039978027344,
          26.410112380981445,
          -6.15554141998291,
          20.75851821899414,
          -9.037640571594238,
          35.986881256103516,
          23.862483978271484,
          19.31028938293457,
          19.50464630126953,
          33.927608489990234,
          -9.320943832397461,
          33.836849212646484,
          14.31341552734375,
          26.138124465942383,
          33.394508361816406,
          -7.521522521972656,
          16.54096221923828,
          -2.612175941467285,
          -11.457496643066406,
          -12.96191120147705,
          4.647885322570801,
          14.752720832824707,
          -10.061773300170898,
          32.5926513671875,
          14.890595436096191,
          -10.546576499938965,
          -5.002513885498047,
          -11.326659202575684,
          -10.590437889099121,
          -2.223130464553833,
          -11.198956489562988,
          -6.323469161987305,
          -10.689014434814453,
          -4.7154860496521,
          36.72727966308594,
          -18.250286102294922,
          6.566601753234863,
          -18.227310180664062,
          31.51540184020996,
          -10.69087028503418,
          -18.641693115234375,
          2.5722692012786865,
          13.043010711669922,
          -28.384536743164062,
          4.742505073547363,
          -1.7270148992538452,
          10.393402099609375,
          -11.305632591247559,
          13.08494758605957,
          -20.196809768676758,
          -20.92120361328125,
          12.372387886047363,
          -9.455324172973633,
          5.020322322845459,
          -4.907571315765381,
          -12.461716651916504,
          20.35809898376465,
          -18.045507431030273,
          -22.13046646118164,
          -28.01123809814453,
          -23.036211013793945,
          -11.889355659484863,
          29.44135856628418,
          -30.4736270904541,
          -21.330106735229492,
          -7.9378437995910645,
          -10.126486778259277,
          -9.49626636505127,
          10.44423770904541,
          13.571476936340332,
          -24.46140480041504,
          -23.83577537536621,
          5.683900833129883,
          -21.63320541381836,
          -8.030097007751465,
          20.894784927368164,
          39.840187072753906,
          16.670434951782227,
          -8.48062801361084,
          16.07002067565918,
          -9.149085998535156,
          -7.767735004425049,
          -14.923656463623047,
          20.094127655029297,
          -18.138696670532227,
          39.81589889526367,
          0.7136571407318115,
          1.5139987468719482,
          -25.521867752075195,
          4.122931957244873,
          10.836440086364746,
          -12.721829414367676,
          10.021562576293945,
          12.147887229919434,
          -28.58077621459961,
          1.3067831993103027,
          -0.4365045130252838,
          6.650787353515625,
          -15.199621200561523,
          6.390194892883301,
          -24.699588775634766,
          -21.134510040283203,
          13.474414825439453,
          7.5032758712768555,
          -24.49590492248535,
          -20.457557678222656,
          19.89636993408203,
          -21.172637939453125,
          6.294832706451416,
          -25.344324111938477,
          -19.566322326660156,
          6.976402759552002,
          0.13596749305725098,
          5.655767440795898,
          -24.108060836791992,
          5.300114154815674,
          5.576074123382568,
          15.498489379882812,
          16.180654525756836,
          9.535576820373535,
          -22.58983612060547,
          0.6269658207893372,
          -28.618162155151367,
          -29.133255004882812,
          28.58186149597168,
          -20.03626251220703,
          -26.864482879638672,
          -23.55837631225586,
          -27.14229965209961,
          -22.056509017944336,
          2.3842849731445312,
          -21.45264434814453,
          -25.446622848510742,
          -25.01506805419922,
          4.407483100891113,
          -20.491764068603516,
          -12.677854537963867,
          10.979406356811523,
          -15.01148509979248,
          3.643223285675049,
          -20.238887786865234,
          0.394135057926178,
          -9.39950942993164,
          -24.42868995666504,
          7.492941856384277,
          11.00850772857666,
          6.3829450607299805,
          -5.963009357452393,
          -22.825347900390625,
          -24.59562873840332,
          -19.447084426879883,
          -23.509056091308594,
          -19.74927520751953,
          -21.08236312866211,
          -13.259422302246094,
          -8.579553604125977,
          -4.981977462768555,
          32.00598907470703,
          -16.023983001708984,
          0.44386565685272217,
          6.136127471923828,
          -2.9928224086761475,
          20.172311782836914,
          3.0968997478485107,
          7.242446422576904,
          -1.8445508480072021,
          0.6020907759666443,
          10.734904289245605,
          -11.033001899719238,
          3.6940152645111084,
          -10.52813720703125,
          7.663365840911865,
          5.070650577545166,
          -7.08613920211792,
          -25.83909034729004,
          -26.272254943847656,
          -7.451189994812012,
          -7.867764472961426,
          16.438270568847656,
          3.8942983150482178,
          -10.489431381225586,
          21.723644256591797,
          11.351753234863281,
          -17.426420211791992,
          9.239718437194824,
          -12.26185417175293,
          13.206948280334473,
          6.694358825683594,
          -14.665364265441895,
          -8.276566505432129,
          24.131244659423828,
          -3.295245885848999,
          1.8752632141113281,
          -0.5749672055244446,
          0.4394005239009857,
          -4.8863301277160645,
          22.553831100463867,
          -1.7098337411880493,
          -14.694707870483398,
          -3.179856777191162,
          -9.389958381652832,
          11.685748100280762,
          -3.4745163917541504,
          -13.847021102905273,
          31.772066116333008,
          -12.238466262817383,
          -20.303850173950195,
          0.43500587344169617,
          16.019699096679688,
          2.5625808238983154,
          -17.176847457885742,
          -12.913134574890137,
          14.702329635620117,
          -24.953289031982422,
          29.649816513061523,
          10.00896167755127,
          25.593069076538086,
          11.16878890991211,
          -6.18660831451416,
          27.3197078704834,
          25.871051788330078,
          -4.1313347816467285,
          16.162498474121094,
          30.41159439086914,
          -28.020788192749023,
          32.64020919799805,
          3.186697006225586,
          28.668010711669922,
          30.105371475219727,
          22.284528732299805,
          28.10468101501465,
          -12.094660758972168,
          36.90704345703125,
          30.890796661376953,
          11.357634544372559,
          17.617122650146484,
          -1.5178852081298828,
          -29.346351623535156,
          -29.48787498474121,
          -29.31118392944336,
          -23.652708053588867,
          -19.14720344543457,
          -23.314123153686523,
          26.941932678222656,
          20.715402603149414,
          19.33074378967285,
          -25.513872146606445,
          34.294498443603516,
          -2.5644571781158447,
          -0.16977515816688538,
          7.1623687744140625,
          3.6753041744232178,
          -2.5019097328186035,
          -14.937268257141113,
          -7.574306011199951,
          6.786596775054932,
          -15.170631408691406,
          -22.926820755004883,
          0.09662707149982452,
          5.266096115112305,
          8.206344604492188,
          13.08902359008789,
          20.14978790283203,
          21.650033950805664,
          10.740578651428223,
          18.27226448059082,
          23.8907527923584,
          7.161654472351074,
          5.062564849853516,
          25.973562240600586,
          11.566147804260254,
          -8.409260749816895,
          -5.946930885314941,
          11.2783203125,
          33.94279479980469,
          39.81342315673828,
          0.6903174519538879,
          10.475921630859375,
          26.723344802856445,
          30.81633949279785,
          29.901470184326172,
          29.896284103393555,
          31.36361312866211,
          29.844348907470703,
          30.302522659301758,
          19.151582717895508,
          28.5140438079834,
          26.822265625,
          27.641294479370117,
          21.63243865966797,
          25.098764419555664,
          31.487733840942383,
          27.5398006439209,
          23.847787857055664,
          32.649322509765625,
          23.045642852783203,
          30.072521209716797,
          32.74666213989258,
          26.62636947631836,
          22.659711837768555,
          28.24646759033203,
          31.027427673339844,
          13.241436004638672,
          8.689567565917969,
          29.130558013916016,
          29.305326461791992,
          24.162593841552734,
          30.963075637817383,
          -21.488550186157227,
          28.209609985351562,
          25.49650764465332,
          29.261878967285156,
          22.053457260131836,
          14.780558586120605,
          31.25892448425293,
          16.39471435546875,
          13.510282516479492,
          29.45389747619629,
          27.028512954711914,
          30.245485305786133,
          32.50151443481445,
          17.9354305267334,
          28.289005279541016,
          24.158475875854492,
          18.480180740356445,
          31.031417846679688,
          31.182472229003906,
          33.939483642578125,
          28.815811157226562,
          26.633943557739258,
          22.90923309326172,
          10.406630516052246,
          13.5513916015625,
          23.851064682006836,
          19.55976676940918,
          -14.966178894042969,
          18.65591812133789,
          21.11807632446289,
          -16.332571029663086,
          -18.374675750732422,
          -4.684884071350098,
          -4.9764838218688965,
          -15.636463165283203,
          22.37487030029297,
          2.931215763092041,
          -19.30670928955078,
          -13.636819839477539,
          -0.6542312502861023,
          19.516284942626953,
          9.089212417602539,
          -10.277693748474121,
          -13.598380088806152,
          -4.813440322875977,
          -1.6524569988250732,
          -7.333376407623291,
          -19.27873420715332,
          -22.6628475189209,
          20.5269718170166,
          19.211645126342773,
          -15.064821243286133,
          -10.472906112670898,
          -16.996051788330078,
          -1.2917113304138184,
          -13.138376235961914,
          -11.460246086120605,
          -16.137584686279297,
          -10.701641082763672,
          -24.412504196166992,
          -8.255231857299805,
          -1.565436601638794,
          6.581130027770996,
          9.049299240112305,
          -6.254208087921143,
          -24.124372482299805,
          -11.729049682617188,
          -3.1584107875823975,
          -6.902349472045898,
          -32.284423828125,
          -10.514816284179688,
          -5.925528526306152,
          10.4525728225708,
          22.965953826904297,
          28.417490005493164,
          -1.7212945222854614,
          16.65080451965332,
          -4.96345853805542,
          8.909123420715332,
          18.034744262695312,
          -8.070398330688477,
          18.372148513793945,
          -17.879308700561523,
          -8.269041061401367,
          18.528968811035156,
          27.009891510009766,
          -24.970218658447266,
          -8.567642211914062,
          -2.7005534172058105,
          -13.413466453552246,
          19.121370315551758,
          -23.63459014892578,
          20.9617919921875,
          17.09506607055664,
          20.16789436340332,
          33.52632522583008,
          19.393104553222656,
          24.687185287475586,
          26.814916610717773,
          23.612295150756836,
          19.08694076538086,
          24.859243392944336,
          27.20871925354004,
          26.463464736938477,
          22.21994400024414,
          15.660283088684082,
          16.80440902709961,
          18.030839920043945,
          21.674976348876953,
          20.420095443725586,
          30.969905853271484,
          -19.343433380126953,
          4.72723913192749,
          22.9667911529541,
          1.575981855392456,
          0.09895140677690506,
          21.23447608947754,
          8.65587329864502,
          26.380367279052734,
          -1.1415903568267822,
          -13.27576732635498,
          2.6550049781799316,
          -0.6288180947303772,
          24.562313079833984,
          26.65389060974121,
          25.506160736083984,
          24.13533592224121,
          -27.462934494018555,
          20.912334442138672,
          22.282058715820312,
          27.35813331604004,
          25.446382522583008,
          27.62464714050293,
          27.700483322143555,
          28.747516632080078,
          21.22161102294922,
          28.721637725830078,
          17.80092430114746,
          34.525848388671875,
          29.598491668701172,
          22.210960388183594,
          22.068710327148438,
          22.193368911743164,
          33.11162567138672,
          26.498268127441406,
          22.314729690551758,
          28.76863670349121,
          34.83485412597656,
          25.489660263061523,
          24.27890968322754,
          4.1126251220703125,
          30.542835235595703,
          15.64991283416748,
          31.02715492248535,
          15.312718391418457,
          20.865503311157227,
          25.210521697998047,
          -2.6613473892211914,
          18.64642333984375,
          -11.306389808654785,
          19.135395050048828,
          -18.744285583496094,
          -12.7951021194458,
          36.07193374633789,
          -23.663326263427734,
          -6.586814880371094,
          -4.27537727355957,
          25.90135383605957,
          1.0472108125686646,
          -58.57545471191406,
          -29.214601516723633,
          -2.6475865840911865,
          -10.124621391296387,
          -10.375223159790039,
          -25.36632537841797,
          -19.347057342529297,
          1.1273839473724365,
          -12.64962387084961,
          12.70904541015625,
          -9.851351737976074,
          -24.236434936523438,
          -25.786821365356445,
          3.3098771572113037,
          16.17083168029785,
          -8.5245943069458,
          31.09534454345703,
          22.40677261352539,
          -19.07634925842285,
          0.9448880553245544,
          -1.294283390045166,
          6.429198265075684,
          10.51648235321045,
          -14.244359970092773,
          23.724903106689453,
          0.44218796491622925,
          15.459654808044434,
          14.888224601745605,
          25.97359848022461,
          -4.11207389831543,
          11.396381378173828,
          19.637853622436523,
          10.644588470458984,
          -6.347545623779297,
          -55.202598571777344,
          1.933600664138794,
          2.6986751556396484,
          6.650707721710205,
          29.73330307006836,
          11.9625825881958,
          -8.108563423156738,
          15.071566581726074,
          -13.07337760925293,
          -5.561154842376709,
          -15.261837005615234,
          6.387935161590576,
          0.6878811717033386,
          18.002422332763672,
          -2.9698092937469482,
          -8.993048667907715,
          12.093342781066895,
          -1.6320855617523193,
          -8.228572845458984,
          23.631633758544922,
          -8.584774017333984,
          -7.575688362121582,
          10.275073051452637,
          -6.050605773925781,
          16.68776512145996,
          19.910247802734375,
          21.90890884399414,
          12.000329971313477,
          -3.5917956829071045,
          6.123931884765625,
          12.629033088684082,
          -12.600263595581055,
          -15.987157821655273,
          0.5590827465057373,
          10.996530532836914,
          2.5807065963745117,
          9.243306159973145,
          -26.719905853271484,
          -22.452342987060547,
          3.8845551013946533,
          -22.1811466217041,
          -17.23642349243164,
          10.525289535522461,
          1.4320693016052246,
          -4.840913772583008,
          0.4129236042499542,
          12.040436744689941,
          -17.330230712890625,
          -2.844054698944092,
          -1.7177575826644897,
          2.876882553100586,
          -17.65456771850586,
          -17.403339385986328,
          2.1398489475250244,
          16.069759368896484,
          21.549346923828125,
          -23.521347045898438,
          3.550063133239746,
          -10.02082633972168,
          28.878704071044922,
          -5.387270927429199,
          23.62736701965332,
          17.14586067199707,
          -10.721863746643066,
          -1.4353816509246826,
          -4.2410454750061035,
          -18.14937973022461,
          15.146175384521484,
          -4.090096473693848,
          5.388251781463623,
          8.276458740234375,
          17.425004959106445,
          -5.502189636230469,
          -53.938541412353516,
          6.4108805656433105,
          21.755290985107422,
          -8.91855239868164,
          -55.62831115722656,
          8.008390426635742,
          4.313253402709961,
          -21.445955276489258,
          28.911325454711914,
          18.054407119750977,
          3.42203688621521,
          -3.5876622200012207,
          -3.9903783798217773,
          1.054772138595581,
          -29.79580307006836,
          15.766273498535156,
          -4.902686595916748,
          -3.989933967590332,
          -6.802073955535889,
          16.392120361328125,
          -6.208327770233154,
          21.658828735351562,
          18.65460968017578,
          -0.2679741084575653,
          -8.550085067749023,
          -6.491951942443848,
          -0.9520962238311768,
          14.242290496826172,
          0.5555562973022461,
          8.201889991760254,
          -56.96413040161133,
          -9.700149536132812,
          -18.63180923461914,
          -3.8181402683258057,
          15.455357551574707,
          -12.036954879760742,
          3.3177084922790527,
          -6.1427459716796875,
          22.290369033813477,
          -16.006284713745117,
          14.731274604797363,
          -7.66650390625,
          -9.241328239440918,
          -12.320408821105957,
          -10.137299537658691,
          -10.13459587097168,
          -23.639667510986328,
          4.006035804748535,
          11.955360412597656,
          -5.6010541915893555,
          -27.2654972076416,
          10.464982032775879,
          22.10403823852539,
          21.162702560424805,
          -13.982633590698242,
          -23.126800537109375,
          -5.715106964111328,
          -25.439340591430664,
          20.645509719848633,
          17.70872688293457,
          7.710726261138916,
          0.6883447170257568,
          -8.62894344329834,
          8.695853233337402,
          25.274629592895508,
          -17.612009048461914,
          23.157798767089844,
          26.5435848236084,
          -24.253320693969727,
          34.674346923828125,
          1.703533411026001,
          12.417252540588379,
          26.746061325073242,
          20.419225692749023,
          -28.409841537475586,
          -18.104204177856445,
          -18.30350112915039,
          19.45328712463379,
          -20.919357299804688,
          22.324674606323242,
          -1.6154383420944214,
          -23.962661743164062,
          -2.5981457233428955,
          18.019075393676758,
          25.295509338378906,
          -14.924012184143066,
          -9.590618133544922,
          -8.37829875946045,
          -21.841087341308594,
          -22.35433578491211,
          1.3000849485397339,
          18.13958168029785,
          -21.126895904541016,
          -21.599218368530273,
          -23.022930145263672,
          -26.069828033447266,
          12.213255882263184,
          -21.128374099731445,
          3.9254305362701416,
          6.104829788208008,
          9.472090721130371,
          -23.426549911499023,
          -1.5416457653045654,
          8.334883689880371,
          0.7732303142547607,
          1.4562182426452637,
          -16.424110412597656,
          -23.92129135131836,
          -6.5703654289245605,
          -21.394859313964844,
          -30.07009506225586,
          -24.98883628845215,
          15.337721824645996,
          -20.364484786987305,
          1.8104047775268555,
          3.7308478355407715,
          10.874395370483398,
          -24.227075576782227,
          11.699126243591309,
          -2.7742626667022705,
          1.496176838874817,
          -17.994306564331055,
          2.22731351852417,
          -19.63355255126953,
          -21.717308044433594,
          9.803308486938477,
          -26.07575035095215,
          -25.02173614501953,
          -18.801219940185547,
          -23.849323272705078,
          -24.544952392578125,
          23.11324119567871,
          -17.544492721557617,
          9.415170669555664,
          -6.759203910827637,
          20.057479858398438,
          24.96991729736328,
          12.120488166809082,
          22.038604736328125,
          17.339784622192383,
          -9.133179664611816,
          -7.79416561126709,
          -12.646639823913574,
          -31.489124298095703,
          -14.685342788696289,
          2.533482789993286,
          -8.99302864074707,
          -13.216157913208008,
          -9.176944732666016,
          -2.929410219192505,
          -4.483652591705322,
          16.861133575439453,
          14.88892650604248,
          -23.68735122680664,
          -21.143278121948242,
          3.919059991836548,
          -13.518024444580078,
          11.836114883422852,
          19.14027214050293,
          -4.625988006591797,
          -2.4803543090820312,
          25.161571502685547,
          23.202133178710938,
          24.10234832763672,
          -16.093564987182617,
          23.0091609954834,
          -22.512496948242188,
          -7.955892086029053,
          8.853482246398926,
          5.0305681228637695,
          21.747570037841797,
          7.899303913116455,
          17.691017150878906,
          16.058732986450195,
          9.884515762329102,
          15.336411476135254,
          10.399693489074707,
          20.057231903076172,
          -25.373586654663086,
          15.769674301147461,
          27.023561477661133,
          24.733816146850586,
          14.112007141113281,
          22.644277572631836,
          12.459064483642578,
          18.161069869995117,
          26.391948699951172,
          11.677978515625,
          22.933307647705078,
          12.917966842651367,
          -9.56183910369873,
          -21.906572341918945,
          -18.750761032104492,
          -1.2694464921951294,
          0.7182613015174866,
          -7.056834697723389,
          13.139933586120605,
          -16.915966033935547,
          -2.754425525665283,
          -12.173904418945312,
          -28.141809463500977,
          7.357847690582275,
          -7.3985114097595215,
          -27.754173278808594,
          -11.705875396728516,
          2.3601622581481934,
          1.3903372287750244,
          -23.32038688659668,
          -18.619985580444336,
          -7.2054266929626465,
          2.0890586376190186,
          3.6101913452148438,
          -6.871365547180176,
          18.906478881835938,
          3.9306697845458984,
          -1.1945880651474,
          3.2719533443450928,
          -16.04302406311035,
          -6.8842973709106445,
          -19.556303024291992,
          -1.542026162147522,
          23.574010848999023,
          1.842769742012024,
          16.029874801635742,
          5.583308219909668,
          10.465339660644531,
          2.48866868019104,
          18.96003532409668,
          31.58343505859375,
          -18.764326095581055,
          9.584074974060059,
          3.551079750061035,
          -11.673768997192383,
          22.437795639038086,
          15.644854545593262,
          5.981856822967529,
          27.458778381347656,
          25.252304077148438,
          11.925651550292969,
          -20.082643508911133,
          16.725629806518555,
          -24.74800682067871,
          2.954132080078125,
          -29.469432830810547,
          -0.875555157661438,
          -19.136520385742188,
          -6.819038391113281,
          -8.850987434387207,
          -8.473753929138184,
          -8.225069999694824,
          -4.039889812469482,
          4.8897552490234375,
          -6.977569580078125,
          -31.260356903076172,
          0.1688264012336731,
          33.19123840332031,
          -8.709488868713379,
          -5.197301387786865,
          0.8294904232025146,
          0.0410684272646904,
          5.080894470214844,
          24.943944931030273,
          -4.626516819000244,
          -13.474367141723633,
          -19.44963836669922,
          -8.321712493896484,
          15.350954055786133,
          -6.927785396575928,
          1.267014503479004,
          -8.276491165161133,
          -10.715503692626953,
          0.2390545755624771,
          5.046938419342041,
          16.400962829589844,
          7.808183193206787,
          7.3310346603393555,
          23.13423728942871,
          -10.178287506103516,
          4.232895374298096,
          -6.5617852210998535,
          27.9825439453125,
          14.634969711303711,
          12.158629417419434,
          10.586555480957031,
          2.3843581676483154,
          11.1632080078125,
          31.054269790649414,
          2.155996799468994,
          -10.766140937805176,
          15.122138977050781,
          -3.827131986618042,
          13.579826354980469,
          -8.960317611694336,
          4.571045875549316,
          -6.3582892417907715,
          -18.976123809814453,
          7.541813373565674,
          13.681452751159668,
          -19.285850524902344,
          -10.635419845581055,
          12.079995155334473,
          13.390480041503906,
          0.14988431334495544,
          -29.515338897705078,
          -22.04990005493164,
          -19.895856857299805,
          -17.48384666442871,
          14.147510528564453,
          -7.458969593048096,
          11.688376426696777,
          -5.115666389465332,
          -17.76768684387207,
          12.62885570526123,
          13.865851402282715,
          12.418810844421387,
          26.29136848449707,
          -25.655296325683594,
          8.642096519470215,
          -10.794179916381836,
          17.69084358215332,
          -19.969139099121094,
          -23.49375343322754,
          -1.264636754989624,
          -23.55771827697754,
          19.374692916870117,
          7.514518737792969,
          3.052246570587158,
          11.2528076171875,
          10.301863670349121,
          16.394041061401367,
          1.0392379760742188,
          13.729426383972168,
          25.05321502685547,
          11.00244140625,
          19.194242477416992,
          14.167613983154297,
          3.624506711959839,
          17.723796844482422,
          11.808403968811035,
          21.431594848632812,
          17.900108337402344,
          12.365776062011719,
          20.697572708129883,
          -22.246143341064453,
          -23.238155364990234,
          13.602883338928223,
          20.38713264465332,
          11.60944652557373,
          3.2330565452575684,
          8.55510139465332,
          4.800340175628662,
          22.196483612060547,
          7.158142566680908,
          12.392138481140137,
          13.0957612991333,
          -23.408205032348633,
          -24.00554656982422,
          17.51285171508789,
          20.148820877075195,
          29.900741577148438,
          15.875161170959473,
          -4.504809856414795,
          -31.74801254272461,
          22.743358612060547,
          19.728958129882812,
          22.93488311767578,
          13.330957412719727,
          -17.617029190063477,
          -7.674628257751465,
          14.122694969177246,
          6.687878131866455,
          -58.38078308105469,
          15.595242500305176,
          5.605147838592529,
          17.058881759643555,
          9.972723960876465,
          7.778331756591797,
          14.54970932006836,
          -19.547082901000977,
          -13.1084623336792,
          -11.799039840698242,
          -12.987655639648438,
          6.075820446014404,
          7.810666084289551,
          3.1059303283691406,
          34.06870651245117,
          23.47405242919922,
          9.129847526550293,
          25.944988250732422,
          -8.83785629272461,
          17.258031845092773,
          4.847311496734619,
          16.652095794677734,
          -24.562026977539062,
          2.6938374042510986,
          -4.048455238342285,
          -5.650787830352783,
          -16.173892974853516,
          -2.7431256771087646,
          -14.23022174835205,
          18.755239486694336,
          -5.466749668121338,
          27.14299964904785,
          20.090675354003906,
          -5.721431732177734,
          15.77608585357666,
          -10.86978816986084,
          5.879980087280273,
          18.58707618713379,
          16.245054244995117,
          16.30397605895996,
          21.228858947753906,
          22.08814239501953,
          9.762203216552734,
          21.417613983154297,
          22.075410842895508,
          12.875784873962402,
          -56.25519561767578,
          25.533010482788086,
          25.468143463134766,
          27.921979904174805,
          0.4407607614994049,
          -0.9037519097328186,
          7.012308597564697,
          20.230195999145508,
          -3.519871711730957,
          -4.864029407501221,
          10.871996879577637,
          1.6594922542572021,
          -5.402806282043457,
          -27.6885929107666,
          -21.358997344970703,
          11.181859970092773,
          -6.501546382904053,
          -15.199776649475098,
          -11.508219718933105,
          -14.558300018310547,
          5.403393268585205,
          5.627878189086914,
          18.656761169433594,
          -2.441291570663452,
          -7.95332145690918,
          18.311796188354492,
          4.7516655921936035,
          -6.807933807373047,
          -10.632743835449219,
          -16.399328231811523,
          4.350213050842285,
          -27.168428421020508,
          -24.32355308532715,
          2.939978837966919,
          -15.812249183654785,
          -56.700767517089844,
          -16.35258674621582,
          -15.658459663391113,
          -11.04589557647705,
          4.40652322769165,
          6.462626934051514,
          -21.061887741088867,
          -23.682647705078125,
          -13.689741134643555,
          33.388309478759766,
          -11.806218147277832,
          -7.327370643615723,
          -0.1834707260131836,
          -0.45337697863578796,
          -28.690702438354492,
          6.228748321533203,
          2.385340452194214,
          -4.550889015197754,
          -27.391035079956055,
          -26.57727813720703,
          -26.7593936920166,
          -20.19785499572754,
          -6.8465375900268555,
          -15.805810928344727,
          -11.438581466674805,
          12.71744155883789,
          4.975355625152588,
          23.590965270996094,
          -2.5477421283721924,
          0.7067827582359314,
          25.03766632080078,
          18.026451110839844,
          13.392903327941895,
          -6.898221492767334,
          -10.135506629943848,
          -6.415971755981445,
          -27.005041122436523,
          -16.866172790527344,
          -17.17504119873047,
          -13.512053489685059,
          -25.73668670654297,
          -1.9650421142578125,
          -15.687599182128906,
          13.325350761413574,
          -10.440947532653809,
          1.669748067855835,
          4.259047985076904,
          -9.333094596862793,
          -4.9253058433532715,
          -6.326131820678711,
          18.17908477783203,
          -29.3134822845459,
          8.441530227661133,
          -4.624709606170654,
          -56.53778839111328,
          11.536137580871582,
          -22.610260009765625,
          4.454533100128174,
          -26.551441192626953,
          -10.569069862365723,
          2.200918674468994,
          -0.7191548347473145,
          20.64371681213379,
          24.046295166015625,
          -14.817861557006836,
          12.532099723815918,
          3.2875912189483643,
          -6.118179798126221,
          -56.77094650268555,
          -14.730792045593262,
          13.777568817138672,
          -18.932510375976562,
          -28.923622131347656,
          -55.66960144042969,
          -7.15267276763916,
          -15.83642292022705,
          0.4181516766548157,
          18.626028060913086,
          -18.670761108398438,
          -8.217750549316406,
          0.5706365704536438,
          -29.391279220581055,
          -18.10492515563965,
          -25.44960594177246,
          -30.611743927001953,
          6.260781288146973,
          13.292604446411133,
          8.175273895263672,
          11.305031776428223,
          -31.07611083984375,
          12.17937183380127,
          -27.09075355529785,
          4.8302903175354,
          -56.4858283996582,
          20.138017654418945,
          19.247713088989258,
          -7.19518518447876,
          26.250402450561523,
          -30.328819274902344,
          13.506608009338379,
          -28.29303741455078,
          -9.413466453552246,
          13.922438621520996,
          -29.99470329284668,
          -31.132078170776367,
          -31.091684341430664,
          0.2852126955986023,
          -31.01072883605957,
          8.434759140014648,
          -19.40436363220215,
          2.4059650897979736,
          -8.256608009338379,
          -31.063011169433594,
          -56.60270690917969,
          -30.66256332397461,
          -24.932518005371094,
          -30.066471099853516,
          6.646320819854736,
          -29.482519149780273,
          -7.737707614898682,
          -23.33827018737793,
          -20.35474395751953,
          12.658090591430664,
          -28.74910545349121,
          -18.29096221923828,
          29.013967514038086,
          -30.796138763427734,
          -30.57129669189453,
          -54.255165100097656,
          -18.2691707611084,
          -30.439285278320312,
          17.149761199951172,
          7.644968032836914,
          23.997745513916016,
          8.234939575195312,
          -17.452375411987305,
          20.595186233520508,
          -30.918777465820312,
          -30.46879005432129,
          13.901915550231934,
          -25.685941696166992,
          7.512861728668213,
          18.600048065185547,
          7.155339241027832,
          -23.541959762573242,
          -8.00570011138916,
          1.8504235744476318,
          -21.893075942993164,
          -28.633750915527344,
          7.6921186447143555,
          -31.457006454467773,
          -21.166231155395508,
          15.716375350952148,
          -21.46314811706543,
          -20.658124923706055,
          -21.158950805664062,
          -10.431281089782715,
          -7.923620700836182,
          4.252084255218506,
          8.816507339477539,
          12.617886543273926,
          27.691198348999023,
          34.021217346191406,
          -21.305782318115234,
          0.2575283944606781,
          16.11029052734375,
          -20.33970069885254,
          -26.303041458129883,
          25.136066436767578,
          13.538110733032227,
          8.727235794067383,
          -2.8383407592773438,
          -22.74698829650879,
          -0.4669855535030365,
          -14.714690208435059,
          15.195413589477539,
          -25.57597541809082,
          3.2662618160247803,
          -18.45228385925293,
          -4.04627799987793,
          -27.337560653686523,
          16.669189453125,
          -22.8991641998291,
          -19.197315216064453,
          -18.17667579650879,
          2.953995943069458,
          9.086074829101562,
          -25.552370071411133,
          19.31388282775879,
          18.968599319458008,
          8.697312355041504,
          -14.56746768951416,
          29.276103973388672,
          0.7073249220848083,
          -11.970108032226562,
          -11.948519706726074,
          -26.725141525268555,
          -17.64596176147461,
          3.550177574157715,
          -2.8834924697875977,
          -25.260223388671875,
          -15.54210376739502,
          16.936527252197266,
          -5.0159220695495605,
          2.835510015487671,
          0.7175115942955017,
          -9.03635311126709,
          8.68016242980957,
          10.688399314880371,
          26.382211685180664,
          -11.760281562805176,
          20.275943756103516,
          -55.621612548828125,
          27.914823532104492,
          20.679128646850586,
          19.092262268066406,
          27.35968017578125,
          -58.054054260253906,
          20.013469696044922,
          -6.478386402130127,
          25.818130493164062,
          20.629030227661133,
          27.43600845336914,
          15.5735502243042,
          -57.26167678833008,
          19.441307067871094,
          14.219915390014648,
          -20.175029754638672,
          18.87595558166504,
          14.48869800567627,
          7.080921173095703,
          9.030266761779785,
          5.1266703605651855,
          1.3958567380905151,
          -6.619736671447754,
          -1.773740291595459,
          -57.31496810913086,
          19.529165267944336,
          7.419569969177246,
          6.369723796844482,
          -57.059181213378906,
          -22.07928466796875,
          1.483689785003662,
          -0.132146418094635,
          -4.796669006347656,
          2.994476318359375,
          33.996742248535156,
          -12.771960258483887,
          0.36716461181640625,
          0.9556754231452942,
          -22.967987060546875,
          -21.174087524414062,
          12.90404224395752,
          -2.4377853870391846,
          7.19182825088501,
          -55.159854888916016,
          6.537020683288574,
          -57.738521575927734,
          -24.04147720336914,
          1.5450692176818848,
          -19.278099060058594,
          -17.471817016601562,
          6.5799946784973145,
          25.930112838745117,
          13.568556785583496,
          -26.192138671875,
          -24.01371955871582,
          14.385454177856445,
          -1.2701616287231445,
          -57.615135192871094,
          22.6520938873291,
          14.084346771240234,
          -9.854809761047363,
          -18.90871810913086,
          -26.14036750793457,
          19.1595458984375,
          28.205013275146484,
          -19.15689468383789,
          12.712970733642578,
          21.218883514404297,
          16.49329376220703,
          -9.660900115966797,
          -8.519784927368164,
          -16.25874900817871,
          -18.025819778442383,
          16.131338119506836,
          -0.9430848360061646,
          -21.65420913696289,
          25.664730072021484,
          28.235746383666992,
          -58.362003326416016,
          -22.876916885375977,
          15.427781105041504,
          17.482961654663086,
          -19.955419540405273,
          12.880104064941406,
          -22.546772003173828,
          23.852384567260742,
          -6.003453254699707,
          21.335519790649414,
          23.588666915893555,
          17.0020751953125,
          -18.41545295715332,
          -7.883852005004883,
          -4.832286357879639,
          23.617464065551758,
          5.8387837409973145,
          -55.691829681396484,
          0.45396721363067627,
          -2.453289747238159,
          -30.38090705871582,
          -55.26897048950195,
          -30.460954666137695,
          -27.786951065063477,
          -30.698856353759766,
          -55.019744873046875,
          -18.372085571289062,
          18.78502082824707,
          -30.722291946411133,
          22.130590438842773,
          -0.5995553731918335,
          -29.89961814880371,
          25.035783767700195,
          -27.75617790222168,
          10.98536491394043,
          -30.706663131713867,
          -29.840843200683594,
          -30.460750579833984,
          -56.45252990722656,
          -29.117778778076172,
          -58.155540466308594,
          -58.847686767578125,
          -29.970516204833984,
          -28.68657875061035,
          -55.277313232421875,
          -29.823999404907227,
          -27.66299057006836,
          -30.539615631103516,
          -30.9532470703125,
          -30.47292709350586,
          -28.921472549438477,
          -29.10230827331543,
          -25.09061622619629,
          -30.142305374145508,
          -28.858200073242188,
          -58.951148986816406,
          -29.147558212280273,
          -54.35162353515625,
          -55.23441696166992,
          -23.845067977905273,
          -29.96692657470703,
          -29.97295570373535,
          -20.57219696044922,
          5.3701958656311035,
          -20.47827911376953,
          13.453959465026855,
          12.2355375289917,
          -57.50221252441406,
          16.3526554107666,
          -56.55939483642578,
          -20.733022689819336,
          19.78298568725586,
          -21.931564331054688,
          25.3581600189209,
          6.856202602386475,
          -22.232379913330078,
          8.632977485656738,
          -58.94718933105469,
          22.426334381103516,
          -0.45501935482025146,
          -17.223983764648438,
          8.16079330444336,
          -22.32094955444336,
          -24.712814331054688,
          -15.34585952758789,
          8.574275016784668,
          5.620110511779785,
          -22.865272521972656,
          -57.78776550292969,
          -16.755355834960938,
          -57.78105926513672,
          4.405186653137207,
          -55.778564453125,
          9.339672088623047,
          0.8603624105453491,
          -24.421283721923828,
          15.834173202514648,
          17.159921646118164,
          -19.695688247680664,
          -16.37311553955078,
          -21.24496841430664,
          -23.848134994506836,
          2.1121137142181396,
          32.61467361450195,
          -24.37557029724121,
          21.71780776977539,
          -23.91431999206543,
          -24.211275100708008,
          -25.037799835205078,
          -24.026966094970703,
          -56.89388656616211,
          -23.816482543945312,
          -54.06572341918945,
          -23.0717830657959,
          -24.162734985351562,
          -56.02860641479492,
          8.616548538208008,
          -4.38431453704834,
          -55.732704162597656,
          -57.110713958740234,
          7.302274703979492,
          -23.859962463378906,
          -56.935150146484375,
          -23.73357391357422,
          -57.56852722167969,
          -57.15981674194336,
          -4.365783214569092,
          -56.022647857666016,
          -54.84625244140625,
          -57.72432327270508,
          -18.08137321472168,
          -16.439668655395508,
          2.372678756713867,
          -23.763011932373047,
          -21.417245864868164,
          -23.747241973876953,
          -22.878585815429688,
          -21.126323699951172,
          -17.622549057006836,
          -56.550498962402344,
          -21.49139404296875,
          -20.83281707763672,
          -20.753643035888672,
          -21.303909301757812,
          -20.740848541259766,
          -25.586610794067383,
          -16.811086654663086,
          -6.840356826782227,
          18.433696746826172,
          -54.89955139160156,
          -25.02111053466797,
          17.093599319458008,
          -25.337364196777344,
          -21.03772735595703,
          -19.86902618408203,
          -25.897768020629883,
          16.6446475982666
         ],
         "xaxis": "x",
         "y": [
          -18.99921417236328,
          -6.727956295013428,
          -0.11743899434804916,
          -23.510589599609375,
          -1.4587688446044922,
          -12.53587532043457,
          -24.524911880493164,
          -13.700149536132812,
          -0.3776698112487793,
          -15.971402168273926,
          7.709315299987793,
          -22.984899520874023,
          3.213233232498169,
          -18.163843154907227,
          -4.609348773956299,
          1.5104442834854126,
          -12.783029556274414,
          9.718748092651367,
          -15.223031997680664,
          -19.699260711669922,
          6.569581031799316,
          -15.883282661437988,
          -0.32768386602401733,
          -3.7408885955810547,
          20.682170867919922,
          -16.35948944091797,
          -4.264094829559326,
          -18.68075942993164,
          -1.1866776943206787,
          -8.774259567260742,
          -4.358870506286621,
          -1.5815211534500122,
          -16.285879135131836,
          0.5689852833747864,
          16.38563346862793,
          9.87702465057373,
          5.23247766494751,
          16.66177749633789,
          -15.471110343933105,
          10.554119110107422,
          2.442405939102173,
          -13.830344200134277,
          5.859390735626221,
          -3.738255500793457,
          -20.522768020629883,
          -16.59071159362793,
          8.46794605255127,
          -18.63136863708496,
          2.555481195449829,
          -19.015731811523438,
          1.1123154163360596,
          -0.09601239860057831,
          -8.724370002746582,
          -3.620131492614746,
          -23.205007553100586,
          5.435600280761719,
          -13.343565940856934,
          6.240131378173828,
          -15.045086860656738,
          -14.456908226013184,
          -14.829203605651855,
          -0.388487309217453,
          11.231003761291504,
          -25.300798416137695,
          -11.325027465820312,
          -12.193309783935547,
          8.030671119689941,
          -10.619589805603027,
          -15.810583114624023,
          -6.433116436004639,
          -11.069184303283691,
          -6.474343299865723,
          -3.331559181213379,
          12.952933311462402,
          -9.494139671325684,
          -8.07097053527832,
          -4.261778831481934,
          13.300527572631836,
          -15.839266777038574,
          8.134148597717285,
          6.273081302642822,
          -8.630329132080078,
          -15.782258987426758,
          -0.7887290120124817,
          -13.782737731933594,
          -14.458595275878906,
          -18.85291290283203,
          -11.24344539642334,
          -22.40846061706543,
          8.70141315460205,
          -4.237151145935059,
          -19.971052169799805,
          9.690982818603516,
          -5.192953109741211,
          -13.18290901184082,
          -17.531892776489258,
          -1.783189296722412,
          -14.297115325927734,
          -11.932211875915527,
          -6.937922477722168,
          -6.272206783294678,
          11.153497695922852,
          23.538286209106445,
          24.72335433959961,
          6.615828037261963,
          5.575623512268066,
          -8.654935836791992,
          4.033070087432861,
          -11.437125205993652,
          19.204681396484375,
          -3.24033260345459,
          19.218111038208008,
          -21.243053436279297,
          2.424823760986328,
          -2.4540069103240967,
          -13.713440895080566,
          -2.43312668800354,
          -2.9791016578674316,
          -15.196595191955566,
          8.999802589416504,
          -0.5659446716308594,
          -15.750750541687012,
          -4.5834856033325195,
          -19.663246154785156,
          -5.357559680938721,
          4.506496906280518,
          -9.99276065826416,
          -11.201573371887207,
          6.424867153167725,
          18.7653751373291,
          -10.21103286743164,
          -13.331724166870117,
          -10.868428230285645,
          0.7749995589256287,
          1.1057019233703613,
          -15.518410682678223,
          -19.620298385620117,
          3.5047216415405273,
          11.913928031921387,
          -1.779234766960144,
          -0.11643635481595993,
          11.153226852416992,
          -6.422275066375732,
          -17.412860870361328,
          13.22298812866211,
          7.732850074768066,
          -9.872349739074707,
          19.830753326416016,
          -19.864303588867188,
          -21.70394515991211,
          -4.073968887329102,
          2.804373025894165,
          6.679722309112549,
          2.690211057662964,
          8.918585777282715,
          4.749792098999023,
          8.996917724609375,
          13.284444808959961,
          1.6500542163848877,
          12.136244773864746,
          -2.0572993755340576,
          -9.0432710647583,
          -3.169297456741333,
          -8.885429382324219,
          -17.62131118774414,
          -13.828981399536133,
          5.257613658905029,
          -13.464997291564941,
          -16.764753341674805,
          -8.887595176696777,
          -15.360136985778809,
          -18.718473434448242,
          -17.461515426635742,
          -17.665071487426758,
          5.309579849243164,
          -9.857851028442383,
          -2.5850563049316406,
          -5.151449680328369,
          3.350553274154663,
          3.642326831817627,
          -18.920982360839844,
          9.692771911621094,
          0.059602949768304825,
          -13.44588851928711,
          3.4271934032440186,
          -14.265152931213379,
          -10.637528419494629,
          -0.4778090715408325,
          -11.784459114074707,
          -13.466787338256836,
          -9.021577835083008,
          1.6555532217025757,
          -11.300127029418945,
          -16.451919555664062,
          -17.645084381103516,
          -5.022510528564453,
          -9.162297248840332,
          -20.27251625061035,
          -4.139168739318848,
          4.561403751373291,
          10.52066707611084,
          -11.008240699768066,
          -0.764943540096283,
          -14.317510604858398,
          -10.344869613647461,
          -2.835571765899658,
          -5.949008941650391,
          -4.213385105133057,
          -1.0289390087127686,
          -13.20638656616211,
          -4.735702991485596,
          -10.437966346740723,
          -13.220675468444824,
          7.044410228729248,
          -14.535243034362793,
          -6.653353214263916,
          -13.336288452148438,
          -4.988749980926514,
          -9.093926429748535,
          -1.846501350402832,
          -20.22121238708496,
          -13.032753944396973,
          -12.984981536865234,
          -16.535982131958008,
          -3.835879325866699,
          -6.925382137298584,
          -15.201741218566895,
          -15.447044372558594,
          9.816208839416504,
          -15.138809204101562,
          11.770791053771973,
          -9.709163665771484,
          -7.008100986480713,
          0.4453698694705963,
          -4.190958023071289,
          -11.648472785949707,
          -9.59393310546875,
          5.0192694664001465,
          -8.462903022766113,
          -15.752901077270508,
          -8.452713012695312,
          -18.20389175415039,
          -1.897160530090332,
          -11.607502937316895,
          -22.5003719329834,
          -23.7292537689209,
          15.809228897094727,
          -25.692943572998047,
          -11.440611839294434,
          -5.412217617034912,
          -19.555866241455078,
          -4.778563022613525,
          -17.820648193359375,
          16.083938598632812,
          -7.350930213928223,
          -9.620428085327148,
          -11.63302993774414,
          -9.026788711547852,
          -1.3320074081420898,
          -1.151375651359558,
          7.354065895080566,
          0.9224679470062256,
          27.204458236694336,
          5.073738098144531,
          -15.061153411865234,
          24.058778762817383,
          -2.267073154449463,
          -23.775249481201172,
          -21.218490600585938,
          -7.811493873596191,
          -4.987870216369629,
          -25.61594009399414,
          -7.050230503082275,
          -10.68799877166748,
          -18.795391082763672,
          -1.5732804536819458,
          -4.579599857330322,
          1.2696620225906372,
          -0.03983251377940178,
          -0.18567125499248505,
          1.927807092666626,
          -3.4304332733154297,
          -18.172691345214844,
          -9.481764793395996,
          -1.5597178936004639,
          -21.53191375732422,
          -9.87429428100586,
          -7.858882904052734,
          2.5715904235839844,
          10.213296890258789,
          -4.562437534332275,
          -16.458757400512695,
          -25.41004753112793,
          -3.954660654067993,
          -5.59414005279541,
          5.292219161987305,
          -17.85500717163086,
          -8.672998428344727,
          10.347576141357422,
          -9.546088218688965,
          -8.286466598510742,
          -22.120563507080078,
          -21.488466262817383,
          -9.45003890991211,
          -18.814525604248047,
          -17.423593521118164,
          -8.032734870910645,
          -15.244627952575684,
          -2.884868860244751,
          -8.116252899169922,
          -18.77484130859375,
          -19.992734909057617,
          -25.911447525024414,
          19.92607879638672,
          -24.037364959716797,
          -24.50328826904297,
          -22.101930618286133,
          -25.23110008239746,
          -17.356660842895508,
          -17.068988800048828,
          -13.218490600585938,
          -0.5398035049438477,
          -1.1457067728042603,
          4.095879077911377,
          4.3059773445129395,
          -3.45145845413208,
          -5.663196086883545,
          -4.420305252075195,
          -2.022897720336914,
          0.6822938919067383,
          -5.792214870452881,
          -5.220837116241455,
          -7.922181129455566,
          -13.54818344116211,
          -2.769939661026001,
          3.362252712249756,
          -2.5259602069854736,
          -5.360929489135742,
          -7.5075788497924805,
          -18.883207321166992,
          -18.26712417602539,
          -8.524338722229004,
          -6.264186859130859,
          -20.14471435546875,
          -16.491958618164062,
          -21.047931671142578,
          -15.200177192687988,
          -1.2135865688323975,
          -2.4382102489471436,
          -0.9650745391845703,
          0.762239933013916,
          9.372665405273438,
          7.319997310638428,
          -8.048025131225586,
          5.1004462242126465,
          -13.837227821350098,
          -9.174423217773438,
          1.5651812553405762,
          -15.790321350097656,
          -20.46616554260254,
          -15.954219818115234,
          1.2430813312530518,
          15.71977424621582,
          8.868428230285645,
          3.306338310241699,
          7.5505290031433105,
          1.2207584381103516,
          18.789173126220703,
          2.6678342819213867,
          19.222414016723633,
          -1.2417750358581543,
          -9.914990425109863,
          -5.887019157409668,
          -1.1543729305267334,
          14.216080665588379,
          10.413151741027832,
          20.343599319458008,
          -3.9246459007263184,
          8.422296524047852,
          -1.788840889930725,
          -10.316819190979004,
          -11.725523948669434,
          9.744813919067383,
          12.674538612365723,
          -6.182886123657227,
          9.8974027633667,
          -9.233491897583008,
          18.088062286376953,
          -8.512589454650879,
          3.7860450744628906,
          6.383577346801758,
          6.80947208404541,
          -3.1202774047851562,
          9.180087089538574,
          14.287233352661133,
          11.455643653869629,
          17.97101402282715,
          20.428213119506836,
          12.603675842285156,
          10.201438903808594,
          13.889387130737305,
          -8.55530834197998,
          -10.263091087341309,
          -11.312969207763672,
          -1.9271560907363892,
          11.306270599365234,
          12.624273300170898,
          -17.275022506713867,
          -9.548606872558594,
          -14.314081192016602,
          3.355937957763672,
          9.341910362243652,
          -0.14804229140281677,
          5.15467643737793,
          4.596237659454346,
          1.0784804821014404,
          14.253374099731445,
          -10.514385223388672,
          -15.774903297424316,
          4.10828161239624,
          -10.732186317443848,
          11.873786926269531,
          -11.365156173706055,
          23.755281448364258,
          2.5995142459869385,
          -0.9985494017601013,
          -11.353612899780273,
          0.011526565067470074,
          -2.4598195552825928,
          -18.568946838378906,
          -15.605732917785645,
          -4.064049243927002,
          10.6082124710083,
          -9.060359954833984,
          -5.491317272186279,
          -11.053336143493652,
          20.929765701293945,
          20.067909240722656,
          20.619216918945312,
          16.734317779541016,
          0.0790506899356842,
          16.553878784179688,
          2.4345719814300537,
          9.273229598999023,
          -3.7114241123199463,
          -1.6124358177185059,
          6.876481533050537,
          -13.272248268127441,
          -5.266528129577637,
          17.605384826660156,
          12.55529499053955,
          -1.0224195718765259,
          17.20159912109375,
          -2.796083927154541,
          6.332512378692627,
          6.104208469390869,
          5.253354072570801,
          -11.109854698181152,
          -8.658519744873047,
          2.9654436111450195,
          -25.19701385498047,
          -8.2247953414917,
          -12.123514175415039,
          -8.022895812988281,
          -6.5478644371032715,
          -2.4416487216949463,
          -13.083184242248535,
          -0.20701566338539124,
          10.530946731567383,
          -4.135743618011475,
          -0.8768007755279541,
          -8.559663772583008,
          3.152944803237915,
          -0.2740596830844879,
          -1.5539318323135376,
          14.350351333618164,
          6.6798248291015625,
          -15.369123458862305,
          -5.504073143005371,
          -13.086695671081543,
          -4.243987083435059,
          -6.80928897857666,
          -12.523820877075195,
          -2.736046075820923,
          -10.437602043151855,
          -18.072885513305664,
          -15.352954864501953,
          -5.059365749359131,
          -5.930113315582275,
          -9.50080394744873,
          -3.264805555343628,
          2.416829824447632,
          -9.450578689575195,
          -3.20341420173645,
          5.420475006103516,
          -14.065659523010254,
          -2.6770036220550537,
          -13.358452796936035,
          -13.666794776916504,
          -18.42026138305664,
          -11.671958923339844,
          -0.3482322692871094,
          -7.53553581237793,
          -3.4776041507720947,
          -3.318843364715576,
          1.5540800094604492,
          -0.5046189427375793,
          -14.115506172180176,
          -0.9506682753562927,
          -8.311402320861816,
          -9.054882049560547,
          -11.390397071838379,
          -12.83763313293457,
          1.7266234159469604,
          -21.766088485717773,
          -11.984136581420898,
          7.418219089508057,
          5.5267791748046875,
          -3.742060422897339,
          -15.824531555175781,
          1.7419649362564087,
          -10.88685131072998,
          -12.28014087677002,
          -13.458685874938965,
          -3.456796646118164,
          -15.627614974975586,
          -12.037023544311523,
          -8.796232223510742,
          -11.286829948425293,
          -1.1626346111297607,
          -20.577259063720703,
          -17.175901412963867,
          -8.864137649536133,
          -1.78694486618042,
          -2.0770459175109863,
          -7.666707515716553,
          -6.809140682220459,
          -2.7828149795532227,
          4.963410377502441,
          6.465908050537109,
          18.311687469482422,
          4.046188831329346,
          -9.929773330688477,
          -20.82002067565918,
          13.275588035583496,
          7.607254505157471,
          -16.162376403808594,
          7.785529136657715,
          -8.980218887329102,
          -6.840993881225586,
          12.55073070526123,
          3.8408892154693604,
          8.406189918518066,
          15.510619163513184,
          13.007232666015625,
          13.548166275024414,
          -13.805365562438965,
          -8.37418270111084,
          -11.975842475891113,
          11.128376007080078,
          0.6986790299415588,
          -1.3419568538665771,
          12.601773262023926,
          10.302709579467773,
          7.872547626495361,
          -8.26356315612793,
          -2.570502996444702,
          -12.503361701965332,
          6.146556854248047,
          -3.707759380340576,
          13.144551277160645,
          5.000492095947266,
          -2.9999687671661377,
          18.661357879638672,
          11.500550270080566,
          -6.027387619018555,
          23.419919967651367,
          -0.32407647371292114,
          0.3982290029525757,
          -5.506165027618408,
          14.084113121032715,
          -0.9012049436569214,
          -17.29488182067871,
          1.370613694190979,
          11.662866592407227,
          13.391949653625488,
          0.2125971019268036,
          -13.299324035644531,
          -14.6346435546875,
          19.061262130737305,
          -1.7227953672409058,
          5.904556751251221,
          -3.4228899478912354,
          -16.52589988708496,
          17.978174209594727,
          -3.091856002807617,
          0.32350417971611023,
          10.010597229003906,
          22.001583099365234,
          8.54859447479248,
          -15.441034317016602,
          -5.89738655090332,
          -7.355304718017578,
          -10.705201148986816,
          2.6717138290405273,
          -11.251371383666992,
          0.35467830300331116,
          -15.573144912719727,
          5.043095111846924,
          -1.8704952001571655,
          -7.910427570343018,
          -4.739609718322754,
          -22.207508087158203,
          -19.051170349121094,
          -11.00451946258545,
          0.25875386595726013,
          0.36933353543281555,
          4.898045063018799,
          -7.672435760498047,
          11.821784973144531,
          5.3873677253723145,
          12.045416831970215,
          11.474285125732422,
          11.170848846435547,
          -2.908311367034912,
          -3.0327811241149902,
          0.6408326029777527,
          -3.571061849594116,
          -4.308794021606445,
          -0.07491225749254227,
          -10.505402565002441,
          -9.973359107971191,
          -10.597728729248047,
          -0.7898668646812439,
          5.407707214355469,
          14.097176551818848,
          7.995422840118408,
          -3.881957530975342,
          -3.4629878997802734,
          3.980550765991211,
          -5.443421840667725,
          7.948286056518555,
          4.6135663986206055,
          1.6583013534545898,
          -10.154232025146484,
          4.716200351715088,
          0.014094743877649307,
          -9.37446117401123,
          -3.7227303981781006,
          -7.9334635734558105,
          -6.657209873199463,
          11.406166076660156,
          -15.605110168457031,
          -5.255392074584961,
          -11.366552352905273,
          -1.759110450744629,
          -12.745468139648438,
          -3.8094143867492676,
          -15.388518333435059,
          -7.114907264709473,
          -0.645919680595398,
          16.389467239379883,
          -2.5569376945495605,
          7.009204864501953,
          4.128084182739258,
          9.965766906738281,
          12.116179466247559,
          8.532190322875977,
          6.2078633308410645,
          -9.156559944152832,
          2.4788289070129395,
          -2.6922502517700195,
          -12.53239631652832,
          -3.9511685371398926,
          -1.4563428163528442,
          13.82166862487793,
          7.978078842163086,
          -1.1192243099212646,
          -13.456828117370605,
          24.054290771484375,
          6.787854194641113,
          -5.276429653167725,
          1.5043036937713623,
          -5.859503269195557,
          -3.796537160873413,
          -0.49001646041870117,
          17.98074722290039,
          8.422588348388672,
          -2.25001859664917,
          -23.618682861328125,
          -1.8507338762283325,
          -10.026270866394043,
          9.955389976501465,
          -15.645132064819336,
          -6.030371189117432,
          0.7611192464828491,
          8.138102531433105,
          -4.833868026733398,
          0.20313550531864166,
          -17.48797607421875,
          -2.009945869445801,
          -2.015131950378418,
          5.62241792678833,
          7.253273963928223,
          -12.490979194641113,
          4.014656066894531,
          -13.874154090881348,
          3.7613441944122314,
          -18.19196128845215,
          -13.96525764465332,
          6.332632541656494,
          -2.495053291320801,
          -14.026626586914062,
          -5.227743625640869,
          7.447134494781494,
          17.299320220947266,
          15.000452041625977,
          -14.272242546081543,
          9.199382781982422,
          16.932851791381836,
          -12.525694847106934,
          2.8947455883026123,
          12.002086639404297,
          -8.387685775756836,
          6.306132793426514,
          7.47755241394043,
          -6.333953380584717,
          17.675512313842773,
          -3.3200957775115967,
          -11.440317153930664,
          -6.7280731201171875,
          -14.061955451965332,
          -5.902215480804443,
          6.51084041595459,
          -7.411234378814697,
          -12.469061851501465,
          9.546069145202637,
          17.02372169494629,
          -8.551057815551758,
          -16.121597290039062,
          -0.2027582824230194,
          -7.465804100036621,
          14.818678855895996,
          -20.29316520690918,
          -1.459954023361206,
          -5.533627033233643,
          -4.651265621185303,
          -2.966996908187866,
          -5.52388858795166,
          -23.38457489013672,
          -7.991051197052002,
          -2.7322745323181152,
          -14.157748222351074,
          8.616961479187012,
          -5.53972864151001,
          9.757197380065918,
          -7.622716426849365,
          18.05828094482422,
          18.90255355834961,
          7.243438243865967,
          -0.7571706771850586,
          -15.381017684936523,
          -15.020818710327148,
          3.4559404850006104,
          13.734296798706055,
          6.329980850219727,
          3.7025487422943115,
          6.380373954772949,
          19.304683685302734,
          5.843965530395508,
          12.706208229064941,
          -3.0575501918792725,
          4.353118896484375,
          -1.5106099843978882,
          14.135668754577637,
          1.9933223724365234,
          14.454869270324707,
          -0.466761976480484,
          20.444034576416016,
          7.622579574584961,
          11.068572044372559,
          9.369711875915527,
          14.645275115966797,
          6.548318862915039,
          2.443760871887207,
          9.15471076965332,
          -8.06804370880127,
          7.6672186851501465,
          -15.953889846801758,
          5.71684455871582,
          18.105100631713867,
          3.025933027267456,
          -0.26701027154922485,
          -2.6416656970977783,
          15.915501594543457,
          12.716252326965332,
          -1.7567492723464966,
          17.069433212280273,
          -9.900206565856934,
          3.3176703453063965,
          5.994253635406494,
          13.560184478759766,
          6.68024206161499,
          18.332656860351562,
          0.5047610402107239,
          -2.6611640453338623,
          8.747159957885742,
          15.804244995117188,
          -3.8885374069213867,
          11.28203010559082,
          -10.895217895507812,
          11.437870979309082,
          -10.70478630065918,
          8.54153060913086,
          -4.925897121429443,
          7.878250598907471,
          3.9792215824127197,
          3.7337756156921387,
          4.832869052886963,
          14.868186950683594,
          -2.6215686798095703,
          11.95261001586914,
          -7.105545520782471,
          5.362232685089111,
          12.60608196258545,
          10.35683536529541,
          0.37905895709991455,
          15.441954612731934,
          1.0910255908966064,
          20.999061584472656,
          18.830717086791992,
          10.850577354431152,
          0.7853453159332275,
          -0.21069757640361786,
          -12.779181480407715,
          -4.456937789916992,
          -4.438279151916504,
          13.11905288696289,
          20.484312057495117,
          -4.2588605880737305,
          -1.0512783527374268,
          -8.015578269958496,
          7.486941814422607,
          -17.156728744506836,
          2.8554253578186035,
          1.6922284364700317,
          -14.208949089050293,
          4.8116888999938965,
          3.918367862701416,
          -1.4325028657913208,
          -4.671748161315918,
          21.982913970947266,
          6.07647180557251,
          -15.726190567016602,
          -12.300209999084473,
          -5.874197006225586,
          8.232418060302734,
          20.63011932373047,
          1.5224556922912598,
          1.5198465585708618,
          5.985302925109863,
          19.485960006713867,
          1.6113959550857544,
          -7.318480491638184,
          -20.552112579345703,
          8.275618553161621,
          -12.396507263183594,
          -1.6459728479385376,
          -5.250441551208496,
          3.913705348968506,
          16.565675735473633,
          -11.44851303100586,
          -2.919142246246338,
          -13.423700332641602,
          14.345823287963867,
          2.0576958656311035,
          0.6851659417152405,
          1.563934326171875,
          0.9214844703674316,
          -21.970849990844727,
          1.9850207567214966,
          -17.741626739501953,
          -7.8356828689575195,
          -13.24663257598877,
          6.725198268890381,
          -22.368955612182617,
          -19.250368118286133,
          -20.020864486694336,
          -13.386836051940918,
          19.385835647583008,
          0.041364721953868866,
          -7.758768081665039,
          -7.506704330444336,
          23.515827178955078,
          -7.075018405914307,
          -10.392816543579102,
          8.048911094665527,
          -19.24515724182129,
          -19.06007194519043,
          -10.455992698669434,
          18.78377342224121,
          -19.801738739013672,
          -18.757646560668945,
          -19.636150360107422,
          -1.3799517154693604,
          2.0765130519866943,
          -2.049278497695923,
          -0.5099968910217285,
          -9.755892753601074,
          -14.63298225402832,
          -15.466217041015625,
          -6.2904133796691895,
          21.352331161499023,
          -6.989193439483643,
          0.38117516040802,
          -2.819329261779785,
          -3.2069296836853027,
          -8.20383071899414,
          -12.69479751586914,
          2.1332314014434814,
          -13.136373519897461,
          -11.222380638122559,
          -11.779619216918945,
          3.1958301067352295,
          2.233377456665039,
          0.0811389610171318,
          25.582181930541992,
          2.1348483562469482,
          9.785412788391113,
          14.91298770904541,
          15.087523460388184,
          12.466602325439453,
          1.171266794204712,
          7.927573204040527,
          -10.882943153381348,
          -7.947803020477295,
          -9.243639945983887,
          -3.518388032913208,
          -7.456874370574951,
          10.502671241760254,
          17.63435173034668,
          -0.3169468939304352,
          -0.38604214787483215,
          13.685883522033691,
          -15.600811958312988,
          2.5912694931030273,
          -5.0933122634887695,
          6.455164909362793,
          8.714227676391602,
          -15.250810623168945,
          9.278586387634277,
          8.417655944824219,
          -5.502326011657715,
          5.0442585945129395,
          -10.004069328308105,
          -20.92388343811035,
          7.500021457672119,
          -14.844919204711914,
          -4.113893508911133,
          -8.496726036071777,
          -10.288616180419922,
          -18.818283081054688,
          -8.13663387298584,
          -3.049436092376709,
          -6.862088203430176,
          -5.953272342681885,
          4.594550132751465,
          -4.507481098175049,
          -17.448665618896484,
          -3.364935874938965,
          -11.281152725219727,
          -9.170185089111328,
          -5.619594097137451,
          4.095829963684082,
          -14.102584838867188,
          20.514888763427734,
          15.712977409362793,
          14.014172554016113,
          -8.319509506225586,
          3.197946310043335,
          15.123502731323242,
          15.431694984436035,
          4.987445831298828,
          -2.2244644165039062,
          1.2617076635360718,
          21.072723388671875,
          17.80327606201172,
          20.439815521240234,
          7.739983558654785,
          -17.49700164794922,
          3.8499691486358643,
          15.246746063232422,
          -0.7727222442626953,
          -12.905967712402344,
          -11.123636245727539,
          -3.4665603637695312,
          9.112887382507324,
          16.320419311523438,
          10.276823997497559,
          16.343870162963867,
          9.52252197265625,
          21.186378479003906,
          17.751420974731445,
          8.074234962463379,
          1.3296550512313843,
          5.014566421508789,
          -5.751845359802246,
          -12.926456451416016,
          -1.7975424528121948,
          -12.644092559814453,
          1.8077337741851807,
          10.623628616333008,
          9.816018104553223,
          11.283123970031738,
          5.728336334228516,
          -3.097273111343384,
          2.9117116928100586,
          8.591899871826172,
          -19.19835090637207,
          0.6683006882667542,
          -6.508665084838867,
          -5.453352451324463,
          0.1770833134651184,
          -10.038566589355469,
          2.3805313110351562,
          -17.58128547668457,
          19.535423278808594,
          19.062654495239258,
          17.324859619140625,
          18.99350929260254,
          13.318650245666504,
          13.97726058959961,
          20.70465087890625,
          9.881219863891602,
          3.079690933227539,
          19.470657348632812,
          17.629474639892578,
          -17.84952735900879,
          -12.713443756103516,
          17.343446731567383,
          -4.738061428070068,
          -0.6651785373687744,
          6.749320983886719,
          4.376132011413574,
          7.070169925689697,
          -2.6554853916168213,
          0.4946628212928772,
          -16.074264526367188,
          12.517082214355469,
          -4.973941802978516,
          1.4444934129714966,
          16.5615177154541,
          -6.984284400939941,
          4.876298904418945,
          11.136446952819824,
          -17.028406143188477,
          11.567706108093262,
          -5.056246757507324,
          7.130953788757324,
          -7.85673713684082,
          3.599627733230591,
          -18.736854553222656,
          -13.074919700622559,
          -7.815088748931885,
          -9.148954391479492,
          5.09541130065918,
          -10.49813461303711,
          -9.796433448791504,
          -2.8553245067596436,
          2.402282953262329,
          4.971318244934082,
          1.853927731513977,
          -11.176179885864258,
          -1.7465344667434692,
          -6.70265007019043,
          -7.457144260406494,
          1.1060001850128174,
          13.541723251342773,
          11.802374839782715,
          -16.37734603881836,
          1.1265507936477661,
          -5.59504508972168,
          10.355766296386719,
          -14.020929336547852,
          3.4281344413757324,
          -7.472563743591309,
          26.759435653686523,
          10.191886901855469,
          5.911715507507324,
          3.903254985809326,
          10.949792861938477,
          6.760291576385498,
          -9.924275398254395,
          21.93115997314453,
          12.333985328674316,
          7.589478015899658,
          -11.052658081054688,
          -9.099003791809082,
          -6.460690975189209,
          -14.84144115447998,
          -11.507076263427734,
          16.519067764282227,
          -13.653690338134766,
          15.10045051574707,
          0.7552664279937744,
          -9.432414054870605,
          -14.905352592468262,
          2.426603078842163,
          -10.912894248962402,
          -20.755125045776367,
          -7.279019832611084,
          8.773138999938965,
          9.198225021362305,
          5.364441394805908,
          2.705674886703491,
          -13.485011100769043,
          1.0970851182937622,
          13.898005485534668,
          -5.1024250984191895,
          8.707039833068848,
          -9.359809875488281,
          -9.91246223449707,
          -0.08285809308290482,
          -6.503157138824463,
          -10.756937026977539,
          4.010865688323975,
          -7.627762317657471,
          -19.41611099243164,
          -13.600558280944824,
          0.6895394325256348,
          -16.791467666625977,
          4.347149848937988,
          -3.875471591949463,
          -14.523749351501465,
          13.476228713989258,
          -14.301182746887207,
          -11.044034004211426,
          -4.328104019165039,
          -7.250618934631348,
          14.318449974060059,
          3.4328343868255615,
          -21.902503967285156,
          -3.9500389099121094,
          -15.09809398651123,
          6.164621353149414,
          19.910846710205078,
          -5.243566513061523,
          4.180424213409424,
          -6.732836723327637,
          -7.678935527801514,
          11.105820655822754,
          0.5487575531005859,
          -2.9610002040863037,
          -0.8292877078056335,
          6.770890235900879,
          6.7809858322143555,
          14.237651824951172,
          -10.366021156311035,
          -11.518165588378906,
          -0.5623882412910461,
          -2.4214463233947754,
          21.16255760192871,
          5.289800643920898,
          8.496336936950684,
          16.909320831298828,
          -11.045184135437012,
          -11.658945083618164,
          5.8610429763793945,
          2.632715940475464,
          11.360429763793945,
          -5.652328968048096,
          -4.481565475463867,
          -6.076379776000977,
          3.7565135955810547,
          -15.898557662963867,
          -14.193382263183594,
          18.04387092590332,
          16.80852699279785,
          15.275123596191406,
          6.903036117553711,
          18.248079299926758,
          14.101949691772461,
          15.578121185302734,
          13.820764541625977,
          15.225791931152344,
          0.8538641929626465,
          5.728627681732178,
          3.825972318649292,
          -5.220707893371582,
          -3.8914072513580322,
          -17.420392990112305,
          -1.0172992944717407,
          -12.071796417236328,
          -8.783821105957031,
          2.937103033065796,
          7.131105422973633,
          -7.103054046630859,
          2.481938123703003,
          12.288559913635254,
          -10.5986909866333,
          8.235332489013672,
          -9.200313568115234,
          -10.62081241607666,
          3.4754984378814697,
          6.288886070251465,
          18.903905868530273,
          12.325183868408203,
          11.51974105834961,
          14.243459701538086,
          7.892204761505127,
          -17.642580032348633,
          3.962094783782959,
          8.291077613830566,
          13.319875717163086,
          12.326303482055664,
          3.1231272220611572,
          17.518260955810547,
          -8.335607528686523,
          2.5741305351257324,
          -4.384324550628662,
          -3.4462034702301025,
          14.165172576904297,
          2.1107518672943115,
          4.717748165130615,
          14.734383583068848,
          2.6062214374542236,
          10.266427993774414,
          13.77022647857666,
          14.843674659729004,
          18.564828872680664,
          17.517902374267578,
          -18.512922286987305,
          -17.34462547302246,
          -15.364469528198242,
          -5.021651268005371,
          6.92286491394043,
          -4.714615345001221,
          -0.5797694325447083,
          18.86822509765625,
          -19.233638763427734,
          -1.595343828201294,
          15.85950756072998,
          -4.973374366760254,
          9.089896202087402,
          3.9421417713165283,
          14.654958724975586,
          11.367072105407715,
          2.357917308807373,
          7.171136856079102,
          17.30837631225586,
          -17.30327033996582,
          -18.77597999572754,
          2.0652146339416504,
          6.999934196472168,
          -16.413728713989258,
          -15.983091354370117,
          14.600991249084473,
          4.145962238311768,
          11.445799827575684,
          14.215666770935059,
          -10.357564926147461,
          -5.499088287353516,
          7.182661533355713,
          -5.732484340667725,
          -18.83380126953125,
          -9.406303405761719,
          5.455266952514648,
          -1.9943115711212158,
          -13.981657981872559,
          18.106271743774414,
          9.417867660522461,
          25.224517822265625,
          12.818440437316895,
          16.22178840637207,
          10.145801544189453,
          -0.9962777495384216,
          -4.389943599700928,
          -3.644812822341919,
          12.726078987121582,
          8.28758430480957,
          -10.885540008544922,
          1.3234001398086548,
          14.174785614013672,
          -0.08363184332847595,
          -9.908373832702637,
          -17.221790313720703,
          25.82709312438965,
          -8.675169944763184,
          21.433940887451172,
          6.717519760131836,
          7.624609470367432,
          8.260971069335938,
          -17.665874481201172,
          -3.2627875804901123,
          6.866080284118652,
          -17.132631301879883,
          6.087380409240723,
          -9.31442642211914,
          -7.0797505378723145,
          17.256044387817383,
          7.089791774749756,
          -17.615184783935547,
          8.192795753479004,
          6.2375664710998535,
          9.918824195861816,
          5.015430450439453,
          14.993341445922852,
          19.82583236694336,
          9.307462692260742,
          9.268113136291504,
          12.064846992492676,
          3.4114248752593994,
          -3.2842013835906982,
          5.814228057861328,
          -0.44626790285110474,
          -17.195213317871094,
          25.66318702697754,
          13.432585716247559,
          -15.680158615112305,
          24.587432861328125,
          7.196094989776611,
          7.829502105712891,
          -6.668569564819336,
          12.157910346984863,
          24.955476760864258,
          -6.600115776062012,
          16.361299514770508,
          -7.161478042602539,
          8.5040922164917,
          6.524295330047607,
          -8.783769607543945,
          8.6676025390625,
          3.2056140899658203,
          25.517173767089844,
          8.582326889038086,
          26.04249382019043,
          16.720556259155273,
          5.101207733154297,
          24.96573829650879,
          25.08235740661621,
          25.851428985595703,
          5.065488815307617,
          24.663345336914062,
          -12.775125503540039,
          -2.456801652908325,
          -16.415721893310547,
          5.376733779907227,
          25.351238250732422,
          6.668224811553955,
          24.766416549682617,
          -16.317075729370117,
          25.009790420532227,
          -6.604494571685791,
          23.50726890563965,
          16.86444664001465,
          -15.6003999710083,
          13.464784622192383,
          -9.689229965209961,
          22.80542755126953,
          13.4059419631958,
          2.3854029178619385,
          25.569644927978516,
          25.710994720458984,
          8.169093132019043,
          14.095552444458008,
          25.721710205078125,
          -12.93191146850586,
          -23.0306339263916,
          2.2054760456085205,
          -7.159536838531494,
          14.023168563842773,
          -7.186384201049805,
          24.745342254638672,
          25.192157745361328,
          -12.24795150756836,
          18.12517547607422,
          -6.652148723602295,
          -0.11706359684467316,
          -16.328304290771484,
          -15.558259963989258,
          0.3193759620189667,
          -16.41472625732422,
          0.6282919049263,
          19.492095947265625,
          -6.322606086730957,
          22.26340103149414,
          -0.9598156213760376,
          -15.207571983337402,
          -1.6994990110397339,
          -1.3054955005645752,
          -1.618579387664795,
          6.891457557678223,
          17.617494583129883,
          -15.901391983032227,
          -16.260488510131836,
          -4.486116409301758,
          0.5673162937164307,
          6.090006351470947,
          4.194055557250977,
          -7.777995586395264,
          -4.655241012573242,
          15.743757247924805,
          -16.153324127197266,
          9.743663787841797,
          -17.580970764160156,
          -4.575671672821045,
          18.94019889831543,
          21.359092712402344,
          4.792877197265625,
          3.154280424118042,
          13.925663948059082,
          14.739380836486816,
          9.063834190368652,
          14.268241882324219,
          15.522017478942871,
          6.6784868240356445,
          3.531217098236084,
          -18.0037841796875,
          6.136845588684082,
          15.921748161315918,
          -5.21244478225708,
          6.155677318572998,
          12.803958892822266,
          10.84965991973877,
          11.502272605895996,
          0.21243874728679657,
          14.805710792541504,
          2.269534111022949,
          -16.012685775756836,
          -10.58369255065918,
          -10.756253242492676,
          18.923076629638672,
          8.15524959564209,
          -16.363574981689453,
          2.3299190998077393,
          -15.0584716796875,
          9.60733413696289,
          5.010467529296875,
          1.245553970336914,
          -4.524640083312988,
          4.351887226104736,
          8.153895378112793,
          -3.644793748855591,
          10.492578506469727,
          -2.5632479190826416,
          0.541904091835022,
          8.27708625793457,
          5.506040096282959,
          -7.654266834259033,
          7.867236614227295,
          -11.757614135742188,
          0.034957461059093475,
          5.476149082183838,
          -6.698378562927246,
          4.523963451385498,
          0.03626415878534317,
          7.692416191101074,
          -0.34857985377311707,
          -2.323479652404785,
          6.015486717224121,
          9.172916412353516,
          -2.6037817001342773,
          6.994978427886963,
          4.8788580894470215,
          8.533578872680664,
          -15.896771430969238,
          -20.90309715270996,
          -9.637646675109863,
          1.7599142789840698,
          8.549216270446777,
          5.4179816246032715,
          6.617522239685059,
          -0.13059735298156738,
          -2.2983012199401855,
          -1.9638662338256836,
          9.136645317077637,
          8.195791244506836,
          6.284407138824463,
          4.066664218902588,
          12.656591415405273,
          16.327613830566406,
          6.263871192932129,
          -5.658993721008301,
          5.367816925048828,
          -3.7674827575683594,
          20.618812561035156,
          15.534564971923828,
          -2.5698134899139404,
          14.520938873291016,
          7.888303756713867,
          8.902461051940918,
          6.855929851531982,
          8.53620433807373,
          21.291372299194336,
          -1.853016972541809,
          21.04600715637207,
          15.245186805725098,
          6.996226787567139,
          -5.488279819488525,
          -12.767187118530273,
          -17.520254135131836,
          21.23333168029785,
          6.621735095977783,
          5.263614177703857,
          7.508609294891357,
          -6.055601596832275,
          7.847783088684082,
          16.362701416015625,
          13.894876480102539,
          14.215433120727539,
          -9.297327995300293,
          -7.118813991546631,
          14.747262001037598,
          -8.153697967529297,
          11.180408477783203,
          -7.391899585723877,
          1.29250967502594,
          -0.14636407792568207,
          -7.839282035827637,
          8.139976501464844,
          6.312851428985596,
          3.847036838531494,
          15.134434700012207,
          -5.632752418518066,
          3.059317111968994,
          6.063473224639893,
          9.270841598510742,
          6.211922645568848,
          6.027198791503906,
          14.289908409118652,
          -2.8504631519317627,
          13.585221290588379,
          -12.951473236083984,
          9.805121421813965,
          -8.628618240356445,
          -0.6311030983924866,
          -13.554462432861328,
          -6.608001232147217,
          10.553297996520996,
          12.6776762008667,
          1.7477562427520752,
          -13.309720993041992,
          6.426414489746094,
          5.625607967376709,
          4.686572074890137,
          18.824201583862305,
          7.311324119567871,
          19.154542922973633,
          20.65104866027832,
          12.172783851623535,
          6.951744079589844,
          7.568851947784424,
          6.309242248535156,
          12.184242248535156,
          -8.148833274841309,
          4.628067493438721,
          19.06360626220703,
          -5.436888694763184,
          20.591808319091797,
          -12.767242431640625,
          19.483854293823242,
          18.92837142944336,
          18.601778030395508,
          8.172444343566895,
          19.77915382385254,
          7.996972560882568,
          8.315742492675781,
          18.803131103515625,
          18.397186279296875,
          8.276461601257324,
          19.76902961730957,
          20.50883674621582,
          20.05437469482422,
          19.15281105041504,
          20.1878662109375,
          18.588916778564453,
          18.579029083251953,
          -16.998571395874023,
          19.68069839477539,
          18.964950561523438,
          7.145465850830078,
          18.860889434814453,
          6.406011581420898,
          7.511658668518066,
          -17.797359466552734,
          19.35798454284668,
          20.180173873901367,
          -1.0604742765426636,
          -13.863346099853516,
          -1.77678644657135,
          -9.434678077697754,
          -12.429315567016602,
          9.032076835632324,
          -6.731797695159912,
          5.074512004852295,
          12.359164237976074,
          5.62101411819458,
          6.013232707977295,
          0.7665859460830688,
          -13.16435432434082,
          19.61807632446289,
          -5.045071125030518,
          7.318052768707275,
          -0.6886947154998779,
          4.3968329429626465,
          13.50339412689209,
          -18.761947631835938,
          8.05730152130127,
          21.35995864868164,
          13.612272262573242,
          3.3160736560821533,
          -23.631717681884766,
          -5.347073078155518,
          6.556032180786133,
          -4.270809650421143,
          8.930651664733887,
          -17.794017791748047,
          5.649473667144775,
          11.238126754760742,
          8.853564262390137,
          21.78251838684082,
          7.377596378326416,
          -11.342621803283691,
          7.442733287811279,
          -8.099333763122559,
          19.155330657958984,
          -13.390825271606445,
          -10.67947769165039,
          2.6897132396698,
          -16.080900192260742,
          8.626272201538086,
          -16.365758895874023,
          -16.191797256469727,
          -15.373600006103516,
          -16.349950790405273,
          7.5092997550964355,
          -16.560590744018555,
          6.790221691131592,
          -17.412168502807617,
          -16.365135192871094,
          7.149010181427002,
          -17.393495559692383,
          9.970244407653809,
          6.810238361358643,
          5.30277681350708,
          -15.753898620605469,
          -16.407556533813477,
          8.013011932373047,
          -16.645109176635742,
          7.271024227142334,
          8.479984283447266,
          9.95565414428711,
          5.646615028381348,
          7.751562118530273,
          5.516394138336182,
          14.401041030883789,
          -7.784398555755615,
          2.15295672416687,
          21.934755325317383,
          18.68798065185547,
          21.936491012573242,
          8.115032196044922,
          8.205097198486328,
          -6.36046838760376,
          9.348357200622559,
          8.3411283493042,
          -1.1120916604995728,
          -1.541045904159546,
          8.056512832641602,
          -1.1762480735778809,
          20.19284439086914,
          12.668733596801758,
          9.094404220581055,
          -9.624808311462402,
          8.111924171447754,
          18.25048828125,
          9.004884719848633,
          20.509111404418945,
          4.874032974243164,
          8.484724998474121,
          12.29000186920166,
          8.921107292175293
         ],
         "yaxis": "y"
        }
       ],
       "layout": {
        "coloraxis": {
         "colorbar": {
          "title": {
           "text": "popularity"
          }
         },
         "colorscale": [
          [
           0,
           "#0d0887"
          ],
          [
           0.1111111111111111,
           "#46039f"
          ],
          [
           0.2222222222222222,
           "#7201a8"
          ],
          [
           0.3333333333333333,
           "#9c179e"
          ],
          [
           0.4444444444444444,
           "#bd3786"
          ],
          [
           0.5555555555555556,
           "#d8576b"
          ],
          [
           0.6666666666666666,
           "#ed7953"
          ],
          [
           0.7777777777777778,
           "#fb9f3a"
          ],
          [
           0.8888888888888888,
           "#fdca26"
          ],
          [
           1,
           "#f0f921"
          ]
         ]
        },
        "legend": {
         "tracegroupgap": 0
        },
        "margin": {
         "t": 60
        },
        "template": {
         "data": {
          "bar": [
           {
            "error_x": {
             "color": "#2a3f5f"
            },
            "error_y": {
             "color": "#2a3f5f"
            },
            "marker": {
             "line": {
              "color": "#E5ECF6",
              "width": 0.5
             },
             "pattern": {
              "fillmode": "overlay",
              "size": 10,
              "solidity": 0.2
             }
            },
            "type": "bar"
           }
          ],
          "barpolar": [
           {
            "marker": {
             "line": {
              "color": "#E5ECF6",
              "width": 0.5
             },
             "pattern": {
              "fillmode": "overlay",
              "size": 10,
              "solidity": 0.2
             }
            },
            "type": "barpolar"
           }
          ],
          "carpet": [
           {
            "aaxis": {
             "endlinecolor": "#2a3f5f",
             "gridcolor": "white",
             "linecolor": "white",
             "minorgridcolor": "white",
             "startlinecolor": "#2a3f5f"
            },
            "baxis": {
             "endlinecolor": "#2a3f5f",
             "gridcolor": "white",
             "linecolor": "white",
             "minorgridcolor": "white",
             "startlinecolor": "#2a3f5f"
            },
            "type": "carpet"
           }
          ],
          "choropleth": [
           {
            "colorbar": {
             "outlinewidth": 0,
             "ticks": ""
            },
            "type": "choropleth"
           }
          ],
          "contour": [
           {
            "colorbar": {
             "outlinewidth": 0,
             "ticks": ""
            },
            "colorscale": [
             [
              0,
              "#0d0887"
             ],
             [
              0.1111111111111111,
              "#46039f"
             ],
             [
              0.2222222222222222,
              "#7201a8"
             ],
             [
              0.3333333333333333,
              "#9c179e"
             ],
             [
              0.4444444444444444,
              "#bd3786"
             ],
             [
              0.5555555555555556,
              "#d8576b"
             ],
             [
              0.6666666666666666,
              "#ed7953"
             ],
             [
              0.7777777777777778,
              "#fb9f3a"
             ],
             [
              0.8888888888888888,
              "#fdca26"
             ],
             [
              1,
              "#f0f921"
             ]
            ],
            "type": "contour"
           }
          ],
          "contourcarpet": [
           {
            "colorbar": {
             "outlinewidth": 0,
             "ticks": ""
            },
            "type": "contourcarpet"
           }
          ],
          "heatmap": [
           {
            "colorbar": {
             "outlinewidth": 0,
             "ticks": ""
            },
            "colorscale": [
             [
              0,
              "#0d0887"
             ],
             [
              0.1111111111111111,
              "#46039f"
             ],
             [
              0.2222222222222222,
              "#7201a8"
             ],
             [
              0.3333333333333333,
              "#9c179e"
             ],
             [
              0.4444444444444444,
              "#bd3786"
             ],
             [
              0.5555555555555556,
              "#d8576b"
             ],
             [
              0.6666666666666666,
              "#ed7953"
             ],
             [
              0.7777777777777778,
              "#fb9f3a"
             ],
             [
              0.8888888888888888,
              "#fdca26"
             ],
             [
              1,
              "#f0f921"
             ]
            ],
            "type": "heatmap"
           }
          ],
          "heatmapgl": [
           {
            "colorbar": {
             "outlinewidth": 0,
             "ticks": ""
            },
            "colorscale": [
             [
              0,
              "#0d0887"
             ],
             [
              0.1111111111111111,
              "#46039f"
             ],
             [
              0.2222222222222222,
              "#7201a8"
             ],
             [
              0.3333333333333333,
              "#9c179e"
             ],
             [
              0.4444444444444444,
              "#bd3786"
             ],
             [
              0.5555555555555556,
              "#d8576b"
             ],
             [
              0.6666666666666666,
              "#ed7953"
             ],
             [
              0.7777777777777778,
              "#fb9f3a"
             ],
             [
              0.8888888888888888,
              "#fdca26"
             ],
             [
              1,
              "#f0f921"
             ]
            ],
            "type": "heatmapgl"
           }
          ],
          "histogram": [
           {
            "marker": {
             "pattern": {
              "fillmode": "overlay",
              "size": 10,
              "solidity": 0.2
             }
            },
            "type": "histogram"
           }
          ],
          "histogram2d": [
           {
            "colorbar": {
             "outlinewidth": 0,
             "ticks": ""
            },
            "colorscale": [
             [
              0,
              "#0d0887"
             ],
             [
              0.1111111111111111,
              "#46039f"
             ],
             [
              0.2222222222222222,
              "#7201a8"
             ],
             [
              0.3333333333333333,
              "#9c179e"
             ],
             [
              0.4444444444444444,
              "#bd3786"
             ],
             [
              0.5555555555555556,
              "#d8576b"
             ],
             [
              0.6666666666666666,
              "#ed7953"
             ],
             [
              0.7777777777777778,
              "#fb9f3a"
             ],
             [
              0.8888888888888888,
              "#fdca26"
             ],
             [
              1,
              "#f0f921"
             ]
            ],
            "type": "histogram2d"
           }
          ],
          "histogram2dcontour": [
           {
            "colorbar": {
             "outlinewidth": 0,
             "ticks": ""
            },
            "colorscale": [
             [
              0,
              "#0d0887"
             ],
             [
              0.1111111111111111,
              "#46039f"
             ],
             [
              0.2222222222222222,
              "#7201a8"
             ],
             [
              0.3333333333333333,
              "#9c179e"
             ],
             [
              0.4444444444444444,
              "#bd3786"
             ],
             [
              0.5555555555555556,
              "#d8576b"
             ],
             [
              0.6666666666666666,
              "#ed7953"
             ],
             [
              0.7777777777777778,
              "#fb9f3a"
             ],
             [
              0.8888888888888888,
              "#fdca26"
             ],
             [
              1,
              "#f0f921"
             ]
            ],
            "type": "histogram2dcontour"
           }
          ],
          "mesh3d": [
           {
            "colorbar": {
             "outlinewidth": 0,
             "ticks": ""
            },
            "type": "mesh3d"
           }
          ],
          "parcoords": [
           {
            "line": {
             "colorbar": {
              "outlinewidth": 0,
              "ticks": ""
             }
            },
            "type": "parcoords"
           }
          ],
          "pie": [
           {
            "automargin": true,
            "type": "pie"
           }
          ],
          "scatter": [
           {
            "fillpattern": {
             "fillmode": "overlay",
             "size": 10,
             "solidity": 0.2
            },
            "type": "scatter"
           }
          ],
          "scatter3d": [
           {
            "line": {
             "colorbar": {
              "outlinewidth": 0,
              "ticks": ""
             }
            },
            "marker": {
             "colorbar": {
              "outlinewidth": 0,
              "ticks": ""
             }
            },
            "type": "scatter3d"
           }
          ],
          "scattercarpet": [
           {
            "marker": {
             "colorbar": {
              "outlinewidth": 0,
              "ticks": ""
             }
            },
            "type": "scattercarpet"
           }
          ],
          "scattergeo": [
           {
            "marker": {
             "colorbar": {
              "outlinewidth": 0,
              "ticks": ""
             }
            },
            "type": "scattergeo"
           }
          ],
          "scattergl": [
           {
            "marker": {
             "colorbar": {
              "outlinewidth": 0,
              "ticks": ""
             }
            },
            "type": "scattergl"
           }
          ],
          "scattermapbox": [
           {
            "marker": {
             "colorbar": {
              "outlinewidth": 0,
              "ticks": ""
             }
            },
            "type": "scattermapbox"
           }
          ],
          "scatterpolar": [
           {
            "marker": {
             "colorbar": {
              "outlinewidth": 0,
              "ticks": ""
             }
            },
            "type": "scatterpolar"
           }
          ],
          "scatterpolargl": [
           {
            "marker": {
             "colorbar": {
              "outlinewidth": 0,
              "ticks": ""
             }
            },
            "type": "scatterpolargl"
           }
          ],
          "scatterternary": [
           {
            "marker": {
             "colorbar": {
              "outlinewidth": 0,
              "ticks": ""
             }
            },
            "type": "scatterternary"
           }
          ],
          "surface": [
           {
            "colorbar": {
             "outlinewidth": 0,
             "ticks": ""
            },
            "colorscale": [
             [
              0,
              "#0d0887"
             ],
             [
              0.1111111111111111,
              "#46039f"
             ],
             [
              0.2222222222222222,
              "#7201a8"
             ],
             [
              0.3333333333333333,
              "#9c179e"
             ],
             [
              0.4444444444444444,
              "#bd3786"
             ],
             [
              0.5555555555555556,
              "#d8576b"
             ],
             [
              0.6666666666666666,
              "#ed7953"
             ],
             [
              0.7777777777777778,
              "#fb9f3a"
             ],
             [
              0.8888888888888888,
              "#fdca26"
             ],
             [
              1,
              "#f0f921"
             ]
            ],
            "type": "surface"
           }
          ],
          "table": [
           {
            "cells": {
             "fill": {
              "color": "#EBF0F8"
             },
             "line": {
              "color": "white"
             }
            },
            "header": {
             "fill": {
              "color": "#C8D4E3"
             },
             "line": {
              "color": "white"
             }
            },
            "type": "table"
           }
          ]
         },
         "layout": {
          "annotationdefaults": {
           "arrowcolor": "#2a3f5f",
           "arrowhead": 0,
           "arrowwidth": 1
          },
          "autotypenumbers": "strict",
          "coloraxis": {
           "colorbar": {
            "outlinewidth": 0,
            "ticks": ""
           }
          },
          "colorscale": {
           "diverging": [
            [
             0,
             "#8e0152"
            ],
            [
             0.1,
             "#c51b7d"
            ],
            [
             0.2,
             "#de77ae"
            ],
            [
             0.3,
             "#f1b6da"
            ],
            [
             0.4,
             "#fde0ef"
            ],
            [
             0.5,
             "#f7f7f7"
            ],
            [
             0.6,
             "#e6f5d0"
            ],
            [
             0.7,
             "#b8e186"
            ],
            [
             0.8,
             "#7fbc41"
            ],
            [
             0.9,
             "#4d9221"
            ],
            [
             1,
             "#276419"
            ]
           ],
           "sequential": [
            [
             0,
             "#0d0887"
            ],
            [
             0.1111111111111111,
             "#46039f"
            ],
            [
             0.2222222222222222,
             "#7201a8"
            ],
            [
             0.3333333333333333,
             "#9c179e"
            ],
            [
             0.4444444444444444,
             "#bd3786"
            ],
            [
             0.5555555555555556,
             "#d8576b"
            ],
            [
             0.6666666666666666,
             "#ed7953"
            ],
            [
             0.7777777777777778,
             "#fb9f3a"
            ],
            [
             0.8888888888888888,
             "#fdca26"
            ],
            [
             1,
             "#f0f921"
            ]
           ],
           "sequentialminus": [
            [
             0,
             "#0d0887"
            ],
            [
             0.1111111111111111,
             "#46039f"
            ],
            [
             0.2222222222222222,
             "#7201a8"
            ],
            [
             0.3333333333333333,
             "#9c179e"
            ],
            [
             0.4444444444444444,
             "#bd3786"
            ],
            [
             0.5555555555555556,
             "#d8576b"
            ],
            [
             0.6666666666666666,
             "#ed7953"
            ],
            [
             0.7777777777777778,
             "#fb9f3a"
            ],
            [
             0.8888888888888888,
             "#fdca26"
            ],
            [
             1,
             "#f0f921"
            ]
           ]
          },
          "colorway": [
           "#636efa",
           "#EF553B",
           "#00cc96",
           "#ab63fa",
           "#FFA15A",
           "#19d3f3",
           "#FF6692",
           "#B6E880",
           "#FF97FF",
           "#FECB52"
          ],
          "font": {
           "color": "#2a3f5f"
          },
          "geo": {
           "bgcolor": "white",
           "lakecolor": "white",
           "landcolor": "#E5ECF6",
           "showlakes": true,
           "showland": true,
           "subunitcolor": "white"
          },
          "hoverlabel": {
           "align": "left"
          },
          "hovermode": "closest",
          "mapbox": {
           "style": "light"
          },
          "paper_bgcolor": "white",
          "plot_bgcolor": "#E5ECF6",
          "polar": {
           "angularaxis": {
            "gridcolor": "white",
            "linecolor": "white",
            "ticks": ""
           },
           "bgcolor": "#E5ECF6",
           "radialaxis": {
            "gridcolor": "white",
            "linecolor": "white",
            "ticks": ""
           }
          },
          "scene": {
           "xaxis": {
            "backgroundcolor": "#E5ECF6",
            "gridcolor": "white",
            "gridwidth": 2,
            "linecolor": "white",
            "showbackground": true,
            "ticks": "",
            "zerolinecolor": "white"
           },
           "yaxis": {
            "backgroundcolor": "#E5ECF6",
            "gridcolor": "white",
            "gridwidth": 2,
            "linecolor": "white",
            "showbackground": true,
            "ticks": "",
            "zerolinecolor": "white"
           },
           "zaxis": {
            "backgroundcolor": "#E5ECF6",
            "gridcolor": "white",
            "gridwidth": 2,
            "linecolor": "white",
            "showbackground": true,
            "ticks": "",
            "zerolinecolor": "white"
           }
          },
          "shapedefaults": {
           "line": {
            "color": "#2a3f5f"
           }
          },
          "ternary": {
           "aaxis": {
            "gridcolor": "white",
            "linecolor": "white",
            "ticks": ""
           },
           "baxis": {
            "gridcolor": "white",
            "linecolor": "white",
            "ticks": ""
           },
           "bgcolor": "#E5ECF6",
           "caxis": {
            "gridcolor": "white",
            "linecolor": "white",
            "ticks": ""
           }
          },
          "title": {
           "x": 0.05
          },
          "xaxis": {
           "automargin": true,
           "gridcolor": "white",
           "linecolor": "white",
           "ticks": "",
           "title": {
            "standoff": 15
           },
           "zerolinecolor": "white",
           "zerolinewidth": 2
          },
          "yaxis": {
           "automargin": true,
           "gridcolor": "white",
           "linecolor": "white",
           "ticks": "",
           "title": {
            "standoff": 15
           },
           "zerolinecolor": "white",
           "zerolinewidth": 2
          }
         }
        },
        "xaxis": {
         "anchor": "y",
         "domain": [
          0,
          1
         ],
         "title": {
          "text": "tsne_1"
         }
        },
        "yaxis": {
         "anchor": "x",
         "domain": [
          0,
          1
         ],
         "title": {
          "text": "tsne_2"
         }
        }
       }
      },
      "text/html": [
       "<div>                        <script type=\"text/javascript\">window.PlotlyConfig = {MathJaxConfig: 'local'};</script>\n",
       "        <script charset=\"utf-8\" src=\"https://cdn.plot.ly/plotly-2.34.0.min.js\"></script>                <div id=\"51271e96-9c58-4154-a99e-d08616a9f5b9\" class=\"plotly-graph-div\" style=\"height:100%; width:100%;\"></div>            <script type=\"text/javascript\">                                    window.PLOTLYENV=window.PLOTLYENV || {};                                    if (document.getElementById(\"51271e96-9c58-4154-a99e-d08616a9f5b9\")) {                    Plotly.newPlot(                        \"51271e96-9c58-4154-a99e-d08616a9f5b9\",                        [{\"customdata\":[[1,\"Toy Story (1995)\",452],[2,\"GoldenEye (1995)\",131],[3,\"Four Rooms (1995)\",90],[4,\"Get Shorty (1995)\",209],[5,\"Copycat (1995)\",86],[6,\"Shanghai Triad (Yao a yao yao dao waipo qiao) (1995)\",26],[7,\"Twelve Monkeys (1995)\",392],[8,\"Babe (1995)\",219],[9,\"Dead Man Walking (1995)\",299],[10,\"Richard III (1995)\",89],[11,\"Seven (Se7en) (1995)\",236],[12,\"Usual Suspects, The (1995)\",267],[13,\"Mighty Aphrodite (1995)\",184],[14,\"Postino, Il (1994)\",183],[15,\"Mr. Holland's Opus (1995)\",293],[16,\"French Twist (Gazon maudit) (1995)\",39],[17,\"From Dusk Till Dawn (1996)\",92],[18,\"White Balloon, The (1995)\",10],[19,\"Antonia's Line (1995)\",69],[20,\"Angels and Insects (1995)\",72],[21,\"Muppet Treasure Island (1996)\",84],[22,\"Braveheart (1995)\",297],[23,\"Taxi Driver (1976)\",182],[24,\"Rumble in the Bronx (1995)\",174],[25,\"Birdcage, The (1996)\",293],[26,\"Brothers McMullen, The (1995)\",73],[27,\"Bad Boys (1995)\",57],[28,\"Apollo 13 (1995)\",276],[29,\"Batman Forever (1995)\",114],[30,\"Belle de jour (1967)\",37],[31,\"Crimson Tide (1995)\",154],[32,\"Crumb (1994)\",81],[33,\"Desperado (1995)\",97],[34,\"Doom Generation, The (1995)\",7],[35,\"Free Willy 2: The Adventure Home (1995)\",11],[36,\"Mad Love (1995)\",13],[37,\"Nadja (1994)\",8],[38,\"Net, The (1995)\",120],[39,\"Strange Days (1995)\",87],[40,\"To Wong Foo, Thanks for Everything! Julie Newmar (1995)\",57],[41,\"Billy Madison (1995)\",37],[42,\"Clerks (1994)\",148],[43,\"Disclosure (1994)\",40],[44,\"Dolores Claiborne (1994)\",79],[45,\"Eat Drink Man Woman (1994)\",80],[46,\"Exotica (1994)\",27],[47,\"Ed Wood (1994)\",133],[48,\"Hoop Dreams (1994)\",117],[49,\"I.Q. (1994)\",81],[50,\"Star Wars (1977)\",583],[51,\"Legends of the Fall (1994)\",81],[52,\"Madness of King George, The (1994)\",91],[53,\"Natural Born Killers (1994)\",128],[54,\"Outbreak (1995)\",104],[55,\"Professional, The (1994)\",149],[56,\"Pulp Fiction (1994)\",394],[57,\"Priest (1994)\",40],[58,\"Quiz Show (1994)\",175],[59,\"Three Colors: Red (1994)\",83],[60,\"Three Colors: Blue (1993)\",64],[61,\"Three Colors: White (1994)\",59],[62,\"Stargate (1994)\",127],[63,\"Santa Clause, The (1994)\",82],[64,\"Shawshank Redemption, The (1994)\",283],[65,\"What's Eating Gilbert Grape (1993)\",115],[66,\"While You Were Sleeping (1995)\",162],[67,\"Ace Ventura: Pet Detective (1994)\",103],[68,\"Crow, The (1994)\",134],[69,\"Forrest Gump (1994)\",321],[70,\"Four Weddings and a Funeral (1994)\",251],[71,\"Lion King, The (1994)\",220],[72,\"Mask, The (1994)\",129],[73,\"Maverick (1994)\",128],[74,\"Faster Pussycat! Kill! Kill! (1965)\",7],[75,\"Brother Minister: The Assassination of Malcolm X (1994)\",5],[76,\"Carlito's Way (1993)\",54],[77,\"Firm, The (1993)\",151],[78,\"Free Willy (1993)\",33],[79,\"Fugitive, The (1993)\",336],[80,\"Hot Shots! Part Deux (1993)\",68],[81,\"Hudsucker Proxy, The (1994)\",110],[82,\"Jurassic Park (1993)\",261],[83,\"Much Ado About Nothing (1993)\",176],[84,\"Robert A. Heinlein's The Puppet Masters (1994)\",18],[85,\"Ref, The (1994)\",58],[86,\"Remains of the Day, The (1993)\",150],[87,\"Searching for Bobby Fischer (1993)\",138],[88,\"Sleepless in Seattle (1993)\",213],[89,\"Blade Runner (1982)\",275],[90,\"So I Married an Axe Murderer (1993)\",95],[91,\"Nightmare Before Christmas, The (1993)\",143],[92,\"True Romance (1993)\",104],[93,\"Welcome to the Dollhouse (1995)\",112],[94,\"Home Alone (1990)\",137],[95,\"Aladdin (1992)\",219],[96,\"Terminator 2: Judgment Day (1991)\",295],[97,\"Dances with Wolves (1990)\",256],[98,\"Silence of the Lambs, The (1991)\",390],[99,\"Snow White and the Seven Dwarfs (1937)\",172],[100,\"Fargo (1996)\",508],[101,\"Heavy Metal (1981)\",73],[102,\"Aristocats, The (1970)\",54],[103,\"All Dogs Go to Heaven 2 (1996)\",15],[104,\"Theodore Rex (1995)\",5],[105,\"Sgt. Bilko (1996)\",74],[106,\"Diabolique (1996)\",71],[107,\"Moll Flanders (1996)\",42],[108,\"Kids in the Hall: Brain Candy (1996)\",65],[109,\"Mystery Science Theater 3000: The Movie (1996)\",130],[110,\"Operation Dumbo Drop (1995)\",31],[111,\"Truth About Cats & Dogs, The (1996)\",272],[112,\"Flipper (1996)\",20],[113,\"Horseman on the Roof, The (Hussard sur le toit, Le) (1995)\",9],[114,\"Wallace & Gromit: The Best of Aardman Animation (1996)\",67],[115,\"Haunted World of Edward D. Wood Jr., The (1995)\",15],[116,\"Cold Comfort Farm (1995)\",125],[117,\"Rock, The (1996)\",378],[118,\"Twister (1996)\",293],[119,\"Maya Lin: A Strong Clear Vision (1994)\",4],[120,\"Striptease (1996)\",67],[121,\"Independence Day (ID4) (1996)\",429],[122,\"Cable Guy, The (1996)\",106],[123,\"Frighteners, The (1996)\",115],[124,\"Lone Star (1996)\",187],[125,\"Phenomenon (1996)\",244],[126,\"Spitfire Grill, The (1996)\",97],[127,\"Godfather, The (1972)\",413],[128,\"Supercop (1992)\",65],[129,\"Bound (1996)\",129],[130,\"Kansas City (1996)\",23],[131,\"Breakfast at Tiffany's (1961)\",95],[132,\"Wizard of Oz, The (1939)\",246],[133,\"Gone with the Wind (1939)\",171],[134,\"Citizen Kane (1941)\",198],[135,\"2001: A Space Odyssey (1968)\",259],[136,\"Mr. Smith Goes to Washington (1939)\",105],[137,\"Big Night (1996)\",171],[138,\"D3: The Mighty Ducks (1996)\",19],[139,\"Love Bug, The (1969)\",50],[140,\"Homeward Bound: The Incredible Journey (1993)\",61],[141,\"20,000 Leagues Under the Sea (1954)\",72],[142,\"Bedknobs and Broomsticks (1971)\",57],[143,\"Sound of Music, The (1965)\",222],[144,\"Die Hard (1988)\",243],[145,\"Lawnmower Man, The (1992)\",65],[146,\"Unhook the Stars (1996)\",10],[147,\"Long Kiss Goodnight, The (1996)\",185],[148,\"Ghost and the Darkness, The (1996)\",128],[149,\"Jude (1996)\",23],[150,\"Swingers (1996)\",157],[151,\"Willy Wonka and the Chocolate Factory (1971)\",326],[152,\"Sleeper (1973)\",82],[153,\"Fish Called Wanda, A (1988)\",247],[154,\"Monty Python's Life of Brian (1979)\",174],[155,\"Dirty Dancing (1987)\",98],[156,\"Reservoir Dogs (1992)\",148],[157,\"Platoon (1986)\",127],[158,\"Weekend at Bernie's (1989)\",60],[159,\"Basic Instinct (1992)\",101],[160,\"Glengarry Glen Ross (1992)\",69],[161,\"Top Gun (1986)\",220],[162,\"On Golden Pond (1981)\",106],[163,\"Return of the Pink Panther, The (1974)\",92],[164,\"Abyss, The (1989)\",151],[165,\"Jean de Florette (1986)\",64],[166,\"Manon of the Spring (Manon des sources) (1986)\",58],[167,\"Private Benjamin (1980)\",67],[168,\"Monty Python and the Holy Grail (1974)\",316],[169,\"Wrong Trousers, The (1993)\",118],[170,\"Cinema Paradiso (1988)\",121],[171,\"Delicatessen (1991)\",65],[172,\"Empire Strikes Back, The (1980)\",367],[173,\"Princess Bride, The (1987)\",324],[174,\"Raiders of the Lost Ark (1981)\",420],[175,\"Brazil (1985)\",208],[176,\"Aliens (1986)\",284],[177,\"Good, The Bad and The Ugly, The (1966)\",137],[178,\"12 Angry Men (1957)\",125],[179,\"Clockwork Orange, A (1971)\",221],[180,\"Apocalypse Now (1979)\",221],[181,\"Return of the Jedi (1983)\",507],[182,\"GoodFellas (1990)\",226],[183,\"Alien (1979)\",291],[184,\"Army of Darkness (1993)\",116],[185,\"Psycho (1960)\",239],[186,\"Blues Brothers, The (1980)\",251],[187,\"Godfather: Part II, The (1974)\",209],[188,\"Full Metal Jacket (1987)\",170],[189,\"Grand Day Out, A (1992)\",66],[190,\"Henry V (1989)\",124],[191,\"Amadeus (1984)\",276],[192,\"Raging Bull (1980)\",116],[193,\"Right Stuff, The (1983)\",157],[194,\"Sting, The (1973)\",241],[195,\"Terminator, The (1984)\",301],[196,\"Dead Poets Society (1989)\",251],[197,\"Graduate, The (1967)\",239],[198,\"Nikita (La Femme Nikita) (1990)\",127],[199,\"Bridge on the River Kwai, The (1957)\",165],[200,\"Shining, The (1980)\",206],[201,\"Evil Dead II (1987)\",89],[202,\"Groundhog Day (1993)\",280],[203,\"Unforgiven (1992)\",182],[204,\"Back to the Future (1985)\",350],[205,\"Patton (1970)\",136],[206,\"Akira (1988)\",50],[207,\"Cyrano de Bergerac (1990)\",66],[208,\"Young Frankenstein (1974)\",200],[209,\"This Is Spinal Tap (1984)\",191],[210,\"Indiana Jones and the Last Crusade (1989)\",331],[211,\"M*A*S*H (1970)\",206],[212,\"Unbearable Lightness of Being, The (1988)\",92],[213,\"Room with a View, A (1986)\",134],[214,\"Pink Floyd - The Wall (1982)\",114],[215,\"Field of Dreams (1989)\",212],[216,\"When Harry Met Sally... (1989)\",290],[217,\"Bram Stoker's Dracula (1992)\",120],[218,\"Cape Fear (1991)\",171],[219,\"Nightmare on Elm Street, A (1984)\",111],[220,\"Mirror Has Two Faces, The (1996)\",66],[221,\"Breaking the Waves (1996)\",74],[222,\"Star Trek: First Contact (1996)\",365],[223,\"Sling Blade (1996)\",136],[224,\"Ridicule (1996)\",44],[225,\"101 Dalmatians (1996)\",109],[226,\"Die Hard 2 (1990)\",166],[227,\"Star Trek VI: The Undiscovered Country (1991)\",161],[228,\"Star Trek: The Wrath of Khan (1982)\",244],[229,\"Star Trek III: The Search for Spock (1984)\",171],[230,\"Star Trek IV: The Voyage Home (1986)\",199],[231,\"Batman Returns (1992)\",142],[232,\"Young Guns (1988)\",101],[233,\"Under Siege (1992)\",124],[234,\"Jaws (1975)\",280],[235,\"Mars Attacks! (1996)\",217],[236,\"Citizen Ruth (1996)\",45],[237,\"Jerry Maguire (1996)\",384],[238,\"Raising Arizona (1987)\",256],[239,\"Sneakers (1992)\",150],[240,\"Beavis and Butt-head Do America (1996)\",156],[241,\"Last of the Mohicans, The (1992)\",128],[242,\"Kolya (1996)\",117],[243,\"Jungle2Jungle (1997)\",132],[244,\"Smilla's Sense of Snow (1997)\",48],[245,\"Devil's Own, The (1997)\",240],[246,\"Chasing Amy (1997)\",124],[247,\"Turbo: A Power Rangers Movie (1997)\",5],[248,\"Grosse Pointe Blank (1997)\",160],[249,\"Austin Powers: International Man of Mystery (1997)\",130],[250,\"Fifth Element, The (1997)\",197],[251,\"Shall We Dance? (1996)\",46],[252,\"Lost World: Jurassic Park, The (1997)\",158],[253,\"Pillow Book, The (1995)\",26],[254,\"Batman & Robin (1997)\",62],[255,\"My Best Friend's Wedding (1997)\",172],[256,\"When the Cats Away (Chacun cherche son chat) (1996)\",16],[257,\"Men in Black (1997)\",303],[258,\"Contact (1997)\",509],[259,\"George of the Jungle (1997)\",162],[260,\"Event Horizon (1997)\",127],[261,\"Air Bud (1997)\",43],[262,\"In the Company of Men (1997)\",66],[263,\"Steel (1997)\",19],[264,\"Mimic (1997)\",101],[265,\"Hunt for Red October, The (1990)\",227],[266,\"Kull the Conqueror (1997)\",35],[267,\"unknown\",9],[268,\"Chasing Amy (1997)\",255],[269,\"Full Monty, The (1997)\",315],[270,\"Gattaca (1997)\",136],[271,\"Starship Troopers (1997)\",211],[272,\"Good Will Hunting (1997)\",198],[273,\"Heat (1995)\",223],[274,\"Sabrina (1995)\",190],[275,\"Sense and Sensibility (1995)\",268],[276,\"Leaving Las Vegas (1995)\",298],[277,\"Restoration (1995)\",71],[278,\"Bed of Roses (1996)\",60],[279,\"Once Upon a Time... When We Were Colored (1995)\",28],[280,\"Up Close and Personal (1996)\",85],[281,\"River Wild, The (1994)\",146],[282,\"Time to Kill, A (1996)\",232],[283,\"Emma (1996)\",177],[284,\"Tin Cup (1996)\",193],[285,\"Secrets & Lies (1996)\",162],[286,\"English Patient, The (1996)\",481],[287,\"Marvin's Room (1996)\",78],[288,\"Scream (1996)\",478],[289,\"Evita (1996)\",259],[290,\"Fierce Creatures (1997)\",96],[291,\"Absolute Power (1997)\",127],[292,\"Rosewood (1997)\",114],[293,\"Donnie Brasco (1997)\",147],[294,\"Liar Liar (1997)\",485],[295,\"Breakdown (1997)\",77],[296,\"Promesse, La (1996)\",6],[297,\"Ulee's Gold (1997)\",50],[298,\"Face\\u002fOff (1997)\",194],[299,\"Hoodlum (1997)\",73],[300,\"Air Force One (1997)\",431],[301,\"In & Out (1997)\",230],[302,\"L.A. Confidential (1997)\",297],[303,\"Ulee's Gold (1997)\",134],[304,\"Fly Away Home (1996)\",149],[305,\"Ice Storm, The (1997)\",87],[306,\"Mrs. Brown (Her Majesty, Mrs. Brown) (1997)\",96],[307,\"Devil's Advocate, The (1997)\",188],[308,\"FairyTale: A True Story (1997)\",30],[309,\"Deceiver (1997)\",28],[310,\"Rainmaker, The (1997)\",145],[311,\"Wings of the Dove, The (1997)\",75],[312,\"Midnight in the Garden of Good and Evil (1997)\",80],[313,\"Titanic (1997)\",350],[314,\"3 Ninjas: High Noon At Mega Mountain (1998)\",5],[315,\"Apt Pupil (1998)\",160],[316,\"As Good As It Gets (1997)\",112],[317,\"In the Name of the Father (1993)\",102],[318,\"Schindler's List (1993)\",298],[319,\"Everyone Says I Love You (1996)\",168],[320,\"Paradise Lost: The Child Murders at Robin Hood Hills (1996)\",20],[321,\"Mother (1996)\",169],[322,\"Murder at 1600 (1997)\",218],[323,\"Dante's Peak (1997)\",240],[324,\"Lost Highway (1997)\",125],[325,\"Crash (1996)\",128],[326,\"G.I. Jane (1997)\",175],[327,\"Cop Land (1997)\",175],[328,\"Conspiracy Theory (1997)\",295],[329,\"Desperate Measures (1998)\",45],[330,\"187 (1997)\",41],[331,\"Edge, The (1997)\",113],[332,\"Kiss the Girls (1997)\",143],[333,\"Game, The (1997)\",251],[334,\"U Turn (1997)\",64],[335,\"How to Be a Player (1997)\",21],[336,\"Playing God (1997)\",43],[337,\"House of Yes, The (1997)\",18],[338,\"Bean (1997)\",91],[339,\"Mad City (1997)\",47],[340,\"Boogie Nights (1997)\",189],[341,\"Critical Care (1997)\",11],[342,\"Man Who Knew Too Little, The (1997)\",52],[343,\"Alien: Resurrection (1997)\",124],[344,\"Apostle, The (1997)\",55],[345,\"Deconstructing Harry (1997)\",65],[346,\"Jackie Brown (1997)\",126],[347,\"Wag the Dog (1997)\",137],[348,\"Desperate Measures (1998)\",27],[349,\"Hard Rain (1998)\",31],[350,\"Fallen (1998)\",41],[351,\"Prophecy II, The (1998)\",20],[352,\"Spice World (1997)\",26],[353,\"Deep Rising (1998)\",14],[354,\"Wedding Singer, The (1998)\",72],[355,\"Sphere (1998)\",41],[356,\"Client, The (1994)\",97],[357,\"One Flew Over the Cuckoo's Nest (1975)\",264],[358,\"Spawn (1997)\",143],[359,\"Assignment, The (1997)\",18],[360,\"Wonderland (1997)\",10],[361,\"Incognito (1997)\",10],[362,\"Blues Brothers 2000 (1998)\",28],[363,\"Sudden Death (1995)\",47],[364,\"Ace Ventura: When Nature Calls (1995)\",37],[365,\"Powder (1995)\",48],[366,\"Dangerous Minds (1995)\",47],[367,\"Clueless (1995)\",170],[368,\"Bio-Dome (1996)\",31],[369,\"Black Sheep (1996)\",55],[370,\"Mary Reilly (1996)\",39],[371,\"Bridges of Madison County, The (1995)\",67],[372,\"Jeffrey (1995)\",34],[373,\"Judge Dredd (1995)\",39],[374,\"Mighty Morphin Power Rangers: The Movie (1995)\",11],[375,\"Showgirls (1995)\",23],[376,\"Houseguest (1994)\",24],[377,\"Heavyweights (1994)\",13],[378,\"Miracle on 34th Street (1994)\",101],[379,\"Tales From the Crypt Presents: Demon Knight (1995)\",43],[380,\"Star Trek: Generations (1994)\",116],[381,\"Muriel's Wedding (1994)\",100],[382,\"Adventures of Priscilla, Queen of the Desert, The (1994)\",111],[383,\"Flintstones, The (1994)\",31],[384,\"Naked Gun 33 1\\u002f3: The Final Insult (1994)\",69],[385,\"True Lies (1994)\",208],[386,\"Addams Family Values (1993)\",87],[387,\"Age of Innocence, The (1993)\",65],[388,\"Beverly Hills Cop III (1994)\",28],[389,\"Black Beauty (1994)\",27],[390,\"Fear of a Black Hat (1993)\",10],[391,\"Last Action Hero (1993)\",59],[392,\"Man Without a Face, The (1993)\",68],[393,\"Mrs. Doubtfire (1993)\",192],[394,\"Radioland Murders (1994)\",12],[395,\"Robin Hood: Men in Tights (1993)\",56],[396,\"Serial Mom (1994)\",54],[397,\"Striking Distance (1993)\",12],[398,\"Super Mario Bros. (1993)\",26],[399,\"Three Musketeers, The (1993)\",89],[400,\"Little Rascals, The (1994)\",18],[401,\"Brady Bunch Movie, The (1995)\",76],[402,\"Ghost (1990)\",170],[403,\"Batman (1989)\",201],[404,\"Pinocchio (1940)\",101],[405,\"Mission: Impossible (1996)\",344],[406,\"Thinner (1996)\",49],[407,\"Spy Hard (1996)\",43],[408,\"Close Shave, A (1995)\",112],[409,\"Jack (1996)\",70],[410,\"Kingpin (1996)\",162],[411,\"Nutty Professor, The (1996)\",163],[412,\"Very Brady Sequel, A (1996)\",93],[413,\"Tales from the Crypt Presents: Bordello of Blood (1996)\",55],[414,\"My Favorite Year (1982)\",62],[415,\"Apple Dumpling Gang, The (1975)\",25],[416,\"Old Yeller (1957)\",64],[417,\"Parent Trap, The (1961)\",73],[418,\"Cinderella (1950)\",129],[419,\"Mary Poppins (1964)\",178],[420,\"Alice in Wonderland (1951)\",81],[421,\"William Shakespeare's Romeo and Juliet (1996)\",106],[422,\"Aladdin and the King of Thieves (1996)\",26],[423,\"E.T. the Extra-Terrestrial (1982)\",300],[424,\"Children of the Corn: The Gathering (1996)\",19],[425,\"Bob Roberts (1992)\",85],[426,\"Transformers: The Movie, The (1986)\",32],[427,\"To Kill a Mockingbird (1962)\",219],[428,\"Harold and Maude (1971)\",121],[429,\"Day the Earth Stood Still, The (1951)\",97],[430,\"Duck Soup (1933)\",93],[431,\"Highlander (1986)\",153],[432,\"Fantasia (1940)\",174],[433,\"Heathers (1989)\",171],[434,\"Forbidden Planet (1956)\",67],[435,\"Butch Cassidy and the Sundance Kid (1969)\",216],[436,\"American Werewolf in London, An (1981)\",99],[437,\"Amityville 1992: It's About Time (1992)\",5],[438,\"Amityville 3-D (1983)\",6],[439,\"Amityville: A New Generation (1993)\",5],[440,\"Amityville II: The Possession (1982)\",14],[441,\"Amityville Horror, The (1979)\",53],[442,\"Amityville Curse, The (1990)\",4],[443,\"Birds, The (1963)\",162],[444,\"Blob, The (1958)\",46],[445,\"Body Snatcher, The (1945)\",22],[446,\"Burnt Offerings (1976)\",9],[447,\"Carrie (1976)\",121],[448,\"Omen, The (1976)\",85],[449,\"Star Trek: The Motion Picture (1979)\",117],[450,\"Star Trek V: The Final Frontier (1989)\",63],[451,\"Grease (1978)\",170],[452,\"Jaws 2 (1978)\",66],[453,\"Jaws 3-D (1983)\",16],[454,\"Bastard Out of Carolina (1996)\",16],[455,\"Jackie Chan's First Strike (1996)\",145],[456,\"Beverly Hills Ninja (1997)\",48],[457,\"Free Willy 3: The Rescue (1997)\",27],[458,\"Nixon (1995)\",90],[459,\"Cry, the Beloved Country (1995)\",24],[460,\"Crossing Guard, The (1995)\",28],[461,\"Smoke (1995)\",74],[462,\"Like Water For Chocolate (Como agua para chocolate) (1992)\",148],[463,\"Secret of Roan Inish, The (1994)\",71],[464,\"Vanya on 42nd Street (1994)\",27],[465,\"Jungle Book, The (1994)\",85],[466,\"Red Rock West (1992)\",52],[467,\"Bronx Tale, A (1993)\",48],[468,\"Rudy (1993)\",64],[469,\"Short Cuts (1993)\",67],[470,\"Tombstone (1993)\",108],[471,\"Courage Under Fire (1996)\",221],[472,\"Dragonheart (1996)\",158],[473,\"James and the Giant Peach (1996)\",126],[474,\"Dr. Strangelove or: How I Learned to Stop Worrying and Love the Bomb (1963)\",194],[475,\"Trainspotting (1996)\",250],[476,\"First Wives Club, The (1996)\",160],[477,\"Matilda (1996)\",95],[478,\"Philadelphia Story, The (1940)\",104],[479,\"Vertigo (1958)\",179],[480,\"North by Northwest (1959)\",179],[481,\"Apartment, The (1960)\",63],[482,\"Some Like It Hot (1959)\",128],[483,\"Casablanca (1942)\",243],[484,\"Maltese Falcon, The (1941)\",138],[485,\"My Fair Lady (1964)\",125],[486,\"Sabrina (1954)\",64],[487,\"Roman Holiday (1953)\",68],[488,\"Sunset Blvd. (1950)\",65],[489,\"Notorious (1946)\",52],[490,\"To Catch a Thief (1955)\",50],[491,\"Adventures of Robin Hood, The (1938)\",67],[492,\"East of Eden (1955)\",59],[493,\"Thin Man, The (1934)\",60],[494,\"His Girl Friday (1940)\",56],[495,\"Around the World in 80 Days (1956)\",59],[496,\"It's a Wonderful Life (1946)\",231],[497,\"Bringing Up Baby (1938)\",68],[498,\"African Queen, The (1951)\",152],[499,\"Cat on a Hot Tin Roof (1958)\",62],[500,\"Fly Away Home (1996)\",31],[501,\"Dumbo (1941)\",123],[502,\"Bananas (1971)\",57],[503,\"Candidate, The (1972)\",39],[504,\"Bonnie and Clyde (1967)\",122],[505,\"Dial M for Murder (1954)\",68],[506,\"Rebel Without a Cause (1955)\",90],[507,\"Streetcar Named Desire, A (1951)\",98],[508,\"People vs. Larry Flynt, The (1996)\",215],[509,\"My Left Foot (1989)\",121],[510,\"Magnificent Seven, The (1954)\",121],[511,\"Lawrence of Arabia (1962)\",173],[512,\"Wings of Desire (1987)\",57],[513,\"Third Man, The (1949)\",72],[514,\"Annie Hall (1977)\",180],[515,\"Boot, Das (1981)\",201],[516,\"Local Hero (1983)\",63],[517,\"Manhattan (1979)\",91],[518,\"Miller's Crossing (1990)\",89],[519,\"Treasure of the Sierra Madre, The (1948)\",80],[520,\"Great Escape, The (1963)\",124],[521,\"Deer Hunter, The (1978)\",120],[522,\"Down by Law (1986)\",35],[523,\"Cool Hand Luke (1967)\",164],[524,\"Great Dictator, The (1940)\",46],[525,\"Big Sleep, The (1946)\",73],[526,\"Ben-Hur (1959)\",124],[527,\"Gandhi (1982)\",195],[528,\"Killing Fields, The (1984)\",121],[529,\"My Life as a Dog (Mitt liv som hund) (1985)\",93],[530,\"Man Who Would Be King, The (1975)\",80],[531,\"Shine (1996)\",129],[532,\"Kama Sutra: A Tale of Love (1996)\",22],[533,\"Daytrippers, The (1996)\",15],[534,\"Traveller (1997)\",13],[535,\"Addicted to Love (1997)\",54],[536,\"Ponette (1996)\",10],[537,\"My Own Private Idaho (1991)\",30],[538,\"Anastasia (1997)\",66],[539,\"Mouse Hunt (1997)\",44],[540,\"Money Train (1995)\",43],[541,\"Mortal Kombat (1995)\",49],[542,\"Pocahontas (1995)\",51],[543,\"Mis\\u00e9rables, Les (1995)\",21],[544,\"Things to Do in Denver when You're Dead (1995)\",71],[545,\"Vampire in Brooklyn (1995)\",12],[546,\"Broken Arrow (1996)\",254],[547,\"Young Poisoner's Handbook, The (1995)\",41],[548,\"NeverEnding Story III, The (1994)\",12],[549,\"Rob Roy (1995)\",92],[550,\"Die Hard: With a Vengeance (1995)\",151],[551,\"Lord of Illusions (1995)\",24],[552,\"Species (1995)\",45],[553,\"Walk in the Clouds, A (1995)\",63],[554,\"Waterworld (1995)\",102],[555,\"White Man's Burden (1995)\",10],[556,\"Wild Bill (1995)\",12],[557,\"Farinelli: il castrato (1994)\",17],[558,\"Heavenly Creatures (1994)\",70],[559,\"Interview with the Vampire (1994)\",137],[560,\"Kid in King Arthur's Court, A (1995)\",22],[561,\"Mary Shelley's Frankenstein (1994)\",59],[562,\"Quick and the Dead, The (1995)\",48],[563,\"Stephen King's The Langoliers (1995)\",29],[564,\"Tales from the Hood (1995)\",27],[565,\"Village of the Damned (1995)\",22],[566,\"Clear and Present Danger (1994)\",179],[567,\"Wes Craven's New Nightmare (1994)\",35],[568,\"Speed (1994)\",230],[569,\"Wolf (1994)\",67],[570,\"Wyatt Earp (1994)\",50],[571,\"Another Stakeout (1993)\",28],[572,\"Blown Away (1994)\",29],[573,\"Body Snatchers (1993)\",33],[574,\"Boxing Helena (1993)\",15],[575,\"City Slickers II: The Legend of Curly's Gold (1994)\",44],[576,\"Cliffhanger (1993)\",93],[577,\"Coneheads (1993)\",41],[578,\"Demolition Man (1993)\",92],[579,\"Fatal Instinct (1993)\",19],[580,\"Englishman Who Went Up a Hill, But Came Down a Mountain, The (1995)\",32],[581,\"Kalifornia (1993)\",59],[582,\"Piano, The (1993)\",168],[583,\"Romeo Is Bleeding (1993)\",37],[584,\"Secret Garden, The (1993)\",79],[585,\"Son in Law (1993)\",39],[586,\"Terminal Velocity (1994)\",34],[587,\"Hour of the Pig, The (1993)\",14],[588,\"Beauty and the Beast (1991)\",202],[589,\"Wild Bunch, The (1969)\",43],[590,\"Hellraiser: Bloodline (1996)\",18],[591,\"Primal Fear (1996)\",178],[592,\"True Crime (1995)\",9],[593,\"Stalingrad (1993)\",12],[594,\"Heavy (1995)\",5],[595,\"Fan, The (1996)\",64],[596,\"Hunchback of Notre Dame, The (1996)\",127],[597,\"Eraser (1996)\",206],[598,\"Big Squeeze, The (1996)\",4],[599,\"Police Story 4: Project S (Chao ji ji hua) (1993)\",1],[600,\"Daniel Defoe's Robinson Crusoe (1996)\",2],[601,\"For Whom the Bell Tolls (1943)\",20],[602,\"American in Paris, An (1951)\",50],[603,\"Rear Window (1954)\",209],[604,\"It Happened One Night (1934)\",81],[605,\"Meet Me in St. Louis (1944)\",31],[606,\"All About Eve (1950)\",66],[607,\"Rebecca (1940)\",66],[608,\"Spellbound (1945)\",30],[609,\"Father of the Bride (1950)\",60],[610,\"Gigi (1958)\",41],[611,\"Laura (1944)\",40],[612,\"Lost Horizon (1937)\",34],[613,\"My Man Godfrey (1936)\",27],[614,\"Giant (1956)\",51],[615,\"39 Steps, The (1935)\",59],[616,\"Night of the Living Dead (1968)\",64],[617,\"Blue Angel, The (Blaue Engel, Der) (1930)\",18],[618,\"Picnic (1955)\",18],[619,\"Extreme Measures (1996)\",64],[620,\"Chamber, The (1996)\",43],[621,\"Davy Crockett, King of the Wild Frontier (1955)\",11],[622,\"Swiss Family Robinson (1960)\",39],[623,\"Angels in the Outfield (1994)\",39],[624,\"Three Caballeros, The (1945)\",22],[625,\"Sword in the Stone, The (1963)\",82],[626,\"So Dear to My Heart (1949)\",4],[627,\"Robin Hood: Prince of Thieves (1991)\",75],[628,\"Sleepers (1996)\",169],[629,\"Victor\\u002fVictoria (1982)\",77],[630,\"Great Race, The (1965)\",31],[631,\"Crying Game, The (1992)\",119],[632,\"Sophie's Choice (1982)\",58],[633,\"Christmas Carol, A (1938)\",69],[634,\"Microcosmos: Le peuple de l'herbe (1996)\",24],[635,\"Fog, The (1980)\",23],[636,\"Escape from New York (1981)\",91],[637,\"Howling, The (1981)\",38],[638,\"Return of Martin Guerre, The (Retour de Martin Guerre, Le) (1982)\",44],[639,\"Tin Drum, The (Blechtrommel, Die) (1979)\",40],[640,\"Cook the Thief His Wife & Her Lover, The (1989)\",82],[641,\"Paths of Glory (1957)\",33],[642,\"Grifters, The (1990)\",89],[643,\"The Innocent (1994)\",4],[644,\"Thin Blue Line, The (1988)\",35],[645,\"Paris Is Burning (1990)\",27],[646,\"Once Upon a Time in the West (1969)\",38],[647,\"Ran (1985)\",70],[648,\"Quiet Man, The (1952)\",67],[649,\"Once Upon a Time in America (1984)\",50],[650,\"Seventh Seal, The (Sjunde inseglet, Det) (1957)\",72],[651,\"Glory (1989)\",171],[652,\"Rosencrantz and Guildenstern Are Dead (1990)\",90],[653,\"Touch of Evil (1958)\",34],[654,\"Chinatown (1974)\",147],[655,\"Stand by Me (1986)\",227],[656,\"M (1931)\",44],[657,\"Manchurian Candidate, The (1962)\",131],[658,\"Pump Up the Volume (1990)\",79],[659,\"Arsenic and Old Lace (1944)\",115],[660,\"Fried Green Tomatoes (1991)\",153],[661,\"High Noon (1952)\",88],[662,\"Somewhere in Time (1980)\",82],[663,\"Being There (1979)\",116],[664,\"Paris, Texas (1984)\",46],[665,\"Alien 3 (1992)\",100],[666,\"Blood For Dracula (Andy Warhol's Dracula) (1974)\",5],[667,\"Audrey Rose (1977)\",12],[668,\"Blood Beach (1981)\",6],[669,\"Body Parts (1991)\",13],[670,\"Body Snatchers (1993)\",36],[671,\"Bride of Frankenstein (1935)\",46],[672,\"Candyman (1992)\",65],[673,\"Cape Fear (1962)\",86],[674,\"Cat People (1982)\",48],[675,\"Nosferatu (Nosferatu, eine Symphonie des Grauens) (1922)\",54],[676,\"Crucible, The (1996)\",77],[677,\"Fire on the Mountain (1996)\",1],[678,\"Volcano (1997)\",219],[679,\"Conan the Barbarian (1981)\",107],[680,\"Kull the Conqueror (1997)\",34],[681,\"Wishmaster (1997)\",27],[682,\"I Know What You Did Last Summer (1997)\",100],[683,\"Rocket Man (1997)\",49],[684,\"In the Line of Fire (1993)\",169],[685,\"Executive Decision (1996)\",157],[686,\"Perfect World, A (1993)\",50],[687,\"McHale's Navy (1997)\",69],[688,\"Leave It to Beaver (1997)\",44],[689,\"Jackal, The (1997)\",87],[690,\"Seven Years in Tibet (1997)\",155],[691,\"Dark City (1998)\",16],[692,\"American President, The (1995)\",164],[693,\"Casino (1995)\",91],[694,\"Persuasion (1995)\",44],[695,\"Kicking and Screaming (1995)\",13],[696,\"City Hall (1996)\",79],[697,\"Basketball Diaries, The (1995)\",40],[698,\"Browning Version, The (1994)\",10],[699,\"Little Women (1994)\",102],[700,\"Miami Rhapsody (1995)\",15],[701,\"Wonderful, Horrible Life of Leni Riefenstahl, The (1993)\",10],[702,\"Barcelona (1994)\",53],[703,\"Widows' Peak (1994)\",19],[704,\"House of the Spirits, The (1993)\",24],[705,\"Singin' in the Rain (1952)\",137],[706,\"Bad Moon (1996)\",6],[707,\"Enchanted April (1991)\",70],[708,\"Sex, Lies, and Videotape (1989)\",101],[709,\"Strictly Ballroom (1992)\",104],[710,\"Better Off Dead... (1985)\",79],[711,\"Substance of Fire, The (1996)\",1],[712,\"Tin Men (1987)\",51],[713,\"Othello (1995)\",72],[714,\"Carrington (1995)\",13],[715,\"To Die For (1995)\",87],[716,\"Home for the Holidays (1995)\",58],[717,\"Juror, The (1996)\",82],[718,\"In the Bleak Midwinter (1995)\",16],[719,\"Canadian Bacon (1994)\",29],[720,\"First Knight (1995)\",86],[721,\"Mallrats (1995)\",54],[722,\"Nine Months (1995)\",58],[723,\"Boys on the Side (1995)\",34],[724,\"Circle of Friends (1995)\",76],[725,\"Exit to Eden (1994)\",16],[726,\"Fluke (1995)\",14],[727,\"Immortal Beloved (1994)\",63],[728,\"Junior (1994)\",45],[729,\"Nell (1994)\",81],[730,\"Queen Margot (Reine Margot, La) (1994)\",24],[731,\"Corrina, Corrina (1994)\",39],[732,\"Dave (1993)\",180],[733,\"Go Fish (1994)\",15],[734,\"Made in America (1993)\",27],[735,\"Philadelphia (1993)\",137],[736,\"Shadowlands (1993)\",78],[737,\"Sirens (1994)\",59],[738,\"Threesome (1994)\",31],[739,\"Pretty Woman (1990)\",164],[740,\"Jane Eyre (1996)\",63],[741,\"Last Supper, The (1995)\",58],[742,\"Ransom (1996)\",267],[743,\"Crow: City of Angels, The (1996)\",39],[744,\"Michael Collins (1996)\",92],[745,\"Ruling Class, The (1972)\",16],[746,\"Real Genius (1985)\",119],[747,\"Benny & Joon (1993)\",102],[748,\"Saint, The (1997)\",316],[749,\"MatchMaker, The (1997)\",51],[750,\"Amistad (1997)\",124],[751,\"Tomorrow Never Dies (1997)\",180],[752,\"Replacement Killers, The (1998)\",39],[753,\"Burnt By the Sun (1994)\",24],[754,\"Red Corner (1997)\",57],[755,\"Jumanji (1995)\",96],[756,\"Father of the Bride Part II (1995)\",128],[757,\"Across the Sea of Time (1995)\",4],[758,\"Lawnmower Man 2: Beyond Cyberspace (1996)\",21],[759,\"Fair Game (1995)\",11],[760,\"Screamers (1995)\",46],[761,\"Nick of Time (1995)\",44],[762,\"Beautiful Girls (1996)\",115],[763,\"Happy Gilmore (1996)\",149],[764,\"If Lucy Fell (1996)\",29],[765,\"Boomerang (1992)\",32],[766,\"Man of the Year (1995)\",9],[767,\"Addiction, The (1995)\",11],[768,\"Casper (1995)\",52],[769,\"Congo (1995)\",42],[770,\"Devil in a Blue Dress (1995)\",57],[771,\"Johnny Mnemonic (1995)\",41],[772,\"Kids (1995)\",49],[773,\"Mute Witness (1994)\",17],[774,\"Prophecy, The (1995)\",32],[775,\"Something to Talk About (1995)\",26],[776,\"Three Wishes (1995)\",9],[777,\"Castle Freak (1995)\",4],[778,\"Don Juan DeMarco (1995)\",76],[779,\"Drop Zone (1994)\",31],[780,\"Dumb & Dumber (1994)\",69],[781,\"French Kiss (1995)\",84],[782,\"Little Odessa (1994)\",10],[783,\"Milk Money (1994)\",37],[784,\"Beyond Bedlam (1993)\",2],[785,\"Only You (1994)\",39],[786,\"Perez Family, The (1995)\",14],[787,\"Roommates (1995)\",13],[788,\"Relative Fear (1994)\",3],[789,\"Swimming with Sharks (1995)\",47],[790,\"Tommy Boy (1995)\",66],[791,\"Baby-Sitters Club, The (1995)\",10],[792,\"Bullets Over Broadway (1994)\",86],[793,\"Crooklyn (1994)\",10],[794,\"It Could Happen to You (1994)\",46],[795,\"Richie Rich (1994)\",21],[796,\"Speechless (1994)\",36],[797,\"Timecop (1994)\",31],[798,\"Bad Company (1995)\",9],[799,\"Boys Life (1995)\",5],[800,\"In the Mouth of Madness (1995)\",26],[801,\"Air Up There, The (1994)\",16],[802,\"Hard Target (1993)\",40],[803,\"Heaven & Earth (1993)\",9],[804,\"Jimmy Hollywood (1994)\",8],[805,\"Manhattan Murder Mystery (1993)\",27],[806,\"Menace II Society (1993)\",50],[807,\"Poetic Justice (1993)\",9],[808,\"Program, The (1993)\",31],[809,\"Rising Sun (1993)\",43],[810,\"Shadow, The (1994)\",45],[811,\"Thirty-Two Short Films About Glenn Gould (1993)\",18],[812,\"Andre (1994)\",18],[813,\"Celluloid Closet, The (1995)\",56],[814,\"Great Day in Harlem, A (1994)\",1],[815,\"One Fine Day (1996)\",112],[816,\"Candyman: Farewell to the Flesh (1995)\",21],[817,\"Frisk (1995)\",3],[818,\"Girl 6 (1996)\",25],[819,\"Eddie (1996)\",40],[820,\"Space Jam (1996)\",93],[821,\"Mrs. Winterbourne (1996)\",22],[822,\"Faces (1968)\",4],[823,\"Mulholland Falls (1996)\",82],[824,\"Great White Hype, The (1996)\",49],[825,\"Arrival, The (1996)\",83],[826,\"Phantom, The (1996)\",80],[827,\"Daylight (1996)\",57],[828,\"Alaska (1996)\",13],[829,\"Fled (1996)\",34],[830,\"Power 98 (1995)\",1],[831,\"Escape from L.A. (1996)\",91],[832,\"Bogus (1996)\",22],[833,\"Bulletproof (1996)\",49],[834,\"Halloween: The Curse of Michael Myers (1995)\",25],[835,\"Gay Divorcee, The (1934)\",15],[836,\"Ninotchka (1939)\",26],[837,\"Meet John Doe (1941)\",25],[838,\"In the Line of Duty 2 (1987)\",4],[839,\"Loch Ness (1995)\",4],[840,\"Last Man Standing (1996)\",53],[841,\"Glimmer Man, The (1996)\",48],[842,\"Pollyanna (1960)\",27],[843,\"Shaggy Dog, The (1959)\",30],[844,\"Freeway (1996)\",42],[845,\"That Thing You Do! (1996)\",176],[846,\"To Gillian on Her 37th Birthday (1996)\",44],[847,\"Looking for Richard (1996)\",55],[848,\"Murder, My Sweet (1944)\",9],[849,\"Days of Thunder (1990)\",53],[850,\"Perfect Candidate, A (1996)\",4],[851,\"Two or Three Things I Know About Her (1966)\",4],[852,\"Bloody Child, The (1996)\",1],[853,\"Braindead (1992)\",14],[854,\"Bad Taste (1987)\",16],[855,\"Diva (1981)\",66],[856,\"Night on Earth (1991)\",36],[857,\"Paris Was a Woman (1995)\",1],[858,\"Amityville: Dollhouse (1996)\",3],[859,\"April Fool's Day (1986)\",15],[860,\"Believers, The (1987)\",16],[861,\"Nosferatu a Venezia (1986)\",3],[862,\"Jingle All the Way (1996)\",18],[863,\"Garden of Finzi-Contini, The (Giardino dei Finzi-Contini, Il) (1970)\",24],[864,\"My Fellow Americans (1996)\",86],[865,\"Ice Storm, The (1997)\",21],[866,\"Michael (1996)\",119],[867,\"Whole Wide World, The (1996)\",6],[868,\"Hearts and Minds (1996)\",5],[869,\"Fools Rush In (1997)\",24],[870,\"Touch (1997)\",9],[871,\"Vegas Vacation (1997)\",75],[872,\"Love Jones (1997)\",42],[873,\"Picture Perfect (1997)\",81],[874,\"Career Girls (1997)\",39],[875,\"She's So Lovely (1997)\",53],[876,\"Money Talks (1997)\",47],[877,\"Excess Baggage (1997)\",52],[878,\"That Darn Cat! (1997)\",33],[879,\"Peacemaker, The (1997)\",136],[880,\"Soul Food (1997)\",59],[881,\"Money Talks (1997)\",45],[882,\"Washington Square (1997)\",34],[883,\"Telling Lies in America (1997)\",13],[884,\"Year of the Horse (1997)\",7],[885,\"Phantoms (1998)\",13],[886,\"Life Less Ordinary, A (1997)\",53],[887,\"Eve's Bayou (1997)\",64],[888,\"One Night Stand (1997)\",15],[889,\"Tango Lesson, The (1997)\",13],[890,\"Mortal Kombat: Annihilation (1997)\",43],[891,\"Bent (1997)\",6],[892,\"Flubber (1997)\",53],[893,\"For Richer or Poorer (1997)\",14],[894,\"Home Alone 3 (1997)\",19],[895,\"Scream 2 (1997)\",106],[896,\"Sweet Hereafter, The (1997)\",44],[897,\"Time Tracers (1995)\",2],[898,\"Postman, The (1997)\",58],[899,\"Winter Guest, The (1997)\",9],[900,\"Kundun (1997)\",42],[901,\"Mr. Magoo (1997)\",12],[902,\"Big Lebowski, The (1998)\",42],[903,\"Afterglow (1997)\",18],[904,\"Ma vie en rose (My Life in Pink) (1997)\",20],[905,\"Great Expectations (1998)\",27],[906,\"Oscar & Lucinda (1997)\",21],[907,\"Vermin (1998)\",2],[908,\"Half Baked (1998)\",20],[909,\"Dangerous Beauty (1998)\",13],[910,\"Nil By Mouth (1997)\",4],[911,\"Twilight (1998)\",4],[912,\"U.S. Marshalls (1998)\",9],[913,\"Love and Death on Long Island (1997)\",2],[914,\"Wild Things (1998)\",11],[915,\"Primary Colors (1998)\",13],[916,\"Lost in Space (1998)\",18],[917,\"Mercury Rising (1998)\",7],[918,\"City of Angels (1998)\",8],[919,\"City of Lost Children, The (1995)\",96],[920,\"Two Bits (1995)\",5],[921,\"Farewell My Concubine (1993)\",46],[922,\"Dead Man (1995)\",34],[923,\"Raise the Red Lantern (1991)\",58],[924,\"White Squall (1996)\",85],[925,\"Unforgettable (1996)\",34],[926,\"Down Periscope (1996)\",101],[927,\"Flower of My Secret, The (Flor de mi secreto, La) (1995)\",6],[928,\"Craft, The (1996)\",104],[929,\"Harriet the Spy (1996)\",40],[930,\"Chain Reaction (1996)\",80],[931,\"Island of Dr. Moreau, The (1996)\",57],[932,\"First Kid (1996)\",40],[933,\"Funeral, The (1996)\",21],[934,\"Preacher's Wife, The (1996)\",68],[935,\"Paradise Road (1997)\",7],[936,\"Brassed Off (1996)\",32],[937,\"Thousand Acres, A (1997)\",37],[938,\"Smile Like Yours, A (1997)\",25],[939,\"Murder in the First (1995)\",60],[940,\"Airheads (1994)\",32],[941,\"With Honors (1994)\",46],[942,\"What's Love Got to Do with It (1993)\",45],[943,\"Killing Zoe (1994)\",40],[944,\"Renaissance Man (1994)\",43],[945,\"Charade (1963)\",40],[946,\"Fox and the Hound, The (1981)\",61],[947,\"Big Blue, The (Grand bleu, Le) (1988)\",17],[948,\"Booty Call (1997)\",48],[949,\"How to Make an American Quilt (1995)\",71],[950,\"Georgia (1995)\",30],[951,\"Indian in the Cupboard, The (1995)\",39],[952,\"Blue in the Face (1995)\",45],[953,\"Unstrung Heroes (1995)\",22],[954,\"Unzipped (1995)\",11],[955,\"Before Sunrise (1995)\",49],[956,\"Nobody's Fool (1994)\",46],[957,\"Pushing Hands (1992)\",2],[958,\"To Live (Huozhe) (1994)\",14],[959,\"Dazed and Confused (1993)\",64],[960,\"Naked (1993)\",25],[961,\"Orlando (1993)\",34],[962,\"Ruby in Paradise (1993)\",23],[963,\"Some Folks Call It a Sling Blade (1993)\",41],[964,\"Month by the Lake, A (1995)\",9],[965,\"Funny Face (1957)\",21],[966,\"Affair to Remember, An (1957)\",26],[967,\"Little Lord Fauntleroy (1936)\",12],[968,\"Inspector General, The (1949)\",18],[969,\"Winnie the Pooh and the Blustery Day (1968)\",75],[970,\"Hear My Song (1991)\",8],[971,\"Mediterraneo (1991)\",34],[972,\"Passion Fish (1992)\",28],[973,\"Grateful Dead (1995)\",4],[974,\"Eye for an Eye (1996)\",32],[975,\"Fear (1996)\",44],[976,\"Solo (1996)\",12],[977,\"Substitute, The (1996)\",49],[978,\"Heaven's Prisoners (1996)\",27],[979,\"Trigger Effect, The (1996)\",35],[980,\"Mother Night (1996)\",22],[981,\"Dangerous Ground (1997)\",8],[982,\"Maximum Risk (1996)\",20],[983,\"Rich Man's Wife, The (1996)\",15],[984,\"Shadow Conspiracy (1997)\",44],[985,\"Blood & Wine (1997)\",22],[986,\"Turbulence (1997)\",23],[987,\"Underworld (1997)\",4],[988,\"Beautician and the Beast, The (1997)\",86],[989,\"Cats Don't Dance (1997)\",32],[990,\"Anna Karenina (1997)\",33],[991,\"Keys to Tulsa (1997)\",25],[992,\"Head Above Water (1996)\",4],[993,\"Hercules (1997)\",66],[994,\"Last Time I Committed Suicide, The (1997)\",7],[995,\"Kiss Me, Guido (1997)\",31],[996,\"Big Green, The (1995)\",14],[997,\"Stuart Saves His Family (1995)\",16],[998,\"Cabin Boy (1994)\",16],[999,\"Clean Slate (1994)\",10],[1000,\"Lightning Jack (1994)\",10],[1001,\"Stupids, The (1996)\",17],[1002,\"Pest, The (1997)\",8],[1003,\"That Darn Cat! (1997)\",8],[1004,\"Geronimo: An American Legend (1993)\",9],[1005,\"Double vie de V\\u00e9ronique, La (Double Life of Veronique, The) (1991)\",22],[1006,\"Until the End of the World (Bis ans Ende der Welt) (1991)\",23],[1007,\"Waiting for Guffman (1996)\",47],[1008,\"I Shot Andy Warhol (1996)\",37],[1009,\"Stealing Beauty (1996)\",64],[1010,\"Basquiat (1996)\",44],[1011,\"2 Days in the Valley (1996)\",93],[1012,\"Private Parts (1997)\",100],[1013,\"Anaconda (1997)\",38],[1014,\"Romy and Michele's High School Reunion (1997)\",98],[1015,\"Shiloh (1997)\",12],[1016,\"Con Air (1997)\",137],[1017,\"Trees Lounge (1996)\",50],[1018,\"Tie Me Up! Tie Me Down! (1990)\",32],[1019,\"Die xue shuang xiong (Killer, The) (1989)\",31],[1020,\"Gaslight (1944)\",35],[1021,\"8 1\\u002f2 (1963)\",38],[1022,\"Fast, Cheap & Out of Control (1997)\",32],[1023,\"Fathers' Day (1997)\",31],[1024,\"Mrs. Dalloway (1997)\",15],[1025,\"Fire Down Below (1997)\",44],[1026,\"Lay of the Land, The (1997)\",4],[1027,\"Shooter, The (1995)\",3],[1028,\"Grumpier Old Men (1995)\",148],[1029,\"Jury Duty (1995)\",14],[1030,\"Beverly Hillbillies, The (1993)\",20],[1031,\"Lassie (1994)\",7],[1032,\"Little Big League (1994)\",16],[1033,\"Homeward Bound II: Lost in San Francisco (1996)\",32],[1034,\"Quest, The (1996)\",27],[1035,\"Cool Runnings (1993)\",68],[1036,\"Drop Dead Fred (1991)\",24],[1037,\"Grease 2 (1982)\",24],[1038,\"Switchback (1997)\",17],[1039,\"Hamlet (1996)\",90],[1040,\"Two if by Sea (1996)\",25],[1041,\"Forget Paris (1995)\",62],[1042,\"Just Cause (1995)\",28],[1043,\"Rent-a-Kid (1995)\",8],[1044,\"Paper, The (1994)\",40],[1045,\"Fearless (1993)\",25],[1046,\"Malice (1993)\",46],[1047,\"Multiplicity (1996)\",134],[1048,\"She's the One (1996)\",73],[1049,\"House Arrest (1996)\",25],[1050,\"Ghost and Mrs. Muir, The (1947)\",43],[1051,\"Associate, The (1996)\",41],[1052,\"Dracula: Dead and Loving It (1995)\",25],[1053,\"Now and Then (1995)\",24],[1054,\"Mr. Wrong (1996)\",23],[1055,\"Simple Twist of Fate, A (1994)\",10],[1056,\"Cronos (1992)\",10],[1057,\"Pallbearer, The (1996)\",22],[1058,\"War, The (1994)\",15],[1059,\"Don't Be a Menace to South Central While Drinking Your Juice in the Hood (1996)\",35],[1060,\"Adventures of Pinocchio, The (1996)\",39],[1061,\"Evening Star, The (1996)\",29],[1062,\"Four Days in September (1997)\",12],[1063,\"Little Princess, A (1995)\",41],[1064,\"Crossfire (1947)\",4],[1065,\"Koyaanisqatsi (1983)\",53],[1066,\"Balto (1995)\",16],[1067,\"Bottle Rocket (1996)\",44],[1068,\"Star Maker, The (Uomo delle stelle, L') (1995)\",12],[1069,\"Amateur (1994)\",18],[1070,\"Living in Oblivion (1995)\",27],[1071,\"Party Girl (1995)\",16],[1072,\"Pyromaniac's Love Story, A (1995)\",7],[1073,\"Shallow Grave (1994)\",66],[1074,\"Reality Bites (1994)\",77],[1075,\"Man of No Importance, A (1994)\",7],[1076,\"Pagemaster, The (1994)\",12],[1077,\"Love and a .45 (1994)\",8],[1078,\"Oliver & Company (1988)\",22],[1079,\"Joe's Apartment (1996)\",45],[1080,\"Celestial Clockwork (1994)\",2],[1081,\"Curdled (1996)\",8],[1082,\"Female Perversions (1996)\",8],[1083,\"Albino Alligator (1996)\",6],[1084,\"Anne Frank Remembered (1995)\",21],[1085,\"Carried Away (1996)\",11],[1086,\"It's My Party (1995)\",21],[1087,\"Bloodsport 2 (1995)\",10],[1088,\"Double Team (1997)\",13],[1089,\"Speed 2: Cruise Control (1997)\",38],[1090,\"Sliver (1993)\",37],[1091,\"Pete's Dragon (1977)\",43],[1092,\"Dear God (1996)\",12],[1093,\"Live Nude Girls (1995)\",23],[1094,\"Thin Line Between Love and Hate, A (1996)\",12],[1095,\"High School High (1996)\",29],[1096,\"Commandments (1997)\",3],[1097,\"Hate (Haine, La) (1995)\",18],[1098,\"Flirting With Disaster (1996)\",42],[1099,\"Red Firecracker, Green Firecracker (1994)\",13],[1100,\"What Happened Was... (1994)\",8],[1101,\"Six Degrees of Separation (1993)\",74],[1102,\"Two Much (1996)\",7],[1103,\"Trust (1990)\",19],[1104,\"C'est arriv\\u00e9 pr\\u00e8s de chez vous (1992)\",4],[1105,\"Firestorm (1998)\",18],[1106,\"Newton Boys, The (1998)\",4],[1107,\"Beyond Rangoon (1995)\",18],[1108,\"Feast of July (1995)\",5],[1109,\"Death and the Maiden (1994)\",28],[1110,\"Tank Girl (1995)\",41],[1111,\"Double Happiness (1994)\",7],[1112,\"Cobb (1994)\",15],[1113,\"Mrs. Parker and the Vicious Circle (1994)\",22],[1114,\"Faithful (1996)\",10],[1115,\"Twelfth Night (1996)\",29],[1116,\"Mark of Zorro, The (1940)\",13],[1117,\"Surviving Picasso (1996)\",19],[1118,\"Up in Smoke (1978)\",47],[1119,\"Some Kind of Wonderful (1987)\",59],[1120,\"I'm Not Rappaport (1996)\",17],[1121,\"Umbrellas of Cherbourg, The (Parapluies de Cherbourg, Les) (1964)\",21],[1122,\"They Made Me a Criminal (1939)\",1],[1123,\"Last Time I Saw Paris, The (1954)\",3],[1124,\"Farewell to Arms, A (1932)\",12],[1125,\"Innocents, The (1961)\",4],[1126,\"Old Man and the Sea, The (1958)\",32],[1127,\"Truman Show, The (1998)\",11],[1128,\"Heidi Fleiss: Hollywood Madam (1995) \",13],[1129,\"Chungking Express (1994)\",28],[1130,\"Jupiter's Wife (1994)\",1],[1131,\"Safe (1995)\",13],[1132,\"Feeling Minnesota (1996)\",32],[1133,\"Escape to Witch Mountain (1975)\",30],[1134,\"Get on the Bus (1996)\",38],[1135,\"Doors, The (1991)\",46],[1136,\"Ghosts of Mississippi (1996)\",29],[1137,\"Beautiful Thing (1996)\",29],[1138,\"Best Men (1997)\",5],[1139,\"Hackers (1995)\",33],[1140,\"Road to Wellville, The (1994)\",17],[1141,\"War Room, The (1993)\",9],[1142,\"When We Were Kings (1996)\",44],[1143,\"Hard Eight (1996)\",15],[1144,\"Quiet Room, The (1996)\",3],[1145,\"Blue Chips (1994)\",9],[1146,\"Calendar Girl (1993)\",3],[1147,\"My Family (1995)\",21],[1148,\"Tom & Viv (1994)\",9],[1149,\"Walkabout (1971)\",26],[1150,\"Last Dance (1996)\",9],[1151,\"Original Gangstas (1996)\",7],[1152,\"In Love and War (1996)\",28],[1153,\"Backbeat (1993)\",19],[1154,\"Alphaville (1965)\",12],[1155,\"Rendezvous in Paris (Rendez-vous de Paris, Les) (1995)\",3],[1156,\"Cyclo (1995)\",1],[1157,\"Relic, The (1997)\",25],[1158,\"Fille seule, La (A Single Girl) (1995)\",4],[1159,\"Stalker (1979)\",11],[1160,\"Love! Valour! Compassion! (1997)\",26],[1161,\"Palookaville (1996)\",13],[1162,\"Phat Beach (1996)\",5],[1163,\"Portrait of a Lady, The (1996)\",25],[1164,\"Zeus and Roxanne (1997)\",6],[1165,\"Big Bully (1996)\",14],[1166,\"Love & Human Remains (1993)\",12],[1167,\"Sum of Us, The (1994)\",11],[1168,\"Little Buddha (1993)\",22],[1169,\"Fresh (1994)\",10],[1170,\"Spanking the Monkey (1994)\",27],[1171,\"Wild Reeds (1994)\",14],[1172,\"Women, The (1939)\",15],[1173,\"Bliss (1997)\",7],[1174,\"Caught (1996)\",8],[1175,\"Hugo Pool (1997)\",5],[1176,\"Welcome To Sarajevo (1997)\",22],[1177,\"Dunston Checks In (1996)\",7],[1178,\"Major Payne (1994)\",19],[1179,\"Man of the House (1995)\",9],[1180,\"I Love Trouble (1994)\",10],[1181,\"Low Down Dirty Shame, A (1994)\",10],[1182,\"Cops and Robbersons (1994)\",13],[1183,\"Cowboy Way, The (1994)\",19],[1184,\"Endless Summer 2, The (1994)\",10],[1185,\"In the Army Now (1994)\",18],[1186,\"Inkwell, The (1994)\",3],[1187,\"Switchblade Sisters (1975)\",13],[1188,\"Young Guns II (1990)\",44],[1189,\"Prefontaine (1997)\",3],[1190,\"That Old Feeling (1997)\",11],[1191,\"Letter From Death Row, A (1998)\",3],[1192,\"Boys of St. Vincent, The (1993)\",13],[1193,\"Before the Rain (Pred dozhdot) (1994)\",10],[1194,\"Once Were Warriors (1994)\",31],[1195,\"Strawberry and Chocolate (Fresa y chocolate) (1993)\",11],[1196,\"Savage Nights (Nuits fauves, Les) (1992)\",3],[1197,\"Family Thing, A (1996)\",45],[1198,\"Purple Noon (1960)\",7],[1199,\"Cemetery Man (Dellamorte Dellamore) (1994)\",23],[1200,\"Kim (1950)\",7],[1201,\"Marlene Dietrich: Shadow and Light (1996) \",1],[1202,\"Maybe, Maybe Not (Bewegte Mann, Der) (1994)\",8],[1203,\"Top Hat (1935)\",21],[1204,\"To Be or Not to Be (1942)\",18],[1205,\"Secret Agent, The (1996)\",6],[1206,\"Amos & Andrew (1993)\",19],[1207,\"Jade (1995)\",17],[1208,\"Kiss of Death (1995)\",20],[1209,\"Mixed Nuts (1994)\",15],[1210,\"Virtuosity (1995)\",38],[1211,\"Blue Sky (1994)\",12],[1212,\"Flesh and Bone (1993)\",6],[1213,\"Guilty as Sin (1993)\",6],[1214,\"In the Realm of the Senses (Ai no corrida) (1976)\",9],[1215,\"Barb Wire (1996)\",30],[1216,\"Kissed (1996)\",6],[1217,\"Assassins (1995)\",39],[1218,\"Friday (1995)\",26],[1219,\"Goofy Movie, A (1995)\",20],[1220,\"Higher Learning (1995)\",30],[1221,\"When a Man Loves a Woman (1994)\",39],[1222,\"Judgment Night (1993)\",25],[1223,\"King of the Hill (1993)\",4],[1224,\"Scout, The (1994)\",12],[1225,\"Angus (1995)\",14],[1226,\"Night Falls on Manhattan (1997)\",32],[1227,\"Awfully Big Adventure, An (1995)\",8],[1228,\"Under Siege 2: Dark Territory (1995)\",48],[1229,\"Poison Ivy II (1995)\",13],[1230,\"Ready to Wear (Pret-A-Porter) (1994)\",18],[1231,\"Marked for Death (1990)\",22],[1232,\"Madonna: Truth or Dare (1991)\",17],[1233,\"N\\u00e9nette et Boni (1996)\",6],[1234,\"Chairman of the Board (1998)\",8],[1235,\"Big Bang Theory, The (1994)\",1],[1236,\"Other Voices, Other Rooms (1997)\",1],[1237,\"Twisted (1996)\",6],[1238,\"Full Speed (1996)\",8],[1239,\"Cutthroat Island (1995)\",18],[1240,\"Ghost in the Shell (Kokaku kidotai) (1995)\",26],[1241,\"Van, The (1996)\",6],[1242,\"Old Lady Who Walked in the Sea, The (Vieille qui marchait dans la mer, La) (1991)\",5],[1243,\"Night Flier (1997)\",7],[1244,\"Metro (1997)\",36],[1245,\"Gridlock'd (1997)\",19],[1246,\"Bushwhacked (1995)\",7],[1247,\"Bad Girls (1994)\",6],[1248,\"Blink (1994)\",19],[1249,\"For Love or Money (1993)\",12],[1250,\"Best of the Best 3: No Turning Back (1995)\",6],[1251,\"A Chef in Love (1996)\",8],[1252,\"Contempt (M\\u00e9pris, Le) (1963)\",9],[1253,\"Tie That Binds, The (1995)\",7],[1254,\"Gone Fishin' (1997)\",11],[1255,\"Broken English (1996)\",8],[1256,\"Designated Mourner, The (1997)\",3],[1257,\"Designated Mourner, The (1997)\",4],[1258,\"Trial and Error (1997)\",23],[1259,\"Pie in the Sky (1995)\",4],[1260,\"Total Eclipse (1995)\",4],[1261,\"Run of the Country, The (1995)\",4],[1262,\"Walking and Talking (1996)\",8],[1263,\"Foxfire (1996)\",15],[1264,\"Nothing to Lose (1994)\",7],[1265,\"Star Maps (1997)\",19],[1266,\"Bread and Chocolate (Pane e cioccolata) (1973)\",12],[1267,\"Clockers (1995)\",33],[1268,\"Bitter Moon (1992)\",10],[1269,\"Love in the Afternoon (1957)\",10],[1270,\"Life with Mikey (1993)\",7],[1271,\"North (1994)\",7],[1272,\"Talking About Sex (1994)\",5],[1273,\"Color of Night (1994)\",15],[1274,\"Robocop 3 (1993)\",11],[1275,\"Killer (Bulletproof Heart) (1994)\",4],[1276,\"Sunset Park (1996)\",8],[1277,\"Set It Off (1996)\",19],[1278,\"Selena (1997)\",16],[1279,\"Wild America (1997)\",9],[1280,\"Gang Related (1997)\",16],[1281,\"Manny & Lo (1996)\",13],[1282,\"Grass Harp, The (1995)\",9],[1283,\"Out to Sea (1997)\",19],[1284,\"Before and After (1996)\",26],[1285,\"Princess Caraboo (1994)\",15],[1286,\"Shall We Dance? (1937)\",17],[1287,\"Ed (1996)\",6],[1288,\"Denise Calls Up (1995)\",7],[1289,\"Jack and Sarah (1995)\",7],[1290,\"Country Life (1994)\",2],[1291,\"Celtic Pride (1996)\",15],[1292,\"Simple Wish, A (1997)\",3],[1293,\"Star Kid (1997)\",3],[1294,\"Ayn Rand: A Sense of Life (1997)\",7],[1295,\"Kicked in the Head (1997)\",7],[1296,\"Indian Summer (1996)\",20],[1297,\"Love Affair (1994)\",12],[1298,\"Band Wagon, The (1953)\",9],[1299,\"Penny Serenade (1941)\",8],[1300,\"'Til There Was You (1997)\",9],[1301,\"Stripes (1981)\",5],[1302,\"Late Bloomers (1996)\",5],[1303,\"Getaway, The (1994)\",18],[1304,\"New York Cop (1996)\",2],[1305,\"National Lampoon's Senior Trip (1995)\",7],[1306,\"Delta of Venus (1994)\",2],[1307,\"Carmen Miranda: Bananas Is My Business (1994)\",2],[1308,\"Babyfever (1994)\",2],[1309,\"Very Natural Thing, A (1974)\",1],[1310,\"Walk in the Sun, A (1945)\",1],[1311,\"Waiting to Exhale (1995)\",16],[1312,\"Pompatus of Love, The (1996)\",7],[1313,\"Palmetto (1998)\",14],[1314,\"Surviving the Game (1994)\",11],[1315,\"Inventing the Abbotts (1997)\",23],[1316,\"Horse Whisperer, The (1998)\",7],[1317,\"Journey of August King, The (1995)\",4],[1318,\"Catwalk (1995)\",3],[1319,\"Neon Bible, The (1995)\",4],[1320,\"Homage (1995)\",1],[1321,\"Open Season (1996)\",2],[1322,\"Metisse (Caf\\u00e9 au Lait) (1993)\",6],[1323,\"Wooden Man's Bride, The (Wu Kui) (1994)\",3],[1324,\"Loaded (1994)\",5],[1325,\"August (1996)\",1],[1326,\"Boys (1996)\",6],[1327,\"Captives (1994)\",3],[1328,\"Of Love and Shadows (1994)\",6],[1329,\"Low Life, The (1994)\",1],[1330,\"An Unforgettable Summer (1994)\",4],[1331,\"Last Klezmer: Leopold Kozlowski, His Life and Music, The (1995)\",4],[1332,\"My Life and Times With Antonin Artaud (En compagnie d'Antonin Artaud) (1993)\",2],[1333,\"Midnight Dancers (Sibak) (1994)\",5],[1334,\"Somebody to Love (1994)\",2],[1335,\"American Buffalo (1996)\",11],[1336,\"Kazaam (1996)\",10],[1337,\"Larger Than Life (1996)\",9],[1338,\"Two Deaths (1995)\",4],[1339,\"Stefano Quantestorie (1993)\",1],[1340,\"Crude Oasis, The (1995)\",1],[1341,\"Hedd Wyn (1992)\",1],[1342,\"Convent, The (Convento, O) (1995)\",2],[1343,\"Lotto Land (1995)\",1],[1344,\"Story of Xinghua, The (1993)\",5],[1345,\"Day the Sun Turned Cold, The (Tianguo niezi) (1994)\",2],[1346,\"Dingo (1992)\",5],[1347,\"Ballad of Narayama, The (Narayama Bushiko) (1958)\",4],[1348,\"Every Other Weekend (1990)\",1],[1349,\"Mille bolle blu (1993)\",1],[1350,\"Crows and Sparrows (1949)\",2],[1351,\"Lover's Knot (1996)\",3],[1352,\"Shadow of Angels (Schatten der Engel) (1976)\",1],[1353,\"1-900 (1994)\",5],[1354,\"Venice\\u002fVenice (1992)\",2],[1355,\"Infinity (1996)\",6],[1356,\"Ed's Next Move (1996)\",3],[1357,\"For the Moment (1994)\",3],[1358,\"The Deadly Cure (1996)\",2],[1359,\"Boys in Venice (1996)\",2],[1360,\"Sexual Life of the Belgians, The (1994)\",2],[1361,\"Search for One-eye Jimmy, The (1996)\",3],[1362,\"American Strays (1996)\",2],[1363,\"Leopard Son, The (1996)\",1],[1364,\"Bird of Prey (1996)\",1],[1365,\"Johnny 100 Pesos (1993)\",2],[1366,\"JLG\\u002fJLG - autoportrait de d\\u00e9cembre (1994)\",1],[1367,\"Faust (1994)\",5],[1368,\"Mina Tannenbaum (1994)\",6],[1369,\"Forbidden Christ, The (Cristo proibito, Il) (1950)\",4],[1370,\"I Can't Sleep (J'ai pas sommeil) (1994)\",3],[1371,\"Machine, The (1994)\",2],[1372,\"Stranger, The (1994)\",3],[1373,\"Good Morning (1971)\",1],[1374,\"Falling in Love Again (1980)\",2],[1375,\"Cement Garden, The (1993)\",10],[1376,\"Meet Wally Sparks (1997)\",7],[1377,\"Hotel de Love (1996)\",4],[1378,\"Rhyme & Reason (1997)\",5],[1379,\"Love and Other Catastrophes (1996)\",7],[1380,\"Hollow Reed (1996)\",6],[1381,\"Losing Chase (1996)\",8],[1382,\"Bonheur, Le (1965)\",4],[1383,\"Second Jungle Book: Mowgli & Baloo, The (1997)\",6],[1384,\"Squeeze (1996)\",3],[1385,\"Roseanna's Grave (For Roseanna) (1997)\",5],[1386,\"Tetsuo II: Body Hammer (1992)\",6],[1387,\"Fall (1997)\",3],[1388,\"Gabbeh (1996)\",6],[1389,\"Mondo (1996)\",3],[1390,\"Innocent Sleep, The (1995)\",2],[1391,\"For Ever Mozart (1996)\",3],[1392,\"Locusts, The (1997)\",5],[1393,\"Stag (1997)\",9],[1394,\"Swept from the Sea (1997)\",7],[1395,\"Hurricane Streets (1998)\",6],[1396,\"Stonewall (1995)\",5],[1397,\"Of Human Bondage (1934)\",5],[1398,\"Anna (1996)\",2],[1399,\"Stranger in the House (1997)\",7],[1400,\"Picture Bride (1995)\",10],[1401,\"M. Butterfly (1993)\",18],[1402,\"Ciao, Professore! (1993)\",4],[1403,\"Caro Diario (Dear Diary) (1994)\",4],[1404,\"Withnail and I (1987)\",13],[1405,\"Boy's Life 2 (1997)\",6],[1406,\"When Night Is Falling (1995)\",5],[1407,\"Specialist, The (1994)\",20],[1408,\"Gordy (1995)\",3],[1409,\"Swan Princess, The (1994)\",7],[1410,\"Harlem (1993)\",4],[1411,\"Barbarella (1968)\",28],[1412,\"Land Before Time III: The Time of the Great Giving (1995) (V)\",6],[1413,\"Street Fighter (1994)\",8],[1414,\"Coldblooded (1995)\",1],[1415,\"Next Karate Kid, The (1994)\",9],[1416,\"No Escape (1994)\",5],[1417,\"Turning, The (1992)\",2],[1418,\"Joy Luck Club, The (1993)\",3],[1419,\"Highlander III: The Sorcerer (1994)\",16],[1420,\"Gilligan's Island: The Movie (1998)\",3],[1421,\"My Crazy Life (Mi vida loca) (1993)\",11],[1422,\"Suture (1993)\",4],[1423,\"Walking Dead, The (1995)\",4],[1424,\"I Like It Like That (1994)\",3],[1425,\"I'll Do Anything (1994)\",10],[1426,\"Grace of My Heart (1996)\",8],[1427,\"Drunks (1995)\",5],[1428,\"SubUrbia (1997)\",12],[1429,\"Sliding Doors (1998)\",4],[1430,\"Ill Gotten Gains (1997)\",3],[1431,\"Legal Deceit (1997)\",5],[1432,\"Mighty, The (1998)\",3],[1433,\"Men of Means (1998)\",2],[1434,\"Shooting Fish (1997)\",10],[1435,\"Steal Big, Steal Little (1995)\",7],[1436,\"Mr. Jones (1993)\",2],[1437,\"House Party 3 (1994)\",9],[1438,\"Panther (1995)\",5],[1439,\"Jason's Lyric (1994)\",8],[1440,\"Above the Rim (1994)\",5],[1441,\"Moonlight and Valentino (1995)\",7],[1442,\"Scarlet Letter, The (1995)\",5],[1443,\"8 Seconds (1994)\",4],[1444,\"That Darn Cat! (1965)\",19],[1445,\"Ladybird Ladybird (1994)\",4],[1446,\"Bye Bye, Love (1995)\",15],[1447,\"Century (1993)\",1],[1448,\"My Favorite Season (1993)\",3],[1449,\"Pather Panchali (1955)\",8],[1450,\"Golden Earrings (1947)\",2],[1451,\"Foreign Correspondent (1940)\",15],[1452,\"Lady of Burlesque (1943)\",1],[1453,\"Angel on My Shoulder (1946)\",1],[1454,\"Angel and the Badman (1947)\",6],[1455,\"Outlaw, The (1943)\",2],[1456,\"Beat the Devil (1954)\",7],[1457,\"Love Is All There Is (1996)\",1],[1458,\"Damsel in Distress, A (1937)\",1],[1459,\"Madame Butterfly (1995)\",7],[1460,\"Sleepover (1995)\",1],[1461,\"Here Comes Cookie (1935)\",1],[1462,\"Thieves (Voleurs, Les) (1996)\",7],[1463,\"Boys, Les (1997)\",3],[1464,\"Stars Fell on Henrietta, The (1995)\",3],[1465,\"Last Summer in the Hamptons (1995)\",3],[1466,\"Margaret's Museum (1995)\",6],[1467,\"Saint of Fort Washington, The (1993)\",2],[1468,\"Cure, The (1995)\",6],[1469,\"Tom and Huck (1995)\",12],[1470,\"Gumby: The Movie (1995)\",5],[1471,\"Hideaway (1995)\",9],[1472,\"Visitors, The (Visiteurs, Les) (1993)\",2],[1473,\"Little Princess, The (1939)\",9],[1474,\"Nina Takes a Lover (1994)\",6],[1475,\"Bhaji on the Beach (1993)\",8],[1476,\"Raw Deal (1948)\",1],[1477,\"Nightwatch (1997)\",2],[1478,\"Dead Presidents (1995)\",18],[1479,\"Reckless (1995)\",8],[1480,\"Herbie Rides Again (1974)\",11],[1481,\"S.F.W. (1994)\",2],[1482,\"Gate of Heavenly Peace, The (1995)\",1],[1483,\"Man in the Iron Mask, The (1998)\",12],[1484,\"Jerky Boys, The (1994)\",3],[1485,\"Colonel Chabert, Le (1994)\",4],[1486,\"Girl in the Cadillac (1995)\",1],[1487,\"Even Cowgirls Get the Blues (1993)\",5],[1488,\"Germinal (1993)\",4],[1489,\"Chasers (1994)\",5],[1490,\"Fausto (1993)\",3],[1491,\"Tough and Deadly (1995)\",2],[1492,\"Window to Paris (1994)\",1],[1493,\"Modern Affair, A (1995)\",1],[1494,\"Mostro, Il (1994)\",1],[1495,\"Flirt (1995)\",5],[1496,\"Carpool (1996)\",5],[1497,\"Line King: Al Hirschfeld, The (1996)\",2],[1498,\"Farmer & Chase (1995)\",1],[1499,\"Grosse Fatigue (1994)\",4],[1500,\"Santa with Muscles (1996)\",2],[1501,\"Prisoner of the Mountains (Kavkazsky Plennik) (1996)\",5],[1502,\"Naked in New York (1994)\",2],[1503,\"Gold Diggers: The Secret of Bear Mountain (1995)\",10],[1504,\"Bewegte Mann, Der (1994)\",3],[1505,\"Killer: A Journal of Murder (1995)\",1],[1506,\"Nelly & Monsieur Arnaud (1995)\",3],[1507,\"Three Lives and Only One Death (1996)\",1],[1508,\"Babysitter, The (1995)\",3],[1509,\"Getting Even with Dad (1994)\",5],[1510,\"Mad Dog Time (1996)\",1],[1511,\"Children of the Revolution (1996)\",5],[1512,\"World of Apu, The (Apur Sansar) (1959)\",6],[1513,\"Sprung (1997)\",3],[1514,\"Dream With the Fishes (1997)\",7],[1515,\"Wings of Courage (1995)\",1],[1516,\"Wedding Gift, The (1994)\",3],[1517,\"Race the Sun (1996)\",5],[1518,\"Losing Isaiah (1995)\",12],[1519,\"New Jersey Drive (1995)\",2],[1520,\"Fear, The (1995)\",1],[1521,\"Mr. Wonderful (1993)\",4],[1522,\"Trial by Jury (1994)\",7],[1523,\"Good Man in Africa, A (1994)\",2],[1524,\"Kaspar Hauser (1993)\",8],[1525,\"Object of My Affection, The (1998)\",1],[1526,\"Witness (1985)\",1],[1527,\"Senseless (1998)\",7],[1528,\"Nowhere (1997)\",3],[1529,\"Underground (1995)\",5],[1530,\"Jefferson in Paris (1995)\",5],[1531,\"Far From Home: The Adventures of Yellow Dog (1995)\",7],[1532,\"Foreign Student (1994)\",2],[1533,\"I Don't Want to Talk About It (De eso no se habla) (1993)\",1],[1534,\"Twin Town (1997)\",6],[1535,\"Enfer, L' (1994)\",4],[1536,\"Aiqing wansui (1994)\",1],[1537,\"Cosi (1996)\",4],[1538,\"All Over Me (1997)\",3],[1539,\"Being Human (1993)\",4],[1540,\"Amazing Panda Adventure, The (1995)\",10],[1541,\"Beans of Egypt, Maine, The (1994)\",2],[1542,\"Scarlet Letter, The (1926)\",2],[1543,\"Johns (1996)\",1],[1544,\"It Takes Two (1995)\",3],[1545,\"Frankie Starlight (1995)\",4],[1546,\"Shadows (Cienie) (1988)\",1],[1547,\"Show, The (1995)\",2],[1548,\"The Courtyard (1995)\",1],[1549,\"Dream Man (1995)\",2],[1550,\"Destiny Turns on the Radio (1995)\",2],[1551,\"Glass Shield, The (1994)\",2],[1552,\"Hunted, The (1995)\",3],[1553,\"Underneath, The (1995)\",4],[1554,\"Safe Passage (1994)\",2],[1555,\"Secret Adventures of Tom Thumb, The (1993)\",5],[1556,\"Condition Red (1995)\",2],[1557,\"Yankee Zulu (1994)\",1],[1558,\"Aparajito (1956)\",7],[1559,\"Hostile Intentions (1994)\",1],[1560,\"Clean Slate (Coup de Torchon) (1981)\",4],[1561,\"Tigrero: A Film That Was Never Made (1994)\",1],[1562,\"Eye of Vichy, The (Oeil de Vichy, L') (1993)\",1],[1563,\"Promise, The (Versprechen, Das) (1994)\",1],[1564,\"To Cross the Rubicon (1991)\",1],[1565,\"Daens (1992)\",1],[1566,\"Man from Down Under, The (1943)\",1],[1567,\"Careful (1992)\",1],[1568,\"Vermont Is For Lovers (1992)\",1],[1569,\"Vie est belle, La (Life is Rosey) (1987)\",1],[1570,\"Quartier Mozart (1992)\",1],[1571,\"Touki Bouki (Journey of the Hyena) (1973)\",1],[1572,\"Wend Kuuni (God's Gift) (1982)\",1],[1573,\"Spirits of the Dead (Tre passi nel delirio) (1968)\",2],[1574,\"Pharaoh's Army (1995)\",1],[1575,\"I, Worst of All (Yo, la peor de todas) (1990)\",1],[1576,\"Hungarian Fairy Tale, A (1987)\",1],[1577,\"Death in the Garden (Mort en ce jardin, La) (1956)\",1],[1578,\"Collectionneuse, La (1967)\",2],[1579,\"Baton Rouge (1988)\",1],[1580,\"Liebelei (1933)\",1],[1581,\"Woman in Question, The (1950)\",1],[1582,\"T-Men (1947)\",1],[1583,\"Invitation, The (Zaproszenie) (1986)\",1],[1584,\"Symphonie pastorale, La (1946)\",1],[1585,\"American Dream (1990)\",2],[1586,\"Lashou shentan (1992)\",1],[1587,\"Terror in a Texas Town (1958)\",1],[1588,\"Salut cousin! (1996)\",2],[1589,\"Schizopolis (1996)\",4],[1590,\"To Have, or Not (1995)\",2],[1591,\"Duoluo tianshi (1995)\",6],[1592,\"Magic Hour, The (1998)\",5],[1593,\"Death in Brunswick (1991)\",1],[1594,\"Everest (1998)\",2],[1595,\"Shopping (1994)\",1],[1596,\"Nemesis 2: Nebula (1995)\",1],[1597,\"Romper Stomper (1992)\",5],[1598,\"City of Industry (1997)\",6],[1599,\"Someone Else's America (1995)\",1],[1600,\"Guantanamera (1994)\",4],[1601,\"Office Killer (1997)\",1],[1602,\"Price Above Rubies, A (1998)\",3],[1603,\"Angela (1995)\",1],[1604,\"He Walked by Night (1948)\",1],[1605,\"Love Serenade (1996)\",4],[1606,\"Deceiver (1997)\",1],[1607,\"Hurricane Streets (1998)\",3],[1608,\"Buddy (1997)\",4],[1609,\"B*A*P*S (1997)\",3],[1610,\"Truth or Consequences, N.M. (1997)\",3],[1611,\"Intimate Relations (1996)\",2],[1612,\"Leading Man, The (1996)\",4],[1613,\"Tokyo Fist (1995)\",1],[1614,\"Reluctant Debutante, The (1958)\",1],[1615,\"Warriors of Virtue (1997)\",10],[1616,\"Desert Winds (1995)\",1],[1617,\"Hugo Pool (1997)\",2],[1618,\"King of New York (1990)\",1],[1619,\"All Things Fair (1996)\",1],[1620,\"Sixth Man, The (1997)\",9],[1621,\"Butterfly Kiss (1995)\",1],[1622,\"Paris, France (1993)\",3],[1623,\"C\\u00e9r\\u00e9monie, La (1995)\",3],[1624,\"Hush (1998)\",1],[1625,\"Nightwatch (1997)\",1],[1626,\"Nobody Loves Me (Keiner liebt mich) (1994)\",1],[1627,\"Wife, The (1995)\",1],[1628,\"Lamerica (1994)\",4],[1629,\"Nico Icon (1995)\",2],[1630,\"Silence of the Palace, The (Saimt el Qusur) (1994)\",1],[1631,\"Slingshot, The (1993)\",2],[1632,\"Land and Freedom (Tierra y libertad) (1995)\",1],[1633,\"\\u00c1 k\\u00f6ldum klaka (Cold Fever) (1994)\",1],[1634,\"Etz Hadomim Tafus (Under the Domin Tree) (1994)\",1],[1635,\"Two Friends (1986) \",1],[1636,\"Brothers in Trouble (1995)\",1],[1637,\"Girls Town (1996)\",1],[1638,\"Normal Life (1996)\",1],[1639,\"Bitter Sugar (Azucar Amargo) (1996)\",3],[1640,\"Eighth Day, The (1996)\",1],[1641,\"Dadetown (1995)\",1],[1642,\"Some Mother's Son (1996)\",2],[1643,\"Angel Baby (1995)\",4],[1644,\"Sudden Manhattan (1996)\",2],[1645,\"Butcher Boy, The (1998)\",1],[1646,\"Men With Guns (1997)\",2],[1647,\"Hana-bi (1997)\",1],[1648,\"Niagara, Niagara (1997)\",1],[1649,\"Big One, The (1997)\",1],[1650,\"Butcher Boy, The (1998)\",1],[1651,\"Spanish Prisoner, The (1997)\",1],[1652,\"Temptress Moon (Feng Yue) (1996)\",3],[1653,\"Entertaining Angels: The Dorothy Day Story (1996)\",1],[1654,\"Chairman of the Board (1998)\",1],[1655,\"Favor, The (1994)\",1],[1656,\"Little City (1998)\",2],[1657,\"Target (1995)\",1],[1658,\"Substance of Fire, The (1996)\",3],[1659,\"Getting Away With Murder (1996)\",1],[1660,\"Small Faces (1995)\",1],[1661,\"New Age, The (1994)\",1],[1662,\"Rough Magic (1995)\",2],[1663,\"Nothing Personal (1995)\",1],[1664,\"8 Heads in a Duffel Bag (1997)\",4],[1665,\"Brother's Kiss, A (1997)\",1],[1666,\"Ripe (1996)\",1],[1667,\"Next Step, The (1995)\",1],[1668,\"Wedding Bell Blues (1996)\",1],[1669,\"MURDER and murder (1996)\",1],[1670,\"Tainted (1998)\",1],[1671,\"Further Gesture, A (1996)\",1],[1672,\"Kika (1993)\",2],[1673,\"Mirage (1995)\",1],[1674,\"Mamma Roma (1962)\",1],[1675,\"Sunchaser, The (1996)\",1],[1676,\"War at Home, The (1996)\",1],[1677,\"Sweet Nothing (1995)\",1],[1678,\"Mat' i syn (1997)\",1],[1679,\"B. Monkey (1998)\",1],[1680,\"Sliding Doors (1998)\",1],[1681,\"You So Crazy (1994)\",1],[1682,\"Scream of Stone (Schrei aus Stein) (1991)\",1]],\"hovertemplate\":\"tsne_1=%{x}\\u003cbr\\u003etsne_2=%{y}\\u003cbr\\u003eitem_id=%{customdata[0]}\\u003cbr\\u003etitle=%{customdata[1]}\\u003cbr\\u003epopularity=%{marker.color}\\u003cextra\\u003e\\u003c\\u002fextra\\u003e\",\"legendgroup\":\"\",\"marker\":{\"color\":[452,131,90,209,86,26,392,219,299,89,236,267,184,183,293,39,92,10,69,72,84,297,182,174,293,73,57,276,114,37,154,81,97,7,11,13,8,120,87,57,37,148,40,79,80,27,133,117,81,583,81,91,128,104,149,394,40,175,83,64,59,127,82,283,115,162,103,134,321,251,220,129,128,7,5,54,151,33,336,68,110,261,176,18,58,150,138,213,275,95,143,104,112,137,219,295,256,390,172,508,73,54,15,5,74,71,42,65,130,31,272,20,9,67,15,125,378,293,4,67,429,106,115,187,244,97,413,65,129,23,95,246,171,198,259,105,171,19,50,61,72,57,222,243,65,10,185,128,23,157,326,82,247,174,98,148,127,60,101,69,220,106,92,151,64,58,67,316,118,121,65,367,324,420,208,284,137,125,221,221,507,226,291,116,239,251,209,170,66,124,276,116,157,241,301,251,239,127,165,206,89,280,182,350,136,50,66,200,191,331,206,92,134,114,212,290,120,171,111,66,74,365,136,44,109,166,161,244,171,199,142,101,124,280,217,45,384,256,150,156,128,117,132,48,240,124,5,160,130,197,46,158,26,62,172,16,303,509,162,127,43,66,19,101,227,35,9,255,315,136,211,198,223,190,268,298,71,60,28,85,146,232,177,193,162,481,78,478,259,96,127,114,147,485,77,6,50,194,73,431,230,297,134,149,87,96,188,30,28,145,75,80,350,5,160,112,102,298,168,20,169,218,240,125,128,175,175,295,45,41,113,143,251,64,21,43,18,91,47,189,11,52,124,55,65,126,137,27,31,41,20,26,14,72,41,97,264,143,18,10,10,28,47,37,48,47,170,31,55,39,67,34,39,11,23,24,13,101,43,116,100,111,31,69,208,87,65,28,27,10,59,68,192,12,56,54,12,26,89,18,76,170,201,101,344,49,43,112,70,162,163,93,55,62,25,64,73,129,178,81,106,26,300,19,85,32,219,121,97,93,153,174,171,67,216,99,5,6,5,14,53,4,162,46,22,9,121,85,117,63,170,66,16,16,145,48,27,90,24,28,74,148,71,27,85,52,48,64,67,108,221,158,126,194,250,160,95,104,179,179,63,128,243,138,125,64,68,65,52,50,67,59,60,56,59,231,68,152,62,31,123,57,39,122,68,90,98,215,121,121,173,57,72,180,201,63,91,89,80,124,120,35,164,46,73,124,195,121,93,80,129,22,15,13,54,10,30,66,44,43,49,51,21,71,12,254,41,12,92,151,24,45,63,102,10,12,17,70,137,22,59,48,29,27,22,179,35,230,67,50,28,29,33,15,44,93,41,92,19,32,59,168,37,79,39,34,14,202,43,18,178,9,12,5,64,127,206,4,1,2,20,50,209,81,31,66,66,30,60,41,40,34,27,51,59,64,18,18,64,43,11,39,39,22,82,4,75,169,77,31,119,58,69,24,23,91,38,44,40,82,33,89,4,35,27,38,70,67,50,72,171,90,34,147,227,44,131,79,115,153,88,82,116,46,100,5,12,6,13,36,46,65,86,48,54,77,1,219,107,34,27,100,49,169,157,50,69,44,87,155,16,164,91,44,13,79,40,10,102,15,10,53,19,24,137,6,70,101,104,79,1,51,72,13,87,58,82,16,29,86,54,58,34,76,16,14,63,45,81,24,39,180,15,27,137,78,59,31,164,63,58,267,39,92,16,119,102,316,51,124,180,39,24,57,96,128,4,21,11,46,44,115,149,29,32,9,11,52,42,57,41,49,17,32,26,9,4,76,31,69,84,10,37,2,39,14,13,3,47,66,10,86,10,46,21,36,31,9,5,26,16,40,9,8,27,50,9,31,43,45,18,18,56,1,112,21,3,25,40,93,22,4,82,49,83,80,57,13,34,1,91,22,49,25,15,26,25,4,4,53,48,27,30,42,176,44,55,9,53,4,4,1,14,16,66,36,1,3,15,16,3,18,24,86,21,119,6,5,24,9,75,42,81,39,53,47,52,33,136,59,45,34,13,7,13,53,64,15,13,43,6,53,14,19,106,44,2,58,9,42,12,42,18,20,27,21,2,20,13,4,4,9,2,11,13,18,7,8,96,5,46,34,58,85,34,101,6,104,40,80,57,40,21,68,7,32,37,25,60,32,46,45,40,43,40,61,17,48,71,30,39,45,22,11,49,46,2,14,64,25,34,23,41,9,21,26,12,18,75,8,34,28,4,32,44,12,49,27,35,22,8,20,15,44,22,23,4,86,32,33,25,4,66,7,31,14,16,16,10,10,17,8,8,9,22,23,47,37,64,44,93,100,38,98,12,137,50,32,31,35,38,32,31,15,44,4,3,148,14,20,7,16,32,27,68,24,24,17,90,25,62,28,8,40,25,46,134,73,25,43,41,25,24,23,10,10,22,15,35,39,29,12,41,4,53,16,44,12,18,27,16,7,66,77,7,12,8,22,45,2,8,8,6,21,11,21,10,13,38,37,43,12,23,12,29,3,18,42,13,8,74,7,19,4,18,4,18,5,28,41,7,15,22,10,29,13,19,47,59,17,21,1,3,12,4,32,11,13,28,1,13,32,30,38,46,29,29,5,33,17,9,44,15,3,9,3,21,9,26,9,7,28,19,12,3,1,25,4,11,26,13,5,25,6,14,12,11,22,10,27,14,15,7,8,5,22,7,19,9,10,10,13,19,10,18,3,13,44,3,11,3,13,10,31,11,3,45,7,23,7,1,8,21,18,6,19,17,20,15,38,12,6,6,9,30,6,39,26,20,30,39,25,4,12,14,32,8,48,13,18,22,17,6,8,1,1,6,8,18,26,6,5,7,36,19,7,6,19,12,6,8,9,7,11,8,3,4,23,4,4,4,8,15,7,19,12,33,10,10,7,7,5,15,11,4,8,19,16,9,16,13,9,19,26,15,17,6,7,7,2,15,3,3,7,7,20,12,9,8,9,5,5,18,2,7,2,2,2,1,1,16,7,14,11,23,7,4,3,4,1,2,6,3,5,1,6,3,6,1,4,4,2,5,2,11,10,9,4,1,1,1,2,1,5,2,5,4,1,1,2,3,1,5,2,6,3,3,2,2,2,3,2,1,1,2,1,5,6,4,3,2,3,1,2,10,7,4,5,7,6,8,4,6,3,5,6,3,6,3,2,3,5,9,7,6,5,5,2,7,10,18,4,4,13,6,5,20,3,7,4,28,6,8,1,9,5,2,3,16,3,11,4,4,3,10,8,5,12,4,3,5,3,2,10,7,2,9,5,8,5,7,5,4,19,4,15,1,3,8,2,15,1,1,6,2,7,1,1,7,1,1,7,3,3,3,6,2,6,12,5,9,2,9,6,8,1,2,18,8,11,2,1,12,3,4,1,5,4,5,3,2,1,1,1,5,5,2,1,4,2,5,2,10,3,1,3,1,3,5,1,5,6,3,7,1,3,5,12,2,1,4,7,2,8,1,1,7,3,5,5,7,2,1,6,4,1,4,3,4,10,2,2,1,3,4,1,2,1,2,2,2,3,4,2,5,2,1,7,1,4,1,1,1,1,1,1,1,1,1,1,1,1,2,1,1,1,1,2,1,1,1,1,1,1,2,1,1,2,4,2,6,5,1,2,1,1,5,6,1,4,1,3,1,1,4,1,3,4,3,3,2,4,1,1,10,1,2,1,1,9,1,3,3,1,1,1,1,4,2,1,2,1,1,1,1,1,1,1,3,1,1,2,4,2,1,2,1,1,1,1,1,3,1,1,1,2,1,3,1,1,1,2,1,4,1,1,1,1,1,1,1,2,1,1,1,1,1,1,1,1,1,1],\"coloraxis\":\"coloraxis\",\"symbol\":\"circle\"},\"mode\":\"markers\",\"name\":\"\",\"showlegend\":false,\"x\":[-7.337915897369385,-10.162566184997559,-3.4081456661224365,17.34109115600586,-5.844155311584473,15.684880256652832,14.288717269897461,27.867952346801758,31.115549087524414,21.788604736328125,35.53207778930664,15.804387092590332,15.388372421264648,13.434709548950195,-1.7244763374328613,14.953751564025879,-15.482154846191406,19.83121681213379,12.142220497131348,14.725418090820312,-7.688147068023682,-8.505674362182617,33.874908447265625,0.8184905052185059,-0.07574174553155899,-22.341712951660156,2.7595839500427246,17.633350372314453,-28.039897918701172,7.824806213378906,-7.597996711730957,21.85586929321289,-16.69400405883789,-5.43061637878418,-16.798263549804688,-5.7667436599731445,12.297277450561523,-7.564653396606445,7.5216450691223145,1.400694727897644,-1.4779760837554932,-15.684176445007324,8.291150093078613,7.618685722351074,13.151878356933594,12.014119148254395,26.884706497192383,9.181195259094238,5.7416791915893555,-10.233550071716309,-0.3656034767627716,25.56041145324707,-0.16744346916675568,-11.507752418518066,14.82916259765625,32.83660888671875,14.994455337524414,31.308635711669922,13.679732322692871,13.651152610778809,12.22315788269043,-10.597626686096191,-2.6238396167755127,16.178237915039062,15.674341201782227,-8.611542701721191,5.390467166900635,-15.662187576293945,-7.904565334320068,20.63907814025879,-4.083980560302734,-14.122587203979492,-8.705373764038086,21.968074798583984,-16.194683074951172,-17.332576751708984,-7.773932456970215,-11.947840690612793,-8.27609634399414,7.610526084899902,27.227983474731445,-11.756418228149414,24.798921585083008,6.243088245391846,-12.942748069763184,22.361839294433594,17.25078582763672,-8.075479507446289,20.5959415435791,11.942980766296387,-19.672565460205078,-4.049747467041016,28.18157958984375,-5.327591896057129,-9.104532241821289,-9.17029094696045,16.528444290161133,31.85384750366211,30.898189544677734,34.76361846923828,-14.057418823242188,2.5316061973571777,-24.141963958740234,-29.33461570739746,-18.030183792114258,-14.506385803222656,13.709115028381348,23.931711196899414,-18.379947662353516,-20.005264282226562,-2.7303218841552734,-6.014032363891602,13.644122123718262,34.284706115722656,-0.11693841218948364,23.14108657836914,-11.748905181884766,-13.269556045532227,15.825216293334961,-20.638813018798828,-13.448758125305176,-18.480623245239258,-18.097734451293945,23.327293395996094,-10.930106163024902,5.925502777099609,35.19316101074219,-19.081724166870117,35.7829475402832,-31.94207000732422,26.811872482299805,29.787525177001953,30.41947364807129,33.52405548095703,36.175819396972656,30.720550537109375,23.41584014892578,-17.62367820739746,-3.950892686843872,-2.079840898513794,17.617687225341797,2.6685798168182373,15.384109497070312,-8.337845802307129,-10.106647491455078,-3.61575984954834,-10.762516021728516,-10.437087059020996,-23.7944393157959,20.101911544799805,36.90299606323242,24.877817153930664,27.32512664794922,35.984283447265625,-1.251104474067688,33.481956481933594,34.127254486083984,-7.400793075561523,-1.807732343673706,27.278526306152344,-8.178084373474121,26.946924209594727,17.171415328979492,-12.328224182128906,19.981245040893555,20.839977264404297,9.555977821350098,33.263916015625,15.78536319732666,16.914499282836914,19.311689376831055,-10.107098579406738,-8.561888694763184,-9.561400413513184,26.748958587646484,37.03806686401367,32.87379837036133,30.75306510925293,30.593515396118164,32.49243927001953,-10.22494888305664,32.049503326416016,36.91847229003906,-13.040495872497559,30.43760871887207,-12.708427429199219,35.133235931396484,21.18793296813965,13.448275566101074,28.5929012298584,32.292476654052734,32.545284271240234,34.772586822509766,30.29998016357422,-9.255845069885254,18.0526123046875,31.874919891357422,9.951179504394531,34.0639533996582,34.330039978027344,26.410112380981445,-6.15554141998291,20.75851821899414,-9.037640571594238,35.986881256103516,23.862483978271484,19.31028938293457,19.50464630126953,33.927608489990234,-9.320943832397461,33.836849212646484,14.31341552734375,26.138124465942383,33.394508361816406,-7.521522521972656,16.54096221923828,-2.612175941467285,-11.457496643066406,-12.96191120147705,4.647885322570801,14.752720832824707,-10.061773300170898,32.5926513671875,14.890595436096191,-10.546576499938965,-5.002513885498047,-11.326659202575684,-10.590437889099121,-2.223130464553833,-11.198956489562988,-6.323469161987305,-10.689014434814453,-4.7154860496521,36.72727966308594,-18.250286102294922,6.566601753234863,-18.227310180664062,31.51540184020996,-10.69087028503418,-18.641693115234375,2.5722692012786865,13.043010711669922,-28.384536743164062,4.742505073547363,-1.7270148992538452,10.393402099609375,-11.305632591247559,13.08494758605957,-20.196809768676758,-20.92120361328125,12.372387886047363,-9.455324172973633,5.020322322845459,-4.907571315765381,-12.461716651916504,20.35809898376465,-18.045507431030273,-22.13046646118164,-28.01123809814453,-23.036211013793945,-11.889355659484863,29.44135856628418,-30.4736270904541,-21.330106735229492,-7.9378437995910645,-10.126486778259277,-9.49626636505127,10.44423770904541,13.571476936340332,-24.46140480041504,-23.83577537536621,5.683900833129883,-21.63320541381836,-8.030097007751465,20.894784927368164,39.840187072753906,16.670434951782227,-8.48062801361084,16.07002067565918,-9.149085998535156,-7.767735004425049,-14.923656463623047,20.094127655029297,-18.138696670532227,39.81589889526367,0.7136571407318115,1.5139987468719482,-25.521867752075195,4.122931957244873,10.836440086364746,-12.721829414367676,10.021562576293945,12.147887229919434,-28.58077621459961,1.3067831993103027,-0.4365045130252838,6.650787353515625,-15.199621200561523,6.390194892883301,-24.699588775634766,-21.134510040283203,13.474414825439453,7.5032758712768555,-24.49590492248535,-20.457557678222656,19.89636993408203,-21.172637939453125,6.294832706451416,-25.344324111938477,-19.566322326660156,6.976402759552002,0.13596749305725098,5.655767440795898,-24.108060836791992,5.300114154815674,5.576074123382568,15.498489379882812,16.180654525756836,9.535576820373535,-22.58983612060547,0.6269658207893372,-28.618162155151367,-29.133255004882812,28.58186149597168,-20.03626251220703,-26.864482879638672,-23.55837631225586,-27.14229965209961,-22.056509017944336,2.3842849731445312,-21.45264434814453,-25.446622848510742,-25.01506805419922,4.407483100891113,-20.491764068603516,-12.677854537963867,10.979406356811523,-15.01148509979248,3.643223285675049,-20.238887786865234,0.394135057926178,-9.39950942993164,-24.42868995666504,7.492941856384277,11.00850772857666,6.3829450607299805,-5.963009357452393,-22.825347900390625,-24.59562873840332,-19.447084426879883,-23.509056091308594,-19.74927520751953,-21.08236312866211,-13.259422302246094,-8.579553604125977,-4.981977462768555,32.00598907470703,-16.023983001708984,0.44386565685272217,6.136127471923828,-2.9928224086761475,20.172311782836914,3.0968997478485107,7.242446422576904,-1.8445508480072021,0.6020907759666443,10.734904289245605,-11.033001899719238,3.6940152645111084,-10.52813720703125,7.663365840911865,5.070650577545166,-7.08613920211792,-25.83909034729004,-26.272254943847656,-7.451189994812012,-7.867764472961426,16.438270568847656,3.8942983150482178,-10.489431381225586,21.723644256591797,11.351753234863281,-17.426420211791992,9.239718437194824,-12.26185417175293,13.206948280334473,6.694358825683594,-14.665364265441895,-8.276566505432129,24.131244659423828,-3.295245885848999,1.8752632141113281,-0.5749672055244446,0.4394005239009857,-4.8863301277160645,22.553831100463867,-1.7098337411880493,-14.694707870483398,-3.179856777191162,-9.389958381652832,11.685748100280762,-3.4745163917541504,-13.847021102905273,31.772066116333008,-12.238466262817383,-20.303850173950195,0.43500587344169617,16.019699096679688,2.5625808238983154,-17.176847457885742,-12.913134574890137,14.702329635620117,-24.953289031982422,29.649816513061523,10.00896167755127,25.593069076538086,11.16878890991211,-6.18660831451416,27.3197078704834,25.871051788330078,-4.1313347816467285,16.162498474121094,30.41159439086914,-28.020788192749023,32.64020919799805,3.186697006225586,28.668010711669922,30.105371475219727,22.284528732299805,28.10468101501465,-12.094660758972168,36.90704345703125,30.890796661376953,11.357634544372559,17.617122650146484,-1.5178852081298828,-29.346351623535156,-29.48787498474121,-29.31118392944336,-23.652708053588867,-19.14720344543457,-23.314123153686523,26.941932678222656,20.715402603149414,19.33074378967285,-25.513872146606445,34.294498443603516,-2.5644571781158447,-0.16977515816688538,7.1623687744140625,3.6753041744232178,-2.5019097328186035,-14.937268257141113,-7.574306011199951,6.786596775054932,-15.170631408691406,-22.926820755004883,0.09662707149982452,5.266096115112305,8.206344604492188,13.08902359008789,20.14978790283203,21.650033950805664,10.740578651428223,18.27226448059082,23.8907527923584,7.161654472351074,5.062564849853516,25.973562240600586,11.566147804260254,-8.409260749816895,-5.946930885314941,11.2783203125,33.94279479980469,39.81342315673828,0.6903174519538879,10.475921630859375,26.723344802856445,30.81633949279785,29.901470184326172,29.896284103393555,31.36361312866211,29.844348907470703,30.302522659301758,19.151582717895508,28.5140438079834,26.822265625,27.641294479370117,21.63243865966797,25.098764419555664,31.487733840942383,27.5398006439209,23.847787857055664,32.649322509765625,23.045642852783203,30.072521209716797,32.74666213989258,26.62636947631836,22.659711837768555,28.24646759033203,31.027427673339844,13.241436004638672,8.689567565917969,29.130558013916016,29.305326461791992,24.162593841552734,30.963075637817383,-21.488550186157227,28.209609985351562,25.49650764465332,29.261878967285156,22.053457260131836,14.780558586120605,31.25892448425293,16.39471435546875,13.510282516479492,29.45389747619629,27.028512954711914,30.245485305786133,32.50151443481445,17.9354305267334,28.289005279541016,24.158475875854492,18.480180740356445,31.031417846679688,31.182472229003906,33.939483642578125,28.815811157226562,26.633943557739258,22.90923309326172,10.406630516052246,13.5513916015625,23.851064682006836,19.55976676940918,-14.966178894042969,18.65591812133789,21.11807632446289,-16.332571029663086,-18.374675750732422,-4.684884071350098,-4.9764838218688965,-15.636463165283203,22.37487030029297,2.931215763092041,-19.30670928955078,-13.636819839477539,-0.6542312502861023,19.516284942626953,9.089212417602539,-10.277693748474121,-13.598380088806152,-4.813440322875977,-1.6524569988250732,-7.333376407623291,-19.27873420715332,-22.6628475189209,20.5269718170166,19.211645126342773,-15.064821243286133,-10.472906112670898,-16.996051788330078,-1.2917113304138184,-13.138376235961914,-11.460246086120605,-16.137584686279297,-10.701641082763672,-24.412504196166992,-8.255231857299805,-1.565436601638794,6.581130027770996,9.049299240112305,-6.254208087921143,-24.124372482299805,-11.729049682617188,-3.1584107875823975,-6.902349472045898,-32.284423828125,-10.514816284179688,-5.925528526306152,10.4525728225708,22.965953826904297,28.417490005493164,-1.7212945222854614,16.65080451965332,-4.96345853805542,8.909123420715332,18.034744262695312,-8.070398330688477,18.372148513793945,-17.879308700561523,-8.269041061401367,18.528968811035156,27.009891510009766,-24.970218658447266,-8.567642211914062,-2.7005534172058105,-13.413466453552246,19.121370315551758,-23.63459014892578,20.9617919921875,17.09506607055664,20.16789436340332,33.52632522583008,19.393104553222656,24.687185287475586,26.814916610717773,23.612295150756836,19.08694076538086,24.859243392944336,27.20871925354004,26.463464736938477,22.21994400024414,15.660283088684082,16.80440902709961,18.030839920043945,21.674976348876953,20.420095443725586,30.969905853271484,-19.343433380126953,4.72723913192749,22.9667911529541,1.575981855392456,0.09895140677690506,21.23447608947754,8.65587329864502,26.380367279052734,-1.1415903568267822,-13.27576732635498,2.6550049781799316,-0.6288180947303772,24.562313079833984,26.65389060974121,25.506160736083984,24.13533592224121,-27.462934494018555,20.912334442138672,22.282058715820312,27.35813331604004,25.446382522583008,27.62464714050293,27.700483322143555,28.747516632080078,21.22161102294922,28.721637725830078,17.80092430114746,34.525848388671875,29.598491668701172,22.210960388183594,22.068710327148438,22.193368911743164,33.11162567138672,26.498268127441406,22.314729690551758,28.76863670349121,34.83485412597656,25.489660263061523,24.27890968322754,4.1126251220703125,30.542835235595703,15.64991283416748,31.02715492248535,15.312718391418457,20.865503311157227,25.210521697998047,-2.6613473892211914,18.64642333984375,-11.306389808654785,19.135395050048828,-18.744285583496094,-12.7951021194458,36.07193374633789,-23.663326263427734,-6.586814880371094,-4.27537727355957,25.90135383605957,1.0472108125686646,-58.57545471191406,-29.214601516723633,-2.6475865840911865,-10.124621391296387,-10.375223159790039,-25.36632537841797,-19.347057342529297,1.1273839473724365,-12.64962387084961,12.70904541015625,-9.851351737976074,-24.236434936523438,-25.786821365356445,3.3098771572113037,16.17083168029785,-8.5245943069458,31.09534454345703,22.40677261352539,-19.07634925842285,0.9448880553245544,-1.294283390045166,6.429198265075684,10.51648235321045,-14.244359970092773,23.724903106689453,0.44218796491622925,15.459654808044434,14.888224601745605,25.97359848022461,-4.11207389831543,11.396381378173828,19.637853622436523,10.644588470458984,-6.347545623779297,-55.202598571777344,1.933600664138794,2.6986751556396484,6.650707721710205,29.73330307006836,11.9625825881958,-8.108563423156738,15.071566581726074,-13.07337760925293,-5.561154842376709,-15.261837005615234,6.387935161590576,0.6878811717033386,18.002422332763672,-2.9698092937469482,-8.993048667907715,12.093342781066895,-1.6320855617523193,-8.228572845458984,23.631633758544922,-8.584774017333984,-7.575688362121582,10.275073051452637,-6.050605773925781,16.68776512145996,19.910247802734375,21.90890884399414,12.000329971313477,-3.5917956829071045,6.123931884765625,12.629033088684082,-12.600263595581055,-15.987157821655273,0.5590827465057373,10.996530532836914,2.5807065963745117,9.243306159973145,-26.719905853271484,-22.452342987060547,3.8845551013946533,-22.1811466217041,-17.23642349243164,10.525289535522461,1.4320693016052246,-4.840913772583008,0.4129236042499542,12.040436744689941,-17.330230712890625,-2.844054698944092,-1.7177575826644897,2.876882553100586,-17.65456771850586,-17.403339385986328,2.1398489475250244,16.069759368896484,21.549346923828125,-23.521347045898438,3.550063133239746,-10.02082633972168,28.878704071044922,-5.387270927429199,23.62736701965332,17.14586067199707,-10.721863746643066,-1.4353816509246826,-4.2410454750061035,-18.14937973022461,15.146175384521484,-4.090096473693848,5.388251781463623,8.276458740234375,17.425004959106445,-5.502189636230469,-53.938541412353516,6.4108805656433105,21.755290985107422,-8.91855239868164,-55.62831115722656,8.008390426635742,4.313253402709961,-21.445955276489258,28.911325454711914,18.054407119750977,3.42203688621521,-3.5876622200012207,-3.9903783798217773,1.054772138595581,-29.79580307006836,15.766273498535156,-4.902686595916748,-3.989933967590332,-6.802073955535889,16.392120361328125,-6.208327770233154,21.658828735351562,18.65460968017578,-0.2679741084575653,-8.550085067749023,-6.491951942443848,-0.9520962238311768,14.242290496826172,0.5555562973022461,8.201889991760254,-56.96413040161133,-9.700149536132812,-18.63180923461914,-3.8181402683258057,15.455357551574707,-12.036954879760742,3.3177084922790527,-6.1427459716796875,22.290369033813477,-16.006284713745117,14.731274604797363,-7.66650390625,-9.241328239440918,-12.320408821105957,-10.137299537658691,-10.13459587097168,-23.639667510986328,4.006035804748535,11.955360412597656,-5.6010541915893555,-27.2654972076416,10.464982032775879,22.10403823852539,21.162702560424805,-13.982633590698242,-23.126800537109375,-5.715106964111328,-25.439340591430664,20.645509719848633,17.70872688293457,7.710726261138916,0.6883447170257568,-8.62894344329834,8.695853233337402,25.274629592895508,-17.612009048461914,23.157798767089844,26.5435848236084,-24.253320693969727,34.674346923828125,1.703533411026001,12.417252540588379,26.746061325073242,20.419225692749023,-28.409841537475586,-18.104204177856445,-18.30350112915039,19.45328712463379,-20.919357299804688,22.324674606323242,-1.6154383420944214,-23.962661743164062,-2.5981457233428955,18.019075393676758,25.295509338378906,-14.924012184143066,-9.590618133544922,-8.37829875946045,-21.841087341308594,-22.35433578491211,1.3000849485397339,18.13958168029785,-21.126895904541016,-21.599218368530273,-23.022930145263672,-26.069828033447266,12.213255882263184,-21.128374099731445,3.9254305362701416,6.104829788208008,9.472090721130371,-23.426549911499023,-1.5416457653045654,8.334883689880371,0.7732303142547607,1.4562182426452637,-16.424110412597656,-23.92129135131836,-6.5703654289245605,-21.394859313964844,-30.07009506225586,-24.98883628845215,15.337721824645996,-20.364484786987305,1.8104047775268555,3.7308478355407715,10.874395370483398,-24.227075576782227,11.699126243591309,-2.7742626667022705,1.496176838874817,-17.994306564331055,2.22731351852417,-19.63355255126953,-21.717308044433594,9.803308486938477,-26.07575035095215,-25.02173614501953,-18.801219940185547,-23.849323272705078,-24.544952392578125,23.11324119567871,-17.544492721557617,9.415170669555664,-6.759203910827637,20.057479858398438,24.96991729736328,12.120488166809082,22.038604736328125,17.339784622192383,-9.133179664611816,-7.79416561126709,-12.646639823913574,-31.489124298095703,-14.685342788696289,2.533482789993286,-8.99302864074707,-13.216157913208008,-9.176944732666016,-2.929410219192505,-4.483652591705322,16.861133575439453,14.88892650604248,-23.68735122680664,-21.143278121948242,3.919059991836548,-13.518024444580078,11.836114883422852,19.14027214050293,-4.625988006591797,-2.4803543090820312,25.161571502685547,23.202133178710938,24.10234832763672,-16.093564987182617,23.0091609954834,-22.512496948242188,-7.955892086029053,8.853482246398926,5.0305681228637695,21.747570037841797,7.899303913116455,17.691017150878906,16.058732986450195,9.884515762329102,15.336411476135254,10.399693489074707,20.057231903076172,-25.373586654663086,15.769674301147461,27.023561477661133,24.733816146850586,14.112007141113281,22.644277572631836,12.459064483642578,18.161069869995117,26.391948699951172,11.677978515625,22.933307647705078,12.917966842651367,-9.56183910369873,-21.906572341918945,-18.750761032104492,-1.2694464921951294,0.7182613015174866,-7.056834697723389,13.139933586120605,-16.915966033935547,-2.754425525665283,-12.173904418945312,-28.141809463500977,7.357847690582275,-7.3985114097595215,-27.754173278808594,-11.705875396728516,2.3601622581481934,1.3903372287750244,-23.32038688659668,-18.619985580444336,-7.2054266929626465,2.0890586376190186,3.6101913452148438,-6.871365547180176,18.906478881835938,3.9306697845458984,-1.1945880651474,3.2719533443450928,-16.04302406311035,-6.8842973709106445,-19.556303024291992,-1.542026162147522,23.574010848999023,1.842769742012024,16.029874801635742,5.583308219909668,10.465339660644531,2.48866868019104,18.96003532409668,31.58343505859375,-18.764326095581055,9.584074974060059,3.551079750061035,-11.673768997192383,22.437795639038086,15.644854545593262,5.981856822967529,27.458778381347656,25.252304077148438,11.925651550292969,-20.082643508911133,16.725629806518555,-24.74800682067871,2.954132080078125,-29.469432830810547,-0.875555157661438,-19.136520385742188,-6.819038391113281,-8.850987434387207,-8.473753929138184,-8.225069999694824,-4.039889812469482,4.8897552490234375,-6.977569580078125,-31.260356903076172,0.1688264012336731,33.19123840332031,-8.709488868713379,-5.197301387786865,0.8294904232025146,0.0410684272646904,5.080894470214844,24.943944931030273,-4.626516819000244,-13.474367141723633,-19.44963836669922,-8.321712493896484,15.350954055786133,-6.927785396575928,1.267014503479004,-8.276491165161133,-10.715503692626953,0.2390545755624771,5.046938419342041,16.400962829589844,7.808183193206787,7.3310346603393555,23.13423728942871,-10.178287506103516,4.232895374298096,-6.5617852210998535,27.9825439453125,14.634969711303711,12.158629417419434,10.586555480957031,2.3843581676483154,11.1632080078125,31.054269790649414,2.155996799468994,-10.766140937805176,15.122138977050781,-3.827131986618042,13.579826354980469,-8.960317611694336,4.571045875549316,-6.3582892417907715,-18.976123809814453,7.541813373565674,13.681452751159668,-19.285850524902344,-10.635419845581055,12.079995155334473,13.390480041503906,0.14988431334495544,-29.515338897705078,-22.04990005493164,-19.895856857299805,-17.48384666442871,14.147510528564453,-7.458969593048096,11.688376426696777,-5.115666389465332,-17.76768684387207,12.62885570526123,13.865851402282715,12.418810844421387,26.29136848449707,-25.655296325683594,8.642096519470215,-10.794179916381836,17.69084358215332,-19.969139099121094,-23.49375343322754,-1.264636754989624,-23.55771827697754,19.374692916870117,7.514518737792969,3.052246570587158,11.2528076171875,10.301863670349121,16.394041061401367,1.0392379760742188,13.729426383972168,25.05321502685547,11.00244140625,19.194242477416992,14.167613983154297,3.624506711959839,17.723796844482422,11.808403968811035,21.431594848632812,17.900108337402344,12.365776062011719,20.697572708129883,-22.246143341064453,-23.238155364990234,13.602883338928223,20.38713264465332,11.60944652557373,3.2330565452575684,8.55510139465332,4.800340175628662,22.196483612060547,7.158142566680908,12.392138481140137,13.0957612991333,-23.408205032348633,-24.00554656982422,17.51285171508789,20.148820877075195,29.900741577148438,15.875161170959473,-4.504809856414795,-31.74801254272461,22.743358612060547,19.728958129882812,22.93488311767578,13.330957412719727,-17.617029190063477,-7.674628257751465,14.122694969177246,6.687878131866455,-58.38078308105469,15.595242500305176,5.605147838592529,17.058881759643555,9.972723960876465,7.778331756591797,14.54970932006836,-19.547082901000977,-13.1084623336792,-11.799039840698242,-12.987655639648438,6.075820446014404,7.810666084289551,3.1059303283691406,34.06870651245117,23.47405242919922,9.129847526550293,25.944988250732422,-8.83785629272461,17.258031845092773,4.847311496734619,16.652095794677734,-24.562026977539062,2.6938374042510986,-4.048455238342285,-5.650787830352783,-16.173892974853516,-2.7431256771087646,-14.23022174835205,18.755239486694336,-5.466749668121338,27.14299964904785,20.090675354003906,-5.721431732177734,15.77608585357666,-10.86978816986084,5.879980087280273,18.58707618713379,16.245054244995117,16.30397605895996,21.228858947753906,22.08814239501953,9.762203216552734,21.417613983154297,22.075410842895508,12.875784873962402,-56.25519561767578,25.533010482788086,25.468143463134766,27.921979904174805,0.4407607614994049,-0.9037519097328186,7.012308597564697,20.230195999145508,-3.519871711730957,-4.864029407501221,10.871996879577637,1.6594922542572021,-5.402806282043457,-27.6885929107666,-21.358997344970703,11.181859970092773,-6.501546382904053,-15.199776649475098,-11.508219718933105,-14.558300018310547,5.403393268585205,5.627878189086914,18.656761169433594,-2.441291570663452,-7.95332145690918,18.311796188354492,4.7516655921936035,-6.807933807373047,-10.632743835449219,-16.399328231811523,4.350213050842285,-27.168428421020508,-24.32355308532715,2.939978837966919,-15.812249183654785,-56.700767517089844,-16.35258674621582,-15.658459663391113,-11.04589557647705,4.40652322769165,6.462626934051514,-21.061887741088867,-23.682647705078125,-13.689741134643555,33.388309478759766,-11.806218147277832,-7.327370643615723,-0.1834707260131836,-0.45337697863578796,-28.690702438354492,6.228748321533203,2.385340452194214,-4.550889015197754,-27.391035079956055,-26.57727813720703,-26.7593936920166,-20.19785499572754,-6.8465375900268555,-15.805810928344727,-11.438581466674805,12.71744155883789,4.975355625152588,23.590965270996094,-2.5477421283721924,0.7067827582359314,25.03766632080078,18.026451110839844,13.392903327941895,-6.898221492767334,-10.135506629943848,-6.415971755981445,-27.005041122436523,-16.866172790527344,-17.17504119873047,-13.512053489685059,-25.73668670654297,-1.9650421142578125,-15.687599182128906,13.325350761413574,-10.440947532653809,1.669748067855835,4.259047985076904,-9.333094596862793,-4.9253058433532715,-6.326131820678711,18.17908477783203,-29.3134822845459,8.441530227661133,-4.624709606170654,-56.53778839111328,11.536137580871582,-22.610260009765625,4.454533100128174,-26.551441192626953,-10.569069862365723,2.200918674468994,-0.7191548347473145,20.64371681213379,24.046295166015625,-14.817861557006836,12.532099723815918,3.2875912189483643,-6.118179798126221,-56.77094650268555,-14.730792045593262,13.777568817138672,-18.932510375976562,-28.923622131347656,-55.66960144042969,-7.15267276763916,-15.83642292022705,0.4181516766548157,18.626028060913086,-18.670761108398438,-8.217750549316406,0.5706365704536438,-29.391279220581055,-18.10492515563965,-25.44960594177246,-30.611743927001953,6.260781288146973,13.292604446411133,8.175273895263672,11.305031776428223,-31.07611083984375,12.17937183380127,-27.09075355529785,4.8302903175354,-56.4858283996582,20.138017654418945,19.247713088989258,-7.19518518447876,26.250402450561523,-30.328819274902344,13.506608009338379,-28.29303741455078,-9.413466453552246,13.922438621520996,-29.99470329284668,-31.132078170776367,-31.091684341430664,0.2852126955986023,-31.01072883605957,8.434759140014648,-19.40436363220215,2.4059650897979736,-8.256608009338379,-31.063011169433594,-56.60270690917969,-30.66256332397461,-24.932518005371094,-30.066471099853516,6.646320819854736,-29.482519149780273,-7.737707614898682,-23.33827018737793,-20.35474395751953,12.658090591430664,-28.74910545349121,-18.29096221923828,29.013967514038086,-30.796138763427734,-30.57129669189453,-54.255165100097656,-18.2691707611084,-30.439285278320312,17.149761199951172,7.644968032836914,23.997745513916016,8.234939575195312,-17.452375411987305,20.595186233520508,-30.918777465820312,-30.46879005432129,13.901915550231934,-25.685941696166992,7.512861728668213,18.600048065185547,7.155339241027832,-23.541959762573242,-8.00570011138916,1.8504235744476318,-21.893075942993164,-28.633750915527344,7.6921186447143555,-31.457006454467773,-21.166231155395508,15.716375350952148,-21.46314811706543,-20.658124923706055,-21.158950805664062,-10.431281089782715,-7.923620700836182,4.252084255218506,8.816507339477539,12.617886543273926,27.691198348999023,34.021217346191406,-21.305782318115234,0.2575283944606781,16.11029052734375,-20.33970069885254,-26.303041458129883,25.136066436767578,13.538110733032227,8.727235794067383,-2.8383407592773438,-22.74698829650879,-0.4669855535030365,-14.714690208435059,15.195413589477539,-25.57597541809082,3.2662618160247803,-18.45228385925293,-4.04627799987793,-27.337560653686523,16.669189453125,-22.8991641998291,-19.197315216064453,-18.17667579650879,2.953995943069458,9.086074829101562,-25.552370071411133,19.31388282775879,18.968599319458008,8.697312355041504,-14.56746768951416,29.276103973388672,0.7073249220848083,-11.970108032226562,-11.948519706726074,-26.725141525268555,-17.64596176147461,3.550177574157715,-2.8834924697875977,-25.260223388671875,-15.54210376739502,16.936527252197266,-5.0159220695495605,2.835510015487671,0.7175115942955017,-9.03635311126709,8.68016242980957,10.688399314880371,26.382211685180664,-11.760281562805176,20.275943756103516,-55.621612548828125,27.914823532104492,20.679128646850586,19.092262268066406,27.35968017578125,-58.054054260253906,20.013469696044922,-6.478386402130127,25.818130493164062,20.629030227661133,27.43600845336914,15.5735502243042,-57.26167678833008,19.441307067871094,14.219915390014648,-20.175029754638672,18.87595558166504,14.48869800567627,7.080921173095703,9.030266761779785,5.1266703605651855,1.3958567380905151,-6.619736671447754,-1.773740291595459,-57.31496810913086,19.529165267944336,7.419569969177246,6.369723796844482,-57.059181213378906,-22.07928466796875,1.483689785003662,-0.132146418094635,-4.796669006347656,2.994476318359375,33.996742248535156,-12.771960258483887,0.36716461181640625,0.9556754231452942,-22.967987060546875,-21.174087524414062,12.90404224395752,-2.4377853870391846,7.19182825088501,-55.159854888916016,6.537020683288574,-57.738521575927734,-24.04147720336914,1.5450692176818848,-19.278099060058594,-17.471817016601562,6.5799946784973145,25.930112838745117,13.568556785583496,-26.192138671875,-24.01371955871582,14.385454177856445,-1.2701616287231445,-57.615135192871094,22.6520938873291,14.084346771240234,-9.854809761047363,-18.90871810913086,-26.14036750793457,19.1595458984375,28.205013275146484,-19.15689468383789,12.712970733642578,21.218883514404297,16.49329376220703,-9.660900115966797,-8.519784927368164,-16.25874900817871,-18.025819778442383,16.131338119506836,-0.9430848360061646,-21.65420913696289,25.664730072021484,28.235746383666992,-58.362003326416016,-22.876916885375977,15.427781105041504,17.482961654663086,-19.955419540405273,12.880104064941406,-22.546772003173828,23.852384567260742,-6.003453254699707,21.335519790649414,23.588666915893555,17.0020751953125,-18.41545295715332,-7.883852005004883,-4.832286357879639,23.617464065551758,5.8387837409973145,-55.691829681396484,0.45396721363067627,-2.453289747238159,-30.38090705871582,-55.26897048950195,-30.460954666137695,-27.786951065063477,-30.698856353759766,-55.019744873046875,-18.372085571289062,18.78502082824707,-30.722291946411133,22.130590438842773,-0.5995553731918335,-29.89961814880371,25.035783767700195,-27.75617790222168,10.98536491394043,-30.706663131713867,-29.840843200683594,-30.460750579833984,-56.45252990722656,-29.117778778076172,-58.155540466308594,-58.847686767578125,-29.970516204833984,-28.68657875061035,-55.277313232421875,-29.823999404907227,-27.66299057006836,-30.539615631103516,-30.9532470703125,-30.47292709350586,-28.921472549438477,-29.10230827331543,-25.09061622619629,-30.142305374145508,-28.858200073242188,-58.951148986816406,-29.147558212280273,-54.35162353515625,-55.23441696166992,-23.845067977905273,-29.96692657470703,-29.97295570373535,-20.57219696044922,5.3701958656311035,-20.47827911376953,13.453959465026855,12.2355375289917,-57.50221252441406,16.3526554107666,-56.55939483642578,-20.733022689819336,19.78298568725586,-21.931564331054688,25.3581600189209,6.856202602386475,-22.232379913330078,8.632977485656738,-58.94718933105469,22.426334381103516,-0.45501935482025146,-17.223983764648438,8.16079330444336,-22.32094955444336,-24.712814331054688,-15.34585952758789,8.574275016784668,5.620110511779785,-22.865272521972656,-57.78776550292969,-16.755355834960938,-57.78105926513672,4.405186653137207,-55.778564453125,9.339672088623047,0.8603624105453491,-24.421283721923828,15.834173202514648,17.159921646118164,-19.695688247680664,-16.37311553955078,-21.24496841430664,-23.848134994506836,2.1121137142181396,32.61467361450195,-24.37557029724121,21.71780776977539,-23.91431999206543,-24.211275100708008,-25.037799835205078,-24.026966094970703,-56.89388656616211,-23.816482543945312,-54.06572341918945,-23.0717830657959,-24.162734985351562,-56.02860641479492,8.616548538208008,-4.38431453704834,-55.732704162597656,-57.110713958740234,7.302274703979492,-23.859962463378906,-56.935150146484375,-23.73357391357422,-57.56852722167969,-57.15981674194336,-4.365783214569092,-56.022647857666016,-54.84625244140625,-57.72432327270508,-18.08137321472168,-16.439668655395508,2.372678756713867,-23.763011932373047,-21.417245864868164,-23.747241973876953,-22.878585815429688,-21.126323699951172,-17.622549057006836,-56.550498962402344,-21.49139404296875,-20.83281707763672,-20.753643035888672,-21.303909301757812,-20.740848541259766,-25.586610794067383,-16.811086654663086,-6.840356826782227,18.433696746826172,-54.89955139160156,-25.02111053466797,17.093599319458008,-25.337364196777344,-21.03772735595703,-19.86902618408203,-25.897768020629883,16.6446475982666],\"xaxis\":\"x\",\"y\":[-18.99921417236328,-6.727956295013428,-0.11743899434804916,-23.510589599609375,-1.4587688446044922,-12.53587532043457,-24.524911880493164,-13.700149536132812,-0.3776698112487793,-15.971402168273926,7.709315299987793,-22.984899520874023,3.213233232498169,-18.163843154907227,-4.609348773956299,1.5104442834854126,-12.783029556274414,9.718748092651367,-15.223031997680664,-19.699260711669922,6.569581031799316,-15.883282661437988,-0.32768386602401733,-3.7408885955810547,20.682170867919922,-16.35948944091797,-4.264094829559326,-18.68075942993164,-1.1866776943206787,-8.774259567260742,-4.358870506286621,-1.5815211534500122,-16.285879135131836,0.5689852833747864,16.38563346862793,9.87702465057373,5.23247766494751,16.66177749633789,-15.471110343933105,10.554119110107422,2.442405939102173,-13.830344200134277,5.859390735626221,-3.738255500793457,-20.522768020629883,-16.59071159362793,8.46794605255127,-18.63136863708496,2.555481195449829,-19.015731811523438,1.1123154163360596,-0.09601239860057831,-8.724370002746582,-3.620131492614746,-23.205007553100586,5.435600280761719,-13.343565940856934,6.240131378173828,-15.045086860656738,-14.456908226013184,-14.829203605651855,-0.388487309217453,11.231003761291504,-25.300798416137695,-11.325027465820312,-12.193309783935547,8.030671119689941,-10.619589805603027,-15.810583114624023,-6.433116436004639,-11.069184303283691,-6.474343299865723,-3.331559181213379,12.952933311462402,-9.494139671325684,-8.07097053527832,-4.261778831481934,13.300527572631836,-15.839266777038574,8.134148597717285,6.273081302642822,-8.630329132080078,-15.782258987426758,-0.7887290120124817,-13.782737731933594,-14.458595275878906,-18.85291290283203,-11.24344539642334,-22.40846061706543,8.70141315460205,-4.237151145935059,-19.971052169799805,9.690982818603516,-5.192953109741211,-13.18290901184082,-17.531892776489258,-1.783189296722412,-14.297115325927734,-11.932211875915527,-6.937922477722168,-6.272206783294678,11.153497695922852,23.538286209106445,24.72335433959961,6.615828037261963,5.575623512268066,-8.654935836791992,4.033070087432861,-11.437125205993652,19.204681396484375,-3.24033260345459,19.218111038208008,-21.243053436279297,2.424823760986328,-2.4540069103240967,-13.713440895080566,-2.43312668800354,-2.9791016578674316,-15.196595191955566,8.999802589416504,-0.5659446716308594,-15.750750541687012,-4.5834856033325195,-19.663246154785156,-5.357559680938721,4.506496906280518,-9.99276065826416,-11.201573371887207,6.424867153167725,18.7653751373291,-10.21103286743164,-13.331724166870117,-10.868428230285645,0.7749995589256287,1.1057019233703613,-15.518410682678223,-19.620298385620117,3.5047216415405273,11.913928031921387,-1.779234766960144,-0.11643635481595993,11.153226852416992,-6.422275066375732,-17.412860870361328,13.22298812866211,7.732850074768066,-9.872349739074707,19.830753326416016,-19.864303588867188,-21.70394515991211,-4.073968887329102,2.804373025894165,6.679722309112549,2.690211057662964,8.918585777282715,4.749792098999023,8.996917724609375,13.284444808959961,1.6500542163848877,12.136244773864746,-2.0572993755340576,-9.0432710647583,-3.169297456741333,-8.885429382324219,-17.62131118774414,-13.828981399536133,5.257613658905029,-13.464997291564941,-16.764753341674805,-8.887595176696777,-15.360136985778809,-18.718473434448242,-17.461515426635742,-17.665071487426758,5.309579849243164,-9.857851028442383,-2.5850563049316406,-5.151449680328369,3.350553274154663,3.642326831817627,-18.920982360839844,9.692771911621094,0.059602949768304825,-13.44588851928711,3.4271934032440186,-14.265152931213379,-10.637528419494629,-0.4778090715408325,-11.784459114074707,-13.466787338256836,-9.021577835083008,1.6555532217025757,-11.300127029418945,-16.451919555664062,-17.645084381103516,-5.022510528564453,-9.162297248840332,-20.27251625061035,-4.139168739318848,4.561403751373291,10.52066707611084,-11.008240699768066,-0.764943540096283,-14.317510604858398,-10.344869613647461,-2.835571765899658,-5.949008941650391,-4.213385105133057,-1.0289390087127686,-13.20638656616211,-4.735702991485596,-10.437966346740723,-13.220675468444824,7.044410228729248,-14.535243034362793,-6.653353214263916,-13.336288452148438,-4.988749980926514,-9.093926429748535,-1.846501350402832,-20.22121238708496,-13.032753944396973,-12.984981536865234,-16.535982131958008,-3.835879325866699,-6.925382137298584,-15.201741218566895,-15.447044372558594,9.816208839416504,-15.138809204101562,11.770791053771973,-9.709163665771484,-7.008100986480713,0.4453698694705963,-4.190958023071289,-11.648472785949707,-9.59393310546875,5.0192694664001465,-8.462903022766113,-15.752901077270508,-8.452713012695312,-18.20389175415039,-1.897160530090332,-11.607502937316895,-22.5003719329834,-23.7292537689209,15.809228897094727,-25.692943572998047,-11.440611839294434,-5.412217617034912,-19.555866241455078,-4.778563022613525,-17.820648193359375,16.083938598632812,-7.350930213928223,-9.620428085327148,-11.63302993774414,-9.026788711547852,-1.3320074081420898,-1.151375651359558,7.354065895080566,0.9224679470062256,27.204458236694336,5.073738098144531,-15.061153411865234,24.058778762817383,-2.267073154449463,-23.775249481201172,-21.218490600585938,-7.811493873596191,-4.987870216369629,-25.61594009399414,-7.050230503082275,-10.68799877166748,-18.795391082763672,-1.5732804536819458,-4.579599857330322,1.2696620225906372,-0.03983251377940178,-0.18567125499248505,1.927807092666626,-3.4304332733154297,-18.172691345214844,-9.481764793395996,-1.5597178936004639,-21.53191375732422,-9.87429428100586,-7.858882904052734,2.5715904235839844,10.213296890258789,-4.562437534332275,-16.458757400512695,-25.41004753112793,-3.954660654067993,-5.59414005279541,5.292219161987305,-17.85500717163086,-8.672998428344727,10.347576141357422,-9.546088218688965,-8.286466598510742,-22.120563507080078,-21.488466262817383,-9.45003890991211,-18.814525604248047,-17.423593521118164,-8.032734870910645,-15.244627952575684,-2.884868860244751,-8.116252899169922,-18.77484130859375,-19.992734909057617,-25.911447525024414,19.92607879638672,-24.037364959716797,-24.50328826904297,-22.101930618286133,-25.23110008239746,-17.356660842895508,-17.068988800048828,-13.218490600585938,-0.5398035049438477,-1.1457067728042603,4.095879077911377,4.3059773445129395,-3.45145845413208,-5.663196086883545,-4.420305252075195,-2.022897720336914,0.6822938919067383,-5.792214870452881,-5.220837116241455,-7.922181129455566,-13.54818344116211,-2.769939661026001,3.362252712249756,-2.5259602069854736,-5.360929489135742,-7.5075788497924805,-18.883207321166992,-18.26712417602539,-8.524338722229004,-6.264186859130859,-20.14471435546875,-16.491958618164062,-21.047931671142578,-15.200177192687988,-1.2135865688323975,-2.4382102489471436,-0.9650745391845703,0.762239933013916,9.372665405273438,7.319997310638428,-8.048025131225586,5.1004462242126465,-13.837227821350098,-9.174423217773438,1.5651812553405762,-15.790321350097656,-20.46616554260254,-15.954219818115234,1.2430813312530518,15.71977424621582,8.868428230285645,3.306338310241699,7.5505290031433105,1.2207584381103516,18.789173126220703,2.6678342819213867,19.222414016723633,-1.2417750358581543,-9.914990425109863,-5.887019157409668,-1.1543729305267334,14.216080665588379,10.413151741027832,20.343599319458008,-3.9246459007263184,8.422296524047852,-1.788840889930725,-10.316819190979004,-11.725523948669434,9.744813919067383,12.674538612365723,-6.182886123657227,9.8974027633667,-9.233491897583008,18.088062286376953,-8.512589454650879,3.7860450744628906,6.383577346801758,6.80947208404541,-3.1202774047851562,9.180087089538574,14.287233352661133,11.455643653869629,17.97101402282715,20.428213119506836,12.603675842285156,10.201438903808594,13.889387130737305,-8.55530834197998,-10.263091087341309,-11.312969207763672,-1.9271560907363892,11.306270599365234,12.624273300170898,-17.275022506713867,-9.548606872558594,-14.314081192016602,3.355937957763672,9.341910362243652,-0.14804229140281677,5.15467643737793,4.596237659454346,1.0784804821014404,14.253374099731445,-10.514385223388672,-15.774903297424316,4.10828161239624,-10.732186317443848,11.873786926269531,-11.365156173706055,23.755281448364258,2.5995142459869385,-0.9985494017601013,-11.353612899780273,0.011526565067470074,-2.4598195552825928,-18.568946838378906,-15.605732917785645,-4.064049243927002,10.6082124710083,-9.060359954833984,-5.491317272186279,-11.053336143493652,20.929765701293945,20.067909240722656,20.619216918945312,16.734317779541016,0.0790506899356842,16.553878784179688,2.4345719814300537,9.273229598999023,-3.7114241123199463,-1.6124358177185059,6.876481533050537,-13.272248268127441,-5.266528129577637,17.605384826660156,12.55529499053955,-1.0224195718765259,17.20159912109375,-2.796083927154541,6.332512378692627,6.104208469390869,5.253354072570801,-11.109854698181152,-8.658519744873047,2.9654436111450195,-25.19701385498047,-8.2247953414917,-12.123514175415039,-8.022895812988281,-6.5478644371032715,-2.4416487216949463,-13.083184242248535,-0.20701566338539124,10.530946731567383,-4.135743618011475,-0.8768007755279541,-8.559663772583008,3.152944803237915,-0.2740596830844879,-1.5539318323135376,14.350351333618164,6.6798248291015625,-15.369123458862305,-5.504073143005371,-13.086695671081543,-4.243987083435059,-6.80928897857666,-12.523820877075195,-2.736046075820923,-10.437602043151855,-18.072885513305664,-15.352954864501953,-5.059365749359131,-5.930113315582275,-9.50080394744873,-3.264805555343628,2.416829824447632,-9.450578689575195,-3.20341420173645,5.420475006103516,-14.065659523010254,-2.6770036220550537,-13.358452796936035,-13.666794776916504,-18.42026138305664,-11.671958923339844,-0.3482322692871094,-7.53553581237793,-3.4776041507720947,-3.318843364715576,1.5540800094604492,-0.5046189427375793,-14.115506172180176,-0.9506682753562927,-8.311402320861816,-9.054882049560547,-11.390397071838379,-12.83763313293457,1.7266234159469604,-21.766088485717773,-11.984136581420898,7.418219089508057,5.5267791748046875,-3.742060422897339,-15.824531555175781,1.7419649362564087,-10.88685131072998,-12.28014087677002,-13.458685874938965,-3.456796646118164,-15.627614974975586,-12.037023544311523,-8.796232223510742,-11.286829948425293,-1.1626346111297607,-20.577259063720703,-17.175901412963867,-8.864137649536133,-1.78694486618042,-2.0770459175109863,-7.666707515716553,-6.809140682220459,-2.7828149795532227,4.963410377502441,6.465908050537109,18.311687469482422,4.046188831329346,-9.929773330688477,-20.82002067565918,13.275588035583496,7.607254505157471,-16.162376403808594,7.785529136657715,-8.980218887329102,-6.840993881225586,12.55073070526123,3.8408892154693604,8.406189918518066,15.510619163513184,13.007232666015625,13.548166275024414,-13.805365562438965,-8.37418270111084,-11.975842475891113,11.128376007080078,0.6986790299415588,-1.3419568538665771,12.601773262023926,10.302709579467773,7.872547626495361,-8.26356315612793,-2.570502996444702,-12.503361701965332,6.146556854248047,-3.707759380340576,13.144551277160645,5.000492095947266,-2.9999687671661377,18.661357879638672,11.500550270080566,-6.027387619018555,23.419919967651367,-0.32407647371292114,0.3982290029525757,-5.506165027618408,14.084113121032715,-0.9012049436569214,-17.29488182067871,1.370613694190979,11.662866592407227,13.391949653625488,0.2125971019268036,-13.299324035644531,-14.6346435546875,19.061262130737305,-1.7227953672409058,5.904556751251221,-3.4228899478912354,-16.52589988708496,17.978174209594727,-3.091856002807617,0.32350417971611023,10.010597229003906,22.001583099365234,8.54859447479248,-15.441034317016602,-5.89738655090332,-7.355304718017578,-10.705201148986816,2.6717138290405273,-11.251371383666992,0.35467830300331116,-15.573144912719727,5.043095111846924,-1.8704952001571655,-7.910427570343018,-4.739609718322754,-22.207508087158203,-19.051170349121094,-11.00451946258545,0.25875386595726013,0.36933353543281555,4.898045063018799,-7.672435760498047,11.821784973144531,5.3873677253723145,12.045416831970215,11.474285125732422,11.170848846435547,-2.908311367034912,-3.0327811241149902,0.6408326029777527,-3.571061849594116,-4.308794021606445,-0.07491225749254227,-10.505402565002441,-9.973359107971191,-10.597728729248047,-0.7898668646812439,5.407707214355469,14.097176551818848,7.995422840118408,-3.881957530975342,-3.4629878997802734,3.980550765991211,-5.443421840667725,7.948286056518555,4.6135663986206055,1.6583013534545898,-10.154232025146484,4.716200351715088,0.014094743877649307,-9.37446117401123,-3.7227303981781006,-7.9334635734558105,-6.657209873199463,11.406166076660156,-15.605110168457031,-5.255392074584961,-11.366552352905273,-1.759110450744629,-12.745468139648438,-3.8094143867492676,-15.388518333435059,-7.114907264709473,-0.645919680595398,16.389467239379883,-2.5569376945495605,7.009204864501953,4.128084182739258,9.965766906738281,12.116179466247559,8.532190322875977,6.2078633308410645,-9.156559944152832,2.4788289070129395,-2.6922502517700195,-12.53239631652832,-3.9511685371398926,-1.4563428163528442,13.82166862487793,7.978078842163086,-1.1192243099212646,-13.456828117370605,24.054290771484375,6.787854194641113,-5.276429653167725,1.5043036937713623,-5.859503269195557,-3.796537160873413,-0.49001646041870117,17.98074722290039,8.422588348388672,-2.25001859664917,-23.618682861328125,-1.8507338762283325,-10.026270866394043,9.955389976501465,-15.645132064819336,-6.030371189117432,0.7611192464828491,8.138102531433105,-4.833868026733398,0.20313550531864166,-17.48797607421875,-2.009945869445801,-2.015131950378418,5.62241792678833,7.253273963928223,-12.490979194641113,4.014656066894531,-13.874154090881348,3.7613441944122314,-18.19196128845215,-13.96525764465332,6.332632541656494,-2.495053291320801,-14.026626586914062,-5.227743625640869,7.447134494781494,17.299320220947266,15.000452041625977,-14.272242546081543,9.199382781982422,16.932851791381836,-12.525694847106934,2.8947455883026123,12.002086639404297,-8.387685775756836,6.306132793426514,7.47755241394043,-6.333953380584717,17.675512313842773,-3.3200957775115967,-11.440317153930664,-6.7280731201171875,-14.061955451965332,-5.902215480804443,6.51084041595459,-7.411234378814697,-12.469061851501465,9.546069145202637,17.02372169494629,-8.551057815551758,-16.121597290039062,-0.2027582824230194,-7.465804100036621,14.818678855895996,-20.29316520690918,-1.459954023361206,-5.533627033233643,-4.651265621185303,-2.966996908187866,-5.52388858795166,-23.38457489013672,-7.991051197052002,-2.7322745323181152,-14.157748222351074,8.616961479187012,-5.53972864151001,9.757197380065918,-7.622716426849365,18.05828094482422,18.90255355834961,7.243438243865967,-0.7571706771850586,-15.381017684936523,-15.020818710327148,3.4559404850006104,13.734296798706055,6.329980850219727,3.7025487422943115,6.380373954772949,19.304683685302734,5.843965530395508,12.706208229064941,-3.0575501918792725,4.353118896484375,-1.5106099843978882,14.135668754577637,1.9933223724365234,14.454869270324707,-0.466761976480484,20.444034576416016,7.622579574584961,11.068572044372559,9.369711875915527,14.645275115966797,6.548318862915039,2.443760871887207,9.15471076965332,-8.06804370880127,7.6672186851501465,-15.953889846801758,5.71684455871582,18.105100631713867,3.025933027267456,-0.26701027154922485,-2.6416656970977783,15.915501594543457,12.716252326965332,-1.7567492723464966,17.069433212280273,-9.900206565856934,3.3176703453063965,5.994253635406494,13.560184478759766,6.68024206161499,18.332656860351562,0.5047610402107239,-2.6611640453338623,8.747159957885742,15.804244995117188,-3.8885374069213867,11.28203010559082,-10.895217895507812,11.437870979309082,-10.70478630065918,8.54153060913086,-4.925897121429443,7.878250598907471,3.9792215824127197,3.7337756156921387,4.832869052886963,14.868186950683594,-2.6215686798095703,11.95261001586914,-7.105545520782471,5.362232685089111,12.60608196258545,10.35683536529541,0.37905895709991455,15.441954612731934,1.0910255908966064,20.999061584472656,18.830717086791992,10.850577354431152,0.7853453159332275,-0.21069757640361786,-12.779181480407715,-4.456937789916992,-4.438279151916504,13.11905288696289,20.484312057495117,-4.2588605880737305,-1.0512783527374268,-8.015578269958496,7.486941814422607,-17.156728744506836,2.8554253578186035,1.6922284364700317,-14.208949089050293,4.8116888999938965,3.918367862701416,-1.4325028657913208,-4.671748161315918,21.982913970947266,6.07647180557251,-15.726190567016602,-12.300209999084473,-5.874197006225586,8.232418060302734,20.63011932373047,1.5224556922912598,1.5198465585708618,5.985302925109863,19.485960006713867,1.6113959550857544,-7.318480491638184,-20.552112579345703,8.275618553161621,-12.396507263183594,-1.6459728479385376,-5.250441551208496,3.913705348968506,16.565675735473633,-11.44851303100586,-2.919142246246338,-13.423700332641602,14.345823287963867,2.0576958656311035,0.6851659417152405,1.563934326171875,0.9214844703674316,-21.970849990844727,1.9850207567214966,-17.741626739501953,-7.8356828689575195,-13.24663257598877,6.725198268890381,-22.368955612182617,-19.250368118286133,-20.020864486694336,-13.386836051940918,19.385835647583008,0.041364721953868866,-7.758768081665039,-7.506704330444336,23.515827178955078,-7.075018405914307,-10.392816543579102,8.048911094665527,-19.24515724182129,-19.06007194519043,-10.455992698669434,18.78377342224121,-19.801738739013672,-18.757646560668945,-19.636150360107422,-1.3799517154693604,2.0765130519866943,-2.049278497695923,-0.5099968910217285,-9.755892753601074,-14.63298225402832,-15.466217041015625,-6.2904133796691895,21.352331161499023,-6.989193439483643,0.38117516040802,-2.819329261779785,-3.2069296836853027,-8.20383071899414,-12.69479751586914,2.1332314014434814,-13.136373519897461,-11.222380638122559,-11.779619216918945,3.1958301067352295,2.233377456665039,0.0811389610171318,25.582181930541992,2.1348483562469482,9.785412788391113,14.91298770904541,15.087523460388184,12.466602325439453,1.171266794204712,7.927573204040527,-10.882943153381348,-7.947803020477295,-9.243639945983887,-3.518388032913208,-7.456874370574951,10.502671241760254,17.63435173034668,-0.3169468939304352,-0.38604214787483215,13.685883522033691,-15.600811958312988,2.5912694931030273,-5.0933122634887695,6.455164909362793,8.714227676391602,-15.250810623168945,9.278586387634277,8.417655944824219,-5.502326011657715,5.0442585945129395,-10.004069328308105,-20.92388343811035,7.500021457672119,-14.844919204711914,-4.113893508911133,-8.496726036071777,-10.288616180419922,-18.818283081054688,-8.13663387298584,-3.049436092376709,-6.862088203430176,-5.953272342681885,4.594550132751465,-4.507481098175049,-17.448665618896484,-3.364935874938965,-11.281152725219727,-9.170185089111328,-5.619594097137451,4.095829963684082,-14.102584838867188,20.514888763427734,15.712977409362793,14.014172554016113,-8.319509506225586,3.197946310043335,15.123502731323242,15.431694984436035,4.987445831298828,-2.2244644165039062,1.2617076635360718,21.072723388671875,17.80327606201172,20.439815521240234,7.739983558654785,-17.49700164794922,3.8499691486358643,15.246746063232422,-0.7727222442626953,-12.905967712402344,-11.123636245727539,-3.4665603637695312,9.112887382507324,16.320419311523438,10.276823997497559,16.343870162963867,9.52252197265625,21.186378479003906,17.751420974731445,8.074234962463379,1.3296550512313843,5.014566421508789,-5.751845359802246,-12.926456451416016,-1.7975424528121948,-12.644092559814453,1.8077337741851807,10.623628616333008,9.816018104553223,11.283123970031738,5.728336334228516,-3.097273111343384,2.9117116928100586,8.591899871826172,-19.19835090637207,0.6683006882667542,-6.508665084838867,-5.453352451324463,0.1770833134651184,-10.038566589355469,2.3805313110351562,-17.58128547668457,19.535423278808594,19.062654495239258,17.324859619140625,18.99350929260254,13.318650245666504,13.97726058959961,20.70465087890625,9.881219863891602,3.079690933227539,19.470657348632812,17.629474639892578,-17.84952735900879,-12.713443756103516,17.343446731567383,-4.738061428070068,-0.6651785373687744,6.749320983886719,4.376132011413574,7.070169925689697,-2.6554853916168213,0.4946628212928772,-16.074264526367188,12.517082214355469,-4.973941802978516,1.4444934129714966,16.5615177154541,-6.984284400939941,4.876298904418945,11.136446952819824,-17.028406143188477,11.567706108093262,-5.056246757507324,7.130953788757324,-7.85673713684082,3.599627733230591,-18.736854553222656,-13.074919700622559,-7.815088748931885,-9.148954391479492,5.09541130065918,-10.49813461303711,-9.796433448791504,-2.8553245067596436,2.402282953262329,4.971318244934082,1.853927731513977,-11.176179885864258,-1.7465344667434692,-6.70265007019043,-7.457144260406494,1.1060001850128174,13.541723251342773,11.802374839782715,-16.37734603881836,1.1265507936477661,-5.59504508972168,10.355766296386719,-14.020929336547852,3.4281344413757324,-7.472563743591309,26.759435653686523,10.191886901855469,5.911715507507324,3.903254985809326,10.949792861938477,6.760291576385498,-9.924275398254395,21.93115997314453,12.333985328674316,7.589478015899658,-11.052658081054688,-9.099003791809082,-6.460690975189209,-14.84144115447998,-11.507076263427734,16.519067764282227,-13.653690338134766,15.10045051574707,0.7552664279937744,-9.432414054870605,-14.905352592468262,2.426603078842163,-10.912894248962402,-20.755125045776367,-7.279019832611084,8.773138999938965,9.198225021362305,5.364441394805908,2.705674886703491,-13.485011100769043,1.0970851182937622,13.898005485534668,-5.1024250984191895,8.707039833068848,-9.359809875488281,-9.91246223449707,-0.08285809308290482,-6.503157138824463,-10.756937026977539,4.010865688323975,-7.627762317657471,-19.41611099243164,-13.600558280944824,0.6895394325256348,-16.791467666625977,4.347149848937988,-3.875471591949463,-14.523749351501465,13.476228713989258,-14.301182746887207,-11.044034004211426,-4.328104019165039,-7.250618934631348,14.318449974060059,3.4328343868255615,-21.902503967285156,-3.9500389099121094,-15.09809398651123,6.164621353149414,19.910846710205078,-5.243566513061523,4.180424213409424,-6.732836723327637,-7.678935527801514,11.105820655822754,0.5487575531005859,-2.9610002040863037,-0.8292877078056335,6.770890235900879,6.7809858322143555,14.237651824951172,-10.366021156311035,-11.518165588378906,-0.5623882412910461,-2.4214463233947754,21.16255760192871,5.289800643920898,8.496336936950684,16.909320831298828,-11.045184135437012,-11.658945083618164,5.8610429763793945,2.632715940475464,11.360429763793945,-5.652328968048096,-4.481565475463867,-6.076379776000977,3.7565135955810547,-15.898557662963867,-14.193382263183594,18.04387092590332,16.80852699279785,15.275123596191406,6.903036117553711,18.248079299926758,14.101949691772461,15.578121185302734,13.820764541625977,15.225791931152344,0.8538641929626465,5.728627681732178,3.825972318649292,-5.220707893371582,-3.8914072513580322,-17.420392990112305,-1.0172992944717407,-12.071796417236328,-8.783821105957031,2.937103033065796,7.131105422973633,-7.103054046630859,2.481938123703003,12.288559913635254,-10.5986909866333,8.235332489013672,-9.200313568115234,-10.62081241607666,3.4754984378814697,6.288886070251465,18.903905868530273,12.325183868408203,11.51974105834961,14.243459701538086,7.892204761505127,-17.642580032348633,3.962094783782959,8.291077613830566,13.319875717163086,12.326303482055664,3.1231272220611572,17.518260955810547,-8.335607528686523,2.5741305351257324,-4.384324550628662,-3.4462034702301025,14.165172576904297,2.1107518672943115,4.717748165130615,14.734383583068848,2.6062214374542236,10.266427993774414,13.77022647857666,14.843674659729004,18.564828872680664,17.517902374267578,-18.512922286987305,-17.34462547302246,-15.364469528198242,-5.021651268005371,6.92286491394043,-4.714615345001221,-0.5797694325447083,18.86822509765625,-19.233638763427734,-1.595343828201294,15.85950756072998,-4.973374366760254,9.089896202087402,3.9421417713165283,14.654958724975586,11.367072105407715,2.357917308807373,7.171136856079102,17.30837631225586,-17.30327033996582,-18.77597999572754,2.0652146339416504,6.999934196472168,-16.413728713989258,-15.983091354370117,14.600991249084473,4.145962238311768,11.445799827575684,14.215666770935059,-10.357564926147461,-5.499088287353516,7.182661533355713,-5.732484340667725,-18.83380126953125,-9.406303405761719,5.455266952514648,-1.9943115711212158,-13.981657981872559,18.106271743774414,9.417867660522461,25.224517822265625,12.818440437316895,16.22178840637207,10.145801544189453,-0.9962777495384216,-4.389943599700928,-3.644812822341919,12.726078987121582,8.28758430480957,-10.885540008544922,1.3234001398086548,14.174785614013672,-0.08363184332847595,-9.908373832702637,-17.221790313720703,25.82709312438965,-8.675169944763184,21.433940887451172,6.717519760131836,7.624609470367432,8.260971069335938,-17.665874481201172,-3.2627875804901123,6.866080284118652,-17.132631301879883,6.087380409240723,-9.31442642211914,-7.0797505378723145,17.256044387817383,7.089791774749756,-17.615184783935547,8.192795753479004,6.2375664710998535,9.918824195861816,5.015430450439453,14.993341445922852,19.82583236694336,9.307462692260742,9.268113136291504,12.064846992492676,3.4114248752593994,-3.2842013835906982,5.814228057861328,-0.44626790285110474,-17.195213317871094,25.66318702697754,13.432585716247559,-15.680158615112305,24.587432861328125,7.196094989776611,7.829502105712891,-6.668569564819336,12.157910346984863,24.955476760864258,-6.600115776062012,16.361299514770508,-7.161478042602539,8.5040922164917,6.524295330047607,-8.783769607543945,8.6676025390625,3.2056140899658203,25.517173767089844,8.582326889038086,26.04249382019043,16.720556259155273,5.101207733154297,24.96573829650879,25.08235740661621,25.851428985595703,5.065488815307617,24.663345336914062,-12.775125503540039,-2.456801652908325,-16.415721893310547,5.376733779907227,25.351238250732422,6.668224811553955,24.766416549682617,-16.317075729370117,25.009790420532227,-6.604494571685791,23.50726890563965,16.86444664001465,-15.6003999710083,13.464784622192383,-9.689229965209961,22.80542755126953,13.4059419631958,2.3854029178619385,25.569644927978516,25.710994720458984,8.169093132019043,14.095552444458008,25.721710205078125,-12.93191146850586,-23.0306339263916,2.2054760456085205,-7.159536838531494,14.023168563842773,-7.186384201049805,24.745342254638672,25.192157745361328,-12.24795150756836,18.12517547607422,-6.652148723602295,-0.11706359684467316,-16.328304290771484,-15.558259963989258,0.3193759620189667,-16.41472625732422,0.6282919049263,19.492095947265625,-6.322606086730957,22.26340103149414,-0.9598156213760376,-15.207571983337402,-1.6994990110397339,-1.3054955005645752,-1.618579387664795,6.891457557678223,17.617494583129883,-15.901391983032227,-16.260488510131836,-4.486116409301758,0.5673162937164307,6.090006351470947,4.194055557250977,-7.777995586395264,-4.655241012573242,15.743757247924805,-16.153324127197266,9.743663787841797,-17.580970764160156,-4.575671672821045,18.94019889831543,21.359092712402344,4.792877197265625,3.154280424118042,13.925663948059082,14.739380836486816,9.063834190368652,14.268241882324219,15.522017478942871,6.6784868240356445,3.531217098236084,-18.0037841796875,6.136845588684082,15.921748161315918,-5.21244478225708,6.155677318572998,12.803958892822266,10.84965991973877,11.502272605895996,0.21243874728679657,14.805710792541504,2.269534111022949,-16.012685775756836,-10.58369255065918,-10.756253242492676,18.923076629638672,8.15524959564209,-16.363574981689453,2.3299190998077393,-15.0584716796875,9.60733413696289,5.010467529296875,1.245553970336914,-4.524640083312988,4.351887226104736,8.153895378112793,-3.644793748855591,10.492578506469727,-2.5632479190826416,0.541904091835022,8.27708625793457,5.506040096282959,-7.654266834259033,7.867236614227295,-11.757614135742188,0.034957461059093475,5.476149082183838,-6.698378562927246,4.523963451385498,0.03626415878534317,7.692416191101074,-0.34857985377311707,-2.323479652404785,6.015486717224121,9.172916412353516,-2.6037817001342773,6.994978427886963,4.8788580894470215,8.533578872680664,-15.896771430969238,-20.90309715270996,-9.637646675109863,1.7599142789840698,8.549216270446777,5.4179816246032715,6.617522239685059,-0.13059735298156738,-2.2983012199401855,-1.9638662338256836,9.136645317077637,8.195791244506836,6.284407138824463,4.066664218902588,12.656591415405273,16.327613830566406,6.263871192932129,-5.658993721008301,5.367816925048828,-3.7674827575683594,20.618812561035156,15.534564971923828,-2.5698134899139404,14.520938873291016,7.888303756713867,8.902461051940918,6.855929851531982,8.53620433807373,21.291372299194336,-1.853016972541809,21.04600715637207,15.245186805725098,6.996226787567139,-5.488279819488525,-12.767187118530273,-17.520254135131836,21.23333168029785,6.621735095977783,5.263614177703857,7.508609294891357,-6.055601596832275,7.847783088684082,16.362701416015625,13.894876480102539,14.215433120727539,-9.297327995300293,-7.118813991546631,14.747262001037598,-8.153697967529297,11.180408477783203,-7.391899585723877,1.29250967502594,-0.14636407792568207,-7.839282035827637,8.139976501464844,6.312851428985596,3.847036838531494,15.134434700012207,-5.632752418518066,3.059317111968994,6.063473224639893,9.270841598510742,6.211922645568848,6.027198791503906,14.289908409118652,-2.8504631519317627,13.585221290588379,-12.951473236083984,9.805121421813965,-8.628618240356445,-0.6311030983924866,-13.554462432861328,-6.608001232147217,10.553297996520996,12.6776762008667,1.7477562427520752,-13.309720993041992,6.426414489746094,5.625607967376709,4.686572074890137,18.824201583862305,7.311324119567871,19.154542922973633,20.65104866027832,12.172783851623535,6.951744079589844,7.568851947784424,6.309242248535156,12.184242248535156,-8.148833274841309,4.628067493438721,19.06360626220703,-5.436888694763184,20.591808319091797,-12.767242431640625,19.483854293823242,18.92837142944336,18.601778030395508,8.172444343566895,19.77915382385254,7.996972560882568,8.315742492675781,18.803131103515625,18.397186279296875,8.276461601257324,19.76902961730957,20.50883674621582,20.05437469482422,19.15281105041504,20.1878662109375,18.588916778564453,18.579029083251953,-16.998571395874023,19.68069839477539,18.964950561523438,7.145465850830078,18.860889434814453,6.406011581420898,7.511658668518066,-17.797359466552734,19.35798454284668,20.180173873901367,-1.0604742765426636,-13.863346099853516,-1.77678644657135,-9.434678077697754,-12.429315567016602,9.032076835632324,-6.731797695159912,5.074512004852295,12.359164237976074,5.62101411819458,6.013232707977295,0.7665859460830688,-13.16435432434082,19.61807632446289,-5.045071125030518,7.318052768707275,-0.6886947154998779,4.3968329429626465,13.50339412689209,-18.761947631835938,8.05730152130127,21.35995864868164,13.612272262573242,3.3160736560821533,-23.631717681884766,-5.347073078155518,6.556032180786133,-4.270809650421143,8.930651664733887,-17.794017791748047,5.649473667144775,11.238126754760742,8.853564262390137,21.78251838684082,7.377596378326416,-11.342621803283691,7.442733287811279,-8.099333763122559,19.155330657958984,-13.390825271606445,-10.67947769165039,2.6897132396698,-16.080900192260742,8.626272201538086,-16.365758895874023,-16.191797256469727,-15.373600006103516,-16.349950790405273,7.5092997550964355,-16.560590744018555,6.790221691131592,-17.412168502807617,-16.365135192871094,7.149010181427002,-17.393495559692383,9.970244407653809,6.810238361358643,5.30277681350708,-15.753898620605469,-16.407556533813477,8.013011932373047,-16.645109176635742,7.271024227142334,8.479984283447266,9.95565414428711,5.646615028381348,7.751562118530273,5.516394138336182,14.401041030883789,-7.784398555755615,2.15295672416687,21.934755325317383,18.68798065185547,21.936491012573242,8.115032196044922,8.205097198486328,-6.36046838760376,9.348357200622559,8.3411283493042,-1.1120916604995728,-1.541045904159546,8.056512832641602,-1.1762480735778809,20.19284439086914,12.668733596801758,9.094404220581055,-9.624808311462402,8.111924171447754,18.25048828125,9.004884719848633,20.509111404418945,4.874032974243164,8.484724998474121,12.29000186920166,8.921107292175293],\"yaxis\":\"y\",\"type\":\"scattergl\"}],                        {\"template\":{\"data\":{\"histogram2dcontour\":[{\"type\":\"histogram2dcontour\",\"colorbar\":{\"outlinewidth\":0,\"ticks\":\"\"},\"colorscale\":[[0.0,\"#0d0887\"],[0.1111111111111111,\"#46039f\"],[0.2222222222222222,\"#7201a8\"],[0.3333333333333333,\"#9c179e\"],[0.4444444444444444,\"#bd3786\"],[0.5555555555555556,\"#d8576b\"],[0.6666666666666666,\"#ed7953\"],[0.7777777777777778,\"#fb9f3a\"],[0.8888888888888888,\"#fdca26\"],[1.0,\"#f0f921\"]]}],\"choropleth\":[{\"type\":\"choropleth\",\"colorbar\":{\"outlinewidth\":0,\"ticks\":\"\"}}],\"histogram2d\":[{\"type\":\"histogram2d\",\"colorbar\":{\"outlinewidth\":0,\"ticks\":\"\"},\"colorscale\":[[0.0,\"#0d0887\"],[0.1111111111111111,\"#46039f\"],[0.2222222222222222,\"#7201a8\"],[0.3333333333333333,\"#9c179e\"],[0.4444444444444444,\"#bd3786\"],[0.5555555555555556,\"#d8576b\"],[0.6666666666666666,\"#ed7953\"],[0.7777777777777778,\"#fb9f3a\"],[0.8888888888888888,\"#fdca26\"],[1.0,\"#f0f921\"]]}],\"heatmap\":[{\"type\":\"heatmap\",\"colorbar\":{\"outlinewidth\":0,\"ticks\":\"\"},\"colorscale\":[[0.0,\"#0d0887\"],[0.1111111111111111,\"#46039f\"],[0.2222222222222222,\"#7201a8\"],[0.3333333333333333,\"#9c179e\"],[0.4444444444444444,\"#bd3786\"],[0.5555555555555556,\"#d8576b\"],[0.6666666666666666,\"#ed7953\"],[0.7777777777777778,\"#fb9f3a\"],[0.8888888888888888,\"#fdca26\"],[1.0,\"#f0f921\"]]}],\"heatmapgl\":[{\"type\":\"heatmapgl\",\"colorbar\":{\"outlinewidth\":0,\"ticks\":\"\"},\"colorscale\":[[0.0,\"#0d0887\"],[0.1111111111111111,\"#46039f\"],[0.2222222222222222,\"#7201a8\"],[0.3333333333333333,\"#9c179e\"],[0.4444444444444444,\"#bd3786\"],[0.5555555555555556,\"#d8576b\"],[0.6666666666666666,\"#ed7953\"],[0.7777777777777778,\"#fb9f3a\"],[0.8888888888888888,\"#fdca26\"],[1.0,\"#f0f921\"]]}],\"contourcarpet\":[{\"type\":\"contourcarpet\",\"colorbar\":{\"outlinewidth\":0,\"ticks\":\"\"}}],\"contour\":[{\"type\":\"contour\",\"colorbar\":{\"outlinewidth\":0,\"ticks\":\"\"},\"colorscale\":[[0.0,\"#0d0887\"],[0.1111111111111111,\"#46039f\"],[0.2222222222222222,\"#7201a8\"],[0.3333333333333333,\"#9c179e\"],[0.4444444444444444,\"#bd3786\"],[0.5555555555555556,\"#d8576b\"],[0.6666666666666666,\"#ed7953\"],[0.7777777777777778,\"#fb9f3a\"],[0.8888888888888888,\"#fdca26\"],[1.0,\"#f0f921\"]]}],\"surface\":[{\"type\":\"surface\",\"colorbar\":{\"outlinewidth\":0,\"ticks\":\"\"},\"colorscale\":[[0.0,\"#0d0887\"],[0.1111111111111111,\"#46039f\"],[0.2222222222222222,\"#7201a8\"],[0.3333333333333333,\"#9c179e\"],[0.4444444444444444,\"#bd3786\"],[0.5555555555555556,\"#d8576b\"],[0.6666666666666666,\"#ed7953\"],[0.7777777777777778,\"#fb9f3a\"],[0.8888888888888888,\"#fdca26\"],[1.0,\"#f0f921\"]]}],\"mesh3d\":[{\"type\":\"mesh3d\",\"colorbar\":{\"outlinewidth\":0,\"ticks\":\"\"}}],\"scatter\":[{\"fillpattern\":{\"fillmode\":\"overlay\",\"size\":10,\"solidity\":0.2},\"type\":\"scatter\"}],\"parcoords\":[{\"type\":\"parcoords\",\"line\":{\"colorbar\":{\"outlinewidth\":0,\"ticks\":\"\"}}}],\"scatterpolargl\":[{\"type\":\"scatterpolargl\",\"marker\":{\"colorbar\":{\"outlinewidth\":0,\"ticks\":\"\"}}}],\"bar\":[{\"error_x\":{\"color\":\"#2a3f5f\"},\"error_y\":{\"color\":\"#2a3f5f\"},\"marker\":{\"line\":{\"color\":\"#E5ECF6\",\"width\":0.5},\"pattern\":{\"fillmode\":\"overlay\",\"size\":10,\"solidity\":0.2}},\"type\":\"bar\"}],\"scattergeo\":[{\"type\":\"scattergeo\",\"marker\":{\"colorbar\":{\"outlinewidth\":0,\"ticks\":\"\"}}}],\"scatterpolar\":[{\"type\":\"scatterpolar\",\"marker\":{\"colorbar\":{\"outlinewidth\":0,\"ticks\":\"\"}}}],\"histogram\":[{\"marker\":{\"pattern\":{\"fillmode\":\"overlay\",\"size\":10,\"solidity\":0.2}},\"type\":\"histogram\"}],\"scattergl\":[{\"type\":\"scattergl\",\"marker\":{\"colorbar\":{\"outlinewidth\":0,\"ticks\":\"\"}}}],\"scatter3d\":[{\"type\":\"scatter3d\",\"line\":{\"colorbar\":{\"outlinewidth\":0,\"ticks\":\"\"}},\"marker\":{\"colorbar\":{\"outlinewidth\":0,\"ticks\":\"\"}}}],\"scattermapbox\":[{\"type\":\"scattermapbox\",\"marker\":{\"colorbar\":{\"outlinewidth\":0,\"ticks\":\"\"}}}],\"scatterternary\":[{\"type\":\"scatterternary\",\"marker\":{\"colorbar\":{\"outlinewidth\":0,\"ticks\":\"\"}}}],\"scattercarpet\":[{\"type\":\"scattercarpet\",\"marker\":{\"colorbar\":{\"outlinewidth\":0,\"ticks\":\"\"}}}],\"carpet\":[{\"aaxis\":{\"endlinecolor\":\"#2a3f5f\",\"gridcolor\":\"white\",\"linecolor\":\"white\",\"minorgridcolor\":\"white\",\"startlinecolor\":\"#2a3f5f\"},\"baxis\":{\"endlinecolor\":\"#2a3f5f\",\"gridcolor\":\"white\",\"linecolor\":\"white\",\"minorgridcolor\":\"white\",\"startlinecolor\":\"#2a3f5f\"},\"type\":\"carpet\"}],\"table\":[{\"cells\":{\"fill\":{\"color\":\"#EBF0F8\"},\"line\":{\"color\":\"white\"}},\"header\":{\"fill\":{\"color\":\"#C8D4E3\"},\"line\":{\"color\":\"white\"}},\"type\":\"table\"}],\"barpolar\":[{\"marker\":{\"line\":{\"color\":\"#E5ECF6\",\"width\":0.5},\"pattern\":{\"fillmode\":\"overlay\",\"size\":10,\"solidity\":0.2}},\"type\":\"barpolar\"}],\"pie\":[{\"automargin\":true,\"type\":\"pie\"}]},\"layout\":{\"autotypenumbers\":\"strict\",\"colorway\":[\"#636efa\",\"#EF553B\",\"#00cc96\",\"#ab63fa\",\"#FFA15A\",\"#19d3f3\",\"#FF6692\",\"#B6E880\",\"#FF97FF\",\"#FECB52\"],\"font\":{\"color\":\"#2a3f5f\"},\"hovermode\":\"closest\",\"hoverlabel\":{\"align\":\"left\"},\"paper_bgcolor\":\"white\",\"plot_bgcolor\":\"#E5ECF6\",\"polar\":{\"bgcolor\":\"#E5ECF6\",\"angularaxis\":{\"gridcolor\":\"white\",\"linecolor\":\"white\",\"ticks\":\"\"},\"radialaxis\":{\"gridcolor\":\"white\",\"linecolor\":\"white\",\"ticks\":\"\"}},\"ternary\":{\"bgcolor\":\"#E5ECF6\",\"aaxis\":{\"gridcolor\":\"white\",\"linecolor\":\"white\",\"ticks\":\"\"},\"baxis\":{\"gridcolor\":\"white\",\"linecolor\":\"white\",\"ticks\":\"\"},\"caxis\":{\"gridcolor\":\"white\",\"linecolor\":\"white\",\"ticks\":\"\"}},\"coloraxis\":{\"colorbar\":{\"outlinewidth\":0,\"ticks\":\"\"}},\"colorscale\":{\"sequential\":[[0.0,\"#0d0887\"],[0.1111111111111111,\"#46039f\"],[0.2222222222222222,\"#7201a8\"],[0.3333333333333333,\"#9c179e\"],[0.4444444444444444,\"#bd3786\"],[0.5555555555555556,\"#d8576b\"],[0.6666666666666666,\"#ed7953\"],[0.7777777777777778,\"#fb9f3a\"],[0.8888888888888888,\"#fdca26\"],[1.0,\"#f0f921\"]],\"sequentialminus\":[[0.0,\"#0d0887\"],[0.1111111111111111,\"#46039f\"],[0.2222222222222222,\"#7201a8\"],[0.3333333333333333,\"#9c179e\"],[0.4444444444444444,\"#bd3786\"],[0.5555555555555556,\"#d8576b\"],[0.6666666666666666,\"#ed7953\"],[0.7777777777777778,\"#fb9f3a\"],[0.8888888888888888,\"#fdca26\"],[1.0,\"#f0f921\"]],\"diverging\":[[0,\"#8e0152\"],[0.1,\"#c51b7d\"],[0.2,\"#de77ae\"],[0.3,\"#f1b6da\"],[0.4,\"#fde0ef\"],[0.5,\"#f7f7f7\"],[0.6,\"#e6f5d0\"],[0.7,\"#b8e186\"],[0.8,\"#7fbc41\"],[0.9,\"#4d9221\"],[1,\"#276419\"]]},\"xaxis\":{\"gridcolor\":\"white\",\"linecolor\":\"white\",\"ticks\":\"\",\"title\":{\"standoff\":15},\"zerolinecolor\":\"white\",\"automargin\":true,\"zerolinewidth\":2},\"yaxis\":{\"gridcolor\":\"white\",\"linecolor\":\"white\",\"ticks\":\"\",\"title\":{\"standoff\":15},\"zerolinecolor\":\"white\",\"automargin\":true,\"zerolinewidth\":2},\"scene\":{\"xaxis\":{\"backgroundcolor\":\"#E5ECF6\",\"gridcolor\":\"white\",\"linecolor\":\"white\",\"showbackground\":true,\"ticks\":\"\",\"zerolinecolor\":\"white\",\"gridwidth\":2},\"yaxis\":{\"backgroundcolor\":\"#E5ECF6\",\"gridcolor\":\"white\",\"linecolor\":\"white\",\"showbackground\":true,\"ticks\":\"\",\"zerolinecolor\":\"white\",\"gridwidth\":2},\"zaxis\":{\"backgroundcolor\":\"#E5ECF6\",\"gridcolor\":\"white\",\"linecolor\":\"white\",\"showbackground\":true,\"ticks\":\"\",\"zerolinecolor\":\"white\",\"gridwidth\":2}},\"shapedefaults\":{\"line\":{\"color\":\"#2a3f5f\"}},\"annotationdefaults\":{\"arrowcolor\":\"#2a3f5f\",\"arrowhead\":0,\"arrowwidth\":1},\"geo\":{\"bgcolor\":\"white\",\"landcolor\":\"#E5ECF6\",\"subunitcolor\":\"white\",\"showland\":true,\"showlakes\":true,\"lakecolor\":\"white\"},\"title\":{\"x\":0.05},\"mapbox\":{\"style\":\"light\"}}},\"xaxis\":{\"anchor\":\"y\",\"domain\":[0.0,1.0],\"title\":{\"text\":\"tsne_1\"}},\"yaxis\":{\"anchor\":\"x\",\"domain\":[0.0,1.0],\"title\":{\"text\":\"tsne_2\"}},\"coloraxis\":{\"colorbar\":{\"title\":{\"text\":\"popularity\"}},\"colorscale\":[[0.0,\"#0d0887\"],[0.1111111111111111,\"#46039f\"],[0.2222222222222222,\"#7201a8\"],[0.3333333333333333,\"#9c179e\"],[0.4444444444444444,\"#bd3786\"],[0.5555555555555556,\"#d8576b\"],[0.6666666666666666,\"#ed7953\"],[0.7777777777777778,\"#fb9f3a\"],[0.8888888888888888,\"#fdca26\"],[1.0,\"#f0f921\"]]},\"legend\":{\"tracegroupgap\":0},\"margin\":{\"t\":60}},                        {\"responsive\": true}                    )                };                            </script>        </div>"
      ],
      "text/plain": [
       "Figure({\n",
       "    'data': [{'customdata': array([[1, 'Toy Story (1995)', 452],\n",
       "                                   [2, 'GoldenEye (1995)', 131],\n",
       "                                   [3, 'Four Rooms (1995)', 90],\n",
       "                                   ...,\n",
       "                                   [1680, 'Sliding Doors (1998)', 1],\n",
       "                                   [1681, 'You So Crazy (1994)', 1],\n",
       "                                   [1682, 'Scream of Stone (Schrei aus Stein) (1991)', 1]], dtype=object),\n",
       "              'hovertemplate': ('tsne_1=%{x}<br>tsne_2=%{y}<br>' ... '%{marker.color}<extra></extra>'),\n",
       "              'legendgroup': '',\n",
       "              'marker': {'color': array([452, 131,  90, ...,   1,   1,   1], dtype=int64),\n",
       "                         'coloraxis': 'coloraxis',\n",
       "                         'symbol': 'circle'},\n",
       "              'mode': 'markers',\n",
       "              'name': '',\n",
       "              'showlegend': False,\n",
       "              'type': 'scattergl',\n",
       "              'x': array([ -7.337916 , -10.162566 ,  -3.4081457, ..., -19.869026 , -25.897768 ,\n",
       "                           16.644648 ], dtype=float32),\n",
       "              'xaxis': 'x',\n",
       "              'y': array([-18.999214  ,  -6.7279563 ,  -0.11743899, ...,   8.484725  ,\n",
       "                           12.290002  ,   8.921107  ], dtype=float32),\n",
       "              'yaxis': 'y'}],\n",
       "    'layout': {'coloraxis': {'colorbar': {'title': {'text': 'popularity'}},\n",
       "                             'colorscale': [[0.0, '#0d0887'], [0.1111111111111111,\n",
       "                                            '#46039f'], [0.2222222222222222,\n",
       "                                            '#7201a8'], [0.3333333333333333,\n",
       "                                            '#9c179e'], [0.4444444444444444,\n",
       "                                            '#bd3786'], [0.5555555555555556,\n",
       "                                            '#d8576b'], [0.6666666666666666,\n",
       "                                            '#ed7953'], [0.7777777777777778,\n",
       "                                            '#fb9f3a'], [0.8888888888888888,\n",
       "                                            '#fdca26'], [1.0, '#f0f921']]},\n",
       "               'legend': {'tracegroupgap': 0},\n",
       "               'margin': {'t': 60},\n",
       "               'template': '...',\n",
       "               'xaxis': {'anchor': 'y', 'domain': [0.0, 1.0], 'title': {'text': 'tsne_1'}},\n",
       "               'yaxis': {'anchor': 'x', 'domain': [0.0, 1.0], 'title': {'text': 'tsne_2'}}}\n",
       "})"
      ]
     },
     "execution_count": 83,
     "metadata": {},
     "output_type": "execute_result"
    }
   ],
   "source": [
    "import plotly.express as px\n",
    "\n",
    "tsne_df = pd.DataFrame(item_tsne, columns=[\"tsne_1\", \"tsne_2\"])\n",
    "tsne_df[\"item_id\"] = np.arange(item_tsne.shape[0])\n",
    "tsne_df = tsne_df.merge(items.reset_index())\n",
    "\n",
    "px.scatter(tsne_df, x=\"tsne_1\", y=\"tsne_2\",\n",
    "           color=\"popularity\",\n",
    "           hover_data=[\"item_id\", \"title\", \"popularity\"])"
   ]
  },
  {
   "cell_type": "markdown",
   "metadata": {},
   "source": [
    "### Exercises\n",
    "\n",
    " - Add another layer to the neural network and retrain, compare train/test error.\n",
    " - Try adding more dropout and change layer sizes.\n"
   ]
  },
  {
   "cell_type": "markdown",
   "metadata": {},
   "source": [
    "### A recommendation function for a given user\n",
    "\n",
    "Once the model is trained, the system can be used to recommend a few items for a user that they haven't seen before. The following code does that.\n",
    "\n",
    "- we use the `model.predict` to compute the ratings a user would have given to all items\n",
    "- we build a function that sorts these items and excludes those the user has already seen."
   ]
  },
  {
   "cell_type": "code",
   "execution_count": null,
   "metadata": {
    "scrolled": true
   },
   "outputs": [],
   "source": [
    "def recommend(user_id, top_n=10):\n",
    "    item_ids = range(1, items['item_id'].max())\n",
    "    seen_mask = all_ratings[\"user_id\"] == user_id\n",
    "    seen_movies = set(all_ratings[seen_mask][\"item_id\"])\n",
    "    item_ids = list(filter(lambda x: x not in seen_movies, item_ids))\n",
    "\n",
    "    user = np.zeros_like(item_ids)\n",
    "    user[:len(item_ids)] = user_id\n",
    "    items_ = np.array(item_ids)\n",
    "    ratings = model.predict([user, items_]).flatten()\n",
    "    top_items = ratings.argsort()[-top_n:][::-1]\n",
    "    return [(indexed_items.loc[item_id][\"title\"], ratings[item_id]) for item_id in top_items]"
   ]
  },
  {
   "cell_type": "code",
   "execution_count": null,
   "metadata": {},
   "outputs": [],
   "source": [
    "for title, pred_rating in recommend(5):\n",
    "    print(\"    %0.1f: %s\" % (pred_rating, title))"
   ]
  },
  {
   "cell_type": "markdown",
   "metadata": {
    "collapsed": false
   },
   "source": [
    "### Exercises\n",
    "\n",
    "- Try modifying our neural network to improve recommendation. You could try adding more layers, or using a different loss function. \n",
    "- Your goal is to improve the Mean Absolute Error on the test set. Show the results of your best model."
   ]
  },
  {
   "cell_type": "code",
   "execution_count": null,
   "metadata": {
    "collapsed": false
   },
   "outputs": [],
   "source": [
    "# Extend and improve the model below\n",
    "class RegressionModel(Model):\n",
    "    def __init__(self, embedding_size, max_user_id, max_item_id):\n",
    "        super().__init__()\n",
    "\n",
    "        self.user_embedding = Embedding(output_dim=embedding_size,\n",
    "                                        input_dim=max_user_id + 1,\n",
    "                                        input_length=1,\n",
    "                                        name='user_embedding')\n",
    "        self.item_embedding = Embedding(output_dim=embedding_size,\n",
    "                                        input_dim=max_item_id + 1,\n",
    "                                        input_length=1,\n",
    "                                        name='item_embedding')\n",
    "\n",
    "        # The following two layers don't have parameters.\n",
    "        self.flatten = Flatten()\n",
    "        self.dot = Dot(axes=1)\n",
    "\n",
    "    def call(self, inputs):\n",
    "        user_inputs = inputs[0]\n",
    "        item_inputs = inputs[1]\n",
    "\n",
    "        user_vecs = self.flatten(self.user_embedding(user_inputs))\n",
    "        item_vecs = self.flatten(self.item_embedding(item_inputs))\n",
    "\n",
    "        y = self.dot([user_vecs, item_vecs])\n",
    "        return y\n",
    "\n",
    "\n",
    "model = RegressionModel(embedding_size=64, max_user_id=all_ratings['user_id'].max(), max_item_id=all_ratings['item_id'].max())\n",
    "model.compile(optimizer=\"adam\", loss='mae')"
   ]
  },
  {
   "cell_type": "code",
   "execution_count": null,
   "metadata": {
    "collapsed": false
   },
   "outputs": [],
   "source": [
    "# Training the model\n",
    "history = model.fit([user_id_train, item_id_train], rating_train,\n",
    "                    batch_size=64, epochs=10, validation_split=0.1,\n",
    "                    shuffle=True)"
   ]
  }
 ],
 "metadata": {
  "kernelspec": {
   "display_name": "Python 3 (ipykernel)",
   "language": "python",
   "name": "python3"
  },
  "language_info": {
   "codemirror_mode": {
    "name": "ipython",
    "version": 3
   },
   "file_extension": ".py",
   "mimetype": "text/x-python",
   "name": "python",
   "nbconvert_exporter": "python",
   "pygments_lexer": "ipython3",
   "version": "3.12.4"
  }
 },
 "nbformat": 4,
 "nbformat_minor": 4
}
